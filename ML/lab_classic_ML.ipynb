{
 "cells": [
  {
   "cell_type": "markdown",
   "id": "8be0db32",
   "metadata": {
    "id": "8be0db32"
   },
   "source": [
    "# Лабораторная работа 2\n",
    "### Выполнил: Борисов Д.А."
   ]
  },
  {
   "cell_type": "markdown",
   "id": "99094f4b",
   "metadata": {
    "id": "99094f4b"
   },
   "source": [
    "### EDA (исследовательский анализ данных)"
   ]
  },
  {
   "cell_type": "code",
   "execution_count": 6,
   "id": "be3b8405",
   "metadata": {
    "id": "be3b8405"
   },
   "outputs": [],
   "source": [
    "import numpy as np\n",
    "import pandas as pd\n",
    "import matplotlib.pyplot as plt\n",
    "import seaborn as sns\n",
    "import random"
   ]
  },
  {
   "cell_type": "code",
   "execution_count": 7,
   "id": "c6bd39ba",
   "metadata": {
    "id": "c6bd39ba"
   },
   "outputs": [],
   "source": [
    "my_seed = 12345\n",
    "random.seed(my_seed)\n",
    "np.random.seed(my_seed)"
   ]
  },
  {
   "cell_type": "markdown",
   "id": "rT2fza4wwsV2",
   "metadata": {
    "id": "rT2fza4wwsV2"
   },
   "source": [
    "#### Загрузка данных"
   ]
  },
  {
   "cell_type": "code",
   "execution_count": 8,
   "id": "258f61de",
   "metadata": {
    "colab": {
     "base_uri": "https://localhost:8080/",
     "height": 287
    },
    "id": "258f61de",
    "outputId": "557a8f2e-5c97-4dbb-c73b-66014e526d83",
    "scrolled": true
   },
   "outputs": [
    {
     "data": {
      "text/html": [
       "<div>\n",
       "<style scoped>\n",
       "    .dataframe tbody tr th:only-of-type {\n",
       "        vertical-align: middle;\n",
       "    }\n",
       "\n",
       "    .dataframe tbody tr th {\n",
       "        vertical-align: top;\n",
       "    }\n",
       "\n",
       "    .dataframe thead th {\n",
       "        text-align: right;\n",
       "    }\n",
       "</style>\n",
       "<table border=\"1\" class=\"dataframe\">\n",
       "  <thead>\n",
       "    <tr style=\"text-align: right;\">\n",
       "      <th></th>\n",
       "      <th>game_time</th>\n",
       "      <th>game_mode</th>\n",
       "      <th>lobby_type</th>\n",
       "      <th>objectives_len</th>\n",
       "      <th>chat_len</th>\n",
       "      <th>r1_hero_id</th>\n",
       "      <th>r1_kills</th>\n",
       "      <th>r1_deaths</th>\n",
       "      <th>r1_assists</th>\n",
       "      <th>r1_denies</th>\n",
       "      <th>...</th>\n",
       "      <th>d5_stuns</th>\n",
       "      <th>d5_creeps_stacked</th>\n",
       "      <th>d5_camps_stacked</th>\n",
       "      <th>d5_rune_pickups</th>\n",
       "      <th>d5_firstblood_claimed</th>\n",
       "      <th>d5_teamfight_participation</th>\n",
       "      <th>d5_towers_killed</th>\n",
       "      <th>d5_roshans_killed</th>\n",
       "      <th>d5_obs_placed</th>\n",
       "      <th>d5_sen_placed</th>\n",
       "    </tr>\n",
       "    <tr>\n",
       "      <th>match_id</th>\n",
       "      <th></th>\n",
       "      <th></th>\n",
       "      <th></th>\n",
       "      <th></th>\n",
       "      <th></th>\n",
       "      <th></th>\n",
       "      <th></th>\n",
       "      <th></th>\n",
       "      <th></th>\n",
       "      <th></th>\n",
       "      <th></th>\n",
       "      <th></th>\n",
       "      <th></th>\n",
       "      <th></th>\n",
       "      <th></th>\n",
       "      <th></th>\n",
       "      <th></th>\n",
       "      <th></th>\n",
       "      <th></th>\n",
       "      <th></th>\n",
       "      <th></th>\n",
       "    </tr>\n",
       "  </thead>\n",
       "  <tbody>\n",
       "    <tr>\n",
       "      <th>b29797296e310d2275f2cd67eeacf2eb</th>\n",
       "      <td>2117</td>\n",
       "      <td>22</td>\n",
       "      <td>7</td>\n",
       "      <td>15</td>\n",
       "      <td>1</td>\n",
       "      <td>5</td>\n",
       "      <td>4.0</td>\n",
       "      <td>9</td>\n",
       "      <td>15</td>\n",
       "      <td>0</td>\n",
       "      <td>...</td>\n",
       "      <td>0.133</td>\n",
       "      <td>3</td>\n",
       "      <td>1</td>\n",
       "      <td>7</td>\n",
       "      <td>0</td>\n",
       "      <td>0.405</td>\n",
       "      <td>0</td>\n",
       "      <td>0</td>\n",
       "      <td>0</td>\n",
       "      <td>0</td>\n",
       "    </tr>\n",
       "    <tr>\n",
       "      <th>49908f2a11d8bc01f6dad6fbf2e39326</th>\n",
       "      <td>3914</td>\n",
       "      <td>22</td>\n",
       "      <td>7</td>\n",
       "      <td>28</td>\n",
       "      <td>177</td>\n",
       "      <td>87</td>\n",
       "      <td>3.0</td>\n",
       "      <td>15</td>\n",
       "      <td>22</td>\n",
       "      <td>5</td>\n",
       "      <td>...</td>\n",
       "      <td>0.000</td>\n",
       "      <td>5</td>\n",
       "      <td>2</td>\n",
       "      <td>14</td>\n",
       "      <td>0</td>\n",
       "      <td>0.352</td>\n",
       "      <td>0</td>\n",
       "      <td>0</td>\n",
       "      <td>1</td>\n",
       "      <td>0</td>\n",
       "    </tr>\n",
       "    <tr>\n",
       "      <th>a68557919e4353f6067ddd3a04b980b0</th>\n",
       "      <td>100000000</td>\n",
       "      <td>22</td>\n",
       "      <td>0</td>\n",
       "      <td>6</td>\n",
       "      <td>1</td>\n",
       "      <td>42</td>\n",
       "      <td>0.0</td>\n",
       "      <td>0</td>\n",
       "      <td>1</td>\n",
       "      <td>1</td>\n",
       "      <td>...</td>\n",
       "      <td>17.462</td>\n",
       "      <td>0</td>\n",
       "      <td>0</td>\n",
       "      <td>10</td>\n",
       "      <td>0</td>\n",
       "      <td>0.625</td>\n",
       "      <td>0</td>\n",
       "      <td>0</td>\n",
       "      <td>0</td>\n",
       "      <td>0</td>\n",
       "    </tr>\n",
       "    <tr>\n",
       "      <th>f6273df443c5a8b192b633ef2ce34304</th>\n",
       "      <td>475</td>\n",
       "      <td>22</td>\n",
       "      <td>7</td>\n",
       "      <td>1</td>\n",
       "      <td>3</td>\n",
       "      <td>48</td>\n",
       "      <td>0.0</td>\n",
       "      <td>1</td>\n",
       "      <td>0</td>\n",
       "      <td>0</td>\n",
       "      <td>...</td>\n",
       "      <td>0.000</td>\n",
       "      <td>0</td>\n",
       "      <td>0</td>\n",
       "      <td>3</td>\n",
       "      <td>1</td>\n",
       "      <td>0.500</td>\n",
       "      <td>0</td>\n",
       "      <td>0</td>\n",
       "      <td>0</td>\n",
       "      <td>0</td>\n",
       "    </tr>\n",
       "    <tr>\n",
       "      <th>71b98e3c7cc8701ad425a69d3923ec8f</th>\n",
       "      <td>581</td>\n",
       "      <td>22</td>\n",
       "      <td>7</td>\n",
       "      <td>1</td>\n",
       "      <td>1</td>\n",
       "      <td>41</td>\n",
       "      <td>0.0</td>\n",
       "      <td>0</td>\n",
       "      <td>0</td>\n",
       "      <td>3</td>\n",
       "      <td>...</td>\n",
       "      <td>0.000</td>\n",
       "      <td>0</td>\n",
       "      <td>0</td>\n",
       "      <td>1</td>\n",
       "      <td>0</td>\n",
       "      <td>0.000</td>\n",
       "      <td>0</td>\n",
       "      <td>0</td>\n",
       "      <td>0</td>\n",
       "      <td>0</td>\n",
       "    </tr>\n",
       "  </tbody>\n",
       "</table>\n",
       "<p>5 rows × 245 columns</p>\n",
       "</div>"
      ],
      "text/plain": [
       "                                  game_time  game_mode  lobby_type  \\\n",
       "match_id                                                             \n",
       "b29797296e310d2275f2cd67eeacf2eb       2117         22           7   \n",
       "49908f2a11d8bc01f6dad6fbf2e39326       3914         22           7   \n",
       "a68557919e4353f6067ddd3a04b980b0  100000000         22           0   \n",
       "f6273df443c5a8b192b633ef2ce34304        475         22           7   \n",
       "71b98e3c7cc8701ad425a69d3923ec8f        581         22           7   \n",
       "\n",
       "                                  objectives_len  chat_len  r1_hero_id  \\\n",
       "match_id                                                                 \n",
       "b29797296e310d2275f2cd67eeacf2eb              15         1           5   \n",
       "49908f2a11d8bc01f6dad6fbf2e39326              28       177          87   \n",
       "a68557919e4353f6067ddd3a04b980b0               6         1          42   \n",
       "f6273df443c5a8b192b633ef2ce34304               1         3          48   \n",
       "71b98e3c7cc8701ad425a69d3923ec8f               1         1          41   \n",
       "\n",
       "                                  r1_kills  r1_deaths  r1_assists  r1_denies  \\\n",
       "match_id                                                                       \n",
       "b29797296e310d2275f2cd67eeacf2eb       4.0          9          15          0   \n",
       "49908f2a11d8bc01f6dad6fbf2e39326       3.0         15          22          5   \n",
       "a68557919e4353f6067ddd3a04b980b0       0.0          0           1          1   \n",
       "f6273df443c5a8b192b633ef2ce34304       0.0          1           0          0   \n",
       "71b98e3c7cc8701ad425a69d3923ec8f       0.0          0           0          3   \n",
       "\n",
       "                                  ...  d5_stuns  d5_creeps_stacked  \\\n",
       "match_id                          ...                                \n",
       "b29797296e310d2275f2cd67eeacf2eb  ...     0.133                  3   \n",
       "49908f2a11d8bc01f6dad6fbf2e39326  ...     0.000                  5   \n",
       "a68557919e4353f6067ddd3a04b980b0  ...    17.462                  0   \n",
       "f6273df443c5a8b192b633ef2ce34304  ...     0.000                  0   \n",
       "71b98e3c7cc8701ad425a69d3923ec8f  ...     0.000                  0   \n",
       "\n",
       "                                  d5_camps_stacked  d5_rune_pickups  \\\n",
       "match_id                                                              \n",
       "b29797296e310d2275f2cd67eeacf2eb                 1                7   \n",
       "49908f2a11d8bc01f6dad6fbf2e39326                 2               14   \n",
       "a68557919e4353f6067ddd3a04b980b0                 0               10   \n",
       "f6273df443c5a8b192b633ef2ce34304                 0                3   \n",
       "71b98e3c7cc8701ad425a69d3923ec8f                 0                1   \n",
       "\n",
       "                                  d5_firstblood_claimed  \\\n",
       "match_id                                                  \n",
       "b29797296e310d2275f2cd67eeacf2eb                      0   \n",
       "49908f2a11d8bc01f6dad6fbf2e39326                      0   \n",
       "a68557919e4353f6067ddd3a04b980b0                      0   \n",
       "f6273df443c5a8b192b633ef2ce34304                      1   \n",
       "71b98e3c7cc8701ad425a69d3923ec8f                      0   \n",
       "\n",
       "                                  d5_teamfight_participation  \\\n",
       "match_id                                                       \n",
       "b29797296e310d2275f2cd67eeacf2eb                       0.405   \n",
       "49908f2a11d8bc01f6dad6fbf2e39326                       0.352   \n",
       "a68557919e4353f6067ddd3a04b980b0                       0.625   \n",
       "f6273df443c5a8b192b633ef2ce34304                       0.500   \n",
       "71b98e3c7cc8701ad425a69d3923ec8f                       0.000   \n",
       "\n",
       "                                  d5_towers_killed  d5_roshans_killed  \\\n",
       "match_id                                                                \n",
       "b29797296e310d2275f2cd67eeacf2eb                 0                  0   \n",
       "49908f2a11d8bc01f6dad6fbf2e39326                 0                  0   \n",
       "a68557919e4353f6067ddd3a04b980b0                 0                  0   \n",
       "f6273df443c5a8b192b633ef2ce34304                 0                  0   \n",
       "71b98e3c7cc8701ad425a69d3923ec8f                 0                  0   \n",
       "\n",
       "                                  d5_obs_placed  d5_sen_placed  \n",
       "match_id                                                        \n",
       "b29797296e310d2275f2cd67eeacf2eb              0              0  \n",
       "49908f2a11d8bc01f6dad6fbf2e39326              1              0  \n",
       "a68557919e4353f6067ddd3a04b980b0              0              0  \n",
       "f6273df443c5a8b192b633ef2ce34304              0              0  \n",
       "71b98e3c7cc8701ad425a69d3923ec8f              0              0  \n",
       "\n",
       "[5 rows x 245 columns]"
      ]
     },
     "execution_count": 8,
     "metadata": {},
     "output_type": "execute_result"
    }
   ],
   "source": [
    "X = pd.read_csv(\"DOTA2_TRAIN_features.csv\")\n",
    "X.set_index(\"match_id\", inplace=True)\n",
    "\n",
    "X.head()"
   ]
  },
  {
   "cell_type": "code",
   "execution_count": 9,
   "id": "JBvHHPb85jd7",
   "metadata": {
    "colab": {
     "base_uri": "https://localhost:8080/",
     "height": 350
    },
    "id": "JBvHHPb85jd7",
    "outputId": "f50463d2-ba22-4818-e68a-9a19ab5af0c7"
   },
   "outputs": [
    {
     "data": {
      "text/html": [
       "<div>\n",
       "<style scoped>\n",
       "    .dataframe tbody tr th:only-of-type {\n",
       "        vertical-align: middle;\n",
       "    }\n",
       "\n",
       "    .dataframe tbody tr th {\n",
       "        vertical-align: top;\n",
       "    }\n",
       "\n",
       "    .dataframe thead th {\n",
       "        text-align: right;\n",
       "    }\n",
       "</style>\n",
       "<table border=\"1\" class=\"dataframe\">\n",
       "  <thead>\n",
       "    <tr style=\"text-align: right;\">\n",
       "      <th></th>\n",
       "      <th>game_time</th>\n",
       "      <th>game_mode</th>\n",
       "      <th>lobby_type</th>\n",
       "      <th>objectives_len</th>\n",
       "      <th>chat_len</th>\n",
       "      <th>r1_hero_id</th>\n",
       "      <th>r1_kills</th>\n",
       "      <th>r1_deaths</th>\n",
       "      <th>r1_assists</th>\n",
       "      <th>r1_denies</th>\n",
       "      <th>...</th>\n",
       "      <th>d5_stuns</th>\n",
       "      <th>d5_creeps_stacked</th>\n",
       "      <th>d5_camps_stacked</th>\n",
       "      <th>d5_rune_pickups</th>\n",
       "      <th>d5_firstblood_claimed</th>\n",
       "      <th>d5_teamfight_participation</th>\n",
       "      <th>d5_towers_killed</th>\n",
       "      <th>d5_roshans_killed</th>\n",
       "      <th>d5_obs_placed</th>\n",
       "      <th>d5_sen_placed</th>\n",
       "    </tr>\n",
       "  </thead>\n",
       "  <tbody>\n",
       "    <tr>\n",
       "      <th>count</th>\n",
       "      <td>2.777200e+04</td>\n",
       "      <td>27772.000000</td>\n",
       "      <td>27772.000000</td>\n",
       "      <td>27772.000000</td>\n",
       "      <td>27772.000000</td>\n",
       "      <td>27772.000000</td>\n",
       "      <td>24995.000000</td>\n",
       "      <td>27772.000000</td>\n",
       "      <td>27772.000000</td>\n",
       "      <td>27772.000000</td>\n",
       "      <td>...</td>\n",
       "      <td>27772.000000</td>\n",
       "      <td>27772.000000</td>\n",
       "      <td>27772.000000</td>\n",
       "      <td>27772.000000</td>\n",
       "      <td>27772.000000</td>\n",
       "      <td>27772.000000</td>\n",
       "      <td>27772.000000</td>\n",
       "      <td>27772.000000</td>\n",
       "      <td>27772.000000</td>\n",
       "      <td>27772.000000</td>\n",
       "    </tr>\n",
       "    <tr>\n",
       "      <th>mean</th>\n",
       "      <td>3.000534e+06</td>\n",
       "      <td>19.587354</td>\n",
       "      <td>4.780678</td>\n",
       "      <td>6.523765</td>\n",
       "      <td>7.427877</td>\n",
       "      <td>51.204523</td>\n",
       "      <td>3.135947</td>\n",
       "      <td>3.264547</td>\n",
       "      <td>4.666571</td>\n",
       "      <td>6.260046</td>\n",
       "      <td>...</td>\n",
       "      <td>11.807556</td>\n",
       "      <td>1.037232</td>\n",
       "      <td>0.341495</td>\n",
       "      <td>4.680073</td>\n",
       "      <td>0.090199</td>\n",
       "      <td>0.414851</td>\n",
       "      <td>0.298970</td>\n",
       "      <td>0.024341</td>\n",
       "      <td>1.272073</td>\n",
       "      <td>0.793857</td>\n",
       "    </tr>\n",
       "    <tr>\n",
       "      <th>std</th>\n",
       "      <td>1.705725e+07</td>\n",
       "      <td>6.303789</td>\n",
       "      <td>3.257337</td>\n",
       "      <td>6.507055</td>\n",
       "      <td>13.607843</td>\n",
       "      <td>34.650816</td>\n",
       "      <td>3.710659</td>\n",
       "      <td>3.300977</td>\n",
       "      <td>5.252099</td>\n",
       "      <td>8.174090</td>\n",
       "      <td>...</td>\n",
       "      <td>20.600379</td>\n",
       "      <td>3.521645</td>\n",
       "      <td>0.951968</td>\n",
       "      <td>4.642444</td>\n",
       "      <td>0.286471</td>\n",
       "      <td>0.268232</td>\n",
       "      <td>0.733285</td>\n",
       "      <td>0.170314</td>\n",
       "      <td>2.612230</td>\n",
       "      <td>2.465862</td>\n",
       "    </tr>\n",
       "    <tr>\n",
       "      <th>min</th>\n",
       "      <td>0.000000e+00</td>\n",
       "      <td>2.000000</td>\n",
       "      <td>0.000000</td>\n",
       "      <td>0.000000</td>\n",
       "      <td>0.000000</td>\n",
       "      <td>1.000000</td>\n",
       "      <td>0.000000</td>\n",
       "      <td>0.000000</td>\n",
       "      <td>0.000000</td>\n",
       "      <td>0.000000</td>\n",
       "      <td>...</td>\n",
       "      <td>-6.191000</td>\n",
       "      <td>0.000000</td>\n",
       "      <td>0.000000</td>\n",
       "      <td>0.000000</td>\n",
       "      <td>0.000000</td>\n",
       "      <td>0.000000</td>\n",
       "      <td>0.000000</td>\n",
       "      <td>0.000000</td>\n",
       "      <td>0.000000</td>\n",
       "      <td>0.000000</td>\n",
       "    </tr>\n",
       "    <tr>\n",
       "      <th>25%</th>\n",
       "      <td>5.317500e+02</td>\n",
       "      <td>22.000000</td>\n",
       "      <td>0.000000</td>\n",
       "      <td>1.000000</td>\n",
       "      <td>0.000000</td>\n",
       "      <td>20.000000</td>\n",
       "      <td>0.000000</td>\n",
       "      <td>1.000000</td>\n",
       "      <td>0.000000</td>\n",
       "      <td>1.000000</td>\n",
       "      <td>...</td>\n",
       "      <td>0.000000</td>\n",
       "      <td>0.000000</td>\n",
       "      <td>0.000000</td>\n",
       "      <td>1.000000</td>\n",
       "      <td>0.000000</td>\n",
       "      <td>0.231000</td>\n",
       "      <td>0.000000</td>\n",
       "      <td>0.000000</td>\n",
       "      <td>0.000000</td>\n",
       "      <td>0.000000</td>\n",
       "    </tr>\n",
       "    <tr>\n",
       "      <th>50%</th>\n",
       "      <td>1.075000e+03</td>\n",
       "      <td>22.000000</td>\n",
       "      <td>7.000000</td>\n",
       "      <td>4.000000</td>\n",
       "      <td>3.000000</td>\n",
       "      <td>44.000000</td>\n",
       "      <td>2.000000</td>\n",
       "      <td>2.000000</td>\n",
       "      <td>3.000000</td>\n",
       "      <td>3.000000</td>\n",
       "      <td>...</td>\n",
       "      <td>1.533000</td>\n",
       "      <td>0.000000</td>\n",
       "      <td>0.000000</td>\n",
       "      <td>3.000000</td>\n",
       "      <td>0.000000</td>\n",
       "      <td>0.441000</td>\n",
       "      <td>0.000000</td>\n",
       "      <td>0.000000</td>\n",
       "      <td>0.000000</td>\n",
       "      <td>0.000000</td>\n",
       "    </tr>\n",
       "    <tr>\n",
       "      <th>75%</th>\n",
       "      <td>1.724000e+03</td>\n",
       "      <td>22.000000</td>\n",
       "      <td>7.000000</td>\n",
       "      <td>10.000000</td>\n",
       "      <td>9.000000</td>\n",
       "      <td>81.000000</td>\n",
       "      <td>5.000000</td>\n",
       "      <td>5.000000</td>\n",
       "      <td>7.000000</td>\n",
       "      <td>9.000000</td>\n",
       "      <td>...</td>\n",
       "      <td>16.048000</td>\n",
       "      <td>0.000000</td>\n",
       "      <td>0.000000</td>\n",
       "      <td>7.000000</td>\n",
       "      <td>0.000000</td>\n",
       "      <td>0.594250</td>\n",
       "      <td>0.000000</td>\n",
       "      <td>0.000000</td>\n",
       "      <td>1.000000</td>\n",
       "      <td>0.000000</td>\n",
       "    </tr>\n",
       "    <tr>\n",
       "      <th>max</th>\n",
       "      <td>1.000000e+08</td>\n",
       "      <td>23.000000</td>\n",
       "      <td>7.000000</td>\n",
       "      <td>41.000000</td>\n",
       "      <td>291.000000</td>\n",
       "      <td>120.000000</td>\n",
       "      <td>31.000000</td>\n",
       "      <td>27.000000</td>\n",
       "      <td>40.000000</td>\n",
       "      <td>83.000000</td>\n",
       "      <td>...</td>\n",
       "      <td>211.684000</td>\n",
       "      <td>132.000000</td>\n",
       "      <td>26.000000</td>\n",
       "      <td>52.000000</td>\n",
       "      <td>1.000000</td>\n",
       "      <td>2.000000</td>\n",
       "      <td>8.000000</td>\n",
       "      <td>5.000000</td>\n",
       "      <td>25.000000</td>\n",
       "      <td>47.000000</td>\n",
       "    </tr>\n",
       "  </tbody>\n",
       "</table>\n",
       "<p>8 rows × 245 columns</p>\n",
       "</div>"
      ],
      "text/plain": [
       "          game_time     game_mode    lobby_type  objectives_len      chat_len  \\\n",
       "count  2.777200e+04  27772.000000  27772.000000    27772.000000  27772.000000   \n",
       "mean   3.000534e+06     19.587354      4.780678        6.523765      7.427877   \n",
       "std    1.705725e+07      6.303789      3.257337        6.507055     13.607843   \n",
       "min    0.000000e+00      2.000000      0.000000        0.000000      0.000000   \n",
       "25%    5.317500e+02     22.000000      0.000000        1.000000      0.000000   \n",
       "50%    1.075000e+03     22.000000      7.000000        4.000000      3.000000   \n",
       "75%    1.724000e+03     22.000000      7.000000       10.000000      9.000000   \n",
       "max    1.000000e+08     23.000000      7.000000       41.000000    291.000000   \n",
       "\n",
       "         r1_hero_id      r1_kills     r1_deaths    r1_assists     r1_denies  \\\n",
       "count  27772.000000  24995.000000  27772.000000  27772.000000  27772.000000   \n",
       "mean      51.204523      3.135947      3.264547      4.666571      6.260046   \n",
       "std       34.650816      3.710659      3.300977      5.252099      8.174090   \n",
       "min        1.000000      0.000000      0.000000      0.000000      0.000000   \n",
       "25%       20.000000      0.000000      1.000000      0.000000      1.000000   \n",
       "50%       44.000000      2.000000      2.000000      3.000000      3.000000   \n",
       "75%       81.000000      5.000000      5.000000      7.000000      9.000000   \n",
       "max      120.000000     31.000000     27.000000     40.000000     83.000000   \n",
       "\n",
       "       ...      d5_stuns  d5_creeps_stacked  d5_camps_stacked  \\\n",
       "count  ...  27772.000000       27772.000000      27772.000000   \n",
       "mean   ...     11.807556           1.037232          0.341495   \n",
       "std    ...     20.600379           3.521645          0.951968   \n",
       "min    ...     -6.191000           0.000000          0.000000   \n",
       "25%    ...      0.000000           0.000000          0.000000   \n",
       "50%    ...      1.533000           0.000000          0.000000   \n",
       "75%    ...     16.048000           0.000000          0.000000   \n",
       "max    ...    211.684000         132.000000         26.000000   \n",
       "\n",
       "       d5_rune_pickups  d5_firstblood_claimed  d5_teamfight_participation  \\\n",
       "count     27772.000000           27772.000000                27772.000000   \n",
       "mean          4.680073               0.090199                    0.414851   \n",
       "std           4.642444               0.286471                    0.268232   \n",
       "min           0.000000               0.000000                    0.000000   \n",
       "25%           1.000000               0.000000                    0.231000   \n",
       "50%           3.000000               0.000000                    0.441000   \n",
       "75%           7.000000               0.000000                    0.594250   \n",
       "max          52.000000               1.000000                    2.000000   \n",
       "\n",
       "       d5_towers_killed  d5_roshans_killed  d5_obs_placed  d5_sen_placed  \n",
       "count      27772.000000       27772.000000   27772.000000   27772.000000  \n",
       "mean           0.298970           0.024341       1.272073       0.793857  \n",
       "std            0.733285           0.170314       2.612230       2.465862  \n",
       "min            0.000000           0.000000       0.000000       0.000000  \n",
       "25%            0.000000           0.000000       0.000000       0.000000  \n",
       "50%            0.000000           0.000000       0.000000       0.000000  \n",
       "75%            0.000000           0.000000       1.000000       0.000000  \n",
       "max            8.000000           5.000000      25.000000      47.000000  \n",
       "\n",
       "[8 rows x 245 columns]"
      ]
     },
     "execution_count": 9,
     "metadata": {},
     "output_type": "execute_result"
    }
   ],
   "source": [
    "X.describe()"
   ]
  },
  {
   "cell_type": "code",
   "execution_count": 10,
   "id": "a2af6b1f",
   "metadata": {
    "colab": {
     "base_uri": "https://localhost:8080/",
     "height": 238
    },
    "id": "a2af6b1f",
    "outputId": "a34a6e83-fec7-47b4-fa03-714ac6abf22b",
    "scrolled": true
   },
   "outputs": [
    {
     "data": {
      "text/html": [
       "<div>\n",
       "<style scoped>\n",
       "    .dataframe tbody tr th:only-of-type {\n",
       "        vertical-align: middle;\n",
       "    }\n",
       "\n",
       "    .dataframe tbody tr th {\n",
       "        vertical-align: top;\n",
       "    }\n",
       "\n",
       "    .dataframe thead th {\n",
       "        text-align: right;\n",
       "    }\n",
       "</style>\n",
       "<table border=\"1\" class=\"dataframe\">\n",
       "  <thead>\n",
       "    <tr style=\"text-align: right;\">\n",
       "      <th></th>\n",
       "      <th>radiant_win</th>\n",
       "    </tr>\n",
       "    <tr>\n",
       "      <th>match_id</th>\n",
       "      <th></th>\n",
       "    </tr>\n",
       "  </thead>\n",
       "  <tbody>\n",
       "    <tr>\n",
       "      <th>b29797296e310d2275f2cd67eeacf2eb</th>\n",
       "      <td>False</td>\n",
       "    </tr>\n",
       "    <tr>\n",
       "      <th>49908f2a11d8bc01f6dad6fbf2e39326</th>\n",
       "      <td>True</td>\n",
       "    </tr>\n",
       "    <tr>\n",
       "      <th>a68557919e4353f6067ddd3a04b980b0</th>\n",
       "      <td>True</td>\n",
       "    </tr>\n",
       "    <tr>\n",
       "      <th>f6273df443c5a8b192b633ef2ce34304</th>\n",
       "      <td>False</td>\n",
       "    </tr>\n",
       "    <tr>\n",
       "      <th>71b98e3c7cc8701ad425a69d3923ec8f</th>\n",
       "      <td>False</td>\n",
       "    </tr>\n",
       "  </tbody>\n",
       "</table>\n",
       "</div>"
      ],
      "text/plain": [
       "                                  radiant_win\n",
       "match_id                                     \n",
       "b29797296e310d2275f2cd67eeacf2eb        False\n",
       "49908f2a11d8bc01f6dad6fbf2e39326         True\n",
       "a68557919e4353f6067ddd3a04b980b0         True\n",
       "f6273df443c5a8b192b633ef2ce34304        False\n",
       "71b98e3c7cc8701ad425a69d3923ec8f        False"
      ]
     },
     "execution_count": 10,
     "metadata": {},
     "output_type": "execute_result"
    }
   ],
   "source": [
    "y = pd.read_csv(\"DOTA2_TRAIN_targets.csv\")\n",
    "y.set_index(\"match_id\", inplace=True)\n",
    "\n",
    "y.head()"
   ]
  },
  {
   "cell_type": "code",
   "execution_count": 11,
   "id": "sZORZEdypQwa",
   "metadata": {
    "colab": {
     "base_uri": "https://localhost:8080/",
     "height": 175
    },
    "id": "sZORZEdypQwa",
    "outputId": "fca51274-ebb8-451d-c9de-e589270da627"
   },
   "outputs": [
    {
     "data": {
      "text/html": [
       "<div>\n",
       "<style scoped>\n",
       "    .dataframe tbody tr th:only-of-type {\n",
       "        vertical-align: middle;\n",
       "    }\n",
       "\n",
       "    .dataframe tbody tr th {\n",
       "        vertical-align: top;\n",
       "    }\n",
       "\n",
       "    .dataframe thead th {\n",
       "        text-align: right;\n",
       "    }\n",
       "</style>\n",
       "<table border=\"1\" class=\"dataframe\">\n",
       "  <thead>\n",
       "    <tr style=\"text-align: right;\">\n",
       "      <th></th>\n",
       "      <th>radiant_win</th>\n",
       "    </tr>\n",
       "  </thead>\n",
       "  <tbody>\n",
       "    <tr>\n",
       "      <th>count</th>\n",
       "      <td>27772</td>\n",
       "    </tr>\n",
       "    <tr>\n",
       "      <th>unique</th>\n",
       "      <td>2</td>\n",
       "    </tr>\n",
       "    <tr>\n",
       "      <th>top</th>\n",
       "      <td>True</td>\n",
       "    </tr>\n",
       "    <tr>\n",
       "      <th>freq</th>\n",
       "      <td>14521</td>\n",
       "    </tr>\n",
       "  </tbody>\n",
       "</table>\n",
       "</div>"
      ],
      "text/plain": [
       "       radiant_win\n",
       "count        27772\n",
       "unique           2\n",
       "top           True\n",
       "freq         14521"
      ]
     },
     "execution_count": 11,
     "metadata": {},
     "output_type": "execute_result"
    }
   ],
   "source": [
    "y.describe()"
   ]
  },
  {
   "cell_type": "code",
   "execution_count": 12,
   "id": "52ae7ac2",
   "metadata": {
    "colab": {
     "base_uri": "https://localhost:8080/",
     "height": 287
    },
    "id": "52ae7ac2",
    "outputId": "42fd5acb-1427-4fbb-9294-4ab0210601a5",
    "scrolled": true
   },
   "outputs": [
    {
     "data": {
      "text/html": [
       "<div>\n",
       "<style scoped>\n",
       "    .dataframe tbody tr th:only-of-type {\n",
       "        vertical-align: middle;\n",
       "    }\n",
       "\n",
       "    .dataframe tbody tr th {\n",
       "        vertical-align: top;\n",
       "    }\n",
       "\n",
       "    .dataframe thead th {\n",
       "        text-align: right;\n",
       "    }\n",
       "</style>\n",
       "<table border=\"1\" class=\"dataframe\">\n",
       "  <thead>\n",
       "    <tr style=\"text-align: right;\">\n",
       "      <th></th>\n",
       "      <th>game_time</th>\n",
       "      <th>game_mode</th>\n",
       "      <th>lobby_type</th>\n",
       "      <th>objectives_len</th>\n",
       "      <th>chat_len</th>\n",
       "      <th>r1_hero_id</th>\n",
       "      <th>r1_kills</th>\n",
       "      <th>r1_deaths</th>\n",
       "      <th>r1_assists</th>\n",
       "      <th>r1_denies</th>\n",
       "      <th>...</th>\n",
       "      <th>d5_stuns</th>\n",
       "      <th>d5_creeps_stacked</th>\n",
       "      <th>d5_camps_stacked</th>\n",
       "      <th>d5_rune_pickups</th>\n",
       "      <th>d5_firstblood_claimed</th>\n",
       "      <th>d5_teamfight_participation</th>\n",
       "      <th>d5_towers_killed</th>\n",
       "      <th>d5_roshans_killed</th>\n",
       "      <th>d5_obs_placed</th>\n",
       "      <th>d5_sen_placed</th>\n",
       "    </tr>\n",
       "    <tr>\n",
       "      <th>match_id</th>\n",
       "      <th></th>\n",
       "      <th></th>\n",
       "      <th></th>\n",
       "      <th></th>\n",
       "      <th></th>\n",
       "      <th></th>\n",
       "      <th></th>\n",
       "      <th></th>\n",
       "      <th></th>\n",
       "      <th></th>\n",
       "      <th></th>\n",
       "      <th></th>\n",
       "      <th></th>\n",
       "      <th></th>\n",
       "      <th></th>\n",
       "      <th></th>\n",
       "      <th></th>\n",
       "      <th></th>\n",
       "      <th></th>\n",
       "      <th></th>\n",
       "      <th></th>\n",
       "    </tr>\n",
       "  </thead>\n",
       "  <tbody>\n",
       "    <tr>\n",
       "      <th>3071feff2631bd8ca93d0d182e5b9249</th>\n",
       "      <td>542</td>\n",
       "      <td>23</td>\n",
       "      <td>0</td>\n",
       "      <td>6</td>\n",
       "      <td>0</td>\n",
       "      <td>95</td>\n",
       "      <td>1</td>\n",
       "      <td>2</td>\n",
       "      <td>3</td>\n",
       "      <td>0</td>\n",
       "      <td>...</td>\n",
       "      <td>0.000</td>\n",
       "      <td>0</td>\n",
       "      <td>0</td>\n",
       "      <td>1</td>\n",
       "      <td>0</td>\n",
       "      <td>0.400</td>\n",
       "      <td>0</td>\n",
       "      <td>0</td>\n",
       "      <td>0</td>\n",
       "      <td>0</td>\n",
       "    </tr>\n",
       "    <tr>\n",
       "      <th>785b46a41ad7fc643b2fe870e18435e9</th>\n",
       "      <td>843</td>\n",
       "      <td>22</td>\n",
       "      <td>7</td>\n",
       "      <td>3</td>\n",
       "      <td>18</td>\n",
       "      <td>2</td>\n",
       "      <td>0</td>\n",
       "      <td>1</td>\n",
       "      <td>1</td>\n",
       "      <td>3</td>\n",
       "      <td>...</td>\n",
       "      <td>1.899</td>\n",
       "      <td>0</td>\n",
       "      <td>0</td>\n",
       "      <td>6</td>\n",
       "      <td>0</td>\n",
       "      <td>0.500</td>\n",
       "      <td>0</td>\n",
       "      <td>0</td>\n",
       "      <td>3</td>\n",
       "      <td>0</td>\n",
       "    </tr>\n",
       "    <tr>\n",
       "      <th>4856a3ccfd84dbd0ab25c0529815978e</th>\n",
       "      <td>491</td>\n",
       "      <td>22</td>\n",
       "      <td>0</td>\n",
       "      <td>1</td>\n",
       "      <td>4</td>\n",
       "      <td>18</td>\n",
       "      <td>0</td>\n",
       "      <td>0</td>\n",
       "      <td>1</td>\n",
       "      <td>0</td>\n",
       "      <td>...</td>\n",
       "      <td>1.500</td>\n",
       "      <td>0</td>\n",
       "      <td>0</td>\n",
       "      <td>0</td>\n",
       "      <td>0</td>\n",
       "      <td>0.333</td>\n",
       "      <td>0</td>\n",
       "      <td>0</td>\n",
       "      <td>0</td>\n",
       "      <td>0</td>\n",
       "    </tr>\n",
       "    <tr>\n",
       "      <th>bea45c19efef0f86c03a70280380185d</th>\n",
       "      <td>1167</td>\n",
       "      <td>22</td>\n",
       "      <td>7</td>\n",
       "      <td>4</td>\n",
       "      <td>0</td>\n",
       "      <td>41</td>\n",
       "      <td>4</td>\n",
       "      <td>0</td>\n",
       "      <td>4</td>\n",
       "      <td>14</td>\n",
       "      <td>...</td>\n",
       "      <td>0.000</td>\n",
       "      <td>0</td>\n",
       "      <td>0</td>\n",
       "      <td>9</td>\n",
       "      <td>0</td>\n",
       "      <td>0.714</td>\n",
       "      <td>0</td>\n",
       "      <td>0</td>\n",
       "      <td>1</td>\n",
       "      <td>0</td>\n",
       "    </tr>\n",
       "    <tr>\n",
       "      <th>77859b5baddd3a6d0cb05721d9494456</th>\n",
       "      <td>1032</td>\n",
       "      <td>22</td>\n",
       "      <td>7</td>\n",
       "      <td>5</td>\n",
       "      <td>0</td>\n",
       "      <td>84</td>\n",
       "      <td>2</td>\n",
       "      <td>2</td>\n",
       "      <td>4</td>\n",
       "      <td>9</td>\n",
       "      <td>...</td>\n",
       "      <td>15.263</td>\n",
       "      <td>1</td>\n",
       "      <td>1</td>\n",
       "      <td>1</td>\n",
       "      <td>0</td>\n",
       "      <td>0.600</td>\n",
       "      <td>0</td>\n",
       "      <td>0</td>\n",
       "      <td>0</td>\n",
       "      <td>0</td>\n",
       "    </tr>\n",
       "  </tbody>\n",
       "</table>\n",
       "<p>5 rows × 245 columns</p>\n",
       "</div>"
      ],
      "text/plain": [
       "                                  game_time  game_mode  lobby_type  \\\n",
       "match_id                                                             \n",
       "3071feff2631bd8ca93d0d182e5b9249        542         23           0   \n",
       "785b46a41ad7fc643b2fe870e18435e9        843         22           7   \n",
       "4856a3ccfd84dbd0ab25c0529815978e        491         22           0   \n",
       "bea45c19efef0f86c03a70280380185d       1167         22           7   \n",
       "77859b5baddd3a6d0cb05721d9494456       1032         22           7   \n",
       "\n",
       "                                  objectives_len  chat_len  r1_hero_id  \\\n",
       "match_id                                                                 \n",
       "3071feff2631bd8ca93d0d182e5b9249               6         0          95   \n",
       "785b46a41ad7fc643b2fe870e18435e9               3        18           2   \n",
       "4856a3ccfd84dbd0ab25c0529815978e               1         4          18   \n",
       "bea45c19efef0f86c03a70280380185d               4         0          41   \n",
       "77859b5baddd3a6d0cb05721d9494456               5         0          84   \n",
       "\n",
       "                                  r1_kills  r1_deaths  r1_assists  r1_denies  \\\n",
       "match_id                                                                       \n",
       "3071feff2631bd8ca93d0d182e5b9249         1          2           3          0   \n",
       "785b46a41ad7fc643b2fe870e18435e9         0          1           1          3   \n",
       "4856a3ccfd84dbd0ab25c0529815978e         0          0           1          0   \n",
       "bea45c19efef0f86c03a70280380185d         4          0           4         14   \n",
       "77859b5baddd3a6d0cb05721d9494456         2          2           4          9   \n",
       "\n",
       "                                  ...  d5_stuns  d5_creeps_stacked  \\\n",
       "match_id                          ...                                \n",
       "3071feff2631bd8ca93d0d182e5b9249  ...     0.000                  0   \n",
       "785b46a41ad7fc643b2fe870e18435e9  ...     1.899                  0   \n",
       "4856a3ccfd84dbd0ab25c0529815978e  ...     1.500                  0   \n",
       "bea45c19efef0f86c03a70280380185d  ...     0.000                  0   \n",
       "77859b5baddd3a6d0cb05721d9494456  ...    15.263                  1   \n",
       "\n",
       "                                  d5_camps_stacked  d5_rune_pickups  \\\n",
       "match_id                                                              \n",
       "3071feff2631bd8ca93d0d182e5b9249                 0                1   \n",
       "785b46a41ad7fc643b2fe870e18435e9                 0                6   \n",
       "4856a3ccfd84dbd0ab25c0529815978e                 0                0   \n",
       "bea45c19efef0f86c03a70280380185d                 0                9   \n",
       "77859b5baddd3a6d0cb05721d9494456                 1                1   \n",
       "\n",
       "                                  d5_firstblood_claimed  \\\n",
       "match_id                                                  \n",
       "3071feff2631bd8ca93d0d182e5b9249                      0   \n",
       "785b46a41ad7fc643b2fe870e18435e9                      0   \n",
       "4856a3ccfd84dbd0ab25c0529815978e                      0   \n",
       "bea45c19efef0f86c03a70280380185d                      0   \n",
       "77859b5baddd3a6d0cb05721d9494456                      0   \n",
       "\n",
       "                                  d5_teamfight_participation  \\\n",
       "match_id                                                       \n",
       "3071feff2631bd8ca93d0d182e5b9249                       0.400   \n",
       "785b46a41ad7fc643b2fe870e18435e9                       0.500   \n",
       "4856a3ccfd84dbd0ab25c0529815978e                       0.333   \n",
       "bea45c19efef0f86c03a70280380185d                       0.714   \n",
       "77859b5baddd3a6d0cb05721d9494456                       0.600   \n",
       "\n",
       "                                  d5_towers_killed  d5_roshans_killed  \\\n",
       "match_id                                                                \n",
       "3071feff2631bd8ca93d0d182e5b9249                 0                  0   \n",
       "785b46a41ad7fc643b2fe870e18435e9                 0                  0   \n",
       "4856a3ccfd84dbd0ab25c0529815978e                 0                  0   \n",
       "bea45c19efef0f86c03a70280380185d                 0                  0   \n",
       "77859b5baddd3a6d0cb05721d9494456                 0                  0   \n",
       "\n",
       "                                  d5_obs_placed  d5_sen_placed  \n",
       "match_id                                                        \n",
       "3071feff2631bd8ca93d0d182e5b9249              0              0  \n",
       "785b46a41ad7fc643b2fe870e18435e9              3              0  \n",
       "4856a3ccfd84dbd0ab25c0529815978e              0              0  \n",
       "bea45c19efef0f86c03a70280380185d              1              0  \n",
       "77859b5baddd3a6d0cb05721d9494456              0              0  \n",
       "\n",
       "[5 rows x 245 columns]"
      ]
     },
     "execution_count": 12,
     "metadata": {},
     "output_type": "execute_result"
    }
   ],
   "source": [
    "X_submit= pd.read_csv(\"DOTA2_TEST_features.csv\")\n",
    "X_submit.set_index(\"match_id\", inplace=True)\n",
    "\n",
    "X_submit.head()"
   ]
  },
  {
   "cell_type": "code",
   "execution_count": 13,
   "id": "Dy-Bl_S8wirO",
   "metadata": {
    "colab": {
     "base_uri": "https://localhost:8080/",
     "height": 350
    },
    "id": "Dy-Bl_S8wirO",
    "outputId": "0f43042c-4ecf-45ff-858a-5c758fef76e4"
   },
   "outputs": [
    {
     "data": {
      "text/html": [
       "<div>\n",
       "<style scoped>\n",
       "    .dataframe tbody tr th:only-of-type {\n",
       "        vertical-align: middle;\n",
       "    }\n",
       "\n",
       "    .dataframe tbody tr th {\n",
       "        vertical-align: top;\n",
       "    }\n",
       "\n",
       "    .dataframe thead th {\n",
       "        text-align: right;\n",
       "    }\n",
       "</style>\n",
       "<table border=\"1\" class=\"dataframe\">\n",
       "  <thead>\n",
       "    <tr style=\"text-align: right;\">\n",
       "      <th></th>\n",
       "      <th>game_time</th>\n",
       "      <th>game_mode</th>\n",
       "      <th>lobby_type</th>\n",
       "      <th>objectives_len</th>\n",
       "      <th>chat_len</th>\n",
       "      <th>r1_hero_id</th>\n",
       "      <th>r1_kills</th>\n",
       "      <th>r1_deaths</th>\n",
       "      <th>r1_assists</th>\n",
       "      <th>r1_denies</th>\n",
       "      <th>...</th>\n",
       "      <th>d5_stuns</th>\n",
       "      <th>d5_creeps_stacked</th>\n",
       "      <th>d5_camps_stacked</th>\n",
       "      <th>d5_rune_pickups</th>\n",
       "      <th>d5_firstblood_claimed</th>\n",
       "      <th>d5_teamfight_participation</th>\n",
       "      <th>d5_towers_killed</th>\n",
       "      <th>d5_roshans_killed</th>\n",
       "      <th>d5_obs_placed</th>\n",
       "      <th>d5_sen_placed</th>\n",
       "    </tr>\n",
       "  </thead>\n",
       "  <tbody>\n",
       "    <tr>\n",
       "      <th>count</th>\n",
       "      <td>11903.000000</td>\n",
       "      <td>11903.000000</td>\n",
       "      <td>11903.000000</td>\n",
       "      <td>11903.000000</td>\n",
       "      <td>11903.000000</td>\n",
       "      <td>11903.000000</td>\n",
       "      <td>11903.000000</td>\n",
       "      <td>11903.000000</td>\n",
       "      <td>11903.000000</td>\n",
       "      <td>11903.000000</td>\n",
       "      <td>...</td>\n",
       "      <td>11903.000000</td>\n",
       "      <td>11903.000000</td>\n",
       "      <td>11903.000000</td>\n",
       "      <td>11903.000000</td>\n",
       "      <td>11903.000000</td>\n",
       "      <td>11903.000000</td>\n",
       "      <td>11903.000000</td>\n",
       "      <td>11903.000000</td>\n",
       "      <td>11903.000000</td>\n",
       "      <td>11903.000000</td>\n",
       "    </tr>\n",
       "    <tr>\n",
       "      <th>mean</th>\n",
       "      <td>1149.493573</td>\n",
       "      <td>19.578762</td>\n",
       "      <td>4.752919</td>\n",
       "      <td>6.527430</td>\n",
       "      <td>7.129967</td>\n",
       "      <td>50.866588</td>\n",
       "      <td>3.179115</td>\n",
       "      <td>3.278753</td>\n",
       "      <td>4.678568</td>\n",
       "      <td>6.358649</td>\n",
       "      <td>...</td>\n",
       "      <td>11.693459</td>\n",
       "      <td>1.043182</td>\n",
       "      <td>0.346971</td>\n",
       "      <td>4.692851</td>\n",
       "      <td>0.089977</td>\n",
       "      <td>0.418554</td>\n",
       "      <td>0.301773</td>\n",
       "      <td>0.024616</td>\n",
       "      <td>1.262791</td>\n",
       "      <td>0.758632</td>\n",
       "    </tr>\n",
       "    <tr>\n",
       "      <th>std</th>\n",
       "      <td>761.129916</td>\n",
       "      <td>6.308007</td>\n",
       "      <td>3.268194</td>\n",
       "      <td>6.457368</td>\n",
       "      <td>12.783409</td>\n",
       "      <td>34.491661</td>\n",
       "      <td>3.749532</td>\n",
       "      <td>3.241875</td>\n",
       "      <td>5.162607</td>\n",
       "      <td>8.273157</td>\n",
       "      <td>...</td>\n",
       "      <td>20.527402</td>\n",
       "      <td>3.563805</td>\n",
       "      <td>0.990673</td>\n",
       "      <td>4.645210</td>\n",
       "      <td>0.286161</td>\n",
       "      <td>0.265948</td>\n",
       "      <td>0.730659</td>\n",
       "      <td>0.170941</td>\n",
       "      <td>2.563068</td>\n",
       "      <td>2.371474</td>\n",
       "    </tr>\n",
       "    <tr>\n",
       "      <th>min</th>\n",
       "      <td>0.000000</td>\n",
       "      <td>2.000000</td>\n",
       "      <td>0.000000</td>\n",
       "      <td>0.000000</td>\n",
       "      <td>0.000000</td>\n",
       "      <td>1.000000</td>\n",
       "      <td>0.000000</td>\n",
       "      <td>0.000000</td>\n",
       "      <td>0.000000</td>\n",
       "      <td>0.000000</td>\n",
       "      <td>...</td>\n",
       "      <td>-4.381000</td>\n",
       "      <td>0.000000</td>\n",
       "      <td>0.000000</td>\n",
       "      <td>0.000000</td>\n",
       "      <td>0.000000</td>\n",
       "      <td>0.000000</td>\n",
       "      <td>0.000000</td>\n",
       "      <td>0.000000</td>\n",
       "      <td>0.000000</td>\n",
       "      <td>0.000000</td>\n",
       "    </tr>\n",
       "    <tr>\n",
       "      <th>25%</th>\n",
       "      <td>534.000000</td>\n",
       "      <td>22.000000</td>\n",
       "      <td>0.000000</td>\n",
       "      <td>1.000000</td>\n",
       "      <td>0.000000</td>\n",
       "      <td>20.000000</td>\n",
       "      <td>0.000000</td>\n",
       "      <td>1.000000</td>\n",
       "      <td>1.000000</td>\n",
       "      <td>1.000000</td>\n",
       "      <td>...</td>\n",
       "      <td>0.000000</td>\n",
       "      <td>0.000000</td>\n",
       "      <td>0.000000</td>\n",
       "      <td>1.000000</td>\n",
       "      <td>0.000000</td>\n",
       "      <td>0.250000</td>\n",
       "      <td>0.000000</td>\n",
       "      <td>0.000000</td>\n",
       "      <td>0.000000</td>\n",
       "      <td>0.000000</td>\n",
       "    </tr>\n",
       "    <tr>\n",
       "      <th>50%</th>\n",
       "      <td>1049.000000</td>\n",
       "      <td>22.000000</td>\n",
       "      <td>7.000000</td>\n",
       "      <td>4.000000</td>\n",
       "      <td>3.000000</td>\n",
       "      <td>44.000000</td>\n",
       "      <td>2.000000</td>\n",
       "      <td>2.000000</td>\n",
       "      <td>3.000000</td>\n",
       "      <td>3.000000</td>\n",
       "      <td>...</td>\n",
       "      <td>1.483000</td>\n",
       "      <td>0.000000</td>\n",
       "      <td>0.000000</td>\n",
       "      <td>3.000000</td>\n",
       "      <td>0.000000</td>\n",
       "      <td>0.444000</td>\n",
       "      <td>0.000000</td>\n",
       "      <td>0.000000</td>\n",
       "      <td>0.000000</td>\n",
       "      <td>0.000000</td>\n",
       "    </tr>\n",
       "    <tr>\n",
       "      <th>75%</th>\n",
       "      <td>1656.000000</td>\n",
       "      <td>22.000000</td>\n",
       "      <td>7.000000</td>\n",
       "      <td>10.000000</td>\n",
       "      <td>9.000000</td>\n",
       "      <td>79.000000</td>\n",
       "      <td>5.000000</td>\n",
       "      <td>5.000000</td>\n",
       "      <td>7.000000</td>\n",
       "      <td>9.000000</td>\n",
       "      <td>...</td>\n",
       "      <td>15.996000</td>\n",
       "      <td>0.000000</td>\n",
       "      <td>0.000000</td>\n",
       "      <td>7.000000</td>\n",
       "      <td>0.000000</td>\n",
       "      <td>0.600000</td>\n",
       "      <td>0.000000</td>\n",
       "      <td>0.000000</td>\n",
       "      <td>1.000000</td>\n",
       "      <td>0.000000</td>\n",
       "    </tr>\n",
       "    <tr>\n",
       "      <th>max</th>\n",
       "      <td>4933.000000</td>\n",
       "      <td>23.000000</td>\n",
       "      <td>7.000000</td>\n",
       "      <td>43.000000</td>\n",
       "      <td>189.000000</td>\n",
       "      <td>120.000000</td>\n",
       "      <td>32.000000</td>\n",
       "      <td>22.000000</td>\n",
       "      <td>34.000000</td>\n",
       "      <td>84.000000</td>\n",
       "      <td>...</td>\n",
       "      <td>277.618000</td>\n",
       "      <td>107.000000</td>\n",
       "      <td>29.000000</td>\n",
       "      <td>57.000000</td>\n",
       "      <td>1.000000</td>\n",
       "      <td>1.667000</td>\n",
       "      <td>9.000000</td>\n",
       "      <td>4.000000</td>\n",
       "      <td>26.000000</td>\n",
       "      <td>47.000000</td>\n",
       "    </tr>\n",
       "  </tbody>\n",
       "</table>\n",
       "<p>8 rows × 245 columns</p>\n",
       "</div>"
      ],
      "text/plain": [
       "          game_time     game_mode    lobby_type  objectives_len      chat_len  \\\n",
       "count  11903.000000  11903.000000  11903.000000    11903.000000  11903.000000   \n",
       "mean    1149.493573     19.578762      4.752919        6.527430      7.129967   \n",
       "std      761.129916      6.308007      3.268194        6.457368     12.783409   \n",
       "min        0.000000      2.000000      0.000000        0.000000      0.000000   \n",
       "25%      534.000000     22.000000      0.000000        1.000000      0.000000   \n",
       "50%     1049.000000     22.000000      7.000000        4.000000      3.000000   \n",
       "75%     1656.000000     22.000000      7.000000       10.000000      9.000000   \n",
       "max     4933.000000     23.000000      7.000000       43.000000    189.000000   \n",
       "\n",
       "         r1_hero_id      r1_kills     r1_deaths    r1_assists     r1_denies  \\\n",
       "count  11903.000000  11903.000000  11903.000000  11903.000000  11903.000000   \n",
       "mean      50.866588      3.179115      3.278753      4.678568      6.358649   \n",
       "std       34.491661      3.749532      3.241875      5.162607      8.273157   \n",
       "min        1.000000      0.000000      0.000000      0.000000      0.000000   \n",
       "25%       20.000000      0.000000      1.000000      1.000000      1.000000   \n",
       "50%       44.000000      2.000000      2.000000      3.000000      3.000000   \n",
       "75%       79.000000      5.000000      5.000000      7.000000      9.000000   \n",
       "max      120.000000     32.000000     22.000000     34.000000     84.000000   \n",
       "\n",
       "       ...      d5_stuns  d5_creeps_stacked  d5_camps_stacked  \\\n",
       "count  ...  11903.000000       11903.000000      11903.000000   \n",
       "mean   ...     11.693459           1.043182          0.346971   \n",
       "std    ...     20.527402           3.563805          0.990673   \n",
       "min    ...     -4.381000           0.000000          0.000000   \n",
       "25%    ...      0.000000           0.000000          0.000000   \n",
       "50%    ...      1.483000           0.000000          0.000000   \n",
       "75%    ...     15.996000           0.000000          0.000000   \n",
       "max    ...    277.618000         107.000000         29.000000   \n",
       "\n",
       "       d5_rune_pickups  d5_firstblood_claimed  d5_teamfight_participation  \\\n",
       "count     11903.000000           11903.000000                11903.000000   \n",
       "mean          4.692851               0.089977                    0.418554   \n",
       "std           4.645210               0.286161                    0.265948   \n",
       "min           0.000000               0.000000                    0.000000   \n",
       "25%           1.000000               0.000000                    0.250000   \n",
       "50%           3.000000               0.000000                    0.444000   \n",
       "75%           7.000000               0.000000                    0.600000   \n",
       "max          57.000000               1.000000                    1.667000   \n",
       "\n",
       "       d5_towers_killed  d5_roshans_killed  d5_obs_placed  d5_sen_placed  \n",
       "count      11903.000000       11903.000000   11903.000000   11903.000000  \n",
       "mean           0.301773           0.024616       1.262791       0.758632  \n",
       "std            0.730659           0.170941       2.563068       2.371474  \n",
       "min            0.000000           0.000000       0.000000       0.000000  \n",
       "25%            0.000000           0.000000       0.000000       0.000000  \n",
       "50%            0.000000           0.000000       0.000000       0.000000  \n",
       "75%            0.000000           0.000000       1.000000       0.000000  \n",
       "max            9.000000           4.000000      26.000000      47.000000  \n",
       "\n",
       "[8 rows x 245 columns]"
      ]
     },
     "execution_count": 13,
     "metadata": {},
     "output_type": "execute_result"
    }
   ],
   "source": [
    "X_submit.describe()"
   ]
  },
  {
   "cell_type": "markdown",
   "id": "IMM7SLf4wpL9",
   "metadata": {
    "id": "IMM7SLf4wpL9"
   },
   "source": [
    "---"
   ]
  },
  {
   "cell_type": "markdown",
   "id": "BkfH8U_mw2We",
   "metadata": {
    "id": "BkfH8U_mw2We"
   },
   "source": [
    "#### Детальное изучение"
   ]
  },
  {
   "cell_type": "code",
   "execution_count": 14,
   "id": "c5561a4a",
   "metadata": {
    "colab": {
     "base_uri": "https://localhost:8080/",
     "height": 147
    },
    "id": "c5561a4a",
    "outputId": "5888badd-a9eb-4c43-bf82-39fb912bf0f4"
   },
   "outputs": [
    {
     "data": {
      "text/plain": [
       "int64      210\n",
       "float64     35\n",
       "dtype: int64"
      ]
     },
     "execution_count": 14,
     "metadata": {},
     "output_type": "execute_result"
    }
   ],
   "source": [
    "# Ознакомление с типами данных:\n",
    "X.dtypes.groupby(by=X.dtypes).count()"
   ]
  },
  {
   "cell_type": "markdown",
   "id": "Xb71K5XEFMXl",
   "metadata": {
    "id": "Xb71K5XEFMXl"
   },
   "source": [
    "Можно заметить, что все данные имеют типы `int64` и `float64`. Таким образом, можем сделать вывод, что для разделения признаков на категориальные и числовые опираться на тип данных окажется проблематичным."
   ]
  },
  {
   "cell_type": "code",
   "execution_count": 15,
   "id": "02774664",
   "metadata": {
    "colab": {
     "base_uri": "https://localhost:8080/",
     "height": 415
    },
    "id": "02774664",
    "outputId": "f7ad48b6-7f26-4132-a138-ea42997d5344"
   },
   "outputs": [
    {
     "name": "stdout",
     "output_type": "stream",
     "text": [
      "Кол-во NaN: 13885\n"
     ]
    },
    {
     "data": {
      "text/plain": [
       "r4_kills                 2777\n",
       "r5_kills                 2777\n",
       "r2_kills                 2777\n",
       "r1_kills                 2777\n",
       "r3_kills                 2777\n",
       "d2_firstblood_claimed       0\n",
       "d2_rune_pickups             0\n",
       "d2_camps_stacked            0\n",
       "d2_creeps_stacked           0\n",
       "d2_y                        0\n",
       "dtype: int64"
      ]
     },
     "execution_count": 15,
     "metadata": {},
     "output_type": "execute_result"
    }
   ],
   "source": [
    "# Изучение информации о пропущенных значениях:\n",
    "print('Кол-во NaN:', X.isna().sum().sum())\n",
    "X.isna().sum().sort_values(ascending=False).head(10)"
   ]
  },
  {
   "cell_type": "markdown",
   "id": "tSLcGHcuxdLa",
   "metadata": {
    "id": "tSLcGHcuxdLa"
   },
   "source": [
    "Т.к. данные пропущены только в столбцах 'r1_kills', 'r2_kills', 'r3_kills', 'r4_kills', 'r5_kills', можно детальнее ознакомится с данными признаками"
   ]
  },
  {
   "cell_type": "code",
   "execution_count": 16,
   "id": "E13cSdlypMpW",
   "metadata": {
    "colab": {
     "base_uri": "https://localhost:8080/",
     "height": 394
    },
    "id": "E13cSdlypMpW",
    "outputId": "5caea68c-4a02-447b-b94e-cede94def43b"
   },
   "outputs": [
    {
     "data": {
      "text/html": [
       "<div>\n",
       "<style scoped>\n",
       "    .dataframe tbody tr th:only-of-type {\n",
       "        vertical-align: middle;\n",
       "    }\n",
       "\n",
       "    .dataframe tbody tr th {\n",
       "        vertical-align: top;\n",
       "    }\n",
       "\n",
       "    .dataframe thead th {\n",
       "        text-align: right;\n",
       "    }\n",
       "</style>\n",
       "<table border=\"1\" class=\"dataframe\">\n",
       "  <thead>\n",
       "    <tr style=\"text-align: right;\">\n",
       "      <th></th>\n",
       "      <th>r1_kills</th>\n",
       "      <th>r2_kills</th>\n",
       "      <th>r3_kills</th>\n",
       "      <th>r4_kills</th>\n",
       "      <th>r5_kills</th>\n",
       "    </tr>\n",
       "    <tr>\n",
       "      <th>match_id</th>\n",
       "      <th></th>\n",
       "      <th></th>\n",
       "      <th></th>\n",
       "      <th></th>\n",
       "      <th></th>\n",
       "    </tr>\n",
       "  </thead>\n",
       "  <tbody>\n",
       "    <tr>\n",
       "      <th>b29797296e310d2275f2cd67eeacf2eb</th>\n",
       "      <td>4.0</td>\n",
       "      <td>6.0</td>\n",
       "      <td>13.0</td>\n",
       "      <td>5.0</td>\n",
       "      <td>2.0</td>\n",
       "    </tr>\n",
       "    <tr>\n",
       "      <th>49908f2a11d8bc01f6dad6fbf2e39326</th>\n",
       "      <td>3.0</td>\n",
       "      <td>NaN</td>\n",
       "      <td>5.0</td>\n",
       "      <td>9.0</td>\n",
       "      <td>16.0</td>\n",
       "    </tr>\n",
       "    <tr>\n",
       "      <th>a68557919e4353f6067ddd3a04b980b0</th>\n",
       "      <td>0.0</td>\n",
       "      <td>0.0</td>\n",
       "      <td>2.0</td>\n",
       "      <td>NaN</td>\n",
       "      <td>10.0</td>\n",
       "    </tr>\n",
       "    <tr>\n",
       "      <th>f6273df443c5a8b192b633ef2ce34304</th>\n",
       "      <td>0.0</td>\n",
       "      <td>NaN</td>\n",
       "      <td>0.0</td>\n",
       "      <td>1.0</td>\n",
       "      <td>2.0</td>\n",
       "    </tr>\n",
       "    <tr>\n",
       "      <th>71b98e3c7cc8701ad425a69d3923ec8f</th>\n",
       "      <td>0.0</td>\n",
       "      <td>1.0</td>\n",
       "      <td>0.0</td>\n",
       "      <td>1.0</td>\n",
       "      <td>0.0</td>\n",
       "    </tr>\n",
       "    <tr>\n",
       "      <th>ba0532a0fe1adb8ea24b2ad058538e85</th>\n",
       "      <td>4.0</td>\n",
       "      <td>0.0</td>\n",
       "      <td>3.0</td>\n",
       "      <td>3.0</td>\n",
       "      <td>2.0</td>\n",
       "    </tr>\n",
       "    <tr>\n",
       "      <th>de640d7e3d82ee34cd77bc2c67ba28ca</th>\n",
       "      <td>NaN</td>\n",
       "      <td>6.0</td>\n",
       "      <td>8.0</td>\n",
       "      <td>9.0</td>\n",
       "      <td>18.0</td>\n",
       "    </tr>\n",
       "    <tr>\n",
       "      <th>86b496a935d7191a4c4c12f5ad9382c3</th>\n",
       "      <td>0.0</td>\n",
       "      <td>1.0</td>\n",
       "      <td>0.0</td>\n",
       "      <td>NaN</td>\n",
       "      <td>1.0</td>\n",
       "    </tr>\n",
       "    <tr>\n",
       "      <th>072b6fbd5ae40e73ac4dec1be1ee91c9</th>\n",
       "      <td>10.0</td>\n",
       "      <td>12.0</td>\n",
       "      <td>9.0</td>\n",
       "      <td>2.0</td>\n",
       "      <td>1.0</td>\n",
       "    </tr>\n",
       "    <tr>\n",
       "      <th>8ad5d16dbec1389f3d4ce6cf9b1f2873</th>\n",
       "      <td>2.0</td>\n",
       "      <td>2.0</td>\n",
       "      <td>NaN</td>\n",
       "      <td>0.0</td>\n",
       "      <td>0.0</td>\n",
       "    </tr>\n",
       "  </tbody>\n",
       "</table>\n",
       "</div>"
      ],
      "text/plain": [
       "                                  r1_kills  r2_kills  r3_kills  r4_kills  \\\n",
       "match_id                                                                   \n",
       "b29797296e310d2275f2cd67eeacf2eb       4.0       6.0      13.0       5.0   \n",
       "49908f2a11d8bc01f6dad6fbf2e39326       3.0       NaN       5.0       9.0   \n",
       "a68557919e4353f6067ddd3a04b980b0       0.0       0.0       2.0       NaN   \n",
       "f6273df443c5a8b192b633ef2ce34304       0.0       NaN       0.0       1.0   \n",
       "71b98e3c7cc8701ad425a69d3923ec8f       0.0       1.0       0.0       1.0   \n",
       "ba0532a0fe1adb8ea24b2ad058538e85       4.0       0.0       3.0       3.0   \n",
       "de640d7e3d82ee34cd77bc2c67ba28ca       NaN       6.0       8.0       9.0   \n",
       "86b496a935d7191a4c4c12f5ad9382c3       0.0       1.0       0.0       NaN   \n",
       "072b6fbd5ae40e73ac4dec1be1ee91c9      10.0      12.0       9.0       2.0   \n",
       "8ad5d16dbec1389f3d4ce6cf9b1f2873       2.0       2.0       NaN       0.0   \n",
       "\n",
       "                                  r5_kills  \n",
       "match_id                                    \n",
       "b29797296e310d2275f2cd67eeacf2eb       2.0  \n",
       "49908f2a11d8bc01f6dad6fbf2e39326      16.0  \n",
       "a68557919e4353f6067ddd3a04b980b0      10.0  \n",
       "f6273df443c5a8b192b633ef2ce34304       2.0  \n",
       "71b98e3c7cc8701ad425a69d3923ec8f       0.0  \n",
       "ba0532a0fe1adb8ea24b2ad058538e85       2.0  \n",
       "de640d7e3d82ee34cd77bc2c67ba28ca      18.0  \n",
       "86b496a935d7191a4c4c12f5ad9382c3       1.0  \n",
       "072b6fbd5ae40e73ac4dec1be1ee91c9       1.0  \n",
       "8ad5d16dbec1389f3d4ce6cf9b1f2873       0.0  "
      ]
     },
     "execution_count": 16,
     "metadata": {},
     "output_type": "execute_result"
    }
   ],
   "source": [
    "X[['r1_kills', 'r2_kills', 'r3_kills', 'r4_kills', 'r5_kills']].head(10)"
   ]
  },
  {
   "cell_type": "markdown",
   "id": "nJ3CYIosFzow",
   "metadata": {
    "id": "nJ3CYIosFzow"
   },
   "source": [
    "При изучении тренировочного датасета были замечены предположительные выбросы у значений признака `game_time`."
   ]
  },
  {
   "cell_type": "code",
   "execution_count": 17,
   "id": "gwbOSqT3qKpS",
   "metadata": {
    "colab": {
     "base_uri": "https://localhost:8080/",
     "height": 297
    },
    "id": "gwbOSqT3qKpS",
    "outputId": "8b3a4b65-d5b5-44a4-fc00-da6548864fab"
   },
   "outputs": [
    {
     "data": {
      "text/plain": [
       "Text(0.5, 1.0, 'game_time<10000')"
      ]
     },
     "execution_count": 17,
     "metadata": {},
     "output_type": "execute_result"
    },
    {
     "data": {
      "image/png": "[encoded data removed]",
      "text/plain": [
       "<Figure size 1200x300 with 2 Axes>"
      ]
     },
     "metadata": {},
     "output_type": "display_data"
    }
   ],
   "source": [
    "fig, ax = plt.subplots(1, 2, figsize=(12, 3))\n",
    "\n",
    "ax[0].hist(X.game_time, bins=100);\n",
    "ax[0].set_title('game_time')\n",
    "\n",
    "ax[1].hist(X.game_time[X.game_time<10000], bins=100);\n",
    "ax[1].set_title('game_time<10000')\n"
   ]
  },
  {
   "cell_type": "markdown",
   "id": "CbcpZ9rJGPGk",
   "metadata": {
    "id": "CbcpZ9rJGPGk"
   },
   "source": [
    "После изучения гистограмм можно предположить, что значения большие 5000 скорее всего являются выбросами"
   ]
  },
  {
   "cell_type": "code",
   "execution_count": 18,
   "id": "oMWHckIByF0q",
   "metadata": {
    "colab": {
     "base_uri": "https://localhost:8080/"
    },
    "id": "oMWHckIByF0q",
    "outputId": "7f35adca-8a6d-4acb-bdb8-1e0875d57e00"
   },
   "outputs": [
    {
     "name": "stdout",
     "output_type": "stream",
     "text": [
      "Кол-во \"неправдоподобно\" больших значений game_time:\n"
     ]
    },
    {
     "data": {
      "text/plain": [
       "833"
      ]
     },
     "execution_count": 18,
     "metadata": {},
     "output_type": "execute_result"
    }
   ],
   "source": [
    "print('Кол-во \"неправдоподобно\" больших значений game_time:')\n",
    "X[X.game_time > 5000].shape[0]"
   ]
  },
  {
   "cell_type": "markdown",
   "id": "veMq0AgyGs6b",
   "metadata": {
    "id": "veMq0AgyGs6b"
   },
   "source": [
    "Далее были составлены корреляционные тепловые карты по:\n",
    "1. Информации об одном игроке (r1) и общих данных\n",
    "2. Информации по всему датасету"
   ]
  },
  {
   "cell_type": "code",
   "execution_count": 19,
   "id": "DIVPHml7oP8b",
   "metadata": {
    "colab": {
     "base_uri": "https://localhost:8080/",
     "height": 648
    },
    "id": "DIVPHml7oP8b",
    "outputId": "e679acbd-b6d1-4065-9358-eb6e141b379c"
   },
   "outputs": [
    {
     "data": {
      "text/plain": [
       "<Axes: >"
      ]
     },
     "execution_count": 19,
     "metadata": {},
     "output_type": "execute_result"
    },
    {
     "data": {
      "image/png": "[encoded data removed]",
      "text/plain": [
       "<Figure size 1000x600 with 2 Axes>"
      ]
     },
     "metadata": {},
     "output_type": "display_data"
    }
   ],
   "source": [
    "# Корреляционная тепловая карта для 1 игрока:\n",
    "\n",
    "corr_data = X.iloc[:, :29]\n",
    "corr_data['radiant_win'] = y\n",
    "\n",
    "cor = corr_data.corr()\n",
    "plt.figure(figsize=(10, 6))\n",
    "sns.heatmap(cor, cmap=plt.cm.plasma)"
   ]
  },
  {
   "cell_type": "markdown",
   "id": "c80b0920",
   "metadata": {
    "id": "c80b0920"
   },
   "source": [
    "### Preprocessing"
   ]
  },
  {
   "cell_type": "code",
   "execution_count": 20,
   "id": "652089c7",
   "metadata": {
    "id": "652089c7"
   },
   "outputs": [],
   "source": [
    "from sklearn.model_selection import train_test_split, GridSearchCV\n",
    "from sklearn.preprocessing import StandardScaler, QuantileTransformer, OneHotEncoder\n",
    "from sklearn.impute import SimpleImputer\n",
    "from sklearn.pipeline import Pipeline\n",
    "from sklearn.compose import ColumnTransformer, make_column_selector"
   ]
  },
  {
   "cell_type": "code",
   "execution_count": 21,
   "id": "71d94e17",
   "metadata": {
    "id": "71d94e17"
   },
   "outputs": [],
   "source": [
    "# Директория для хранения кэша пайплайнов\n",
    "cache_dir = r'D:\\lab_temp'"
   ]
  },
  {
   "cell_type": "markdown",
   "id": "crRn45_KH_8t",
   "metadata": {
    "id": "crRn45_KH_8t"
   },
   "source": [
    "На этапе предобработки данных было принято решение создать список категориальных признаков. Определение категориальных признаков осуществлялось изучением названий признаков и соответствующих значений."
   ]
  },
  {
   "cell_type": "code",
   "execution_count": 22,
   "id": "0WA3T7BCsszS",
   "metadata": {
    "id": "0WA3T7BCsszS"
   },
   "outputs": [],
   "source": [
    "# Список категориальных переменых:\n",
    "cat_list = ['game_mode', 'lobby_type',\n",
    "            'r1_hero_id', 'r2_hero_id', 'r3_hero_id', 'r4_hero_id', 'r5_hero_id',\n",
    "            'd1_hero_id', 'd2_hero_id', 'd3_hero_id', 'd4_hero_id', 'd5_hero_id',\n",
    "            'r1_firstblood_claimed', 'r2_firstblood_claimed', 'r3_firstblood_claimed',\n",
    "            'r4_firstblood_claimed', 'r5_firstblood_claimed',\n",
    "            'd1_firstblood_claimed', 'd2_firstblood_claimed', 'd3_firstblood_claimed',\n",
    "            'd4_firstblood_claimed', 'd5_firstblood_claimed'\n",
    "            ]\n",
    "\n",
    "# Индексы столбцов категориальных признаков:\n",
    "cat_columns = np.array([X.columns.get_loc(cat) for cat in cat_list])\n",
    "\n",
    "# Индексы столбцов числовых признаков:\n",
    "num_columns = np.setdiff1d(np.arange(245), cat_columns)\n",
    "\n",
    "numeric_transformer = Pipeline(\n",
    "    memory=cache_dir,\n",
    "    steps=[('imputer',  SimpleImputer(strategy='median')),\n",
    "           ('scaler', StandardScaler())]\n",
    ")\n",
    "\n",
    "categorical_transformer = Pipeline(\n",
    "    memory=cache_dir,\n",
    "    steps=[('imputer',  SimpleImputer(strategy='most_frequent')),\n",
    "           ('encoder', OneHotEncoder(handle_unknown='ignore',\n",
    "                                     sparse_output=False))]\n",
    ")\n",
    "\n",
    "preprocessor = ColumnTransformer(\n",
    "    transformers=[\n",
    "        ('numerical', numeric_transformer, num_columns),\n",
    "        ('categorical', categorical_transformer, cat_columns)\n",
    "    ]\n",
    ")"
   ]
  },
  {
   "cell_type": "code",
   "execution_count": 23,
   "id": "RuMpU1aTtV3a",
   "metadata": {
    "colab": {
     "base_uri": "https://localhost:8080/"
    },
    "id": "RuMpU1aTtV3a",
    "outputId": "1957684a-f4d1-4c44-87ec-a6b4d57854b0"
   },
   "outputs": [
    {
     "data": {
      "text/plain": [
       "(22, 223)"
      ]
     },
     "execution_count": 23,
     "metadata": {},
     "output_type": "execute_result"
    }
   ],
   "source": [
    "len(cat_columns), len(num_columns)"
   ]
  },
  {
   "cell_type": "code",
   "execution_count": 24,
   "id": "0QIQTI4fpA8m",
   "metadata": {
    "id": "0QIQTI4fpA8m"
   },
   "outputs": [],
   "source": [
    "X_train, X_test, y_train, y_test = train_test_split(X, y, test_size=0.2, random_state=my_seed)"
   ]
  },
  {
   "cell_type": "code",
   "execution_count": 25,
   "id": "5yAC6OX5y2oG",
   "metadata": {
    "colab": {
     "base_uri": "https://localhost:8080/"
    },
    "id": "5yAC6OX5y2oG",
    "outputId": "695a054d-427a-440e-8607-78fb0fa7f020"
   },
   "outputs": [
    {
     "data": {
      "text/plain": [
       "((21553, 245), (21553, 1))"
      ]
     },
     "execution_count": 25,
     "metadata": {},
     "output_type": "execute_result"
    }
   ],
   "source": [
    "# Исключение выбросов:\n",
    "X_train = X_train[X_train.game_time < 5000]\n",
    "y_train = y_train[y_train.index.isin(X_train.index)]\n",
    "\n",
    "X_train.shape, y_train.shape"
   ]
  },
  {
   "cell_type": "code",
   "execution_count": 26,
   "id": "kVV31F0hpDnh",
   "metadata": {
    "id": "kVV31F0hpDnh"
   },
   "outputs": [],
   "source": [
    "y_train = np.array(y_train).ravel()\n",
    "y_test = np.array(y_test).ravel()\n",
    "\n",
    "y_cv = np.array(y).ravel()"
   ]
  },
  {
   "cell_type": "markdown",
   "id": "anfJST_Rac0b",
   "metadata": {
    "id": "anfJST_Rac0b"
   },
   "source": [
    "### Эксперимент 1\n",
    "Использование SVM"
   ]
  },
  {
   "cell_type": "code",
   "execution_count": 27,
   "id": "cd3lY--SQVzw",
   "metadata": {
    "id": "cd3lY--SQVzw"
   },
   "outputs": [],
   "source": [
    "from sklearn.metrics import roc_auc_score\n",
    "from sklearn.model_selection import cross_val_score"
   ]
  },
  {
   "cell_type": "code",
   "execution_count": 24,
   "id": "Y88uVC5d6Tkl",
   "metadata": {
    "id": "Y88uVC5d6Tkl"
   },
   "outputs": [],
   "source": [
    "from sklearn.svm import SVC"
   ]
  },
  {
   "cell_type": "code",
   "execution_count": 25,
   "id": "qCrlqg_1JKLK",
   "metadata": {
    "colab": {
     "base_uri": "https://localhost:8080/"
    },
    "id": "qCrlqg_1JKLK",
    "outputId": "d3c2b10c-06e6-4151-c17b-a6fc47966151"
   },
   "outputs": [
    {
     "name": "stdout",
     "output_type": "stream",
     "text": [
      "ROC-AUC: 0.7161372721068539\n",
      "CPU times: total: 6min 50s\n",
      "Wall time: 6min 51s\n"
     ]
    }
   ],
   "source": [
    "%%time\n",
    "\n",
    "svm_c = Pipeline(\n",
    "    memory=cache_dir,\n",
    "    steps=[(\"preprocessor\", preprocessor),\n",
    "           (\"classifier\", SVC(random_state=my_seed))]\n",
    ")\n",
    "svm_c.fit(X_train,y_train)\n",
    "print(f'ROC-AUC: {roc_auc_score(y_test, svm_c.predict(X_test))}')"
   ]
  },
  {
   "cell_type": "markdown",
   "id": "18e429f0",
   "metadata": {
    "id": "18e429f0"
   },
   "source": [
    "### Эксперимент 2\n",
    "Использование AdaBoost"
   ]
  },
  {
   "cell_type": "code",
   "execution_count": 26,
   "id": "-H7qLx7Vmm8R",
   "metadata": {
    "id": "-H7qLx7Vmm8R"
   },
   "outputs": [],
   "source": [
    "from sklearn.ensemble import AdaBoostClassifier"
   ]
  },
  {
   "cell_type": "code",
   "execution_count": 27,
   "id": "Kf3x8Eg5-EoJ",
   "metadata": {
    "id": "Kf3x8Eg5-EoJ"
   },
   "outputs": [],
   "source": [
    "from sklearn.feature_selection import SelectKBest"
   ]
  },
  {
   "cell_type": "code",
   "execution_count": 28,
   "id": "yUE_9wKxFPVa",
   "metadata": {
    "colab": {
     "base_uri": "https://localhost:8080/"
    },
    "id": "yUE_9wKxFPVa",
    "outputId": "f14dff59-9296-4040-c2a9-1dfd6dbe9afa"
   },
   "outputs": [
    {
     "name": "stdout",
     "output_type": "stream",
     "text": [
      "roc_auc_score: 0.6758831367196386\n",
      "CPU times: total: 35.8 s\n",
      "Wall time: 35.9 s\n"
     ]
    }
   ],
   "source": [
    "%%time\n",
    "\n",
    "ada_boost = Pipeline(\n",
    "    memory=cache_dir,\n",
    "    steps=[('preprocessor', preprocessor),\n",
    "           ('classifier', AdaBoostClassifier(algorithm='SAMME',\n",
    "                                             random_state=my_seed))]\n",
    ")\n",
    "\n",
    "ada_boost.fit(X_train, y_train)\n",
    "\n",
    "print('roc_auc_score:', roc_auc_score(y_test, ada_boost.predict(X_test)))"
   ]
  },
  {
   "cell_type": "markdown",
   "id": "rCaUmF2DZx_M",
   "metadata": {
    "id": "rCaUmF2DZx_M"
   },
   "source": [
    "Подбор гиперпараметров требует больших затрат времени и вычислительных ресурсов. По этой причине было принято решение сократить количество признаков"
   ]
  },
  {
   "cell_type": "code",
   "execution_count": 29,
   "id": "0rEHiLePm_XA",
   "metadata": {
    "colab": {
     "base_uri": "https://localhost:8080/",
     "height": 598
    },
    "id": "0rEHiLePm_XA",
    "outputId": "271eaad8-576d-4f33-992e-f9d3ae701b81"
   },
   "outputs": [
    {
     "name": "stdout",
     "output_type": "stream",
     "text": [
      "CPU times: total: 11min 45s\n",
      "Wall time: 11min 48s\n"
     ]
    },
    {
     "data": {
      "text/html": [
       "<style>#sk-container-id-1 {color: black;background-color: white;}#sk-container-id-1 pre{padding: 0;}#sk-container-id-1 div.sk-toggleable {background-color: white;}#sk-container-id-1 label.sk-toggleable__label {cursor: pointer;display: block;width: 100%;margin-bottom: 0;padding: 0.3em;box-sizing: border-box;text-align: center;}#sk-container-id-1 label.sk-toggleable__label-arrow:before {content: \"▸\";float: left;margin-right: 0.25em;color: #696969;}#sk-container-id-1 label.sk-toggleable__label-arrow:hover:before {color: black;}#sk-container-id-1 div.sk-estimator:hover label.sk-toggleable__label-arrow:before {color: black;}#sk-container-id-1 div.sk-toggleable__content {max-height: 0;max-width: 0;overflow: hidden;text-align: left;background-color: #f0f8ff;}#sk-container-id-1 div.sk-toggleable__content pre {margin: 0.2em;color: black;border-radius: 0.25em;background-color: #f0f8ff;}#sk-container-id-1 input.sk-toggleable__control:checked~div.sk-toggleable__content {max-height: 200px;max-width: 100%;overflow: auto;}#sk-container-id-1 input.sk-toggleable__control:checked~label.sk-toggleable__label-arrow:before {content: \"▾\";}#sk-container-id-1 div.sk-estimator input.sk-toggleable__control:checked~label.sk-toggleable__label {background-color: #d4ebff;}#sk-container-id-1 div.sk-label input.sk-toggleable__control:checked~label.sk-toggleable__label {background-color: #d4ebff;}#sk-container-id-1 input.sk-hidden--visually {border: 0;clip: rect(1px 1px 1px 1px);clip: rect(1px, 1px, 1px, 1px);height: 1px;margin: -1px;overflow: hidden;padding: 0;position: absolute;width: 1px;}#sk-container-id-1 div.sk-estimator {font-family: monospace;background-color: #f0f8ff;border: 1px dotted black;border-radius: 0.25em;box-sizing: border-box;margin-bottom: 0.5em;}#sk-container-id-1 div.sk-estimator:hover {background-color: #d4ebff;}#sk-container-id-1 div.sk-parallel-item::after {content: \"\";width: 100%;border-bottom: 1px solid gray;flex-grow: 1;}#sk-container-id-1 div.sk-label:hover label.sk-toggleable__label {background-color: #d4ebff;}#sk-container-id-1 div.sk-serial::before {content: \"\";position: absolute;border-left: 1px solid gray;box-sizing: border-box;top: 0;bottom: 0;left: 50%;z-index: 0;}#sk-container-id-1 div.sk-serial {display: flex;flex-direction: column;align-items: center;background-color: white;padding-right: 0.2em;padding-left: 0.2em;position: relative;}#sk-container-id-1 div.sk-item {position: relative;z-index: 1;}#sk-container-id-1 div.sk-parallel {display: flex;align-items: stretch;justify-content: center;background-color: white;position: relative;}#sk-container-id-1 div.sk-item::before, #sk-container-id-1 div.sk-parallel-item::before {content: \"\";position: absolute;border-left: 1px solid gray;box-sizing: border-box;top: 0;bottom: 0;left: 50%;z-index: -1;}#sk-container-id-1 div.sk-parallel-item {display: flex;flex-direction: column;z-index: 1;position: relative;background-color: white;}#sk-container-id-1 div.sk-parallel-item:first-child::after {align-self: flex-end;width: 50%;}#sk-container-id-1 div.sk-parallel-item:last-child::after {align-self: flex-start;width: 50%;}#sk-container-id-1 div.sk-parallel-item:only-child::after {width: 0;}#sk-container-id-1 div.sk-dashed-wrapped {border: 1px dashed gray;margin: 0 0.4em 0.5em 0.4em;box-sizing: border-box;padding-bottom: 0.4em;background-color: white;}#sk-container-id-1 div.sk-label label {font-family: monospace;font-weight: bold;display: inline-block;line-height: 1.2em;}#sk-container-id-1 div.sk-label-container {text-align: center;}#sk-container-id-1 div.sk-container {/* jupyter's `normalize.less` sets `[hidden] { display: none; }` but bootstrap.min.css set `[hidden] { display: none !important; }` so we also need the `!important` here to be able to override the default hidden behavior on the sphinx rendered scikit-learn.org. See: https://github.com/scikit-learn/scikit-learn/issues/21755 */display: inline-block !important;position: relative;}#sk-container-id-1 div.sk-text-repr-fallback {display: none;}</style><div id=\"sk-container-id-1\" class=\"sk-top-container\"><div class=\"sk-text-repr-fallback\"><pre>GridSearchCV(cv=5,\n",
       "             estimator=Pipeline(memory=&#x27;D:\\\\lab_temp&#x27;,\n",
       "                                steps=[(&#x27;preprocessor&#x27;,\n",
       "                                        ColumnTransformer(transformers=[(&#x27;numerical&#x27;,\n",
       "                                                                         Pipeline(memory=&#x27;D:\\\\lab_temp&#x27;,\n",
       "                                                                                  steps=[(&#x27;imputer&#x27;,\n",
       "                                                                                          SimpleImputer(strategy=&#x27;median&#x27;)),\n",
       "                                                                                         (&#x27;scaler&#x27;,\n",
       "                                                                                          StandardScaler())]),\n",
       "                                                                         array([  0,   3,   4,   6,   7,   8,   9,  10,  11,  12,  13,  14,  15,\n",
       "        16,  17,  18,  19,  20,  21,  22,  24,  25,  26,  27,  28,  30,\n",
       "        31,  32,  33,  34,  35,  36,  37,  38,  39,  40,  41...\n",
       "                                                                                          OneHotEncoder(handle_unknown=&#x27;ignore&#x27;,\n",
       "                                                                                                        sparse_output=False))]),\n",
       "                                                                         array([  1,   2,   5,  29,  53,  77, 101, 125, 149, 173, 197, 221,  23,\n",
       "        47,  71,  95, 119, 143, 167, 191, 215, 239]))])),\n",
       "                                       (&#x27;feature_selection&#x27;,\n",
       "                                        SelectKBest(k=100)),\n",
       "                                       (&#x27;classifier&#x27;,\n",
       "                                        AdaBoostClassifier(algorithm=&#x27;SAMME&#x27;,\n",
       "                                                           random_state=12345))]),\n",
       "             param_grid={&#x27;classifier__learning_rate&#x27;: [0.05, 0.1, 1.0],\n",
       "                         &#x27;classifier__n_estimators&#x27;: [200, 500]},\n",
       "             scoring=&#x27;roc_auc&#x27;)</pre><b>In a Jupyter environment, please rerun this cell to show the HTML representation or trust the notebook. <br />On GitHub, the HTML representation is unable to render, please try loading this page with nbviewer.org.</b></div><div class=\"sk-container\" hidden><div class=\"sk-item sk-dashed-wrapped\"><div class=\"sk-label-container\"><div class=\"sk-label sk-toggleable\"><input class=\"sk-toggleable__control sk-hidden--visually\" id=\"sk-estimator-id-1\" type=\"checkbox\" ><label for=\"sk-estimator-id-1\" class=\"sk-toggleable__label sk-toggleable__label-arrow\">GridSearchCV</label><div class=\"sk-toggleable__content\"><pre>GridSearchCV(cv=5,\n",
       "             estimator=Pipeline(memory=&#x27;D:\\\\lab_temp&#x27;,\n",
       "                                steps=[(&#x27;preprocessor&#x27;,\n",
       "                                        ColumnTransformer(transformers=[(&#x27;numerical&#x27;,\n",
       "                                                                         Pipeline(memory=&#x27;D:\\\\lab_temp&#x27;,\n",
       "                                                                                  steps=[(&#x27;imputer&#x27;,\n",
       "                                                                                          SimpleImputer(strategy=&#x27;median&#x27;)),\n",
       "                                                                                         (&#x27;scaler&#x27;,\n",
       "                                                                                          StandardScaler())]),\n",
       "                                                                         array([  0,   3,   4,   6,   7,   8,   9,  10,  11,  12,  13,  14,  15,\n",
       "        16,  17,  18,  19,  20,  21,  22,  24,  25,  26,  27,  28,  30,\n",
       "        31,  32,  33,  34,  35,  36,  37,  38,  39,  40,  41...\n",
       "                                                                                          OneHotEncoder(handle_unknown=&#x27;ignore&#x27;,\n",
       "                                                                                                        sparse_output=False))]),\n",
       "                                                                         array([  1,   2,   5,  29,  53,  77, 101, 125, 149, 173, 197, 221,  23,\n",
       "        47,  71,  95, 119, 143, 167, 191, 215, 239]))])),\n",
       "                                       (&#x27;feature_selection&#x27;,\n",
       "                                        SelectKBest(k=100)),\n",
       "                                       (&#x27;classifier&#x27;,\n",
       "                                        AdaBoostClassifier(algorithm=&#x27;SAMME&#x27;,\n",
       "                                                           random_state=12345))]),\n",
       "             param_grid={&#x27;classifier__learning_rate&#x27;: [0.05, 0.1, 1.0],\n",
       "                         &#x27;classifier__n_estimators&#x27;: [200, 500]},\n",
       "             scoring=&#x27;roc_auc&#x27;)</pre></div></div></div><div class=\"sk-parallel\"><div class=\"sk-parallel-item\"><div class=\"sk-item\"><div class=\"sk-label-container\"><div class=\"sk-label sk-toggleable\"><input class=\"sk-toggleable__control sk-hidden--visually\" id=\"sk-estimator-id-2\" type=\"checkbox\" ><label for=\"sk-estimator-id-2\" class=\"sk-toggleable__label sk-toggleable__label-arrow\">estimator: Pipeline</label><div class=\"sk-toggleable__content\"><pre>Pipeline(memory=&#x27;D:\\\\lab_temp&#x27;,\n",
       "         steps=[(&#x27;preprocessor&#x27;,\n",
       "                 ColumnTransformer(transformers=[(&#x27;numerical&#x27;,\n",
       "                                                  Pipeline(memory=&#x27;D:\\\\lab_temp&#x27;,\n",
       "                                                           steps=[(&#x27;imputer&#x27;,\n",
       "                                                                   SimpleImputer(strategy=&#x27;median&#x27;)),\n",
       "                                                                  (&#x27;scaler&#x27;,\n",
       "                                                                   StandardScaler())]),\n",
       "                                                  array([  0,   3,   4,   6,   7,   8,   9,  10,  11,  12,  13,  14,  15,\n",
       "        16,  17,  18,  19,  20,  21,  22,  24,  25,  26,  27,  28,  30,\n",
       "        31,  32,  33,  34,  35,  36,  37,  38,  39,  40,  41,  42,  43,\n",
       "        44,  45,  46,  48,  49,  50,  51,...\n",
       "                                                  Pipeline(memory=&#x27;D:\\\\lab_temp&#x27;,\n",
       "                                                           steps=[(&#x27;imputer&#x27;,\n",
       "                                                                   SimpleImputer(strategy=&#x27;most_frequent&#x27;)),\n",
       "                                                                  (&#x27;encoder&#x27;,\n",
       "                                                                   OneHotEncoder(handle_unknown=&#x27;ignore&#x27;,\n",
       "                                                                                 sparse_output=False))]),\n",
       "                                                  array([  1,   2,   5,  29,  53,  77, 101, 125, 149, 173, 197, 221,  23,\n",
       "        47,  71,  95, 119, 143, 167, 191, 215, 239]))])),\n",
       "                (&#x27;feature_selection&#x27;, SelectKBest(k=100)),\n",
       "                (&#x27;classifier&#x27;,\n",
       "                 AdaBoostClassifier(algorithm=&#x27;SAMME&#x27;, random_state=12345))])</pre></div></div></div><div class=\"sk-serial\"><div class=\"sk-item\"><div class=\"sk-serial\"><div class=\"sk-item sk-dashed-wrapped\"><div class=\"sk-label-container\"><div class=\"sk-label sk-toggleable\"><input class=\"sk-toggleable__control sk-hidden--visually\" id=\"sk-estimator-id-3\" type=\"checkbox\" ><label for=\"sk-estimator-id-3\" class=\"sk-toggleable__label sk-toggleable__label-arrow\">preprocessor: ColumnTransformer</label><div class=\"sk-toggleable__content\"><pre>ColumnTransformer(transformers=[(&#x27;numerical&#x27;,\n",
       "                                 Pipeline(memory=&#x27;D:\\\\lab_temp&#x27;,\n",
       "                                          steps=[(&#x27;imputer&#x27;,\n",
       "                                                  SimpleImputer(strategy=&#x27;median&#x27;)),\n",
       "                                                 (&#x27;scaler&#x27;, StandardScaler())]),\n",
       "                                 array([  0,   3,   4,   6,   7,   8,   9,  10,  11,  12,  13,  14,  15,\n",
       "        16,  17,  18,  19,  20,  21,  22,  24,  25,  26,  27,  28,  30,\n",
       "        31,  32,  33,  34,  35,  36,  37,  38,  39,  40,  41,  42,  43,\n",
       "        44,  45,  46,  48,  49,  50,  51,  52,  54,  55,  56,  57,  58,\n",
       "        59,  60,  61,  62,  63,  64,  65,  66,  67,  68,  69,  70,...\n",
       "       214, 216, 217, 218, 219, 220, 222, 223, 224, 225, 226, 227, 228,\n",
       "       229, 230, 231, 232, 233, 234, 235, 236, 237, 238, 240, 241, 242,\n",
       "       243, 244])),\n",
       "                                (&#x27;categorical&#x27;,\n",
       "                                 Pipeline(memory=&#x27;D:\\\\lab_temp&#x27;,\n",
       "                                          steps=[(&#x27;imputer&#x27;,\n",
       "                                                  SimpleImputer(strategy=&#x27;most_frequent&#x27;)),\n",
       "                                                 (&#x27;encoder&#x27;,\n",
       "                                                  OneHotEncoder(handle_unknown=&#x27;ignore&#x27;,\n",
       "                                                                sparse_output=False))]),\n",
       "                                 array([  1,   2,   5,  29,  53,  77, 101, 125, 149, 173, 197, 221,  23,\n",
       "        47,  71,  95, 119, 143, 167, 191, 215, 239]))])</pre></div></div></div><div class=\"sk-parallel\"><div class=\"sk-parallel-item\"><div class=\"sk-item\"><div class=\"sk-label-container\"><div class=\"sk-label sk-toggleable\"><input class=\"sk-toggleable__control sk-hidden--visually\" id=\"sk-estimator-id-4\" type=\"checkbox\" ><label for=\"sk-estimator-id-4\" class=\"sk-toggleable__label sk-toggleable__label-arrow\">numerical</label><div class=\"sk-toggleable__content\"><pre>[  0   3   4   6   7   8   9  10  11  12  13  14  15  16  17  18  19  20\n",
       "  21  22  24  25  26  27  28  30  31  32  33  34  35  36  37  38  39  40\n",
       "  41  42  43  44  45  46  48  49  50  51  52  54  55  56  57  58  59  60\n",
       "  61  62  63  64  65  66  67  68  69  70  72  73  74  75  76  78  79  80\n",
       "  81  82  83  84  85  86  87  88  89  90  91  92  93  94  96  97  98  99\n",
       " 100 102 103 104 105 106 107 108 109 110 111 112 113 114 115 116 117 118\n",
       " 120 121 122 123 124 126 127 128 129 130 131 132 133 134 135 136 137 138\n",
       " 139 140 141 142 144 145 146 147 148 150 151 152 153 154 155 156 157 158\n",
       " 159 160 161 162 163 164 165 166 168 169 170 171 172 174 175 176 177 178\n",
       " 179 180 181 182 183 184 185 186 187 188 189 190 192 193 194 195 196 198\n",
       " 199 200 201 202 203 204 205 206 207 208 209 210 211 212 213 214 216 217\n",
       " 218 219 220 222 223 224 225 226 227 228 229 230 231 232 233 234 235 236\n",
       " 237 238 240 241 242 243 244]</pre></div></div></div><div class=\"sk-serial\"><div class=\"sk-item\"><div class=\"sk-serial\"><div class=\"sk-item\"><div class=\"sk-estimator sk-toggleable\"><input class=\"sk-toggleable__control sk-hidden--visually\" id=\"sk-estimator-id-5\" type=\"checkbox\" ><label for=\"sk-estimator-id-5\" class=\"sk-toggleable__label sk-toggleable__label-arrow\">SimpleImputer</label><div class=\"sk-toggleable__content\"><pre>SimpleImputer(strategy=&#x27;median&#x27;)</pre></div></div></div><div class=\"sk-item\"><div class=\"sk-estimator sk-toggleable\"><input class=\"sk-toggleable__control sk-hidden--visually\" id=\"sk-estimator-id-6\" type=\"checkbox\" ><label for=\"sk-estimator-id-6\" class=\"sk-toggleable__label sk-toggleable__label-arrow\">StandardScaler</label><div class=\"sk-toggleable__content\"><pre>StandardScaler()</pre></div></div></div></div></div></div></div></div><div class=\"sk-parallel-item\"><div class=\"sk-item\"><div class=\"sk-label-container\"><div class=\"sk-label sk-toggleable\"><input class=\"sk-toggleable__control sk-hidden--visually\" id=\"sk-estimator-id-7\" type=\"checkbox\" ><label for=\"sk-estimator-id-7\" class=\"sk-toggleable__label sk-toggleable__label-arrow\">categorical</label><div class=\"sk-toggleable__content\"><pre>[  1   2   5  29  53  77 101 125 149 173 197 221  23  47  71  95 119 143\n",
       " 167 191 215 239]</pre></div></div></div><div class=\"sk-serial\"><div class=\"sk-item\"><div class=\"sk-serial\"><div class=\"sk-item\"><div class=\"sk-estimator sk-toggleable\"><input class=\"sk-toggleable__control sk-hidden--visually\" id=\"sk-estimator-id-8\" type=\"checkbox\" ><label for=\"sk-estimator-id-8\" class=\"sk-toggleable__label sk-toggleable__label-arrow\">SimpleImputer</label><div class=\"sk-toggleable__content\"><pre>SimpleImputer(strategy=&#x27;most_frequent&#x27;)</pre></div></div></div><div class=\"sk-item\"><div class=\"sk-estimator sk-toggleable\"><input class=\"sk-toggleable__control sk-hidden--visually\" id=\"sk-estimator-id-9\" type=\"checkbox\" ><label for=\"sk-estimator-id-9\" class=\"sk-toggleable__label sk-toggleable__label-arrow\">OneHotEncoder</label><div class=\"sk-toggleable__content\"><pre>OneHotEncoder(handle_unknown=&#x27;ignore&#x27;, sparse_output=False)</pre></div></div></div></div></div></div></div></div></div></div><div class=\"sk-item\"><div class=\"sk-estimator sk-toggleable\"><input class=\"sk-toggleable__control sk-hidden--visually\" id=\"sk-estimator-id-10\" type=\"checkbox\" ><label for=\"sk-estimator-id-10\" class=\"sk-toggleable__label sk-toggleable__label-arrow\">SelectKBest</label><div class=\"sk-toggleable__content\"><pre>SelectKBest(k=100)</pre></div></div></div><div class=\"sk-item\"><div class=\"sk-estimator sk-toggleable\"><input class=\"sk-toggleable__control sk-hidden--visually\" id=\"sk-estimator-id-11\" type=\"checkbox\" ><label for=\"sk-estimator-id-11\" class=\"sk-toggleable__label sk-toggleable__label-arrow\">AdaBoostClassifier</label><div class=\"sk-toggleable__content\"><pre>AdaBoostClassifier(algorithm=&#x27;SAMME&#x27;, random_state=12345)</pre></div></div></div></div></div></div></div></div></div></div></div></div>"
      ],
      "text/plain": [
       "GridSearchCV(cv=5,\n",
       "             estimator=Pipeline(memory='D:\\\\lab_temp',\n",
       "                                steps=[('preprocessor',\n",
       "                                        ColumnTransformer(transformers=[('numerical',\n",
       "                                                                         Pipeline(memory='D:\\\\lab_temp',\n",
       "                                                                                  steps=[('imputer',\n",
       "                                                                                          SimpleImputer(strategy='median')),\n",
       "                                                                                         ('scaler',\n",
       "                                                                                          StandardScaler())]),\n",
       "                                                                         array([  0,   3,   4,   6,   7,   8,   9,  10,  11,  12,  13,  14,  15,\n",
       "        16,  17,  18,  19,  20,  21,  22,  24,  25,  26,  27,  28,  30,\n",
       "        31,  32,  33,  34,  35,  36,  37,  38,  39,  40,  41...\n",
       "                                                                                          OneHotEncoder(handle_unknown='ignore',\n",
       "                                                                                                        sparse_output=False))]),\n",
       "                                                                         array([  1,   2,   5,  29,  53,  77, 101, 125, 149, 173, 197, 221,  23,\n",
       "        47,  71,  95, 119, 143, 167, 191, 215, 239]))])),\n",
       "                                       ('feature_selection',\n",
       "                                        SelectKBest(k=100)),\n",
       "                                       ('classifier',\n",
       "                                        AdaBoostClassifier(algorithm='SAMME',\n",
       "                                                           random_state=12345))]),\n",
       "             param_grid={'classifier__learning_rate': [0.05, 0.1, 1.0],\n",
       "                         'classifier__n_estimators': [200, 500]},\n",
       "             scoring='roc_auc')"
      ]
     },
     "execution_count": 29,
     "metadata": {},
     "output_type": "execute_result"
    }
   ],
   "source": [
    "%%time\n",
    "\n",
    "ada_boost_skb = Pipeline(\n",
    "    memory=cache_dir,\n",
    "    steps=[('preprocessor', preprocessor),\n",
    "           (\"feature_selection\", SelectKBest(k=100)),\n",
    "           ('classifier', AdaBoostClassifier(algorithm='SAMME',\n",
    "                                             random_state=my_seed))]\n",
    ")\n",
    "\n",
    "param_grid = {\n",
    "    'classifier__n_estimators': [200, 500],\n",
    "    'classifier__learning_rate': [0.05, 0.1, 1.0]\n",
    "}\n",
    "\n",
    "ada_boost_gs = GridSearchCV(ada_boost_skb, param_grid, cv=5, scoring='roc_auc')\n",
    "\n",
    "ada_boost_gs.fit(X_train, y_train)"
   ]
  },
  {
   "cell_type": "code",
   "execution_count": 30,
   "id": "qwcKQfrHCUxt",
   "metadata": {
    "colab": {
     "base_uri": "https://localhost:8080/"
    },
    "id": "qwcKQfrHCUxt",
    "outputId": "5e05f094-2d1f-4b7f-86ea-ff7914a1a7bd"
   },
   "outputs": [
    {
     "name": "stdout",
     "output_type": "stream",
     "text": [
      "AdaBoost best score: 0.778115039606935\n",
      "AdaBoost best parameters:\n",
      "{'classifier__learning_rate': 1.0, 'classifier__n_estimators': 500}\n"
     ]
    }
   ],
   "source": [
    "print('AdaBoost best score:', ada_boost_gs.best_score_)\n",
    "print('AdaBoost best parameters:')\n",
    "print(ada_boost_gs.best_params_)"
   ]
  },
  {
   "cell_type": "code",
   "execution_count": 195,
   "id": "Pfi3qpinxmff",
   "metadata": {
    "colab": {
     "base_uri": "https://localhost:8080/",
     "height": 296
    },
    "id": "Pfi3qpinxmff",
    "outputId": "a65bfb64-1ff8-4d59-8006-7aa6bb2e3a67"
   },
   "outputs": [
    {
     "name": "stdout",
     "output_type": "stream",
     "text": [
      "CPU times: total: 4min 40s\n",
      "Wall time: 4min 40s\n"
     ]
    },
    {
     "data": {
      "text/html": [
       "<style>#sk-container-id-61 {color: black;background-color: white;}#sk-container-id-61 pre{padding: 0;}#sk-container-id-61 div.sk-toggleable {background-color: white;}#sk-container-id-61 label.sk-toggleable__label {cursor: pointer;display: block;width: 100%;margin-bottom: 0;padding: 0.3em;box-sizing: border-box;text-align: center;}#sk-container-id-61 label.sk-toggleable__label-arrow:before {content: \"▸\";float: left;margin-right: 0.25em;color: #696969;}#sk-container-id-61 label.sk-toggleable__label-arrow:hover:before {color: black;}#sk-container-id-61 div.sk-estimator:hover label.sk-toggleable__label-arrow:before {color: black;}#sk-container-id-61 div.sk-toggleable__content {max-height: 0;max-width: 0;overflow: hidden;text-align: left;background-color: #f0f8ff;}#sk-container-id-61 div.sk-toggleable__content pre {margin: 0.2em;color: black;border-radius: 0.25em;background-color: #f0f8ff;}#sk-container-id-61 input.sk-toggleable__control:checked~div.sk-toggleable__content {max-height: 200px;max-width: 100%;overflow: auto;}#sk-container-id-61 input.sk-toggleable__control:checked~label.sk-toggleable__label-arrow:before {content: \"▾\";}#sk-container-id-61 div.sk-estimator input.sk-toggleable__control:checked~label.sk-toggleable__label {background-color: #d4ebff;}#sk-container-id-61 div.sk-label input.sk-toggleable__control:checked~label.sk-toggleable__label {background-color: #d4ebff;}#sk-container-id-61 input.sk-hidden--visually {border: 0;clip: rect(1px 1px 1px 1px);clip: rect(1px, 1px, 1px, 1px);height: 1px;margin: -1px;overflow: hidden;padding: 0;position: absolute;width: 1px;}#sk-container-id-61 div.sk-estimator {font-family: monospace;background-color: #f0f8ff;border: 1px dotted black;border-radius: 0.25em;box-sizing: border-box;margin-bottom: 0.5em;}#sk-container-id-61 div.sk-estimator:hover {background-color: #d4ebff;}#sk-container-id-61 div.sk-parallel-item::after {content: \"\";width: 100%;border-bottom: 1px solid gray;flex-grow: 1;}#sk-container-id-61 div.sk-label:hover label.sk-toggleable__label {background-color: #d4ebff;}#sk-container-id-61 div.sk-serial::before {content: \"\";position: absolute;border-left: 1px solid gray;box-sizing: border-box;top: 0;bottom: 0;left: 50%;z-index: 0;}#sk-container-id-61 div.sk-serial {display: flex;flex-direction: column;align-items: center;background-color: white;padding-right: 0.2em;padding-left: 0.2em;position: relative;}#sk-container-id-61 div.sk-item {position: relative;z-index: 1;}#sk-container-id-61 div.sk-parallel {display: flex;align-items: stretch;justify-content: center;background-color: white;position: relative;}#sk-container-id-61 div.sk-item::before, #sk-container-id-61 div.sk-parallel-item::before {content: \"\";position: absolute;border-left: 1px solid gray;box-sizing: border-box;top: 0;bottom: 0;left: 50%;z-index: -1;}#sk-container-id-61 div.sk-parallel-item {display: flex;flex-direction: column;z-index: 1;position: relative;background-color: white;}#sk-container-id-61 div.sk-parallel-item:first-child::after {align-self: flex-end;width: 50%;}#sk-container-id-61 div.sk-parallel-item:last-child::after {align-self: flex-start;width: 50%;}#sk-container-id-61 div.sk-parallel-item:only-child::after {width: 0;}#sk-container-id-61 div.sk-dashed-wrapped {border: 1px dashed gray;margin: 0 0.4em 0.5em 0.4em;box-sizing: border-box;padding-bottom: 0.4em;background-color: white;}#sk-container-id-61 div.sk-label label {font-family: monospace;font-weight: bold;display: inline-block;line-height: 1.2em;}#sk-container-id-61 div.sk-label-container {text-align: center;}#sk-container-id-61 div.sk-container {/* jupyter's `normalize.less` sets `[hidden] { display: none; }` but bootstrap.min.css set `[hidden] { display: none !important; }` so we also need the `!important` here to be able to override the default hidden behavior on the sphinx rendered scikit-learn.org. See: https://github.com/scikit-learn/scikit-learn/issues/21755 */display: inline-block !important;position: relative;}#sk-container-id-61 div.sk-text-repr-fallback {display: none;}</style><div id=\"sk-container-id-61\" class=\"sk-top-container\"><div class=\"sk-text-repr-fallback\"><pre>Pipeline(memory=&#x27;D:\\\\lab_temp&#x27;,\n",
       "         steps=[(&#x27;preprocessor&#x27;,\n",
       "                 ColumnTransformer(transformers=[(&#x27;numerical&#x27;,\n",
       "                                                  Pipeline(memory=&#x27;D:\\\\lab_temp&#x27;,\n",
       "                                                           steps=[(&#x27;imputer&#x27;,\n",
       "                                                                   SimpleImputer(strategy=&#x27;median&#x27;)),\n",
       "                                                                  (&#x27;scaler&#x27;,\n",
       "                                                                   StandardScaler())]),\n",
       "                                                  array([  0,   3,   4,   6,   7,   8,   9,  10,  11,  12,  13,  14,  15,\n",
       "        16,  17,  18,  19,  20,  21,  22,  24,  25,  26,  27,  28,  30,\n",
       "        31,  32,  33,  34,  35,  36,  37,  38,  39,  40,  41,  42,  43,\n",
       "        44,  45,  46,  48,  49,  50,  51,...\n",
       "                                                 (&#x27;categorical&#x27;,\n",
       "                                                  Pipeline(memory=&#x27;D:\\\\lab_temp&#x27;,\n",
       "                                                           steps=[(&#x27;imputer&#x27;,\n",
       "                                                                   SimpleImputer(strategy=&#x27;most_frequent&#x27;)),\n",
       "                                                                  (&#x27;encoder&#x27;,\n",
       "                                                                   OneHotEncoder(handle_unknown=&#x27;ignore&#x27;,\n",
       "                                                                                 sparse_output=False))]),\n",
       "                                                  array([  1,   2,   5,  29,  53,  77, 101, 125, 149, 173, 197, 221,  23,\n",
       "        47,  71,  95, 119, 143, 167, 191, 215, 239]))])),\n",
       "                (&#x27;classifier&#x27;,\n",
       "                 AdaBoostClassifier(algorithm=&#x27;SAMME&#x27;, n_estimators=500,\n",
       "                                    random_state=12345))])</pre><b>In a Jupyter environment, please rerun this cell to show the HTML representation or trust the notebook. <br />On GitHub, the HTML representation is unable to render, please try loading this page with nbviewer.org.</b></div><div class=\"sk-container\" hidden><div class=\"sk-item sk-dashed-wrapped\"><div class=\"sk-label-container\"><div class=\"sk-label sk-toggleable\"><input class=\"sk-toggleable__control sk-hidden--visually\" id=\"sk-estimator-id-564\" type=\"checkbox\" ><label for=\"sk-estimator-id-564\" class=\"sk-toggleable__label sk-toggleable__label-arrow\">Pipeline</label><div class=\"sk-toggleable__content\"><pre>Pipeline(memory=&#x27;D:\\\\lab_temp&#x27;,\n",
       "         steps=[(&#x27;preprocessor&#x27;,\n",
       "                 ColumnTransformer(transformers=[(&#x27;numerical&#x27;,\n",
       "                                                  Pipeline(memory=&#x27;D:\\\\lab_temp&#x27;,\n",
       "                                                           steps=[(&#x27;imputer&#x27;,\n",
       "                                                                   SimpleImputer(strategy=&#x27;median&#x27;)),\n",
       "                                                                  (&#x27;scaler&#x27;,\n",
       "                                                                   StandardScaler())]),\n",
       "                                                  array([  0,   3,   4,   6,   7,   8,   9,  10,  11,  12,  13,  14,  15,\n",
       "        16,  17,  18,  19,  20,  21,  22,  24,  25,  26,  27,  28,  30,\n",
       "        31,  32,  33,  34,  35,  36,  37,  38,  39,  40,  41,  42,  43,\n",
       "        44,  45,  46,  48,  49,  50,  51,...\n",
       "                                                 (&#x27;categorical&#x27;,\n",
       "                                                  Pipeline(memory=&#x27;D:\\\\lab_temp&#x27;,\n",
       "                                                           steps=[(&#x27;imputer&#x27;,\n",
       "                                                                   SimpleImputer(strategy=&#x27;most_frequent&#x27;)),\n",
       "                                                                  (&#x27;encoder&#x27;,\n",
       "                                                                   OneHotEncoder(handle_unknown=&#x27;ignore&#x27;,\n",
       "                                                                                 sparse_output=False))]),\n",
       "                                                  array([  1,   2,   5,  29,  53,  77, 101, 125, 149, 173, 197, 221,  23,\n",
       "        47,  71,  95, 119, 143, 167, 191, 215, 239]))])),\n",
       "                (&#x27;classifier&#x27;,\n",
       "                 AdaBoostClassifier(algorithm=&#x27;SAMME&#x27;, n_estimators=500,\n",
       "                                    random_state=12345))])</pre></div></div></div><div class=\"sk-serial\"><div class=\"sk-item sk-dashed-wrapped\"><div class=\"sk-label-container\"><div class=\"sk-label sk-toggleable\"><input class=\"sk-toggleable__control sk-hidden--visually\" id=\"sk-estimator-id-565\" type=\"checkbox\" ><label for=\"sk-estimator-id-565\" class=\"sk-toggleable__label sk-toggleable__label-arrow\">preprocessor: ColumnTransformer</label><div class=\"sk-toggleable__content\"><pre>ColumnTransformer(transformers=[(&#x27;numerical&#x27;,\n",
       "                                 Pipeline(memory=&#x27;D:\\\\lab_temp&#x27;,\n",
       "                                          steps=[(&#x27;imputer&#x27;,\n",
       "                                                  SimpleImputer(strategy=&#x27;median&#x27;)),\n",
       "                                                 (&#x27;scaler&#x27;, StandardScaler())]),\n",
       "                                 array([  0,   3,   4,   6,   7,   8,   9,  10,  11,  12,  13,  14,  15,\n",
       "        16,  17,  18,  19,  20,  21,  22,  24,  25,  26,  27,  28,  30,\n",
       "        31,  32,  33,  34,  35,  36,  37,  38,  39,  40,  41,  42,  43,\n",
       "        44,  45,  46,  48,  49,  50,  51,  52,  54,  55,  56,  57,  58,\n",
       "        59,  60,  61,  62,  63,  64,  65,  66,  67,  68,  69,  70,...\n",
       "       214, 216, 217, 218, 219, 220, 222, 223, 224, 225, 226, 227, 228,\n",
       "       229, 230, 231, 232, 233, 234, 235, 236, 237, 238, 240, 241, 242,\n",
       "       243, 244])),\n",
       "                                (&#x27;categorical&#x27;,\n",
       "                                 Pipeline(memory=&#x27;D:\\\\lab_temp&#x27;,\n",
       "                                          steps=[(&#x27;imputer&#x27;,\n",
       "                                                  SimpleImputer(strategy=&#x27;most_frequent&#x27;)),\n",
       "                                                 (&#x27;encoder&#x27;,\n",
       "                                                  OneHotEncoder(handle_unknown=&#x27;ignore&#x27;,\n",
       "                                                                sparse_output=False))]),\n",
       "                                 array([  1,   2,   5,  29,  53,  77, 101, 125, 149, 173, 197, 221,  23,\n",
       "        47,  71,  95, 119, 143, 167, 191, 215, 239]))])</pre></div></div></div><div class=\"sk-parallel\"><div class=\"sk-parallel-item\"><div class=\"sk-item\"><div class=\"sk-label-container\"><div class=\"sk-label sk-toggleable\"><input class=\"sk-toggleable__control sk-hidden--visually\" id=\"sk-estimator-id-566\" type=\"checkbox\" ><label for=\"sk-estimator-id-566\" class=\"sk-toggleable__label sk-toggleable__label-arrow\">numerical</label><div class=\"sk-toggleable__content\"><pre>[  0   3   4   6   7   8   9  10  11  12  13  14  15  16  17  18  19  20\n",
       "  21  22  24  25  26  27  28  30  31  32  33  34  35  36  37  38  39  40\n",
       "  41  42  43  44  45  46  48  49  50  51  52  54  55  56  57  58  59  60\n",
       "  61  62  63  64  65  66  67  68  69  70  72  73  74  75  76  78  79  80\n",
       "  81  82  83  84  85  86  87  88  89  90  91  92  93  94  96  97  98  99\n",
       " 100 102 103 104 105 106 107 108 109 110 111 112 113 114 115 116 117 118\n",
       " 120 121 122 123 124 126 127 128 129 130 131 132 133 134 135 136 137 138\n",
       " 139 140 141 142 144 145 146 147 148 150 151 152 153 154 155 156 157 158\n",
       " 159 160 161 162 163 164 165 166 168 169 170 171 172 174 175 176 177 178\n",
       " 179 180 181 182 183 184 185 186 187 188 189 190 192 193 194 195 196 198\n",
       " 199 200 201 202 203 204 205 206 207 208 209 210 211 212 213 214 216 217\n",
       " 218 219 220 222 223 224 225 226 227 228 229 230 231 232 233 234 235 236\n",
       " 237 238 240 241 242 243 244]</pre></div></div></div><div class=\"sk-serial\"><div class=\"sk-item\"><div class=\"sk-serial\"><div class=\"sk-item\"><div class=\"sk-estimator sk-toggleable\"><input class=\"sk-toggleable__control sk-hidden--visually\" id=\"sk-estimator-id-567\" type=\"checkbox\" ><label for=\"sk-estimator-id-567\" class=\"sk-toggleable__label sk-toggleable__label-arrow\">SimpleImputer</label><div class=\"sk-toggleable__content\"><pre>SimpleImputer(strategy=&#x27;median&#x27;)</pre></div></div></div><div class=\"sk-item\"><div class=\"sk-estimator sk-toggleable\"><input class=\"sk-toggleable__control sk-hidden--visually\" id=\"sk-estimator-id-568\" type=\"checkbox\" ><label for=\"sk-estimator-id-568\" class=\"sk-toggleable__label sk-toggleable__label-arrow\">StandardScaler</label><div class=\"sk-toggleable__content\"><pre>StandardScaler()</pre></div></div></div></div></div></div></div></div><div class=\"sk-parallel-item\"><div class=\"sk-item\"><div class=\"sk-label-container\"><div class=\"sk-label sk-toggleable\"><input class=\"sk-toggleable__control sk-hidden--visually\" id=\"sk-estimator-id-569\" type=\"checkbox\" ><label for=\"sk-estimator-id-569\" class=\"sk-toggleable__label sk-toggleable__label-arrow\">categorical</label><div class=\"sk-toggleable__content\"><pre>[  1   2   5  29  53  77 101 125 149 173 197 221  23  47  71  95 119 143\n",
       " 167 191 215 239]</pre></div></div></div><div class=\"sk-serial\"><div class=\"sk-item\"><div class=\"sk-serial\"><div class=\"sk-item\"><div class=\"sk-estimator sk-toggleable\"><input class=\"sk-toggleable__control sk-hidden--visually\" id=\"sk-estimator-id-570\" type=\"checkbox\" ><label for=\"sk-estimator-id-570\" class=\"sk-toggleable__label sk-toggleable__label-arrow\">SimpleImputer</label><div class=\"sk-toggleable__content\"><pre>SimpleImputer(strategy=&#x27;most_frequent&#x27;)</pre></div></div></div><div class=\"sk-item\"><div class=\"sk-estimator sk-toggleable\"><input class=\"sk-toggleable__control sk-hidden--visually\" id=\"sk-estimator-id-571\" type=\"checkbox\" ><label for=\"sk-estimator-id-571\" class=\"sk-toggleable__label sk-toggleable__label-arrow\">OneHotEncoder</label><div class=\"sk-toggleable__content\"><pre>OneHotEncoder(handle_unknown=&#x27;ignore&#x27;, sparse_output=False)</pre></div></div></div></div></div></div></div></div></div></div><div class=\"sk-item\"><div class=\"sk-estimator sk-toggleable\"><input class=\"sk-toggleable__control sk-hidden--visually\" id=\"sk-estimator-id-572\" type=\"checkbox\" ><label for=\"sk-estimator-id-572\" class=\"sk-toggleable__label sk-toggleable__label-arrow\">AdaBoostClassifier</label><div class=\"sk-toggleable__content\"><pre>AdaBoostClassifier(algorithm=&#x27;SAMME&#x27;, n_estimators=500, random_state=12345)</pre></div></div></div></div></div></div></div>"
      ],
      "text/plain": [
       "Pipeline(memory='D:\\\\lab_temp',\n",
       "         steps=[('preprocessor',\n",
       "                 ColumnTransformer(transformers=[('numerical',\n",
       "                                                  Pipeline(memory='D:\\\\lab_temp',\n",
       "                                                           steps=[('imputer',\n",
       "                                                                   SimpleImputer(strategy='median')),\n",
       "                                                                  ('scaler',\n",
       "                                                                   StandardScaler())]),\n",
       "                                                  array([  0,   3,   4,   6,   7,   8,   9,  10,  11,  12,  13,  14,  15,\n",
       "        16,  17,  18,  19,  20,  21,  22,  24,  25,  26,  27,  28,  30,\n",
       "        31,  32,  33,  34,  35,  36,  37,  38,  39,  40,  41,  42,  43,\n",
       "        44,  45,  46,  48,  49,  50,  51,...\n",
       "                                                 ('categorical',\n",
       "                                                  Pipeline(memory='D:\\\\lab_temp',\n",
       "                                                           steps=[('imputer',\n",
       "                                                                   SimpleImputer(strategy='most_frequent')),\n",
       "                                                                  ('encoder',\n",
       "                                                                   OneHotEncoder(handle_unknown='ignore',\n",
       "                                                                                 sparse_output=False))]),\n",
       "                                                  array([  1,   2,   5,  29,  53,  77, 101, 125, 149, 173, 197, 221,  23,\n",
       "        47,  71,  95, 119, 143, 167, 191, 215, 239]))])),\n",
       "                ('classifier',\n",
       "                 AdaBoostClassifier(algorithm='SAMME', n_estimators=500,\n",
       "                                    random_state=12345))])"
      ]
     },
     "execution_count": 195,
     "metadata": {},
     "output_type": "execute_result"
    }
   ],
   "source": [
    "%%time\n",
    "\n",
    "ada_boost_best = Pipeline(\n",
    "    memory=cache_dir,\n",
    "    steps=[('preprocessor', preprocessor),\n",
    "           ('classifier', AdaBoostClassifier(algorithm='SAMME',\n",
    "                                             learning_rate=1.0,\n",
    "                                             n_estimators=500,\n",
    "                                             random_state=my_seed))]\n",
    ")\n",
    "\n",
    "ada_boost_best.fit(X_train, y_train)"
   ]
  },
  {
   "cell_type": "code",
   "execution_count": 196,
   "id": "vy1r4AoRbGCQ",
   "metadata": {
    "colab": {
     "base_uri": "https://localhost:8080/"
    },
    "id": "vy1r4AoRbGCQ",
    "outputId": "64967a9a-2386-4c97-86e7-63f9dfee6191"
   },
   "outputs": [
    {
     "name": "stdout",
     "output_type": "stream",
     "text": [
      "ROC-AUC: 0.7054385622826688\n"
     ]
    }
   ],
   "source": [
    "print(f'ROC-AUC: {roc_auc_score(y_test, ada_boost_best.predict(X_test))}')"
   ]
  },
  {
   "cell_type": "markdown",
   "id": "qpE2A1IuohF2",
   "metadata": {
    "id": "qpE2A1IuohF2"
   },
   "source": [
    "### Эксперимент 3\n",
    "Использование CatBoostClassifier"
   ]
  },
  {
   "cell_type": "code",
   "execution_count": 33,
   "id": "AoiqKPtDooGB",
   "metadata": {
    "colab": {
     "base_uri": "https://localhost:8080/"
    },
    "id": "AoiqKPtDooGB",
    "outputId": "b743f47d-8c5c-41a7-fbbf-78f56ef3874e"
   },
   "outputs": [
    {
     "name": "stdout",
     "output_type": "stream",
     "text": [
      "Requirement already satisfied: catboost in c:\\users\\dmitriy\\anaconda3\\lib\\site-packages (1.2.7)\n",
      "Requirement already satisfied: graphviz in c:\\users\\dmitriy\\anaconda3\\lib\\site-packages (from catboost) (0.20.1)\n",
      "Requirement already satisfied: matplotlib in c:\\users\\dmitriy\\anaconda3\\lib\\site-packages (from catboost) (3.7.1)\n",
      "Requirement already satisfied: numpy<2.0,>=1.16.0 in c:\\users\\dmitriy\\anaconda3\\lib\\site-packages (from catboost) (1.24.3)\n",
      "Requirement already satisfied: pandas>=0.24 in c:\\users\\dmitriy\\anaconda3\\lib\\site-packages (from catboost) (1.4.2)\n",
      "Requirement already satisfied: scipy in c:\\users\\dmitriy\\anaconda3\\lib\\site-packages (from catboost) (1.10.1)\n",
      "Requirement already satisfied: plotly in c:\\users\\dmitriy\\anaconda3\\lib\\site-packages (from catboost) (5.9.0)\n",
      "Requirement already satisfied: six in c:\\users\\dmitriy\\anaconda3\\lib\\site-packages (from catboost) (1.16.0)\n",
      "Requirement already satisfied: python-dateutil>=2.8.1 in c:\\users\\dmitriy\\anaconda3\\lib\\site-packages (from pandas>=0.24->catboost) (2.8.2)\n",
      "Requirement already satisfied: pytz>=2020.1 in c:\\users\\dmitriy\\anaconda3\\lib\\site-packages (from pandas>=0.24->catboost) (2022.7)\n",
      "Requirement already satisfied: contourpy>=1.0.1 in c:\\users\\dmitriy\\anaconda3\\lib\\site-packages (from matplotlib->catboost) (1.0.5)\n",
      "Requirement already satisfied: cycler>=0.10 in c:\\users\\dmitriy\\anaconda3\\lib\\site-packages (from matplotlib->catboost) (0.11.0)\n",
      "Requirement already satisfied: fonttools>=4.22.0 in c:\\users\\dmitriy\\anaconda3\\lib\\site-packages (from matplotlib->catboost) (4.25.0)\n",
      "Requirement already satisfied: kiwisolver>=1.0.1 in c:\\users\\dmitriy\\anaconda3\\lib\\site-packages (from matplotlib->catboost) (1.4.4)\n",
      "Requirement already satisfied: packaging>=20.0 in c:\\users\\dmitriy\\anaconda3\\lib\\site-packages (from matplotlib->catboost) (23.0)\n",
      "Requirement already satisfied: pillow>=6.2.0 in c:\\users\\dmitriy\\anaconda3\\lib\\site-packages (from matplotlib->catboost) (10.2.0)\n",
      "Requirement already satisfied: pyparsing>=2.3.1 in c:\\users\\dmitriy\\anaconda3\\lib\\site-packages (from matplotlib->catboost) (3.0.9)\n",
      "Requirement already satisfied: importlib-resources>=3.2.0 in c:\\users\\dmitriy\\anaconda3\\lib\\site-packages (from matplotlib->catboost) (5.2.0)\n",
      "Requirement already satisfied: tenacity>=6.2.0 in c:\\users\\dmitriy\\anaconda3\\lib\\site-packages (from plotly->catboost) (8.2.2)\n",
      "Requirement already satisfied: zipp>=3.1.0 in c:\\users\\dmitriy\\anaconda3\\lib\\site-packages (from importlib-resources>=3.2.0->matplotlib->catboost) (3.11.0)\n"
     ]
    }
   ],
   "source": [
    "!pip install catboost"
   ]
  },
  {
   "cell_type": "code",
   "execution_count": 115,
   "id": "WlhHfjspAkjD",
   "metadata": {
    "id": "WlhHfjspAkjD"
   },
   "outputs": [],
   "source": [
    "from catboost import CatBoostClassifier"
   ]
  },
  {
   "cell_type": "code",
   "execution_count": 35,
   "id": "aq1bRKpnogXs",
   "metadata": {
    "colab": {
     "base_uri": "https://localhost:8080/",
     "height": 296
    },
    "id": "aq1bRKpnogXs",
    "outputId": "4fbb7b15-3b46-47eb-f312-370cd178de92"
   },
   "outputs": [
    {
     "name": "stdout",
     "output_type": "stream",
     "text": [
      "CPU times: total: 2min 14s\n",
      "Wall time: 27 s\n"
     ]
    },
    {
     "data": {
      "text/html": [
       "<style>#sk-container-id-3 {color: black;background-color: white;}#sk-container-id-3 pre{padding: 0;}#sk-container-id-3 div.sk-toggleable {background-color: white;}#sk-container-id-3 label.sk-toggleable__label {cursor: pointer;display: block;width: 100%;margin-bottom: 0;padding: 0.3em;box-sizing: border-box;text-align: center;}#sk-container-id-3 label.sk-toggleable__label-arrow:before {content: \"▸\";float: left;margin-right: 0.25em;color: #696969;}#sk-container-id-3 label.sk-toggleable__label-arrow:hover:before {color: black;}#sk-container-id-3 div.sk-estimator:hover label.sk-toggleable__label-arrow:before {color: black;}#sk-container-id-3 div.sk-toggleable__content {max-height: 0;max-width: 0;overflow: hidden;text-align: left;background-color: #f0f8ff;}#sk-container-id-3 div.sk-toggleable__content pre {margin: 0.2em;color: black;border-radius: 0.25em;background-color: #f0f8ff;}#sk-container-id-3 input.sk-toggleable__control:checked~div.sk-toggleable__content {max-height: 200px;max-width: 100%;overflow: auto;}#sk-container-id-3 input.sk-toggleable__control:checked~label.sk-toggleable__label-arrow:before {content: \"▾\";}#sk-container-id-3 div.sk-estimator input.sk-toggleable__control:checked~label.sk-toggleable__label {background-color: #d4ebff;}#sk-container-id-3 div.sk-label input.sk-toggleable__control:checked~label.sk-toggleable__label {background-color: #d4ebff;}#sk-container-id-3 input.sk-hidden--visually {border: 0;clip: rect(1px 1px 1px 1px);clip: rect(1px, 1px, 1px, 1px);height: 1px;margin: -1px;overflow: hidden;padding: 0;position: absolute;width: 1px;}#sk-container-id-3 div.sk-estimator {font-family: monospace;background-color: #f0f8ff;border: 1px dotted black;border-radius: 0.25em;box-sizing: border-box;margin-bottom: 0.5em;}#sk-container-id-3 div.sk-estimator:hover {background-color: #d4ebff;}#sk-container-id-3 div.sk-parallel-item::after {content: \"\";width: 100%;border-bottom: 1px solid gray;flex-grow: 1;}#sk-container-id-3 div.sk-label:hover label.sk-toggleable__label {background-color: #d4ebff;}#sk-container-id-3 div.sk-serial::before {content: \"\";position: absolute;border-left: 1px solid gray;box-sizing: border-box;top: 0;bottom: 0;left: 50%;z-index: 0;}#sk-container-id-3 div.sk-serial {display: flex;flex-direction: column;align-items: center;background-color: white;padding-right: 0.2em;padding-left: 0.2em;position: relative;}#sk-container-id-3 div.sk-item {position: relative;z-index: 1;}#sk-container-id-3 div.sk-parallel {display: flex;align-items: stretch;justify-content: center;background-color: white;position: relative;}#sk-container-id-3 div.sk-item::before, #sk-container-id-3 div.sk-parallel-item::before {content: \"\";position: absolute;border-left: 1px solid gray;box-sizing: border-box;top: 0;bottom: 0;left: 50%;z-index: -1;}#sk-container-id-3 div.sk-parallel-item {display: flex;flex-direction: column;z-index: 1;position: relative;background-color: white;}#sk-container-id-3 div.sk-parallel-item:first-child::after {align-self: flex-end;width: 50%;}#sk-container-id-3 div.sk-parallel-item:last-child::after {align-self: flex-start;width: 50%;}#sk-container-id-3 div.sk-parallel-item:only-child::after {width: 0;}#sk-container-id-3 div.sk-dashed-wrapped {border: 1px dashed gray;margin: 0 0.4em 0.5em 0.4em;box-sizing: border-box;padding-bottom: 0.4em;background-color: white;}#sk-container-id-3 div.sk-label label {font-family: monospace;font-weight: bold;display: inline-block;line-height: 1.2em;}#sk-container-id-3 div.sk-label-container {text-align: center;}#sk-container-id-3 div.sk-container {/* jupyter's `normalize.less` sets `[hidden] { display: none; }` but bootstrap.min.css set `[hidden] { display: none !important; }` so we also need the `!important` here to be able to override the default hidden behavior on the sphinx rendered scikit-learn.org. See: https://github.com/scikit-learn/scikit-learn/issues/21755 */display: inline-block !important;position: relative;}#sk-container-id-3 div.sk-text-repr-fallback {display: none;}</style><div id=\"sk-container-id-3\" class=\"sk-top-container\"><div class=\"sk-text-repr-fallback\"><pre>Pipeline(memory=&#x27;D:\\\\lab_temp&#x27;,\n",
       "         steps=[(&#x27;preprocessor&#x27;,\n",
       "                 ColumnTransformer(transformers=[(&#x27;numerical&#x27;,\n",
       "                                                  Pipeline(memory=&#x27;D:\\\\lab_temp&#x27;,\n",
       "                                                           steps=[(&#x27;imputer&#x27;,\n",
       "                                                                   SimpleImputer(strategy=&#x27;median&#x27;)),\n",
       "                                                                  (&#x27;scaler&#x27;,\n",
       "                                                                   StandardScaler())]),\n",
       "                                                  array([  0,   3,   4,   6,   7,   8,   9,  10,  11,  12,  13,  14,  15,\n",
       "        16,  17,  18,  19,  20,  21,  22,  24,  25,  26,  27,  28,  30,\n",
       "        31,  32,  33,  34,  35,  36,  37,  38,  39,  40,  41,  42,  43,\n",
       "        44,  45,  46,  48,  49,  50,  51,...\n",
       "       243, 244])),\n",
       "                                                 (&#x27;categorical&#x27;,\n",
       "                                                  Pipeline(memory=&#x27;D:\\\\lab_temp&#x27;,\n",
       "                                                           steps=[(&#x27;imputer&#x27;,\n",
       "                                                                   SimpleImputer(strategy=&#x27;most_frequent&#x27;)),\n",
       "                                                                  (&#x27;encoder&#x27;,\n",
       "                                                                   OneHotEncoder(handle_unknown=&#x27;ignore&#x27;,\n",
       "                                                                                 sparse_output=False))]),\n",
       "                                                  array([  1,   2,   5,  29,  53,  77, 101, 125, 149, 173, 197, 221,  23,\n",
       "        47,  71,  95, 119, 143, 167, 191, 215, 239]))])),\n",
       "                (&#x27;classifier&#x27;,\n",
       "                 &lt;catboost.core.CatBoostClassifier object at 0x000001A600328A90&gt;)])</pre><b>In a Jupyter environment, please rerun this cell to show the HTML representation or trust the notebook. <br />On GitHub, the HTML representation is unable to render, please try loading this page with nbviewer.org.</b></div><div class=\"sk-container\" hidden><div class=\"sk-item sk-dashed-wrapped\"><div class=\"sk-label-container\"><div class=\"sk-label sk-toggleable\"><input class=\"sk-toggleable__control sk-hidden--visually\" id=\"sk-estimator-id-21\" type=\"checkbox\" ><label for=\"sk-estimator-id-21\" class=\"sk-toggleable__label sk-toggleable__label-arrow\">Pipeline</label><div class=\"sk-toggleable__content\"><pre>Pipeline(memory=&#x27;D:\\\\lab_temp&#x27;,\n",
       "         steps=[(&#x27;preprocessor&#x27;,\n",
       "                 ColumnTransformer(transformers=[(&#x27;numerical&#x27;,\n",
       "                                                  Pipeline(memory=&#x27;D:\\\\lab_temp&#x27;,\n",
       "                                                           steps=[(&#x27;imputer&#x27;,\n",
       "                                                                   SimpleImputer(strategy=&#x27;median&#x27;)),\n",
       "                                                                  (&#x27;scaler&#x27;,\n",
       "                                                                   StandardScaler())]),\n",
       "                                                  array([  0,   3,   4,   6,   7,   8,   9,  10,  11,  12,  13,  14,  15,\n",
       "        16,  17,  18,  19,  20,  21,  22,  24,  25,  26,  27,  28,  30,\n",
       "        31,  32,  33,  34,  35,  36,  37,  38,  39,  40,  41,  42,  43,\n",
       "        44,  45,  46,  48,  49,  50,  51,...\n",
       "       243, 244])),\n",
       "                                                 (&#x27;categorical&#x27;,\n",
       "                                                  Pipeline(memory=&#x27;D:\\\\lab_temp&#x27;,\n",
       "                                                           steps=[(&#x27;imputer&#x27;,\n",
       "                                                                   SimpleImputer(strategy=&#x27;most_frequent&#x27;)),\n",
       "                                                                  (&#x27;encoder&#x27;,\n",
       "                                                                   OneHotEncoder(handle_unknown=&#x27;ignore&#x27;,\n",
       "                                                                                 sparse_output=False))]),\n",
       "                                                  array([  1,   2,   5,  29,  53,  77, 101, 125, 149, 173, 197, 221,  23,\n",
       "        47,  71,  95, 119, 143, 167, 191, 215, 239]))])),\n",
       "                (&#x27;classifier&#x27;,\n",
       "                 &lt;catboost.core.CatBoostClassifier object at 0x000001A600328A90&gt;)])</pre></div></div></div><div class=\"sk-serial\"><div class=\"sk-item sk-dashed-wrapped\"><div class=\"sk-label-container\"><div class=\"sk-label sk-toggleable\"><input class=\"sk-toggleable__control sk-hidden--visually\" id=\"sk-estimator-id-22\" type=\"checkbox\" ><label for=\"sk-estimator-id-22\" class=\"sk-toggleable__label sk-toggleable__label-arrow\">preprocessor: ColumnTransformer</label><div class=\"sk-toggleable__content\"><pre>ColumnTransformer(transformers=[(&#x27;numerical&#x27;,\n",
       "                                 Pipeline(memory=&#x27;D:\\\\lab_temp&#x27;,\n",
       "                                          steps=[(&#x27;imputer&#x27;,\n",
       "                                                  SimpleImputer(strategy=&#x27;median&#x27;)),\n",
       "                                                 (&#x27;scaler&#x27;, StandardScaler())]),\n",
       "                                 array([  0,   3,   4,   6,   7,   8,   9,  10,  11,  12,  13,  14,  15,\n",
       "        16,  17,  18,  19,  20,  21,  22,  24,  25,  26,  27,  28,  30,\n",
       "        31,  32,  33,  34,  35,  36,  37,  38,  39,  40,  41,  42,  43,\n",
       "        44,  45,  46,  48,  49,  50,  51,  52,  54,  55,  56,  57,  58,\n",
       "        59,  60,  61,  62,  63,  64,  65,  66,  67,  68,  69,  70,...\n",
       "       214, 216, 217, 218, 219, 220, 222, 223, 224, 225, 226, 227, 228,\n",
       "       229, 230, 231, 232, 233, 234, 235, 236, 237, 238, 240, 241, 242,\n",
       "       243, 244])),\n",
       "                                (&#x27;categorical&#x27;,\n",
       "                                 Pipeline(memory=&#x27;D:\\\\lab_temp&#x27;,\n",
       "                                          steps=[(&#x27;imputer&#x27;,\n",
       "                                                  SimpleImputer(strategy=&#x27;most_frequent&#x27;)),\n",
       "                                                 (&#x27;encoder&#x27;,\n",
       "                                                  OneHotEncoder(handle_unknown=&#x27;ignore&#x27;,\n",
       "                                                                sparse_output=False))]),\n",
       "                                 array([  1,   2,   5,  29,  53,  77, 101, 125, 149, 173, 197, 221,  23,\n",
       "        47,  71,  95, 119, 143, 167, 191, 215, 239]))])</pre></div></div></div><div class=\"sk-parallel\"><div class=\"sk-parallel-item\"><div class=\"sk-item\"><div class=\"sk-label-container\"><div class=\"sk-label sk-toggleable\"><input class=\"sk-toggleable__control sk-hidden--visually\" id=\"sk-estimator-id-23\" type=\"checkbox\" ><label for=\"sk-estimator-id-23\" class=\"sk-toggleable__label sk-toggleable__label-arrow\">numerical</label><div class=\"sk-toggleable__content\"><pre>[  0   3   4   6   7   8   9  10  11  12  13  14  15  16  17  18  19  20\n",
       "  21  22  24  25  26  27  28  30  31  32  33  34  35  36  37  38  39  40\n",
       "  41  42  43  44  45  46  48  49  50  51  52  54  55  56  57  58  59  60\n",
       "  61  62  63  64  65  66  67  68  69  70  72  73  74  75  76  78  79  80\n",
       "  81  82  83  84  85  86  87  88  89  90  91  92  93  94  96  97  98  99\n",
       " 100 102 103 104 105 106 107 108 109 110 111 112 113 114 115 116 117 118\n",
       " 120 121 122 123 124 126 127 128 129 130 131 132 133 134 135 136 137 138\n",
       " 139 140 141 142 144 145 146 147 148 150 151 152 153 154 155 156 157 158\n",
       " 159 160 161 162 163 164 165 166 168 169 170 171 172 174 175 176 177 178\n",
       " 179 180 181 182 183 184 185 186 187 188 189 190 192 193 194 195 196 198\n",
       " 199 200 201 202 203 204 205 206 207 208 209 210 211 212 213 214 216 217\n",
       " 218 219 220 222 223 224 225 226 227 228 229 230 231 232 233 234 235 236\n",
       " 237 238 240 241 242 243 244]</pre></div></div></div><div class=\"sk-serial\"><div class=\"sk-item\"><div class=\"sk-serial\"><div class=\"sk-item\"><div class=\"sk-estimator sk-toggleable\"><input class=\"sk-toggleable__control sk-hidden--visually\" id=\"sk-estimator-id-24\" type=\"checkbox\" ><label for=\"sk-estimator-id-24\" class=\"sk-toggleable__label sk-toggleable__label-arrow\">SimpleImputer</label><div class=\"sk-toggleable__content\"><pre>SimpleImputer(strategy=&#x27;median&#x27;)</pre></div></div></div><div class=\"sk-item\"><div class=\"sk-estimator sk-toggleable\"><input class=\"sk-toggleable__control sk-hidden--visually\" id=\"sk-estimator-id-25\" type=\"checkbox\" ><label for=\"sk-estimator-id-25\" class=\"sk-toggleable__label sk-toggleable__label-arrow\">StandardScaler</label><div class=\"sk-toggleable__content\"><pre>StandardScaler()</pre></div></div></div></div></div></div></div></div><div class=\"sk-parallel-item\"><div class=\"sk-item\"><div class=\"sk-label-container\"><div class=\"sk-label sk-toggleable\"><input class=\"sk-toggleable__control sk-hidden--visually\" id=\"sk-estimator-id-26\" type=\"checkbox\" ><label for=\"sk-estimator-id-26\" class=\"sk-toggleable__label sk-toggleable__label-arrow\">categorical</label><div class=\"sk-toggleable__content\"><pre>[  1   2   5  29  53  77 101 125 149 173 197 221  23  47  71  95 119 143\n",
       " 167 191 215 239]</pre></div></div></div><div class=\"sk-serial\"><div class=\"sk-item\"><div class=\"sk-serial\"><div class=\"sk-item\"><div class=\"sk-estimator sk-toggleable\"><input class=\"sk-toggleable__control sk-hidden--visually\" id=\"sk-estimator-id-27\" type=\"checkbox\" ><label for=\"sk-estimator-id-27\" class=\"sk-toggleable__label sk-toggleable__label-arrow\">SimpleImputer</label><div class=\"sk-toggleable__content\"><pre>SimpleImputer(strategy=&#x27;most_frequent&#x27;)</pre></div></div></div><div class=\"sk-item\"><div class=\"sk-estimator sk-toggleable\"><input class=\"sk-toggleable__control sk-hidden--visually\" id=\"sk-estimator-id-28\" type=\"checkbox\" ><label for=\"sk-estimator-id-28\" class=\"sk-toggleable__label sk-toggleable__label-arrow\">OneHotEncoder</label><div class=\"sk-toggleable__content\"><pre>OneHotEncoder(handle_unknown=&#x27;ignore&#x27;, sparse_output=False)</pre></div></div></div></div></div></div></div></div></div></div><div class=\"sk-item\"><div class=\"sk-estimator sk-toggleable\"><input class=\"sk-toggleable__control sk-hidden--visually\" id=\"sk-estimator-id-29\" type=\"checkbox\" ><label for=\"sk-estimator-id-29\" class=\"sk-toggleable__label sk-toggleable__label-arrow\">CatBoostClassifier</label><div class=\"sk-toggleable__content\"><pre>&lt;catboost.core.CatBoostClassifier object at 0x000001A600328A90&gt;</pre></div></div></div></div></div></div></div>"
      ],
      "text/plain": [
       "Pipeline(memory='D:\\\\lab_temp',\n",
       "         steps=[('preprocessor',\n",
       "                 ColumnTransformer(transformers=[('numerical',\n",
       "                                                  Pipeline(memory='D:\\\\lab_temp',\n",
       "                                                           steps=[('imputer',\n",
       "                                                                   SimpleImputer(strategy='median')),\n",
       "                                                                  ('scaler',\n",
       "                                                                   StandardScaler())]),\n",
       "                                                  array([  0,   3,   4,   6,   7,   8,   9,  10,  11,  12,  13,  14,  15,\n",
       "        16,  17,  18,  19,  20,  21,  22,  24,  25,  26,  27,  28,  30,\n",
       "        31,  32,  33,  34,  35,  36,  37,  38,  39,  40,  41,  42,  43,\n",
       "        44,  45,  46,  48,  49,  50,  51,...\n",
       "       243, 244])),\n",
       "                                                 ('categorical',\n",
       "                                                  Pipeline(memory='D:\\\\lab_temp',\n",
       "                                                           steps=[('imputer',\n",
       "                                                                   SimpleImputer(strategy='most_frequent')),\n",
       "                                                                  ('encoder',\n",
       "                                                                   OneHotEncoder(handle_unknown='ignore',\n",
       "                                                                                 sparse_output=False))]),\n",
       "                                                  array([  1,   2,   5,  29,  53,  77, 101, 125, 149, 173, 197, 221,  23,\n",
       "        47,  71,  95, 119, 143, 167, 191, 215, 239]))])),\n",
       "                ('classifier',\n",
       "                 <catboost.core.CatBoostClassifier object at 0x000001A600328A90>)])"
      ]
     },
     "execution_count": 35,
     "metadata": {},
     "output_type": "execute_result"
    }
   ],
   "source": [
    "%%time\n",
    "\n",
    "cat_bst = Pipeline(\n",
    "    memory=cache_dir,\n",
    "    steps=[('preprocessor', preprocessor),\n",
    "           ('classifier', CatBoostClassifier(verbose=False,\n",
    "                                             eval_metric='AUC',\n",
    "                                             random_state=my_seed))]\n",
    ")\n",
    "\n",
    "cat_bst.fit(X_train, y_train)"
   ]
  },
  {
   "cell_type": "code",
   "execution_count": 36,
   "id": "lVdk7xqr5Onx",
   "metadata": {
    "colab": {
     "base_uri": "https://localhost:8080/"
    },
    "id": "lVdk7xqr5Onx",
    "outputId": "adee7dcf-aa92-417d-a71e-65d2588f520a"
   },
   "outputs": [
    {
     "name": "stdout",
     "output_type": "stream",
     "text": [
      "roc_auc_score: 0.7155081082837736\n"
     ]
    }
   ],
   "source": [
    "print('roc_auc_score:', roc_auc_score(y_test, cat_bst.predict(X_test)))"
   ]
  },
  {
   "cell_type": "code",
   "execution_count": 37,
   "id": "pR5BYCEkNYwS",
   "metadata": {
    "colab": {
     "base_uri": "https://localhost:8080/",
     "height": 1000
    },
    "id": "pR5BYCEkNYwS",
    "outputId": "d210d06e-5197-45dd-b893-07242c06a3d7"
   },
   "outputs": [
    {
     "name": "stdout",
     "output_type": "stream",
     "text": [
      "CPU times: total: 1h 26min 50s\n",
      "Wall time: 15min 34s\n"
     ]
    },
    {
     "data": {
      "text/html": [
       "<style>#sk-container-id-4 {color: black;background-color: white;}#sk-container-id-4 pre{padding: 0;}#sk-container-id-4 div.sk-toggleable {background-color: white;}#sk-container-id-4 label.sk-toggleable__label {cursor: pointer;display: block;width: 100%;margin-bottom: 0;padding: 0.3em;box-sizing: border-box;text-align: center;}#sk-container-id-4 label.sk-toggleable__label-arrow:before {content: \"▸\";float: left;margin-right: 0.25em;color: #696969;}#sk-container-id-4 label.sk-toggleable__label-arrow:hover:before {color: black;}#sk-container-id-4 div.sk-estimator:hover label.sk-toggleable__label-arrow:before {color: black;}#sk-container-id-4 div.sk-toggleable__content {max-height: 0;max-width: 0;overflow: hidden;text-align: left;background-color: #f0f8ff;}#sk-container-id-4 div.sk-toggleable__content pre {margin: 0.2em;color: black;border-radius: 0.25em;background-color: #f0f8ff;}#sk-container-id-4 input.sk-toggleable__control:checked~div.sk-toggleable__content {max-height: 200px;max-width: 100%;overflow: auto;}#sk-container-id-4 input.sk-toggleable__control:checked~label.sk-toggleable__label-arrow:before {content: \"▾\";}#sk-container-id-4 div.sk-estimator input.sk-toggleable__control:checked~label.sk-toggleable__label {background-color: #d4ebff;}#sk-container-id-4 div.sk-label input.sk-toggleable__control:checked~label.sk-toggleable__label {background-color: #d4ebff;}#sk-container-id-4 input.sk-hidden--visually {border: 0;clip: rect(1px 1px 1px 1px);clip: rect(1px, 1px, 1px, 1px);height: 1px;margin: -1px;overflow: hidden;padding: 0;position: absolute;width: 1px;}#sk-container-id-4 div.sk-estimator {font-family: monospace;background-color: #f0f8ff;border: 1px dotted black;border-radius: 0.25em;box-sizing: border-box;margin-bottom: 0.5em;}#sk-container-id-4 div.sk-estimator:hover {background-color: #d4ebff;}#sk-container-id-4 div.sk-parallel-item::after {content: \"\";width: 100%;border-bottom: 1px solid gray;flex-grow: 1;}#sk-container-id-4 div.sk-label:hover label.sk-toggleable__label {background-color: #d4ebff;}#sk-container-id-4 div.sk-serial::before {content: \"\";position: absolute;border-left: 1px solid gray;box-sizing: border-box;top: 0;bottom: 0;left: 50%;z-index: 0;}#sk-container-id-4 div.sk-serial {display: flex;flex-direction: column;align-items: center;background-color: white;padding-right: 0.2em;padding-left: 0.2em;position: relative;}#sk-container-id-4 div.sk-item {position: relative;z-index: 1;}#sk-container-id-4 div.sk-parallel {display: flex;align-items: stretch;justify-content: center;background-color: white;position: relative;}#sk-container-id-4 div.sk-item::before, #sk-container-id-4 div.sk-parallel-item::before {content: \"\";position: absolute;border-left: 1px solid gray;box-sizing: border-box;top: 0;bottom: 0;left: 50%;z-index: -1;}#sk-container-id-4 div.sk-parallel-item {display: flex;flex-direction: column;z-index: 1;position: relative;background-color: white;}#sk-container-id-4 div.sk-parallel-item:first-child::after {align-self: flex-end;width: 50%;}#sk-container-id-4 div.sk-parallel-item:last-child::after {align-self: flex-start;width: 50%;}#sk-container-id-4 div.sk-parallel-item:only-child::after {width: 0;}#sk-container-id-4 div.sk-dashed-wrapped {border: 1px dashed gray;margin: 0 0.4em 0.5em 0.4em;box-sizing: border-box;padding-bottom: 0.4em;background-color: white;}#sk-container-id-4 div.sk-label label {font-family: monospace;font-weight: bold;display: inline-block;line-height: 1.2em;}#sk-container-id-4 div.sk-label-container {text-align: center;}#sk-container-id-4 div.sk-container {/* jupyter's `normalize.less` sets `[hidden] { display: none; }` but bootstrap.min.css set `[hidden] { display: none !important; }` so we also need the `!important` here to be able to override the default hidden behavior on the sphinx rendered scikit-learn.org. See: https://github.com/scikit-learn/scikit-learn/issues/21755 */display: inline-block !important;position: relative;}#sk-container-id-4 div.sk-text-repr-fallback {display: none;}</style><div id=\"sk-container-id-4\" class=\"sk-top-container\"><div class=\"sk-text-repr-fallback\"><pre>GridSearchCV(cv=5,\n",
       "             estimator=Pipeline(memory=&#x27;D:\\\\lab_temp&#x27;,\n",
       "                                steps=[(&#x27;preprocessor&#x27;,\n",
       "                                        ColumnTransformer(transformers=[(&#x27;numerical&#x27;,\n",
       "                                                                         Pipeline(memory=&#x27;D:\\\\lab_temp&#x27;,\n",
       "                                                                                  steps=[(&#x27;imputer&#x27;,\n",
       "                                                                                          SimpleImputer(strategy=&#x27;median&#x27;)),\n",
       "                                                                                         (&#x27;scaler&#x27;,\n",
       "                                                                                          StandardScaler())]),\n",
       "                                                                         array([  0,   3,   4,   6,   7,   8,   9,  10,  11,  12,  13,  14,  15,\n",
       "        16,  17,  18,  19,  20,  21,  22,  24,  25,  26,  27,  28,  30,\n",
       "        31,  32,  33,  34,  35,  36,  37,  38,  39,  40,  41...\n",
       "                                                                                                        sparse_output=False))]),\n",
       "                                                                         array([  1,   2,   5,  29,  53,  77, 101, 125, 149, 173, 197, 221,  23,\n",
       "        47,  71,  95, 119, 143, 167, 191, 215, 239]))])),\n",
       "                                       (&#x27;feature_selection&#x27;,\n",
       "                                        SelectKBest(k=100)),\n",
       "                                       (&#x27;classifier&#x27;,\n",
       "                                        &lt;catboost.core.CatBoostClassifier object at 0x000001A600481970&gt;)]),\n",
       "             param_grid={&#x27;classifier__depth&#x27;: [4, 6, 10],\n",
       "                         &#x27;classifier__l2_leaf_reg&#x27;: [1, 3, 10],\n",
       "                         &#x27;classifier__min_data_in_leaf&#x27;: [1, 3, 5]},\n",
       "             scoring=&#x27;roc_auc&#x27;)</pre><b>In a Jupyter environment, please rerun this cell to show the HTML representation or trust the notebook. <br />On GitHub, the HTML representation is unable to render, please try loading this page with nbviewer.org.</b></div><div class=\"sk-container\" hidden><div class=\"sk-item sk-dashed-wrapped\"><div class=\"sk-label-container\"><div class=\"sk-label sk-toggleable\"><input class=\"sk-toggleable__control sk-hidden--visually\" id=\"sk-estimator-id-30\" type=\"checkbox\" ><label for=\"sk-estimator-id-30\" class=\"sk-toggleable__label sk-toggleable__label-arrow\">GridSearchCV</label><div class=\"sk-toggleable__content\"><pre>GridSearchCV(cv=5,\n",
       "             estimator=Pipeline(memory=&#x27;D:\\\\lab_temp&#x27;,\n",
       "                                steps=[(&#x27;preprocessor&#x27;,\n",
       "                                        ColumnTransformer(transformers=[(&#x27;numerical&#x27;,\n",
       "                                                                         Pipeline(memory=&#x27;D:\\\\lab_temp&#x27;,\n",
       "                                                                                  steps=[(&#x27;imputer&#x27;,\n",
       "                                                                                          SimpleImputer(strategy=&#x27;median&#x27;)),\n",
       "                                                                                         (&#x27;scaler&#x27;,\n",
       "                                                                                          StandardScaler())]),\n",
       "                                                                         array([  0,   3,   4,   6,   7,   8,   9,  10,  11,  12,  13,  14,  15,\n",
       "        16,  17,  18,  19,  20,  21,  22,  24,  25,  26,  27,  28,  30,\n",
       "        31,  32,  33,  34,  35,  36,  37,  38,  39,  40,  41...\n",
       "                                                                                                        sparse_output=False))]),\n",
       "                                                                         array([  1,   2,   5,  29,  53,  77, 101, 125, 149, 173, 197, 221,  23,\n",
       "        47,  71,  95, 119, 143, 167, 191, 215, 239]))])),\n",
       "                                       (&#x27;feature_selection&#x27;,\n",
       "                                        SelectKBest(k=100)),\n",
       "                                       (&#x27;classifier&#x27;,\n",
       "                                        &lt;catboost.core.CatBoostClassifier object at 0x000001A600481970&gt;)]),\n",
       "             param_grid={&#x27;classifier__depth&#x27;: [4, 6, 10],\n",
       "                         &#x27;classifier__l2_leaf_reg&#x27;: [1, 3, 10],\n",
       "                         &#x27;classifier__min_data_in_leaf&#x27;: [1, 3, 5]},\n",
       "             scoring=&#x27;roc_auc&#x27;)</pre></div></div></div><div class=\"sk-parallel\"><div class=\"sk-parallel-item\"><div class=\"sk-item\"><div class=\"sk-label-container\"><div class=\"sk-label sk-toggleable\"><input class=\"sk-toggleable__control sk-hidden--visually\" id=\"sk-estimator-id-31\" type=\"checkbox\" ><label for=\"sk-estimator-id-31\" class=\"sk-toggleable__label sk-toggleable__label-arrow\">estimator: Pipeline</label><div class=\"sk-toggleable__content\"><pre>Pipeline(memory=&#x27;D:\\\\lab_temp&#x27;,\n",
       "         steps=[(&#x27;preprocessor&#x27;,\n",
       "                 ColumnTransformer(transformers=[(&#x27;numerical&#x27;,\n",
       "                                                  Pipeline(memory=&#x27;D:\\\\lab_temp&#x27;,\n",
       "                                                           steps=[(&#x27;imputer&#x27;,\n",
       "                                                                   SimpleImputer(strategy=&#x27;median&#x27;)),\n",
       "                                                                  (&#x27;scaler&#x27;,\n",
       "                                                                   StandardScaler())]),\n",
       "                                                  array([  0,   3,   4,   6,   7,   8,   9,  10,  11,  12,  13,  14,  15,\n",
       "        16,  17,  18,  19,  20,  21,  22,  24,  25,  26,  27,  28,  30,\n",
       "        31,  32,  33,  34,  35,  36,  37,  38,  39,  40,  41,  42,  43,\n",
       "        44,  45,  46,  48,  49,  50,  51,...\n",
       "                                                  Pipeline(memory=&#x27;D:\\\\lab_temp&#x27;,\n",
       "                                                           steps=[(&#x27;imputer&#x27;,\n",
       "                                                                   SimpleImputer(strategy=&#x27;most_frequent&#x27;)),\n",
       "                                                                  (&#x27;encoder&#x27;,\n",
       "                                                                   OneHotEncoder(handle_unknown=&#x27;ignore&#x27;,\n",
       "                                                                                 sparse_output=False))]),\n",
       "                                                  array([  1,   2,   5,  29,  53,  77, 101, 125, 149, 173, 197, 221,  23,\n",
       "        47,  71,  95, 119, 143, 167, 191, 215, 239]))])),\n",
       "                (&#x27;feature_selection&#x27;, SelectKBest(k=100)),\n",
       "                (&#x27;classifier&#x27;,\n",
       "                 &lt;catboost.core.CatBoostClassifier object at 0x000001A600481970&gt;)])</pre></div></div></div><div class=\"sk-serial\"><div class=\"sk-item\"><div class=\"sk-serial\"><div class=\"sk-item sk-dashed-wrapped\"><div class=\"sk-label-container\"><div class=\"sk-label sk-toggleable\"><input class=\"sk-toggleable__control sk-hidden--visually\" id=\"sk-estimator-id-32\" type=\"checkbox\" ><label for=\"sk-estimator-id-32\" class=\"sk-toggleable__label sk-toggleable__label-arrow\">preprocessor: ColumnTransformer</label><div class=\"sk-toggleable__content\"><pre>ColumnTransformer(transformers=[(&#x27;numerical&#x27;,\n",
       "                                 Pipeline(memory=&#x27;D:\\\\lab_temp&#x27;,\n",
       "                                          steps=[(&#x27;imputer&#x27;,\n",
       "                                                  SimpleImputer(strategy=&#x27;median&#x27;)),\n",
       "                                                 (&#x27;scaler&#x27;, StandardScaler())]),\n",
       "                                 array([  0,   3,   4,   6,   7,   8,   9,  10,  11,  12,  13,  14,  15,\n",
       "        16,  17,  18,  19,  20,  21,  22,  24,  25,  26,  27,  28,  30,\n",
       "        31,  32,  33,  34,  35,  36,  37,  38,  39,  40,  41,  42,  43,\n",
       "        44,  45,  46,  48,  49,  50,  51,  52,  54,  55,  56,  57,  58,\n",
       "        59,  60,  61,  62,  63,  64,  65,  66,  67,  68,  69,  70,...\n",
       "       214, 216, 217, 218, 219, 220, 222, 223, 224, 225, 226, 227, 228,\n",
       "       229, 230, 231, 232, 233, 234, 235, 236, 237, 238, 240, 241, 242,\n",
       "       243, 244])),\n",
       "                                (&#x27;categorical&#x27;,\n",
       "                                 Pipeline(memory=&#x27;D:\\\\lab_temp&#x27;,\n",
       "                                          steps=[(&#x27;imputer&#x27;,\n",
       "                                                  SimpleImputer(strategy=&#x27;most_frequent&#x27;)),\n",
       "                                                 (&#x27;encoder&#x27;,\n",
       "                                                  OneHotEncoder(handle_unknown=&#x27;ignore&#x27;,\n",
       "                                                                sparse_output=False))]),\n",
       "                                 array([  1,   2,   5,  29,  53,  77, 101, 125, 149, 173, 197, 221,  23,\n",
       "        47,  71,  95, 119, 143, 167, 191, 215, 239]))])</pre></div></div></div><div class=\"sk-parallel\"><div class=\"sk-parallel-item\"><div class=\"sk-item\"><div class=\"sk-label-container\"><div class=\"sk-label sk-toggleable\"><input class=\"sk-toggleable__control sk-hidden--visually\" id=\"sk-estimator-id-33\" type=\"checkbox\" ><label for=\"sk-estimator-id-33\" class=\"sk-toggleable__label sk-toggleable__label-arrow\">numerical</label><div class=\"sk-toggleable__content\"><pre>[  0   3   4   6   7   8   9  10  11  12  13  14  15  16  17  18  19  20\n",
       "  21  22  24  25  26  27  28  30  31  32  33  34  35  36  37  38  39  40\n",
       "  41  42  43  44  45  46  48  49  50  51  52  54  55  56  57  58  59  60\n",
       "  61  62  63  64  65  66  67  68  69  70  72  73  74  75  76  78  79  80\n",
       "  81  82  83  84  85  86  87  88  89  90  91  92  93  94  96  97  98  99\n",
       " 100 102 103 104 105 106 107 108 109 110 111 112 113 114 115 116 117 118\n",
       " 120 121 122 123 124 126 127 128 129 130 131 132 133 134 135 136 137 138\n",
       " 139 140 141 142 144 145 146 147 148 150 151 152 153 154 155 156 157 158\n",
       " 159 160 161 162 163 164 165 166 168 169 170 171 172 174 175 176 177 178\n",
       " 179 180 181 182 183 184 185 186 187 188 189 190 192 193 194 195 196 198\n",
       " 199 200 201 202 203 204 205 206 207 208 209 210 211 212 213 214 216 217\n",
       " 218 219 220 222 223 224 225 226 227 228 229 230 231 232 233 234 235 236\n",
       " 237 238 240 241 242 243 244]</pre></div></div></div><div class=\"sk-serial\"><div class=\"sk-item\"><div class=\"sk-serial\"><div class=\"sk-item\"><div class=\"sk-estimator sk-toggleable\"><input class=\"sk-toggleable__control sk-hidden--visually\" id=\"sk-estimator-id-34\" type=\"checkbox\" ><label for=\"sk-estimator-id-34\" class=\"sk-toggleable__label sk-toggleable__label-arrow\">SimpleImputer</label><div class=\"sk-toggleable__content\"><pre>SimpleImputer(strategy=&#x27;median&#x27;)</pre></div></div></div><div class=\"sk-item\"><div class=\"sk-estimator sk-toggleable\"><input class=\"sk-toggleable__control sk-hidden--visually\" id=\"sk-estimator-id-35\" type=\"checkbox\" ><label for=\"sk-estimator-id-35\" class=\"sk-toggleable__label sk-toggleable__label-arrow\">StandardScaler</label><div class=\"sk-toggleable__content\"><pre>StandardScaler()</pre></div></div></div></div></div></div></div></div><div class=\"sk-parallel-item\"><div class=\"sk-item\"><div class=\"sk-label-container\"><div class=\"sk-label sk-toggleable\"><input class=\"sk-toggleable__control sk-hidden--visually\" id=\"sk-estimator-id-36\" type=\"checkbox\" ><label for=\"sk-estimator-id-36\" class=\"sk-toggleable__label sk-toggleable__label-arrow\">categorical</label><div class=\"sk-toggleable__content\"><pre>[  1   2   5  29  53  77 101 125 149 173 197 221  23  47  71  95 119 143\n",
       " 167 191 215 239]</pre></div></div></div><div class=\"sk-serial\"><div class=\"sk-item\"><div class=\"sk-serial\"><div class=\"sk-item\"><div class=\"sk-estimator sk-toggleable\"><input class=\"sk-toggleable__control sk-hidden--visually\" id=\"sk-estimator-id-37\" type=\"checkbox\" ><label for=\"sk-estimator-id-37\" class=\"sk-toggleable__label sk-toggleable__label-arrow\">SimpleImputer</label><div class=\"sk-toggleable__content\"><pre>SimpleImputer(strategy=&#x27;most_frequent&#x27;)</pre></div></div></div><div class=\"sk-item\"><div class=\"sk-estimator sk-toggleable\"><input class=\"sk-toggleable__control sk-hidden--visually\" id=\"sk-estimator-id-38\" type=\"checkbox\" ><label for=\"sk-estimator-id-38\" class=\"sk-toggleable__label sk-toggleable__label-arrow\">OneHotEncoder</label><div class=\"sk-toggleable__content\"><pre>OneHotEncoder(handle_unknown=&#x27;ignore&#x27;, sparse_output=False)</pre></div></div></div></div></div></div></div></div></div></div><div class=\"sk-item\"><div class=\"sk-estimator sk-toggleable\"><input class=\"sk-toggleable__control sk-hidden--visually\" id=\"sk-estimator-id-39\" type=\"checkbox\" ><label for=\"sk-estimator-id-39\" class=\"sk-toggleable__label sk-toggleable__label-arrow\">SelectKBest</label><div class=\"sk-toggleable__content\"><pre>SelectKBest(k=100)</pre></div></div></div><div class=\"sk-item\"><div class=\"sk-estimator sk-toggleable\"><input class=\"sk-toggleable__control sk-hidden--visually\" id=\"sk-estimator-id-40\" type=\"checkbox\" ><label for=\"sk-estimator-id-40\" class=\"sk-toggleable__label sk-toggleable__label-arrow\">CatBoostClassifier</label><div class=\"sk-toggleable__content\"><pre>&lt;catboost.core.CatBoostClassifier object at 0x000001A600481970&gt;</pre></div></div></div></div></div></div></div></div></div></div></div></div>"
      ],
      "text/plain": [
       "GridSearchCV(cv=5,\n",
       "             estimator=Pipeline(memory='D:\\\\lab_temp',\n",
       "                                steps=[('preprocessor',\n",
       "                                        ColumnTransformer(transformers=[('numerical',\n",
       "                                                                         Pipeline(memory='D:\\\\lab_temp',\n",
       "                                                                                  steps=[('imputer',\n",
       "                                                                                          SimpleImputer(strategy='median')),\n",
       "                                                                                         ('scaler',\n",
       "                                                                                          StandardScaler())]),\n",
       "                                                                         array([  0,   3,   4,   6,   7,   8,   9,  10,  11,  12,  13,  14,  15,\n",
       "        16,  17,  18,  19,  20,  21,  22,  24,  25,  26,  27,  28,  30,\n",
       "        31,  32,  33,  34,  35,  36,  37,  38,  39,  40,  41...\n",
       "                                                                                                        sparse_output=False))]),\n",
       "                                                                         array([  1,   2,   5,  29,  53,  77, 101, 125, 149, 173, 197, 221,  23,\n",
       "        47,  71,  95, 119, 143, 167, 191, 215, 239]))])),\n",
       "                                       ('feature_selection',\n",
       "                                        SelectKBest(k=100)),\n",
       "                                       ('classifier',\n",
       "                                        <catboost.core.CatBoostClassifier object at 0x000001A600481970>)]),\n",
       "             param_grid={'classifier__depth': [4, 6, 10],\n",
       "                         'classifier__l2_leaf_reg': [1, 3, 10],\n",
       "                         'classifier__min_data_in_leaf': [1, 3, 5]},\n",
       "             scoring='roc_auc')"
      ]
     },
     "execution_count": 37,
     "metadata": {},
     "output_type": "execute_result"
    }
   ],
   "source": [
    "%%time\n",
    "\n",
    "catbst_skb = Pipeline(\n",
    "    memory=cache_dir,\n",
    "    steps=[\n",
    "        (\"preprocessor\", preprocessor),\n",
    "        (\"feature_selection\", SelectKBest(k=100)),\n",
    "        (\"classifier\", CatBoostClassifier(verbose=False,\n",
    "                                          eval_metric='AUC',\n",
    "                                          iterations=200,\n",
    "                                          random_state=my_seed))\n",
    "    ]\n",
    ")\n",
    "\n",
    "param_grid = {\n",
    "        'classifier__l2_leaf_reg': [1, 3, 10],\n",
    "        'classifier__min_data_in_leaf': [1, 3, 5],\n",
    "        'classifier__depth': [4, 6, 10]\n",
    "    }\n",
    "\n",
    "catbst_skb_gs = GridSearchCV(catbst_skb, param_grid, cv=5, scoring='roc_auc')\n",
    "catbst_skb_gs.fit(X_train, y_train)"
   ]
  },
  {
   "cell_type": "code",
   "execution_count": 38,
   "id": "X6rkyI2MOlw9",
   "metadata": {
    "colab": {
     "base_uri": "https://localhost:8080/"
    },
    "id": "X6rkyI2MOlw9",
    "outputId": "90078f61-f56d-42ed-db9d-6f53ef7a0094"
   },
   "outputs": [
    {
     "name": "stdout",
     "output_type": "stream",
     "text": [
      "CatBoost best score: 0.7814014623729219\n",
      "CatBoost best parameters:\n",
      "{'classifier__depth': 10, 'classifier__l2_leaf_reg': 10, 'classifier__min_data_in_leaf': 1}\n"
     ]
    }
   ],
   "source": [
    "print('CatBoost best score:', catbst_skb_gs.best_score_)\n",
    "print('CatBoost best parameters:')\n",
    "print(catbst_skb_gs.best_params_)"
   ]
  },
  {
   "cell_type": "code",
   "execution_count": 39,
   "id": "hlG1rKn4Onh5",
   "metadata": {
    "colab": {
     "base_uri": "https://localhost:8080/"
    },
    "id": "hlG1rKn4Onh5",
    "outputId": "83f65dc8-4f28-49d6-e380-833ee2886ff8"
   },
   "outputs": [
    {
     "name": "stdout",
     "output_type": "stream",
     "text": [
      "roc_auc_score: 0.7108910987618212\n"
     ]
    }
   ],
   "source": [
    "catbst_gs_best = Pipeline(\n",
    "    memory=cache_dir,\n",
    "    steps=[\n",
    "        (\"preprocessor\", preprocessor),\n",
    "        (\"classifier\", CatBoostClassifier(verbose=False,\n",
    "                                          eval_metric='AUC',\n",
    "                                          depth=10,\n",
    "                                          l2_leaf_reg=10,\n",
    "                                          min_data_in_leaf=1,\n",
    "                                          random_state=my_seed))\n",
    "    ]\n",
    ")\n",
    "\n",
    "catbst_gs_best.fit(X_train, y_train)\n",
    "print('roc_auc_score:', roc_auc_score(y_test, catbst_gs_best.predict(X_test)))"
   ]
  },
  {
   "cell_type": "code",
   "execution_count": 191,
   "id": "2e8068ae-2689-4356-a66c-817854f78148",
   "metadata": {},
   "outputs": [
    {
     "name": "stdout",
     "output_type": "stream",
     "text": [
      "Cross-validation roc_auc scores: [0.80858021 0.8057669  0.80068221 0.79979911 0.80134583]\n",
      "Mean roc_auc: 0.8032348511042946\n"
     ]
    }
   ],
   "source": [
    "scores = cross_val_score(catbst_gs_best, X, y_cv, cv=5, scoring='roc_auc')\n",
    "print(\"Cross-validation roc_auc scores:\", scores)\n",
    "print(\"Mean roc_auc:\", scores.mean())"
   ]
  },
  {
   "cell_type": "markdown",
   "id": "UqyIPp2Caeju",
   "metadata": {
    "id": "UqyIPp2Caeju"
   },
   "source": [
    "### Эксперимент 4\n",
    "Использование XGBClassifier"
   ]
  },
  {
   "cell_type": "code",
   "execution_count": 40,
   "id": "QARS7FH27pnw",
   "metadata": {
    "colab": {
     "base_uri": "https://localhost:8080/"
    },
    "id": "QARS7FH27pnw",
    "outputId": "156cc696-082e-46d0-c116-0da352bf95d0"
   },
   "outputs": [
    {
     "name": "stdout",
     "output_type": "stream",
     "text": [
      "Requirement already satisfied: xgboost in c:\\users\\dmitriy\\anaconda3\\lib\\site-packages (2.1.2)\n",
      "Requirement already satisfied: numpy in c:\\users\\dmitriy\\anaconda3\\lib\\site-packages (from xgboost) (1.24.3)\n",
      "Requirement already satisfied: scipy in c:\\users\\dmitriy\\anaconda3\\lib\\site-packages (from xgboost) (1.10.1)\n"
     ]
    }
   ],
   "source": [
    "!pip install xgboost"
   ]
  },
  {
   "cell_type": "code",
   "execution_count": 41,
   "id": "joMIOnxo7stK",
   "metadata": {
    "id": "joMIOnxo7stK"
   },
   "outputs": [],
   "source": [
    "import xgboost as xgb"
   ]
  },
  {
   "cell_type": "code",
   "execution_count": 183,
   "id": "dIMENR1jJKRh",
   "metadata": {
    "colab": {
     "base_uri": "https://localhost:8080/",
     "height": 296
    },
    "id": "dIMENR1jJKRh",
    "outputId": "af67cd91-06e6-4aeb-fbe8-b7c600d034c9"
   },
   "outputs": [
    {
     "name": "stdout",
     "output_type": "stream",
     "text": [
      "CPU times: total: 18.4 s\n",
      "Wall time: 2.75 s\n"
     ]
    },
    {
     "data": {
      "text/html": [
       "<style>#sk-container-id-57 {color: black;background-color: white;}#sk-container-id-57 pre{padding: 0;}#sk-container-id-57 div.sk-toggleable {background-color: white;}#sk-container-id-57 label.sk-toggleable__label {cursor: pointer;display: block;width: 100%;margin-bottom: 0;padding: 0.3em;box-sizing: border-box;text-align: center;}#sk-container-id-57 label.sk-toggleable__label-arrow:before {content: \"▸\";float: left;margin-right: 0.25em;color: #696969;}#sk-container-id-57 label.sk-toggleable__label-arrow:hover:before {color: black;}#sk-container-id-57 div.sk-estimator:hover label.sk-toggleable__label-arrow:before {color: black;}#sk-container-id-57 div.sk-toggleable__content {max-height: 0;max-width: 0;overflow: hidden;text-align: left;background-color: #f0f8ff;}#sk-container-id-57 div.sk-toggleable__content pre {margin: 0.2em;color: black;border-radius: 0.25em;background-color: #f0f8ff;}#sk-container-id-57 input.sk-toggleable__control:checked~div.sk-toggleable__content {max-height: 200px;max-width: 100%;overflow: auto;}#sk-container-id-57 input.sk-toggleable__control:checked~label.sk-toggleable__label-arrow:before {content: \"▾\";}#sk-container-id-57 div.sk-estimator input.sk-toggleable__control:checked~label.sk-toggleable__label {background-color: #d4ebff;}#sk-container-id-57 div.sk-label input.sk-toggleable__control:checked~label.sk-toggleable__label {background-color: #d4ebff;}#sk-container-id-57 input.sk-hidden--visually {border: 0;clip: rect(1px 1px 1px 1px);clip: rect(1px, 1px, 1px, 1px);height: 1px;margin: -1px;overflow: hidden;padding: 0;position: absolute;width: 1px;}#sk-container-id-57 div.sk-estimator {font-family: monospace;background-color: #f0f8ff;border: 1px dotted black;border-radius: 0.25em;box-sizing: border-box;margin-bottom: 0.5em;}#sk-container-id-57 div.sk-estimator:hover {background-color: #d4ebff;}#sk-container-id-57 div.sk-parallel-item::after {content: \"\";width: 100%;border-bottom: 1px solid gray;flex-grow: 1;}#sk-container-id-57 div.sk-label:hover label.sk-toggleable__label {background-color: #d4ebff;}#sk-container-id-57 div.sk-serial::before {content: \"\";position: absolute;border-left: 1px solid gray;box-sizing: border-box;top: 0;bottom: 0;left: 50%;z-index: 0;}#sk-container-id-57 div.sk-serial {display: flex;flex-direction: column;align-items: center;background-color: white;padding-right: 0.2em;padding-left: 0.2em;position: relative;}#sk-container-id-57 div.sk-item {position: relative;z-index: 1;}#sk-container-id-57 div.sk-parallel {display: flex;align-items: stretch;justify-content: center;background-color: white;position: relative;}#sk-container-id-57 div.sk-item::before, #sk-container-id-57 div.sk-parallel-item::before {content: \"\";position: absolute;border-left: 1px solid gray;box-sizing: border-box;top: 0;bottom: 0;left: 50%;z-index: -1;}#sk-container-id-57 div.sk-parallel-item {display: flex;flex-direction: column;z-index: 1;position: relative;background-color: white;}#sk-container-id-57 div.sk-parallel-item:first-child::after {align-self: flex-end;width: 50%;}#sk-container-id-57 div.sk-parallel-item:last-child::after {align-self: flex-start;width: 50%;}#sk-container-id-57 div.sk-parallel-item:only-child::after {width: 0;}#sk-container-id-57 div.sk-dashed-wrapped {border: 1px dashed gray;margin: 0 0.4em 0.5em 0.4em;box-sizing: border-box;padding-bottom: 0.4em;background-color: white;}#sk-container-id-57 div.sk-label label {font-family: monospace;font-weight: bold;display: inline-block;line-height: 1.2em;}#sk-container-id-57 div.sk-label-container {text-align: center;}#sk-container-id-57 div.sk-container {/* jupyter's `normalize.less` sets `[hidden] { display: none; }` but bootstrap.min.css set `[hidden] { display: none !important; }` so we also need the `!important` here to be able to override the default hidden behavior on the sphinx rendered scikit-learn.org. See: https://github.com/scikit-learn/scikit-learn/issues/21755 */display: inline-block !important;position: relative;}#sk-container-id-57 div.sk-text-repr-fallback {display: none;}</style><div id=\"sk-container-id-57\" class=\"sk-top-container\"><div class=\"sk-text-repr-fallback\"><pre>Pipeline(memory=&#x27;D:\\\\lab_temp&#x27;,\n",
       "         steps=[(&#x27;preprocessor&#x27;,\n",
       "                 ColumnTransformer(transformers=[(&#x27;numerical&#x27;,\n",
       "                                                  Pipeline(memory=&#x27;D:\\\\lab_temp&#x27;,\n",
       "                                                           steps=[(&#x27;imputer&#x27;,\n",
       "                                                                   SimpleImputer(strategy=&#x27;median&#x27;)),\n",
       "                                                                  (&#x27;scaler&#x27;,\n",
       "                                                                   StandardScaler())]),\n",
       "                                                  array([  0,   3,   4,   6,   7,   8,   9,  10,  11,  12,  13,  14,  15,\n",
       "        16,  17,  18,  19,  20,  21,  22,  24,  25,  26,  27,  28,  30,\n",
       "        31,  32,  33,  34,  35,  36,  37,  38,  39,  40,  41,  42,  43,\n",
       "        44,  45,  46,  48,  49,  50,  51,...\n",
       "                               feature_types=None, gamma=None, grow_policy=None,\n",
       "                               importance_type=None,\n",
       "                               interaction_constraints=None, learning_rate=None,\n",
       "                               max_bin=None, max_cat_threshold=None,\n",
       "                               max_cat_to_onehot=None, max_delta_step=None,\n",
       "                               max_depth=None, max_leaves=None,\n",
       "                               min_child_weight=None, missing=nan,\n",
       "                               monotone_constraints=None, multi_strategy=None,\n",
       "                               n_estimators=None, n_jobs=None,\n",
       "                               num_parallel_tree=None, random_state=12345, ...))])</pre><b>In a Jupyter environment, please rerun this cell to show the HTML representation or trust the notebook. <br />On GitHub, the HTML representation is unable to render, please try loading this page with nbviewer.org.</b></div><div class=\"sk-container\" hidden><div class=\"sk-item sk-dashed-wrapped\"><div class=\"sk-label-container\"><div class=\"sk-label sk-toggleable\"><input class=\"sk-toggleable__control sk-hidden--visually\" id=\"sk-estimator-id-525\" type=\"checkbox\" ><label for=\"sk-estimator-id-525\" class=\"sk-toggleable__label sk-toggleable__label-arrow\">Pipeline</label><div class=\"sk-toggleable__content\"><pre>Pipeline(memory=&#x27;D:\\\\lab_temp&#x27;,\n",
       "         steps=[(&#x27;preprocessor&#x27;,\n",
       "                 ColumnTransformer(transformers=[(&#x27;numerical&#x27;,\n",
       "                                                  Pipeline(memory=&#x27;D:\\\\lab_temp&#x27;,\n",
       "                                                           steps=[(&#x27;imputer&#x27;,\n",
       "                                                                   SimpleImputer(strategy=&#x27;median&#x27;)),\n",
       "                                                                  (&#x27;scaler&#x27;,\n",
       "                                                                   StandardScaler())]),\n",
       "                                                  array([  0,   3,   4,   6,   7,   8,   9,  10,  11,  12,  13,  14,  15,\n",
       "        16,  17,  18,  19,  20,  21,  22,  24,  25,  26,  27,  28,  30,\n",
       "        31,  32,  33,  34,  35,  36,  37,  38,  39,  40,  41,  42,  43,\n",
       "        44,  45,  46,  48,  49,  50,  51,...\n",
       "                               feature_types=None, gamma=None, grow_policy=None,\n",
       "                               importance_type=None,\n",
       "                               interaction_constraints=None, learning_rate=None,\n",
       "                               max_bin=None, max_cat_threshold=None,\n",
       "                               max_cat_to_onehot=None, max_delta_step=None,\n",
       "                               max_depth=None, max_leaves=None,\n",
       "                               min_child_weight=None, missing=nan,\n",
       "                               monotone_constraints=None, multi_strategy=None,\n",
       "                               n_estimators=None, n_jobs=None,\n",
       "                               num_parallel_tree=None, random_state=12345, ...))])</pre></div></div></div><div class=\"sk-serial\"><div class=\"sk-item sk-dashed-wrapped\"><div class=\"sk-label-container\"><div class=\"sk-label sk-toggleable\"><input class=\"sk-toggleable__control sk-hidden--visually\" id=\"sk-estimator-id-526\" type=\"checkbox\" ><label for=\"sk-estimator-id-526\" class=\"sk-toggleable__label sk-toggleable__label-arrow\">preprocessor: ColumnTransformer</label><div class=\"sk-toggleable__content\"><pre>ColumnTransformer(transformers=[(&#x27;numerical&#x27;,\n",
       "                                 Pipeline(memory=&#x27;D:\\\\lab_temp&#x27;,\n",
       "                                          steps=[(&#x27;imputer&#x27;,\n",
       "                                                  SimpleImputer(strategy=&#x27;median&#x27;)),\n",
       "                                                 (&#x27;scaler&#x27;, StandardScaler())]),\n",
       "                                 array([  0,   3,   4,   6,   7,   8,   9,  10,  11,  12,  13,  14,  15,\n",
       "        16,  17,  18,  19,  20,  21,  22,  24,  25,  26,  27,  28,  30,\n",
       "        31,  32,  33,  34,  35,  36,  37,  38,  39,  40,  41,  42,  43,\n",
       "        44,  45,  46,  48,  49,  50,  51,  52,  54,  55,  56,  57,  58,\n",
       "        59,  60,  61,  62,  63,  64,  65,  66,  67,  68,  69,  70,...\n",
       "       214, 216, 217, 218, 219, 220, 222, 223, 224, 225, 226, 227, 228,\n",
       "       229, 230, 231, 232, 233, 234, 235, 236, 237, 238, 240, 241, 242,\n",
       "       243, 244])),\n",
       "                                (&#x27;categorical&#x27;,\n",
       "                                 Pipeline(memory=&#x27;D:\\\\lab_temp&#x27;,\n",
       "                                          steps=[(&#x27;imputer&#x27;,\n",
       "                                                  SimpleImputer(strategy=&#x27;most_frequent&#x27;)),\n",
       "                                                 (&#x27;encoder&#x27;,\n",
       "                                                  OneHotEncoder(handle_unknown=&#x27;ignore&#x27;,\n",
       "                                                                sparse_output=False))]),\n",
       "                                 array([  1,   2,   5,  29,  53,  77, 101, 125, 149, 173, 197, 221,  23,\n",
       "        47,  71,  95, 119, 143, 167, 191, 215, 239]))])</pre></div></div></div><div class=\"sk-parallel\"><div class=\"sk-parallel-item\"><div class=\"sk-item\"><div class=\"sk-label-container\"><div class=\"sk-label sk-toggleable\"><input class=\"sk-toggleable__control sk-hidden--visually\" id=\"sk-estimator-id-527\" type=\"checkbox\" ><label for=\"sk-estimator-id-527\" class=\"sk-toggleable__label sk-toggleable__label-arrow\">numerical</label><div class=\"sk-toggleable__content\"><pre>[  0   3   4   6   7   8   9  10  11  12  13  14  15  16  17  18  19  20\n",
       "  21  22  24  25  26  27  28  30  31  32  33  34  35  36  37  38  39  40\n",
       "  41  42  43  44  45  46  48  49  50  51  52  54  55  56  57  58  59  60\n",
       "  61  62  63  64  65  66  67  68  69  70  72  73  74  75  76  78  79  80\n",
       "  81  82  83  84  85  86  87  88  89  90  91  92  93  94  96  97  98  99\n",
       " 100 102 103 104 105 106 107 108 109 110 111 112 113 114 115 116 117 118\n",
       " 120 121 122 123 124 126 127 128 129 130 131 132 133 134 135 136 137 138\n",
       " 139 140 141 142 144 145 146 147 148 150 151 152 153 154 155 156 157 158\n",
       " 159 160 161 162 163 164 165 166 168 169 170 171 172 174 175 176 177 178\n",
       " 179 180 181 182 183 184 185 186 187 188 189 190 192 193 194 195 196 198\n",
       " 199 200 201 202 203 204 205 206 207 208 209 210 211 212 213 214 216 217\n",
       " 218 219 220 222 223 224 225 226 227 228 229 230 231 232 233 234 235 236\n",
       " 237 238 240 241 242 243 244]</pre></div></div></div><div class=\"sk-serial\"><div class=\"sk-item\"><div class=\"sk-serial\"><div class=\"sk-item\"><div class=\"sk-estimator sk-toggleable\"><input class=\"sk-toggleable__control sk-hidden--visually\" id=\"sk-estimator-id-528\" type=\"checkbox\" ><label for=\"sk-estimator-id-528\" class=\"sk-toggleable__label sk-toggleable__label-arrow\">SimpleImputer</label><div class=\"sk-toggleable__content\"><pre>SimpleImputer(strategy=&#x27;median&#x27;)</pre></div></div></div><div class=\"sk-item\"><div class=\"sk-estimator sk-toggleable\"><input class=\"sk-toggleable__control sk-hidden--visually\" id=\"sk-estimator-id-529\" type=\"checkbox\" ><label for=\"sk-estimator-id-529\" class=\"sk-toggleable__label sk-toggleable__label-arrow\">StandardScaler</label><div class=\"sk-toggleable__content\"><pre>StandardScaler()</pre></div></div></div></div></div></div></div></div><div class=\"sk-parallel-item\"><div class=\"sk-item\"><div class=\"sk-label-container\"><div class=\"sk-label sk-toggleable\"><input class=\"sk-toggleable__control sk-hidden--visually\" id=\"sk-estimator-id-530\" type=\"checkbox\" ><label for=\"sk-estimator-id-530\" class=\"sk-toggleable__label sk-toggleable__label-arrow\">categorical</label><div class=\"sk-toggleable__content\"><pre>[  1   2   5  29  53  77 101 125 149 173 197 221  23  47  71  95 119 143\n",
       " 167 191 215 239]</pre></div></div></div><div class=\"sk-serial\"><div class=\"sk-item\"><div class=\"sk-serial\"><div class=\"sk-item\"><div class=\"sk-estimator sk-toggleable\"><input class=\"sk-toggleable__control sk-hidden--visually\" id=\"sk-estimator-id-531\" type=\"checkbox\" ><label for=\"sk-estimator-id-531\" class=\"sk-toggleable__label sk-toggleable__label-arrow\">SimpleImputer</label><div class=\"sk-toggleable__content\"><pre>SimpleImputer(strategy=&#x27;most_frequent&#x27;)</pre></div></div></div><div class=\"sk-item\"><div class=\"sk-estimator sk-toggleable\"><input class=\"sk-toggleable__control sk-hidden--visually\" id=\"sk-estimator-id-532\" type=\"checkbox\" ><label for=\"sk-estimator-id-532\" class=\"sk-toggleable__label sk-toggleable__label-arrow\">OneHotEncoder</label><div class=\"sk-toggleable__content\"><pre>OneHotEncoder(handle_unknown=&#x27;ignore&#x27;, sparse_output=False)</pre></div></div></div></div></div></div></div></div></div></div><div class=\"sk-item\"><div class=\"sk-estimator sk-toggleable\"><input class=\"sk-toggleable__control sk-hidden--visually\" id=\"sk-estimator-id-533\" type=\"checkbox\" ><label for=\"sk-estimator-id-533\" class=\"sk-toggleable__label sk-toggleable__label-arrow\">XGBClassifier</label><div class=\"sk-toggleable__content\"><pre>XGBClassifier(base_score=None, booster=None, callbacks=None,\n",
       "              colsample_bylevel=None, colsample_bynode=None,\n",
       "              colsample_bytree=None, device=None, early_stopping_rounds=None,\n",
       "              enable_categorical=False, eval_metric=&#x27;auc&#x27;, feature_types=None,\n",
       "              gamma=None, grow_policy=None, importance_type=None,\n",
       "              interaction_constraints=None, learning_rate=None, max_bin=None,\n",
       "              max_cat_threshold=None, max_cat_to_onehot=None,\n",
       "              max_delta_step=None, max_depth=None, max_leaves=None,\n",
       "              min_child_weight=None, missing=nan, monotone_constraints=None,\n",
       "              multi_strategy=None, n_estimators=None, n_jobs=None,\n",
       "              num_parallel_tree=None, random_state=12345, ...)</pre></div></div></div></div></div></div></div>"
      ],
      "text/plain": [
       "Pipeline(memory='D:\\\\lab_temp',\n",
       "         steps=[('preprocessor',\n",
       "                 ColumnTransformer(transformers=[('numerical',\n",
       "                                                  Pipeline(memory='D:\\\\lab_temp',\n",
       "                                                           steps=[('imputer',\n",
       "                                                                   SimpleImputer(strategy='median')),\n",
       "                                                                  ('scaler',\n",
       "                                                                   StandardScaler())]),\n",
       "                                                  array([  0,   3,   4,   6,   7,   8,   9,  10,  11,  12,  13,  14,  15,\n",
       "        16,  17,  18,  19,  20,  21,  22,  24,  25,  26,  27,  28,  30,\n",
       "        31,  32,  33,  34,  35,  36,  37,  38,  39,  40,  41,  42,  43,\n",
       "        44,  45,  46,  48,  49,  50,  51,...\n",
       "                               feature_types=None, gamma=None, grow_policy=None,\n",
       "                               importance_type=None,\n",
       "                               interaction_constraints=None, learning_rate=None,\n",
       "                               max_bin=None, max_cat_threshold=None,\n",
       "                               max_cat_to_onehot=None, max_delta_step=None,\n",
       "                               max_depth=None, max_leaves=None,\n",
       "                               min_child_weight=None, missing=nan,\n",
       "                               monotone_constraints=None, multi_strategy=None,\n",
       "                               n_estimators=None, n_jobs=None,\n",
       "                               num_parallel_tree=None, random_state=12345, ...))])"
      ]
     },
     "execution_count": 183,
     "metadata": {},
     "output_type": "execute_result"
    }
   ],
   "source": [
    "%%time\n",
    "\n",
    "xgb_c = Pipeline(\n",
    "    memory=cache_dir,\n",
    "    steps=[\n",
    "        ('preprocessor', preprocessor),\n",
    "        ('classifier', xgb.XGBClassifier(eval_metric='auc',\n",
    "                                         objective='binary:logistic',\n",
    "                                         random_state=my_seed))\n",
    "    ]\n",
    ")\n",
    "\n",
    "xgb_c.fit(X_train, y_train)"
   ]
  },
  {
   "cell_type": "code",
   "execution_count": 184,
   "id": "3pxOq1ql9kQ7",
   "metadata": {
    "colab": {
     "base_uri": "https://localhost:8080/"
    },
    "id": "3pxOq1ql9kQ7",
    "outputId": "cf0b348d-cd21-4c6d-c4f3-b90d1dc07f51"
   },
   "outputs": [
    {
     "name": "stdout",
     "output_type": "stream",
     "text": [
      "roc_auc_score:  0.69870169965227\n"
     ]
    }
   ],
   "source": [
    "print('roc_auc_score: ', roc_auc_score(y_test, xgb_c.predict(X_test)))"
   ]
  },
  {
   "cell_type": "code",
   "execution_count": 185,
   "id": "ge92qivh8ro1",
   "metadata": {
    "colab": {
     "base_uri": "https://localhost:8080/",
     "height": 1000
    },
    "id": "ge92qivh8ro1",
    "outputId": "924bceca-1b37-416b-ca97-8e5be77a1c75"
   },
   "outputs": [
    {
     "name": "stdout",
     "output_type": "stream",
     "text": [
      "CPU times: total: 18min 42s\n",
      "Wall time: 2min 52s\n"
     ]
    },
    {
     "data": {
      "text/html": [
       "<style>#sk-container-id-58 {color: black;background-color: white;}#sk-container-id-58 pre{padding: 0;}#sk-container-id-58 div.sk-toggleable {background-color: white;}#sk-container-id-58 label.sk-toggleable__label {cursor: pointer;display: block;width: 100%;margin-bottom: 0;padding: 0.3em;box-sizing: border-box;text-align: center;}#sk-container-id-58 label.sk-toggleable__label-arrow:before {content: \"▸\";float: left;margin-right: 0.25em;color: #696969;}#sk-container-id-58 label.sk-toggleable__label-arrow:hover:before {color: black;}#sk-container-id-58 div.sk-estimator:hover label.sk-toggleable__label-arrow:before {color: black;}#sk-container-id-58 div.sk-toggleable__content {max-height: 0;max-width: 0;overflow: hidden;text-align: left;background-color: #f0f8ff;}#sk-container-id-58 div.sk-toggleable__content pre {margin: 0.2em;color: black;border-radius: 0.25em;background-color: #f0f8ff;}#sk-container-id-58 input.sk-toggleable__control:checked~div.sk-toggleable__content {max-height: 200px;max-width: 100%;overflow: auto;}#sk-container-id-58 input.sk-toggleable__control:checked~label.sk-toggleable__label-arrow:before {content: \"▾\";}#sk-container-id-58 div.sk-estimator input.sk-toggleable__control:checked~label.sk-toggleable__label {background-color: #d4ebff;}#sk-container-id-58 div.sk-label input.sk-toggleable__control:checked~label.sk-toggleable__label {background-color: #d4ebff;}#sk-container-id-58 input.sk-hidden--visually {border: 0;clip: rect(1px 1px 1px 1px);clip: rect(1px, 1px, 1px, 1px);height: 1px;margin: -1px;overflow: hidden;padding: 0;position: absolute;width: 1px;}#sk-container-id-58 div.sk-estimator {font-family: monospace;background-color: #f0f8ff;border: 1px dotted black;border-radius: 0.25em;box-sizing: border-box;margin-bottom: 0.5em;}#sk-container-id-58 div.sk-estimator:hover {background-color: #d4ebff;}#sk-container-id-58 div.sk-parallel-item::after {content: \"\";width: 100%;border-bottom: 1px solid gray;flex-grow: 1;}#sk-container-id-58 div.sk-label:hover label.sk-toggleable__label {background-color: #d4ebff;}#sk-container-id-58 div.sk-serial::before {content: \"\";position: absolute;border-left: 1px solid gray;box-sizing: border-box;top: 0;bottom: 0;left: 50%;z-index: 0;}#sk-container-id-58 div.sk-serial {display: flex;flex-direction: column;align-items: center;background-color: white;padding-right: 0.2em;padding-left: 0.2em;position: relative;}#sk-container-id-58 div.sk-item {position: relative;z-index: 1;}#sk-container-id-58 div.sk-parallel {display: flex;align-items: stretch;justify-content: center;background-color: white;position: relative;}#sk-container-id-58 div.sk-item::before, #sk-container-id-58 div.sk-parallel-item::before {content: \"\";position: absolute;border-left: 1px solid gray;box-sizing: border-box;top: 0;bottom: 0;left: 50%;z-index: -1;}#sk-container-id-58 div.sk-parallel-item {display: flex;flex-direction: column;z-index: 1;position: relative;background-color: white;}#sk-container-id-58 div.sk-parallel-item:first-child::after {align-self: flex-end;width: 50%;}#sk-container-id-58 div.sk-parallel-item:last-child::after {align-self: flex-start;width: 50%;}#sk-container-id-58 div.sk-parallel-item:only-child::after {width: 0;}#sk-container-id-58 div.sk-dashed-wrapped {border: 1px dashed gray;margin: 0 0.4em 0.5em 0.4em;box-sizing: border-box;padding-bottom: 0.4em;background-color: white;}#sk-container-id-58 div.sk-label label {font-family: monospace;font-weight: bold;display: inline-block;line-height: 1.2em;}#sk-container-id-58 div.sk-label-container {text-align: center;}#sk-container-id-58 div.sk-container {/* jupyter's `normalize.less` sets `[hidden] { display: none; }` but bootstrap.min.css set `[hidden] { display: none !important; }` so we also need the `!important` here to be able to override the default hidden behavior on the sphinx rendered scikit-learn.org. See: https://github.com/scikit-learn/scikit-learn/issues/21755 */display: inline-block !important;position: relative;}#sk-container-id-58 div.sk-text-repr-fallback {display: none;}</style><div id=\"sk-container-id-58\" class=\"sk-top-container\"><div class=\"sk-text-repr-fallback\"><pre>GridSearchCV(cv=5,\n",
       "             estimator=Pipeline(memory=&#x27;D:\\\\lab_temp&#x27;,\n",
       "                                steps=[(&#x27;preprocessor&#x27;,\n",
       "                                        ColumnTransformer(transformers=[(&#x27;numerical&#x27;,\n",
       "                                                                         Pipeline(memory=&#x27;D:\\\\lab_temp&#x27;,\n",
       "                                                                                  steps=[(&#x27;imputer&#x27;,\n",
       "                                                                                          SimpleImputer(strategy=&#x27;median&#x27;)),\n",
       "                                                                                         (&#x27;scaler&#x27;,\n",
       "                                                                                          StandardScaler())]),\n",
       "                                                                         array([  0,   3,   4,   6,   7,   8,   9,  10,  11,  12,  13,  14,  15,\n",
       "        16,  17,  18,  19,  20,  21,  22,  24,  25,  26,  27,  28,  30,\n",
       "        31,  32,  33,  34,  35,  36,  37,  38,  39,  40,  41...\n",
       "                                                      max_cat_to_onehot=None,\n",
       "                                                      max_delta_step=None,\n",
       "                                                      max_depth=None,\n",
       "                                                      max_leaves=None,\n",
       "                                                      min_child_weight=None,\n",
       "                                                      missing=nan,\n",
       "                                                      monotone_constraints=None,\n",
       "                                                      multi_strategy=None,\n",
       "                                                      n_estimators=200,\n",
       "                                                      n_jobs=None,\n",
       "                                                      num_parallel_tree=None,\n",
       "                                                      random_state=12345, ...))]),\n",
       "             param_grid={&#x27;classifier__alpha&#x27;: [0, 1, 5],\n",
       "                         &#x27;classifier__lambda&#x27;: [0, 1, 5],\n",
       "                         &#x27;classifier__subsample&#x27;: [0.5, 1]},\n",
       "             scoring=&#x27;roc_auc&#x27;)</pre><b>In a Jupyter environment, please rerun this cell to show the HTML representation or trust the notebook. <br />On GitHub, the HTML representation is unable to render, please try loading this page with nbviewer.org.</b></div><div class=\"sk-container\" hidden><div class=\"sk-item sk-dashed-wrapped\"><div class=\"sk-label-container\"><div class=\"sk-label sk-toggleable\"><input class=\"sk-toggleable__control sk-hidden--visually\" id=\"sk-estimator-id-534\" type=\"checkbox\" ><label for=\"sk-estimator-id-534\" class=\"sk-toggleable__label sk-toggleable__label-arrow\">GridSearchCV</label><div class=\"sk-toggleable__content\"><pre>GridSearchCV(cv=5,\n",
       "             estimator=Pipeline(memory=&#x27;D:\\\\lab_temp&#x27;,\n",
       "                                steps=[(&#x27;preprocessor&#x27;,\n",
       "                                        ColumnTransformer(transformers=[(&#x27;numerical&#x27;,\n",
       "                                                                         Pipeline(memory=&#x27;D:\\\\lab_temp&#x27;,\n",
       "                                                                                  steps=[(&#x27;imputer&#x27;,\n",
       "                                                                                          SimpleImputer(strategy=&#x27;median&#x27;)),\n",
       "                                                                                         (&#x27;scaler&#x27;,\n",
       "                                                                                          StandardScaler())]),\n",
       "                                                                         array([  0,   3,   4,   6,   7,   8,   9,  10,  11,  12,  13,  14,  15,\n",
       "        16,  17,  18,  19,  20,  21,  22,  24,  25,  26,  27,  28,  30,\n",
       "        31,  32,  33,  34,  35,  36,  37,  38,  39,  40,  41...\n",
       "                                                      max_cat_to_onehot=None,\n",
       "                                                      max_delta_step=None,\n",
       "                                                      max_depth=None,\n",
       "                                                      max_leaves=None,\n",
       "                                                      min_child_weight=None,\n",
       "                                                      missing=nan,\n",
       "                                                      monotone_constraints=None,\n",
       "                                                      multi_strategy=None,\n",
       "                                                      n_estimators=200,\n",
       "                                                      n_jobs=None,\n",
       "                                                      num_parallel_tree=None,\n",
       "                                                      random_state=12345, ...))]),\n",
       "             param_grid={&#x27;classifier__alpha&#x27;: [0, 1, 5],\n",
       "                         &#x27;classifier__lambda&#x27;: [0, 1, 5],\n",
       "                         &#x27;classifier__subsample&#x27;: [0.5, 1]},\n",
       "             scoring=&#x27;roc_auc&#x27;)</pre></div></div></div><div class=\"sk-parallel\"><div class=\"sk-parallel-item\"><div class=\"sk-item\"><div class=\"sk-label-container\"><div class=\"sk-label sk-toggleable\"><input class=\"sk-toggleable__control sk-hidden--visually\" id=\"sk-estimator-id-535\" type=\"checkbox\" ><label for=\"sk-estimator-id-535\" class=\"sk-toggleable__label sk-toggleable__label-arrow\">estimator: Pipeline</label><div class=\"sk-toggleable__content\"><pre>Pipeline(memory=&#x27;D:\\\\lab_temp&#x27;,\n",
       "         steps=[(&#x27;preprocessor&#x27;,\n",
       "                 ColumnTransformer(transformers=[(&#x27;numerical&#x27;,\n",
       "                                                  Pipeline(memory=&#x27;D:\\\\lab_temp&#x27;,\n",
       "                                                           steps=[(&#x27;imputer&#x27;,\n",
       "                                                                   SimpleImputer(strategy=&#x27;median&#x27;)),\n",
       "                                                                  (&#x27;scaler&#x27;,\n",
       "                                                                   StandardScaler())]),\n",
       "                                                  array([  0,   3,   4,   6,   7,   8,   9,  10,  11,  12,  13,  14,  15,\n",
       "        16,  17,  18,  19,  20,  21,  22,  24,  25,  26,  27,  28,  30,\n",
       "        31,  32,  33,  34,  35,  36,  37,  38,  39,  40,  41,  42,  43,\n",
       "        44,  45,  46,  48,  49,  50,  51,...\n",
       "                               feature_types=None, gamma=None, grow_policy=None,\n",
       "                               importance_type=None,\n",
       "                               interaction_constraints=None, learning_rate=0.05,\n",
       "                               max_bin=None, max_cat_threshold=None,\n",
       "                               max_cat_to_onehot=None, max_delta_step=None,\n",
       "                               max_depth=None, max_leaves=None,\n",
       "                               min_child_weight=None, missing=nan,\n",
       "                               monotone_constraints=None, multi_strategy=None,\n",
       "                               n_estimators=200, n_jobs=None,\n",
       "                               num_parallel_tree=None, random_state=12345, ...))])</pre></div></div></div><div class=\"sk-serial\"><div class=\"sk-item\"><div class=\"sk-serial\"><div class=\"sk-item sk-dashed-wrapped\"><div class=\"sk-label-container\"><div class=\"sk-label sk-toggleable\"><input class=\"sk-toggleable__control sk-hidden--visually\" id=\"sk-estimator-id-536\" type=\"checkbox\" ><label for=\"sk-estimator-id-536\" class=\"sk-toggleable__label sk-toggleable__label-arrow\">preprocessor: ColumnTransformer</label><div class=\"sk-toggleable__content\"><pre>ColumnTransformer(transformers=[(&#x27;numerical&#x27;,\n",
       "                                 Pipeline(memory=&#x27;D:\\\\lab_temp&#x27;,\n",
       "                                          steps=[(&#x27;imputer&#x27;,\n",
       "                                                  SimpleImputer(strategy=&#x27;median&#x27;)),\n",
       "                                                 (&#x27;scaler&#x27;, StandardScaler())]),\n",
       "                                 array([  0,   3,   4,   6,   7,   8,   9,  10,  11,  12,  13,  14,  15,\n",
       "        16,  17,  18,  19,  20,  21,  22,  24,  25,  26,  27,  28,  30,\n",
       "        31,  32,  33,  34,  35,  36,  37,  38,  39,  40,  41,  42,  43,\n",
       "        44,  45,  46,  48,  49,  50,  51,  52,  54,  55,  56,  57,  58,\n",
       "        59,  60,  61,  62,  63,  64,  65,  66,  67,  68,  69,  70,...\n",
       "       214, 216, 217, 218, 219, 220, 222, 223, 224, 225, 226, 227, 228,\n",
       "       229, 230, 231, 232, 233, 234, 235, 236, 237, 238, 240, 241, 242,\n",
       "       243, 244])),\n",
       "                                (&#x27;categorical&#x27;,\n",
       "                                 Pipeline(memory=&#x27;D:\\\\lab_temp&#x27;,\n",
       "                                          steps=[(&#x27;imputer&#x27;,\n",
       "                                                  SimpleImputer(strategy=&#x27;most_frequent&#x27;)),\n",
       "                                                 (&#x27;encoder&#x27;,\n",
       "                                                  OneHotEncoder(handle_unknown=&#x27;ignore&#x27;,\n",
       "                                                                sparse_output=False))]),\n",
       "                                 array([  1,   2,   5,  29,  53,  77, 101, 125, 149, 173, 197, 221,  23,\n",
       "        47,  71,  95, 119, 143, 167, 191, 215, 239]))])</pre></div></div></div><div class=\"sk-parallel\"><div class=\"sk-parallel-item\"><div class=\"sk-item\"><div class=\"sk-label-container\"><div class=\"sk-label sk-toggleable\"><input class=\"sk-toggleable__control sk-hidden--visually\" id=\"sk-estimator-id-537\" type=\"checkbox\" ><label for=\"sk-estimator-id-537\" class=\"sk-toggleable__label sk-toggleable__label-arrow\">numerical</label><div class=\"sk-toggleable__content\"><pre>[  0   3   4   6   7   8   9  10  11  12  13  14  15  16  17  18  19  20\n",
       "  21  22  24  25  26  27  28  30  31  32  33  34  35  36  37  38  39  40\n",
       "  41  42  43  44  45  46  48  49  50  51  52  54  55  56  57  58  59  60\n",
       "  61  62  63  64  65  66  67  68  69  70  72  73  74  75  76  78  79  80\n",
       "  81  82  83  84  85  86  87  88  89  90  91  92  93  94  96  97  98  99\n",
       " 100 102 103 104 105 106 107 108 109 110 111 112 113 114 115 116 117 118\n",
       " 120 121 122 123 124 126 127 128 129 130 131 132 133 134 135 136 137 138\n",
       " 139 140 141 142 144 145 146 147 148 150 151 152 153 154 155 156 157 158\n",
       " 159 160 161 162 163 164 165 166 168 169 170 171 172 174 175 176 177 178\n",
       " 179 180 181 182 183 184 185 186 187 188 189 190 192 193 194 195 196 198\n",
       " 199 200 201 202 203 204 205 206 207 208 209 210 211 212 213 214 216 217\n",
       " 218 219 220 222 223 224 225 226 227 228 229 230 231 232 233 234 235 236\n",
       " 237 238 240 241 242 243 244]</pre></div></div></div><div class=\"sk-serial\"><div class=\"sk-item\"><div class=\"sk-serial\"><div class=\"sk-item\"><div class=\"sk-estimator sk-toggleable\"><input class=\"sk-toggleable__control sk-hidden--visually\" id=\"sk-estimator-id-538\" type=\"checkbox\" ><label for=\"sk-estimator-id-538\" class=\"sk-toggleable__label sk-toggleable__label-arrow\">SimpleImputer</label><div class=\"sk-toggleable__content\"><pre>SimpleImputer(strategy=&#x27;median&#x27;)</pre></div></div></div><div class=\"sk-item\"><div class=\"sk-estimator sk-toggleable\"><input class=\"sk-toggleable__control sk-hidden--visually\" id=\"sk-estimator-id-539\" type=\"checkbox\" ><label for=\"sk-estimator-id-539\" class=\"sk-toggleable__label sk-toggleable__label-arrow\">StandardScaler</label><div class=\"sk-toggleable__content\"><pre>StandardScaler()</pre></div></div></div></div></div></div></div></div><div class=\"sk-parallel-item\"><div class=\"sk-item\"><div class=\"sk-label-container\"><div class=\"sk-label sk-toggleable\"><input class=\"sk-toggleable__control sk-hidden--visually\" id=\"sk-estimator-id-540\" type=\"checkbox\" ><label for=\"sk-estimator-id-540\" class=\"sk-toggleable__label sk-toggleable__label-arrow\">categorical</label><div class=\"sk-toggleable__content\"><pre>[  1   2   5  29  53  77 101 125 149 173 197 221  23  47  71  95 119 143\n",
       " 167 191 215 239]</pre></div></div></div><div class=\"sk-serial\"><div class=\"sk-item\"><div class=\"sk-serial\"><div class=\"sk-item\"><div class=\"sk-estimator sk-toggleable\"><input class=\"sk-toggleable__control sk-hidden--visually\" id=\"sk-estimator-id-541\" type=\"checkbox\" ><label for=\"sk-estimator-id-541\" class=\"sk-toggleable__label sk-toggleable__label-arrow\">SimpleImputer</label><div class=\"sk-toggleable__content\"><pre>SimpleImputer(strategy=&#x27;most_frequent&#x27;)</pre></div></div></div><div class=\"sk-item\"><div class=\"sk-estimator sk-toggleable\"><input class=\"sk-toggleable__control sk-hidden--visually\" id=\"sk-estimator-id-542\" type=\"checkbox\" ><label for=\"sk-estimator-id-542\" class=\"sk-toggleable__label sk-toggleable__label-arrow\">OneHotEncoder</label><div class=\"sk-toggleable__content\"><pre>OneHotEncoder(handle_unknown=&#x27;ignore&#x27;, sparse_output=False)</pre></div></div></div></div></div></div></div></div></div></div><div class=\"sk-item\"><div class=\"sk-estimator sk-toggleable\"><input class=\"sk-toggleable__control sk-hidden--visually\" id=\"sk-estimator-id-543\" type=\"checkbox\" ><label for=\"sk-estimator-id-543\" class=\"sk-toggleable__label sk-toggleable__label-arrow\">SelectKBest</label><div class=\"sk-toggleable__content\"><pre>SelectKBest(k=200)</pre></div></div></div><div class=\"sk-item\"><div class=\"sk-estimator sk-toggleable\"><input class=\"sk-toggleable__control sk-hidden--visually\" id=\"sk-estimator-id-544\" type=\"checkbox\" ><label for=\"sk-estimator-id-544\" class=\"sk-toggleable__label sk-toggleable__label-arrow\">XGBClassifier</label><div class=\"sk-toggleable__content\"><pre>XGBClassifier(base_score=None, booster=None, callbacks=None,\n",
       "              colsample_bylevel=None, colsample_bynode=None,\n",
       "              colsample_bytree=None, device=None, early_stopping_rounds=None,\n",
       "              enable_categorical=False, eval_metric=&#x27;auc&#x27;, feature_types=None,\n",
       "              gamma=None, grow_policy=None, importance_type=None,\n",
       "              interaction_constraints=None, learning_rate=0.05, max_bin=None,\n",
       "              max_cat_threshold=None, max_cat_to_onehot=None,\n",
       "              max_delta_step=None, max_depth=None, max_leaves=None,\n",
       "              min_child_weight=None, missing=nan, monotone_constraints=None,\n",
       "              multi_strategy=None, n_estimators=200, n_jobs=None,\n",
       "              num_parallel_tree=None, random_state=12345, ...)</pre></div></div></div></div></div></div></div></div></div></div></div></div>"
      ],
      "text/plain": [
       "GridSearchCV(cv=5,\n",
       "             estimator=Pipeline(memory='D:\\\\lab_temp',\n",
       "                                steps=[('preprocessor',\n",
       "                                        ColumnTransformer(transformers=[('numerical',\n",
       "                                                                         Pipeline(memory='D:\\\\lab_temp',\n",
       "                                                                                  steps=[('imputer',\n",
       "                                                                                          SimpleImputer(strategy='median')),\n",
       "                                                                                         ('scaler',\n",
       "                                                                                          StandardScaler())]),\n",
       "                                                                         array([  0,   3,   4,   6,   7,   8,   9,  10,  11,  12,  13,  14,  15,\n",
       "        16,  17,  18,  19,  20,  21,  22,  24,  25,  26,  27,  28,  30,\n",
       "        31,  32,  33,  34,  35,  36,  37,  38,  39,  40,  41...\n",
       "                                                      max_cat_to_onehot=None,\n",
       "                                                      max_delta_step=None,\n",
       "                                                      max_depth=None,\n",
       "                                                      max_leaves=None,\n",
       "                                                      min_child_weight=None,\n",
       "                                                      missing=nan,\n",
       "                                                      monotone_constraints=None,\n",
       "                                                      multi_strategy=None,\n",
       "                                                      n_estimators=200,\n",
       "                                                      n_jobs=None,\n",
       "                                                      num_parallel_tree=None,\n",
       "                                                      random_state=12345, ...))]),\n",
       "             param_grid={'classifier__alpha': [0, 1, 5],\n",
       "                         'classifier__lambda': [0, 1, 5],\n",
       "                         'classifier__subsample': [0.5, 1]},\n",
       "             scoring='roc_auc')"
      ]
     },
     "execution_count": 185,
     "metadata": {},
     "output_type": "execute_result"
    }
   ],
   "source": [
    "%%time\n",
    "\n",
    "xgbc_skb = Pipeline(\n",
    "    memory=cache_dir,\n",
    "    steps=[\n",
    "        (\"preprocessor\", preprocessor),\n",
    "        (\"feature_selection\", SelectKBest(k=200)),\n",
    "        (\"classifier\", xgb.XGBClassifier(eval_metric='auc',\n",
    "                                         objective='binary:logistic',\n",
    "                                         learning_rate=0.05,\n",
    "                                         n_estimators=200,\n",
    "                                         random_state=12345))\n",
    "    ]\n",
    ")\n",
    "\n",
    "param_grid = {\n",
    "        'classifier__subsample': [0.5, 1],\n",
    "        'classifier__lambda': [0, 1, 5],\n",
    "        'classifier__alpha': [0, 1, 5]\n",
    "    }\n",
    "\n",
    "xgbc_skb_gs = GridSearchCV(xgbc_skb, param_grid, cv=5, scoring='roc_auc')\n",
    "xgbc_skb_gs.fit(X_train, y_train)"
   ]
  },
  {
   "cell_type": "code",
   "execution_count": 186,
   "id": "62BTyR3E9IHP",
   "metadata": {
    "colab": {
     "base_uri": "https://localhost:8080/"
    },
    "id": "62BTyR3E9IHP",
    "outputId": "6199f4ca-8e8b-43c8-8832-be7256731fef"
   },
   "outputs": [
    {
     "name": "stdout",
     "output_type": "stream",
     "text": [
      "roc_auc_score:  0.707052094504566\n",
      "XGBoost best score: 0.7983285464978427\n",
      "XGBoost best parameters:\n",
      "{'classifier__alpha': 1, 'classifier__lambda': 1, 'classifier__subsample': 0.5}\n"
     ]
    }
   ],
   "source": [
    "print('roc_auc_score: ', roc_auc_score(y_test, xgbc_skb_gs.predict(X_test)))\n",
    "print('XGBoost best score:', xgbc_skb_gs.best_score_)\n",
    "print('XGBoost best parameters:')\n",
    "print(xgbc_skb_gs.best_params_)"
   ]
  },
  {
   "cell_type": "code",
   "execution_count": 156,
   "id": "SArfn0fLex_r",
   "metadata": {
    "colab": {
     "base_uri": "https://localhost:8080/",
     "height": 296
    },
    "id": "SArfn0fLex_r",
    "outputId": "a708419d-0266-4bdb-f162-f61d3ef96144"
   },
   "outputs": [
    {
     "name": "stdout",
     "output_type": "stream",
     "text": [
      "CPU times: total: 2min 47s\n",
      "Wall time: 23.6 s\n"
     ]
    },
    {
     "data": {
      "text/html": [
       "<style>#sk-container-id-49 {color: black;background-color: white;}#sk-container-id-49 pre{padding: 0;}#sk-container-id-49 div.sk-toggleable {background-color: white;}#sk-container-id-49 label.sk-toggleable__label {cursor: pointer;display: block;width: 100%;margin-bottom: 0;padding: 0.3em;box-sizing: border-box;text-align: center;}#sk-container-id-49 label.sk-toggleable__label-arrow:before {content: \"▸\";float: left;margin-right: 0.25em;color: #696969;}#sk-container-id-49 label.sk-toggleable__label-arrow:hover:before {color: black;}#sk-container-id-49 div.sk-estimator:hover label.sk-toggleable__label-arrow:before {color: black;}#sk-container-id-49 div.sk-toggleable__content {max-height: 0;max-width: 0;overflow: hidden;text-align: left;background-color: #f0f8ff;}#sk-container-id-49 div.sk-toggleable__content pre {margin: 0.2em;color: black;border-radius: 0.25em;background-color: #f0f8ff;}#sk-container-id-49 input.sk-toggleable__control:checked~div.sk-toggleable__content {max-height: 200px;max-width: 100%;overflow: auto;}#sk-container-id-49 input.sk-toggleable__control:checked~label.sk-toggleable__label-arrow:before {content: \"▾\";}#sk-container-id-49 div.sk-estimator input.sk-toggleable__control:checked~label.sk-toggleable__label {background-color: #d4ebff;}#sk-container-id-49 div.sk-label input.sk-toggleable__control:checked~label.sk-toggleable__label {background-color: #d4ebff;}#sk-container-id-49 input.sk-hidden--visually {border: 0;clip: rect(1px 1px 1px 1px);clip: rect(1px, 1px, 1px, 1px);height: 1px;margin: -1px;overflow: hidden;padding: 0;position: absolute;width: 1px;}#sk-container-id-49 div.sk-estimator {font-family: monospace;background-color: #f0f8ff;border: 1px dotted black;border-radius: 0.25em;box-sizing: border-box;margin-bottom: 0.5em;}#sk-container-id-49 div.sk-estimator:hover {background-color: #d4ebff;}#sk-container-id-49 div.sk-parallel-item::after {content: \"\";width: 100%;border-bottom: 1px solid gray;flex-grow: 1;}#sk-container-id-49 div.sk-label:hover label.sk-toggleable__label {background-color: #d4ebff;}#sk-container-id-49 div.sk-serial::before {content: \"\";position: absolute;border-left: 1px solid gray;box-sizing: border-box;top: 0;bottom: 0;left: 50%;z-index: 0;}#sk-container-id-49 div.sk-serial {display: flex;flex-direction: column;align-items: center;background-color: white;padding-right: 0.2em;padding-left: 0.2em;position: relative;}#sk-container-id-49 div.sk-item {position: relative;z-index: 1;}#sk-container-id-49 div.sk-parallel {display: flex;align-items: stretch;justify-content: center;background-color: white;position: relative;}#sk-container-id-49 div.sk-item::before, #sk-container-id-49 div.sk-parallel-item::before {content: \"\";position: absolute;border-left: 1px solid gray;box-sizing: border-box;top: 0;bottom: 0;left: 50%;z-index: -1;}#sk-container-id-49 div.sk-parallel-item {display: flex;flex-direction: column;z-index: 1;position: relative;background-color: white;}#sk-container-id-49 div.sk-parallel-item:first-child::after {align-self: flex-end;width: 50%;}#sk-container-id-49 div.sk-parallel-item:last-child::after {align-self: flex-start;width: 50%;}#sk-container-id-49 div.sk-parallel-item:only-child::after {width: 0;}#sk-container-id-49 div.sk-dashed-wrapped {border: 1px dashed gray;margin: 0 0.4em 0.5em 0.4em;box-sizing: border-box;padding-bottom: 0.4em;background-color: white;}#sk-container-id-49 div.sk-label label {font-family: monospace;font-weight: bold;display: inline-block;line-height: 1.2em;}#sk-container-id-49 div.sk-label-container {text-align: center;}#sk-container-id-49 div.sk-container {/* jupyter's `normalize.less` sets `[hidden] { display: none; }` but bootstrap.min.css set `[hidden] { display: none !important; }` so we also need the `!important` here to be able to override the default hidden behavior on the sphinx rendered scikit-learn.org. See: https://github.com/scikit-learn/scikit-learn/issues/21755 */display: inline-block !important;position: relative;}#sk-container-id-49 div.sk-text-repr-fallback {display: none;}</style><div id=\"sk-container-id-49\" class=\"sk-top-container\"><div class=\"sk-text-repr-fallback\"><pre>Pipeline(memory=&#x27;D:\\\\lab_temp&#x27;,\n",
       "         steps=[(&#x27;preprocessor&#x27;,\n",
       "                 ColumnTransformer(transformers=[(&#x27;numerical&#x27;,\n",
       "                                                  Pipeline(memory=&#x27;D:\\\\lab_temp&#x27;,\n",
       "                                                           steps=[(&#x27;imputer&#x27;,\n",
       "                                                                   SimpleImputer(strategy=&#x27;median&#x27;)),\n",
       "                                                                  (&#x27;scaler&#x27;,\n",
       "                                                                   StandardScaler())]),\n",
       "                                                  array([  0,   3,   4,   6,   7,   8,   9,  10,  11,  12,  13,  14,  15,\n",
       "        16,  17,  18,  19,  20,  21,  22,  24,  25,  26,  27,  28,  30,\n",
       "        31,  32,  33,  34,  35,  36,  37,  38,  39,  40,  41,  42,  43,\n",
       "        44,  45,  46,  48,  49,  50,  51,...\n",
       "                               feature_types=None, gamma=None, grow_policy=None,\n",
       "                               importance_type=None,\n",
       "                               interaction_constraints=None, learning_rate=0.05,\n",
       "                               max_bin=None, max_cat_threshold=None,\n",
       "                               max_cat_to_onehot=None, max_delta_step=None,\n",
       "                               max_depth=None, max_leaves=None,\n",
       "                               min_child_weight=None, missing=nan,\n",
       "                               monotone_constraints=None, multi_strategy=None,\n",
       "                               n_estimators=1000, n_jobs=None,\n",
       "                               num_parallel_tree=None, random_state=12345, ...))])</pre><b>In a Jupyter environment, please rerun this cell to show the HTML representation or trust the notebook. <br />On GitHub, the HTML representation is unable to render, please try loading this page with nbviewer.org.</b></div><div class=\"sk-container\" hidden><div class=\"sk-item sk-dashed-wrapped\"><div class=\"sk-label-container\"><div class=\"sk-label sk-toggleable\"><input class=\"sk-toggleable__control sk-hidden--visually\" id=\"sk-estimator-id-452\" type=\"checkbox\" ><label for=\"sk-estimator-id-452\" class=\"sk-toggleable__label sk-toggleable__label-arrow\">Pipeline</label><div class=\"sk-toggleable__content\"><pre>Pipeline(memory=&#x27;D:\\\\lab_temp&#x27;,\n",
       "         steps=[(&#x27;preprocessor&#x27;,\n",
       "                 ColumnTransformer(transformers=[(&#x27;numerical&#x27;,\n",
       "                                                  Pipeline(memory=&#x27;D:\\\\lab_temp&#x27;,\n",
       "                                                           steps=[(&#x27;imputer&#x27;,\n",
       "                                                                   SimpleImputer(strategy=&#x27;median&#x27;)),\n",
       "                                                                  (&#x27;scaler&#x27;,\n",
       "                                                                   StandardScaler())]),\n",
       "                                                  array([  0,   3,   4,   6,   7,   8,   9,  10,  11,  12,  13,  14,  15,\n",
       "        16,  17,  18,  19,  20,  21,  22,  24,  25,  26,  27,  28,  30,\n",
       "        31,  32,  33,  34,  35,  36,  37,  38,  39,  40,  41,  42,  43,\n",
       "        44,  45,  46,  48,  49,  50,  51,...\n",
       "                               feature_types=None, gamma=None, grow_policy=None,\n",
       "                               importance_type=None,\n",
       "                               interaction_constraints=None, learning_rate=0.05,\n",
       "                               max_bin=None, max_cat_threshold=None,\n",
       "                               max_cat_to_onehot=None, max_delta_step=None,\n",
       "                               max_depth=None, max_leaves=None,\n",
       "                               min_child_weight=None, missing=nan,\n",
       "                               monotone_constraints=None, multi_strategy=None,\n",
       "                               n_estimators=1000, n_jobs=None,\n",
       "                               num_parallel_tree=None, random_state=12345, ...))])</pre></div></div></div><div class=\"sk-serial\"><div class=\"sk-item sk-dashed-wrapped\"><div class=\"sk-label-container\"><div class=\"sk-label sk-toggleable\"><input class=\"sk-toggleable__control sk-hidden--visually\" id=\"sk-estimator-id-453\" type=\"checkbox\" ><label for=\"sk-estimator-id-453\" class=\"sk-toggleable__label sk-toggleable__label-arrow\">preprocessor: ColumnTransformer</label><div class=\"sk-toggleable__content\"><pre>ColumnTransformer(transformers=[(&#x27;numerical&#x27;,\n",
       "                                 Pipeline(memory=&#x27;D:\\\\lab_temp&#x27;,\n",
       "                                          steps=[(&#x27;imputer&#x27;,\n",
       "                                                  SimpleImputer(strategy=&#x27;median&#x27;)),\n",
       "                                                 (&#x27;scaler&#x27;, StandardScaler())]),\n",
       "                                 array([  0,   3,   4,   6,   7,   8,   9,  10,  11,  12,  13,  14,  15,\n",
       "        16,  17,  18,  19,  20,  21,  22,  24,  25,  26,  27,  28,  30,\n",
       "        31,  32,  33,  34,  35,  36,  37,  38,  39,  40,  41,  42,  43,\n",
       "        44,  45,  46,  48,  49,  50,  51,  52,  54,  55,  56,  57,  58,\n",
       "        59,  60,  61,  62,  63,  64,  65,  66,  67,  68,  69,  70,...\n",
       "       214, 216, 217, 218, 219, 220, 222, 223, 224, 225, 226, 227, 228,\n",
       "       229, 230, 231, 232, 233, 234, 235, 236, 237, 238, 240, 241, 242,\n",
       "       243, 244])),\n",
       "                                (&#x27;categorical&#x27;,\n",
       "                                 Pipeline(memory=&#x27;D:\\\\lab_temp&#x27;,\n",
       "                                          steps=[(&#x27;imputer&#x27;,\n",
       "                                                  SimpleImputer(strategy=&#x27;most_frequent&#x27;)),\n",
       "                                                 (&#x27;encoder&#x27;,\n",
       "                                                  OneHotEncoder(handle_unknown=&#x27;ignore&#x27;,\n",
       "                                                                sparse_output=False))]),\n",
       "                                 array([  1,   2,   5,  29,  53,  77, 101, 125, 149, 173, 197, 221,  23,\n",
       "        47,  71,  95, 119, 143, 167, 191, 215, 239]))])</pre></div></div></div><div class=\"sk-parallel\"><div class=\"sk-parallel-item\"><div class=\"sk-item\"><div class=\"sk-label-container\"><div class=\"sk-label sk-toggleable\"><input class=\"sk-toggleable__control sk-hidden--visually\" id=\"sk-estimator-id-454\" type=\"checkbox\" ><label for=\"sk-estimator-id-454\" class=\"sk-toggleable__label sk-toggleable__label-arrow\">numerical</label><div class=\"sk-toggleable__content\"><pre>[  0   3   4   6   7   8   9  10  11  12  13  14  15  16  17  18  19  20\n",
       "  21  22  24  25  26  27  28  30  31  32  33  34  35  36  37  38  39  40\n",
       "  41  42  43  44  45  46  48  49  50  51  52  54  55  56  57  58  59  60\n",
       "  61  62  63  64  65  66  67  68  69  70  72  73  74  75  76  78  79  80\n",
       "  81  82  83  84  85  86  87  88  89  90  91  92  93  94  96  97  98  99\n",
       " 100 102 103 104 105 106 107 108 109 110 111 112 113 114 115 116 117 118\n",
       " 120 121 122 123 124 126 127 128 129 130 131 132 133 134 135 136 137 138\n",
       " 139 140 141 142 144 145 146 147 148 150 151 152 153 154 155 156 157 158\n",
       " 159 160 161 162 163 164 165 166 168 169 170 171 172 174 175 176 177 178\n",
       " 179 180 181 182 183 184 185 186 187 188 189 190 192 193 194 195 196 198\n",
       " 199 200 201 202 203 204 205 206 207 208 209 210 211 212 213 214 216 217\n",
       " 218 219 220 222 223 224 225 226 227 228 229 230 231 232 233 234 235 236\n",
       " 237 238 240 241 242 243 244]</pre></div></div></div><div class=\"sk-serial\"><div class=\"sk-item\"><div class=\"sk-serial\"><div class=\"sk-item\"><div class=\"sk-estimator sk-toggleable\"><input class=\"sk-toggleable__control sk-hidden--visually\" id=\"sk-estimator-id-455\" type=\"checkbox\" ><label for=\"sk-estimator-id-455\" class=\"sk-toggleable__label sk-toggleable__label-arrow\">SimpleImputer</label><div class=\"sk-toggleable__content\"><pre>SimpleImputer(strategy=&#x27;median&#x27;)</pre></div></div></div><div class=\"sk-item\"><div class=\"sk-estimator sk-toggleable\"><input class=\"sk-toggleable__control sk-hidden--visually\" id=\"sk-estimator-id-456\" type=\"checkbox\" ><label for=\"sk-estimator-id-456\" class=\"sk-toggleable__label sk-toggleable__label-arrow\">StandardScaler</label><div class=\"sk-toggleable__content\"><pre>StandardScaler()</pre></div></div></div></div></div></div></div></div><div class=\"sk-parallel-item\"><div class=\"sk-item\"><div class=\"sk-label-container\"><div class=\"sk-label sk-toggleable\"><input class=\"sk-toggleable__control sk-hidden--visually\" id=\"sk-estimator-id-457\" type=\"checkbox\" ><label for=\"sk-estimator-id-457\" class=\"sk-toggleable__label sk-toggleable__label-arrow\">categorical</label><div class=\"sk-toggleable__content\"><pre>[  1   2   5  29  53  77 101 125 149 173 197 221  23  47  71  95 119 143\n",
       " 167 191 215 239]</pre></div></div></div><div class=\"sk-serial\"><div class=\"sk-item\"><div class=\"sk-serial\"><div class=\"sk-item\"><div class=\"sk-estimator sk-toggleable\"><input class=\"sk-toggleable__control sk-hidden--visually\" id=\"sk-estimator-id-458\" type=\"checkbox\" ><label for=\"sk-estimator-id-458\" class=\"sk-toggleable__label sk-toggleable__label-arrow\">SimpleImputer</label><div class=\"sk-toggleable__content\"><pre>SimpleImputer(strategy=&#x27;most_frequent&#x27;)</pre></div></div></div><div class=\"sk-item\"><div class=\"sk-estimator sk-toggleable\"><input class=\"sk-toggleable__control sk-hidden--visually\" id=\"sk-estimator-id-459\" type=\"checkbox\" ><label for=\"sk-estimator-id-459\" class=\"sk-toggleable__label sk-toggleable__label-arrow\">OneHotEncoder</label><div class=\"sk-toggleable__content\"><pre>OneHotEncoder(handle_unknown=&#x27;ignore&#x27;, sparse_output=False)</pre></div></div></div></div></div></div></div></div></div></div><div class=\"sk-item\"><div class=\"sk-estimator sk-toggleable\"><input class=\"sk-toggleable__control sk-hidden--visually\" id=\"sk-estimator-id-460\" type=\"checkbox\" ><label for=\"sk-estimator-id-460\" class=\"sk-toggleable__label sk-toggleable__label-arrow\">XGBClassifier</label><div class=\"sk-toggleable__content\"><pre>XGBClassifier(base_score=None, booster=None, callbacks=None,\n",
       "              colsample_bylevel=None, colsample_bynode=None,\n",
       "              colsample_bytree=None, device=None, early_stopping_rounds=None,\n",
       "              enable_categorical=False, eval_metric=&#x27;auc&#x27;, feature_types=None,\n",
       "              gamma=None, grow_policy=None, importance_type=None,\n",
       "              interaction_constraints=None, learning_rate=0.05, max_bin=None,\n",
       "              max_cat_threshold=None, max_cat_to_onehot=None,\n",
       "              max_delta_step=None, max_depth=None, max_leaves=None,\n",
       "              min_child_weight=None, missing=nan, monotone_constraints=None,\n",
       "              multi_strategy=None, n_estimators=1000, n_jobs=None,\n",
       "              num_parallel_tree=None, random_state=12345, ...)</pre></div></div></div></div></div></div></div>"
      ],
      "text/plain": [
       "Pipeline(memory='D:\\\\lab_temp',\n",
       "         steps=[('preprocessor',\n",
       "                 ColumnTransformer(transformers=[('numerical',\n",
       "                                                  Pipeline(memory='D:\\\\lab_temp',\n",
       "                                                           steps=[('imputer',\n",
       "                                                                   SimpleImputer(strategy='median')),\n",
       "                                                                  ('scaler',\n",
       "                                                                   StandardScaler())]),\n",
       "                                                  array([  0,   3,   4,   6,   7,   8,   9,  10,  11,  12,  13,  14,  15,\n",
       "        16,  17,  18,  19,  20,  21,  22,  24,  25,  26,  27,  28,  30,\n",
       "        31,  32,  33,  34,  35,  36,  37,  38,  39,  40,  41,  42,  43,\n",
       "        44,  45,  46,  48,  49,  50,  51,...\n",
       "                               feature_types=None, gamma=None, grow_policy=None,\n",
       "                               importance_type=None,\n",
       "                               interaction_constraints=None, learning_rate=0.05,\n",
       "                               max_bin=None, max_cat_threshold=None,\n",
       "                               max_cat_to_onehot=None, max_delta_step=None,\n",
       "                               max_depth=None, max_leaves=None,\n",
       "                               min_child_weight=None, missing=nan,\n",
       "                               monotone_constraints=None, multi_strategy=None,\n",
       "                               n_estimators=1000, n_jobs=None,\n",
       "                               num_parallel_tree=None, random_state=12345, ...))])"
      ]
     },
     "execution_count": 156,
     "metadata": {},
     "output_type": "execute_result"
    }
   ],
   "source": [
    "%%time\n",
    "xgbc_skb_best = Pipeline(\n",
    "    memory=cache_dir,\n",
    "    steps=[\n",
    "        (\"preprocessor\", preprocessor),\n",
    "        (\"classifier\", xgb.XGBClassifier(eval_metric='auc',\n",
    "                                         objective='binary:logistic',\n",
    "                                         learning_rate=0.05,\n",
    "                                         n_estimators=1000,\n",
    "                                         subsample=0.5,\n",
    "                                         reg_lambda=1,\n",
    "                                         reg_alpha=1,\n",
    "                                         random_state=my_seed))\n",
    "    ]\n",
    ")\n",
    "\n",
    "xgbc_skb_best.fit(X_train, y_train)"
   ]
  },
  {
   "cell_type": "code",
   "execution_count": 197,
   "id": "ifxX3whn4rDk",
   "metadata": {
    "colab": {
     "base_uri": "https://localhost:8080/"
    },
    "id": "ifxX3whn4rDk",
    "outputId": "d77b3393-9bdb-4df7-f296-34bef0825ca2"
   },
   "outputs": [
    {
     "name": "stdout",
     "output_type": "stream",
     "text": [
      "roc_auc_score:  0.7206077150563843\n"
     ]
    }
   ],
   "source": [
    "print('roc_auc_score: ', roc_auc_score(y_test, xgbc_skb_best.predict(X_test)))"
   ]
  },
  {
   "cell_type": "code",
   "execution_count": 198,
   "id": "d88d24f8-0f06-4ce8-8641-a3d90b7a518a",
   "metadata": {},
   "outputs": [
    {
     "name": "stdout",
     "output_type": "stream",
     "text": [
      "Cross-validation roc_auc scores: [0.81674375 0.80882265 0.80667667 0.80583327 0.80498376]\n",
      "Mean roc_auc: 0.8086120197548083\n"
     ]
    }
   ],
   "source": [
    "scores = cross_val_score(xgbc_skb_best, X, y_cv, cv=5, scoring='roc_auc')\n",
    "print(\"Cross-validation roc_auc scores:\", scores)\n",
    "print(\"Mean roc_auc:\", scores.mean())"
   ]
  },
  {
   "cell_type": "markdown",
   "id": "T150avdzgIUA",
   "metadata": {
    "id": "T150avdzgIUA"
   },
   "source": [
    "### Эксперимент 5\n",
    "Использование LightGBM"
   ]
  },
  {
   "cell_type": "code",
   "execution_count": 28,
   "id": "ecPah82ggHvq",
   "metadata": {
    "colab": {
     "base_uri": "https://localhost:8080/"
    },
    "id": "ecPah82ggHvq",
    "outputId": "0aa983ef-bce1-446b-fec3-849a93c3b0a9"
   },
   "outputs": [
    {
     "name": "stdout",
     "output_type": "stream",
     "text": [
      "Requirement already satisfied: lightgbm in d:\\anaconda\\lib\\site-packages (4.6.0)\n",
      "Requirement already satisfied: numpy>=1.17.0 in d:\\anaconda\\lib\\site-packages (from lightgbm) (1.26.4)\n",
      "Requirement already satisfied: scipy in d:\\anaconda\\lib\\site-packages (from lightgbm) (1.13.1)\n"
     ]
    }
   ],
   "source": [
    "!pip install lightgbm"
   ]
  },
  {
   "cell_type": "code",
   "execution_count": 29,
   "id": "ZTfTtJPvqGcZ",
   "metadata": {
    "colab": {
     "base_uri": "https://localhost:8080/"
    },
    "id": "ZTfTtJPvqGcZ",
    "outputId": "222b7605-9f4d-4928-9f86-4d4d63af8ee8"
   },
   "outputs": [],
   "source": [
    "import lightgbm as lgb"
   ]
  },
  {
   "cell_type": "code",
   "execution_count": 50,
   "id": "Q5qr3Rh-gfz-",
   "metadata": {
    "colab": {
     "base_uri": "https://localhost:8080/",
     "height": 296
    },
    "id": "Q5qr3Rh-gfz-",
    "outputId": "56755494-5a24-4e47-e360-ad63b9d95d56"
   },
   "outputs": [
    {
     "name": "stdout",
     "output_type": "stream",
     "text": [
      "CPU times: total: 5.97 s\n",
      "Wall time: 1.85 s\n"
     ]
    },
    {
     "data": {
      "text/html": [
       "<style>#sk-container-id-8 {color: black;background-color: white;}#sk-container-id-8 pre{padding: 0;}#sk-container-id-8 div.sk-toggleable {background-color: white;}#sk-container-id-8 label.sk-toggleable__label {cursor: pointer;display: block;width: 100%;margin-bottom: 0;padding: 0.3em;box-sizing: border-box;text-align: center;}#sk-container-id-8 label.sk-toggleable__label-arrow:before {content: \"▸\";float: left;margin-right: 0.25em;color: #696969;}#sk-container-id-8 label.sk-toggleable__label-arrow:hover:before {color: black;}#sk-container-id-8 div.sk-estimator:hover label.sk-toggleable__label-arrow:before {color: black;}#sk-container-id-8 div.sk-toggleable__content {max-height: 0;max-width: 0;overflow: hidden;text-align: left;background-color: #f0f8ff;}#sk-container-id-8 div.sk-toggleable__content pre {margin: 0.2em;color: black;border-radius: 0.25em;background-color: #f0f8ff;}#sk-container-id-8 input.sk-toggleable__control:checked~div.sk-toggleable__content {max-height: 200px;max-width: 100%;overflow: auto;}#sk-container-id-8 input.sk-toggleable__control:checked~label.sk-toggleable__label-arrow:before {content: \"▾\";}#sk-container-id-8 div.sk-estimator input.sk-toggleable__control:checked~label.sk-toggleable__label {background-color: #d4ebff;}#sk-container-id-8 div.sk-label input.sk-toggleable__control:checked~label.sk-toggleable__label {background-color: #d4ebff;}#sk-container-id-8 input.sk-hidden--visually {border: 0;clip: rect(1px 1px 1px 1px);clip: rect(1px, 1px, 1px, 1px);height: 1px;margin: -1px;overflow: hidden;padding: 0;position: absolute;width: 1px;}#sk-container-id-8 div.sk-estimator {font-family: monospace;background-color: #f0f8ff;border: 1px dotted black;border-radius: 0.25em;box-sizing: border-box;margin-bottom: 0.5em;}#sk-container-id-8 div.sk-estimator:hover {background-color: #d4ebff;}#sk-container-id-8 div.sk-parallel-item::after {content: \"\";width: 100%;border-bottom: 1px solid gray;flex-grow: 1;}#sk-container-id-8 div.sk-label:hover label.sk-toggleable__label {background-color: #d4ebff;}#sk-container-id-8 div.sk-serial::before {content: \"\";position: absolute;border-left: 1px solid gray;box-sizing: border-box;top: 0;bottom: 0;left: 50%;z-index: 0;}#sk-container-id-8 div.sk-serial {display: flex;flex-direction: column;align-items: center;background-color: white;padding-right: 0.2em;padding-left: 0.2em;position: relative;}#sk-container-id-8 div.sk-item {position: relative;z-index: 1;}#sk-container-id-8 div.sk-parallel {display: flex;align-items: stretch;justify-content: center;background-color: white;position: relative;}#sk-container-id-8 div.sk-item::before, #sk-container-id-8 div.sk-parallel-item::before {content: \"\";position: absolute;border-left: 1px solid gray;box-sizing: border-box;top: 0;bottom: 0;left: 50%;z-index: -1;}#sk-container-id-8 div.sk-parallel-item {display: flex;flex-direction: column;z-index: 1;position: relative;background-color: white;}#sk-container-id-8 div.sk-parallel-item:first-child::after {align-self: flex-end;width: 50%;}#sk-container-id-8 div.sk-parallel-item:last-child::after {align-self: flex-start;width: 50%;}#sk-container-id-8 div.sk-parallel-item:only-child::after {width: 0;}#sk-container-id-8 div.sk-dashed-wrapped {border: 1px dashed gray;margin: 0 0.4em 0.5em 0.4em;box-sizing: border-box;padding-bottom: 0.4em;background-color: white;}#sk-container-id-8 div.sk-label label {font-family: monospace;font-weight: bold;display: inline-block;line-height: 1.2em;}#sk-container-id-8 div.sk-label-container {text-align: center;}#sk-container-id-8 div.sk-container {/* jupyter's `normalize.less` sets `[hidden] { display: none; }` but bootstrap.min.css set `[hidden] { display: none !important; }` so we also need the `!important` here to be able to override the default hidden behavior on the sphinx rendered scikit-learn.org. See: https://github.com/scikit-learn/scikit-learn/issues/21755 */display: inline-block !important;position: relative;}#sk-container-id-8 div.sk-text-repr-fallback {display: none;}</style><div id=\"sk-container-id-8\" class=\"sk-top-container\"><div class=\"sk-text-repr-fallback\"><pre>Pipeline(memory=&#x27;D:\\\\lab_temp&#x27;,\n",
       "         steps=[(&#x27;preprocessor&#x27;,\n",
       "                 ColumnTransformer(transformers=[(&#x27;numerical&#x27;,\n",
       "                                                  Pipeline(memory=&#x27;D:\\\\lab_temp&#x27;,\n",
       "                                                           steps=[(&#x27;imputer&#x27;,\n",
       "                                                                   SimpleImputer(strategy=&#x27;median&#x27;)),\n",
       "                                                                  (&#x27;scaler&#x27;,\n",
       "                                                                   StandardScaler())]),\n",
       "                                                  array([  0,   3,   4,   6,   7,   8,   9,  10,  11,  12,  13,  14,  15,\n",
       "        16,  17,  18,  19,  20,  21,  22,  24,  25,  26,  27,  28,  30,\n",
       "        31,  32,  33,  34,  35,  36,  37,  38,  39,  40,  41,  42,  43,\n",
       "        44,  45,  46,  48,  49,  50,  51,...\n",
       "                                                  Pipeline(memory=&#x27;D:\\\\lab_temp&#x27;,\n",
       "                                                           steps=[(&#x27;imputer&#x27;,\n",
       "                                                                   SimpleImputer(strategy=&#x27;most_frequent&#x27;)),\n",
       "                                                                  (&#x27;encoder&#x27;,\n",
       "                                                                   OneHotEncoder(handle_unknown=&#x27;ignore&#x27;,\n",
       "                                                                                 sparse_output=False))]),\n",
       "                                                  array([  1,   2,   5,  29,  53,  77, 101, 125, 149, 173, 197, 221,  23,\n",
       "        47,  71,  95, 119, 143, 167, 191, 215, 239]))])),\n",
       "                (&#x27;classifier&#x27;,\n",
       "                 LGBMClassifier(force_col_wise=True, objective=&#x27;binary&#x27;,\n",
       "                                random_state=12345, verbosity=-1))])</pre><b>In a Jupyter environment, please rerun this cell to show the HTML representation or trust the notebook. <br />On GitHub, the HTML representation is unable to render, please try loading this page with nbviewer.org.</b></div><div class=\"sk-container\" hidden><div class=\"sk-item sk-dashed-wrapped\"><div class=\"sk-label-container\"><div class=\"sk-label sk-toggleable\"><input class=\"sk-toggleable__control sk-hidden--visually\" id=\"sk-estimator-id-70\" type=\"checkbox\" ><label for=\"sk-estimator-id-70\" class=\"sk-toggleable__label sk-toggleable__label-arrow\">Pipeline</label><div class=\"sk-toggleable__content\"><pre>Pipeline(memory=&#x27;D:\\\\lab_temp&#x27;,\n",
       "         steps=[(&#x27;preprocessor&#x27;,\n",
       "                 ColumnTransformer(transformers=[(&#x27;numerical&#x27;,\n",
       "                                                  Pipeline(memory=&#x27;D:\\\\lab_temp&#x27;,\n",
       "                                                           steps=[(&#x27;imputer&#x27;,\n",
       "                                                                   SimpleImputer(strategy=&#x27;median&#x27;)),\n",
       "                                                                  (&#x27;scaler&#x27;,\n",
       "                                                                   StandardScaler())]),\n",
       "                                                  array([  0,   3,   4,   6,   7,   8,   9,  10,  11,  12,  13,  14,  15,\n",
       "        16,  17,  18,  19,  20,  21,  22,  24,  25,  26,  27,  28,  30,\n",
       "        31,  32,  33,  34,  35,  36,  37,  38,  39,  40,  41,  42,  43,\n",
       "        44,  45,  46,  48,  49,  50,  51,...\n",
       "                                                  Pipeline(memory=&#x27;D:\\\\lab_temp&#x27;,\n",
       "                                                           steps=[(&#x27;imputer&#x27;,\n",
       "                                                                   SimpleImputer(strategy=&#x27;most_frequent&#x27;)),\n",
       "                                                                  (&#x27;encoder&#x27;,\n",
       "                                                                   OneHotEncoder(handle_unknown=&#x27;ignore&#x27;,\n",
       "                                                                                 sparse_output=False))]),\n",
       "                                                  array([  1,   2,   5,  29,  53,  77, 101, 125, 149, 173, 197, 221,  23,\n",
       "        47,  71,  95, 119, 143, 167, 191, 215, 239]))])),\n",
       "                (&#x27;classifier&#x27;,\n",
       "                 LGBMClassifier(force_col_wise=True, objective=&#x27;binary&#x27;,\n",
       "                                random_state=12345, verbosity=-1))])</pre></div></div></div><div class=\"sk-serial\"><div class=\"sk-item sk-dashed-wrapped\"><div class=\"sk-label-container\"><div class=\"sk-label sk-toggleable\"><input class=\"sk-toggleable__control sk-hidden--visually\" id=\"sk-estimator-id-71\" type=\"checkbox\" ><label for=\"sk-estimator-id-71\" class=\"sk-toggleable__label sk-toggleable__label-arrow\">preprocessor: ColumnTransformer</label><div class=\"sk-toggleable__content\"><pre>ColumnTransformer(transformers=[(&#x27;numerical&#x27;,\n",
       "                                 Pipeline(memory=&#x27;D:\\\\lab_temp&#x27;,\n",
       "                                          steps=[(&#x27;imputer&#x27;,\n",
       "                                                  SimpleImputer(strategy=&#x27;median&#x27;)),\n",
       "                                                 (&#x27;scaler&#x27;, StandardScaler())]),\n",
       "                                 array([  0,   3,   4,   6,   7,   8,   9,  10,  11,  12,  13,  14,  15,\n",
       "        16,  17,  18,  19,  20,  21,  22,  24,  25,  26,  27,  28,  30,\n",
       "        31,  32,  33,  34,  35,  36,  37,  38,  39,  40,  41,  42,  43,\n",
       "        44,  45,  46,  48,  49,  50,  51,  52,  54,  55,  56,  57,  58,\n",
       "        59,  60,  61,  62,  63,  64,  65,  66,  67,  68,  69,  70,...\n",
       "       214, 216, 217, 218, 219, 220, 222, 223, 224, 225, 226, 227, 228,\n",
       "       229, 230, 231, 232, 233, 234, 235, 236, 237, 238, 240, 241, 242,\n",
       "       243, 244])),\n",
       "                                (&#x27;categorical&#x27;,\n",
       "                                 Pipeline(memory=&#x27;D:\\\\lab_temp&#x27;,\n",
       "                                          steps=[(&#x27;imputer&#x27;,\n",
       "                                                  SimpleImputer(strategy=&#x27;most_frequent&#x27;)),\n",
       "                                                 (&#x27;encoder&#x27;,\n",
       "                                                  OneHotEncoder(handle_unknown=&#x27;ignore&#x27;,\n",
       "                                                                sparse_output=False))]),\n",
       "                                 array([  1,   2,   5,  29,  53,  77, 101, 125, 149, 173, 197, 221,  23,\n",
       "        47,  71,  95, 119, 143, 167, 191, 215, 239]))])</pre></div></div></div><div class=\"sk-parallel\"><div class=\"sk-parallel-item\"><div class=\"sk-item\"><div class=\"sk-label-container\"><div class=\"sk-label sk-toggleable\"><input class=\"sk-toggleable__control sk-hidden--visually\" id=\"sk-estimator-id-72\" type=\"checkbox\" ><label for=\"sk-estimator-id-72\" class=\"sk-toggleable__label sk-toggleable__label-arrow\">numerical</label><div class=\"sk-toggleable__content\"><pre>[  0   3   4   6   7   8   9  10  11  12  13  14  15  16  17  18  19  20\n",
       "  21  22  24  25  26  27  28  30  31  32  33  34  35  36  37  38  39  40\n",
       "  41  42  43  44  45  46  48  49  50  51  52  54  55  56  57  58  59  60\n",
       "  61  62  63  64  65  66  67  68  69  70  72  73  74  75  76  78  79  80\n",
       "  81  82  83  84  85  86  87  88  89  90  91  92  93  94  96  97  98  99\n",
       " 100 102 103 104 105 106 107 108 109 110 111 112 113 114 115 116 117 118\n",
       " 120 121 122 123 124 126 127 128 129 130 131 132 133 134 135 136 137 138\n",
       " 139 140 141 142 144 145 146 147 148 150 151 152 153 154 155 156 157 158\n",
       " 159 160 161 162 163 164 165 166 168 169 170 171 172 174 175 176 177 178\n",
       " 179 180 181 182 183 184 185 186 187 188 189 190 192 193 194 195 196 198\n",
       " 199 200 201 202 203 204 205 206 207 208 209 210 211 212 213 214 216 217\n",
       " 218 219 220 222 223 224 225 226 227 228 229 230 231 232 233 234 235 236\n",
       " 237 238 240 241 242 243 244]</pre></div></div></div><div class=\"sk-serial\"><div class=\"sk-item\"><div class=\"sk-serial\"><div class=\"sk-item\"><div class=\"sk-estimator sk-toggleable\"><input class=\"sk-toggleable__control sk-hidden--visually\" id=\"sk-estimator-id-73\" type=\"checkbox\" ><label for=\"sk-estimator-id-73\" class=\"sk-toggleable__label sk-toggleable__label-arrow\">SimpleImputer</label><div class=\"sk-toggleable__content\"><pre>SimpleImputer(strategy=&#x27;median&#x27;)</pre></div></div></div><div class=\"sk-item\"><div class=\"sk-estimator sk-toggleable\"><input class=\"sk-toggleable__control sk-hidden--visually\" id=\"sk-estimator-id-74\" type=\"checkbox\" ><label for=\"sk-estimator-id-74\" class=\"sk-toggleable__label sk-toggleable__label-arrow\">StandardScaler</label><div class=\"sk-toggleable__content\"><pre>StandardScaler()</pre></div></div></div></div></div></div></div></div><div class=\"sk-parallel-item\"><div class=\"sk-item\"><div class=\"sk-label-container\"><div class=\"sk-label sk-toggleable\"><input class=\"sk-toggleable__control sk-hidden--visually\" id=\"sk-estimator-id-75\" type=\"checkbox\" ><label for=\"sk-estimator-id-75\" class=\"sk-toggleable__label sk-toggleable__label-arrow\">categorical</label><div class=\"sk-toggleable__content\"><pre>[  1   2   5  29  53  77 101 125 149 173 197 221  23  47  71  95 119 143\n",
       " 167 191 215 239]</pre></div></div></div><div class=\"sk-serial\"><div class=\"sk-item\"><div class=\"sk-serial\"><div class=\"sk-item\"><div class=\"sk-estimator sk-toggleable\"><input class=\"sk-toggleable__control sk-hidden--visually\" id=\"sk-estimator-id-76\" type=\"checkbox\" ><label for=\"sk-estimator-id-76\" class=\"sk-toggleable__label sk-toggleable__label-arrow\">SimpleImputer</label><div class=\"sk-toggleable__content\"><pre>SimpleImputer(strategy=&#x27;most_frequent&#x27;)</pre></div></div></div><div class=\"sk-item\"><div class=\"sk-estimator sk-toggleable\"><input class=\"sk-toggleable__control sk-hidden--visually\" id=\"sk-estimator-id-77\" type=\"checkbox\" ><label for=\"sk-estimator-id-77\" class=\"sk-toggleable__label sk-toggleable__label-arrow\">OneHotEncoder</label><div class=\"sk-toggleable__content\"><pre>OneHotEncoder(handle_unknown=&#x27;ignore&#x27;, sparse_output=False)</pre></div></div></div></div></div></div></div></div></div></div><div class=\"sk-item\"><div class=\"sk-estimator sk-toggleable\"><input class=\"sk-toggleable__control sk-hidden--visually\" id=\"sk-estimator-id-78\" type=\"checkbox\" ><label for=\"sk-estimator-id-78\" class=\"sk-toggleable__label sk-toggleable__label-arrow\">LGBMClassifier</label><div class=\"sk-toggleable__content\"><pre>LGBMClassifier(force_col_wise=True, objective=&#x27;binary&#x27;, random_state=12345,\n",
       "               verbosity=-1)</pre></div></div></div></div></div></div></div>"
      ],
      "text/plain": [
       "Pipeline(memory='D:\\\\lab_temp',\n",
       "         steps=[('preprocessor',\n",
       "                 ColumnTransformer(transformers=[('numerical',\n",
       "                                                  Pipeline(memory='D:\\\\lab_temp',\n",
       "                                                           steps=[('imputer',\n",
       "                                                                   SimpleImputer(strategy='median')),\n",
       "                                                                  ('scaler',\n",
       "                                                                   StandardScaler())]),\n",
       "                                                  array([  0,   3,   4,   6,   7,   8,   9,  10,  11,  12,  13,  14,  15,\n",
       "        16,  17,  18,  19,  20,  21,  22,  24,  25,  26,  27,  28,  30,\n",
       "        31,  32,  33,  34,  35,  36,  37,  38,  39,  40,  41,  42,  43,\n",
       "        44,  45,  46,  48,  49,  50,  51,...\n",
       "                                                  Pipeline(memory='D:\\\\lab_temp',\n",
       "                                                           steps=[('imputer',\n",
       "                                                                   SimpleImputer(strategy='most_frequent')),\n",
       "                                                                  ('encoder',\n",
       "                                                                   OneHotEncoder(handle_unknown='ignore',\n",
       "                                                                                 sparse_output=False))]),\n",
       "                                                  array([  1,   2,   5,  29,  53,  77, 101, 125, 149, 173, 197, 221,  23,\n",
       "        47,  71,  95, 119, 143, 167, 191, 215, 239]))])),\n",
       "                ('classifier',\n",
       "                 LGBMClassifier(force_col_wise=True, objective='binary',\n",
       "                                random_state=12345, verbosity=-1))])"
      ]
     },
     "execution_count": 50,
     "metadata": {},
     "output_type": "execute_result"
    }
   ],
   "source": [
    "%%time\n",
    "\n",
    "lgbm_c = Pipeline(\n",
    "    memory=cache_dir,\n",
    "    steps=[('preprocessor', preprocessor),\n",
    "           ('classifier', lgb.LGBMClassifier(verbosity=-1,\n",
    "                                             force_col_wise=True,\n",
    "                                             objective='binary',\n",
    "                                             random_state=my_seed))\n",
    "    ]\n",
    ")\n",
    "\n",
    "lgbm_c.fit(X_train, y_train)"
   ]
  },
  {
   "cell_type": "code",
   "execution_count": 51,
   "id": "NX2Me48jIzR5",
   "metadata": {
    "colab": {
     "base_uri": "https://localhost:8080/"
    },
    "id": "NX2Me48jIzR5",
    "outputId": "669b189f-76dd-481e-8950-359da0e3655f"
   },
   "outputs": [
    {
     "name": "stdout",
     "output_type": "stream",
     "text": [
      "roc_auc_test: 0.7089499853758409\n"
     ]
    }
   ],
   "source": [
    "print('roc_auc_test:', roc_auc_score(y_test, lgbm_c.predict(X_test)))"
   ]
  },
  {
   "cell_type": "code",
   "execution_count": 194,
   "id": "ww_FW8eJyj3P",
   "metadata": {
    "colab": {
     "base_uri": "https://localhost:8080/",
     "height": 974
    },
    "id": "ww_FW8eJyj3P",
    "outputId": "4351add3-0da4-46af-9c18-760e550f6ffc"
   },
   "outputs": [
    {
     "name": "stdout",
     "output_type": "stream",
     "text": [
      "CPU times: total: 16min 52s\n",
      "Wall time: 4min 46s\n"
     ]
    },
    {
     "data": {
      "text/html": [
       "<style>#sk-container-id-60 {color: black;background-color: white;}#sk-container-id-60 pre{padding: 0;}#sk-container-id-60 div.sk-toggleable {background-color: white;}#sk-container-id-60 label.sk-toggleable__label {cursor: pointer;display: block;width: 100%;margin-bottom: 0;padding: 0.3em;box-sizing: border-box;text-align: center;}#sk-container-id-60 label.sk-toggleable__label-arrow:before {content: \"▸\";float: left;margin-right: 0.25em;color: #696969;}#sk-container-id-60 label.sk-toggleable__label-arrow:hover:before {color: black;}#sk-container-id-60 div.sk-estimator:hover label.sk-toggleable__label-arrow:before {color: black;}#sk-container-id-60 div.sk-toggleable__content {max-height: 0;max-width: 0;overflow: hidden;text-align: left;background-color: #f0f8ff;}#sk-container-id-60 div.sk-toggleable__content pre {margin: 0.2em;color: black;border-radius: 0.25em;background-color: #f0f8ff;}#sk-container-id-60 input.sk-toggleable__control:checked~div.sk-toggleable__content {max-height: 200px;max-width: 100%;overflow: auto;}#sk-container-id-60 input.sk-toggleable__control:checked~label.sk-toggleable__label-arrow:before {content: \"▾\";}#sk-container-id-60 div.sk-estimator input.sk-toggleable__control:checked~label.sk-toggleable__label {background-color: #d4ebff;}#sk-container-id-60 div.sk-label input.sk-toggleable__control:checked~label.sk-toggleable__label {background-color: #d4ebff;}#sk-container-id-60 input.sk-hidden--visually {border: 0;clip: rect(1px 1px 1px 1px);clip: rect(1px, 1px, 1px, 1px);height: 1px;margin: -1px;overflow: hidden;padding: 0;position: absolute;width: 1px;}#sk-container-id-60 div.sk-estimator {font-family: monospace;background-color: #f0f8ff;border: 1px dotted black;border-radius: 0.25em;box-sizing: border-box;margin-bottom: 0.5em;}#sk-container-id-60 div.sk-estimator:hover {background-color: #d4ebff;}#sk-container-id-60 div.sk-parallel-item::after {content: \"\";width: 100%;border-bottom: 1px solid gray;flex-grow: 1;}#sk-container-id-60 div.sk-label:hover label.sk-toggleable__label {background-color: #d4ebff;}#sk-container-id-60 div.sk-serial::before {content: \"\";position: absolute;border-left: 1px solid gray;box-sizing: border-box;top: 0;bottom: 0;left: 50%;z-index: 0;}#sk-container-id-60 div.sk-serial {display: flex;flex-direction: column;align-items: center;background-color: white;padding-right: 0.2em;padding-left: 0.2em;position: relative;}#sk-container-id-60 div.sk-item {position: relative;z-index: 1;}#sk-container-id-60 div.sk-parallel {display: flex;align-items: stretch;justify-content: center;background-color: white;position: relative;}#sk-container-id-60 div.sk-item::before, #sk-container-id-60 div.sk-parallel-item::before {content: \"\";position: absolute;border-left: 1px solid gray;box-sizing: border-box;top: 0;bottom: 0;left: 50%;z-index: -1;}#sk-container-id-60 div.sk-parallel-item {display: flex;flex-direction: column;z-index: 1;position: relative;background-color: white;}#sk-container-id-60 div.sk-parallel-item:first-child::after {align-self: flex-end;width: 50%;}#sk-container-id-60 div.sk-parallel-item:last-child::after {align-self: flex-start;width: 50%;}#sk-container-id-60 div.sk-parallel-item:only-child::after {width: 0;}#sk-container-id-60 div.sk-dashed-wrapped {border: 1px dashed gray;margin: 0 0.4em 0.5em 0.4em;box-sizing: border-box;padding-bottom: 0.4em;background-color: white;}#sk-container-id-60 div.sk-label label {font-family: monospace;font-weight: bold;display: inline-block;line-height: 1.2em;}#sk-container-id-60 div.sk-label-container {text-align: center;}#sk-container-id-60 div.sk-container {/* jupyter's `normalize.less` sets `[hidden] { display: none; }` but bootstrap.min.css set `[hidden] { display: none !important; }` so we also need the `!important` here to be able to override the default hidden behavior on the sphinx rendered scikit-learn.org. See: https://github.com/scikit-learn/scikit-learn/issues/21755 */display: inline-block !important;position: relative;}#sk-container-id-60 div.sk-text-repr-fallback {display: none;}</style><div id=\"sk-container-id-60\" class=\"sk-top-container\"><div class=\"sk-text-repr-fallback\"><pre>GridSearchCV(cv=5,\n",
       "             estimator=Pipeline(memory=&#x27;D:\\\\lab_temp&#x27;,\n",
       "                                steps=[(&#x27;preprocessor&#x27;,\n",
       "                                        ColumnTransformer(transformers=[(&#x27;numerical&#x27;,\n",
       "                                                                         Pipeline(memory=&#x27;D:\\\\lab_temp&#x27;,\n",
       "                                                                                  steps=[(&#x27;imputer&#x27;,\n",
       "                                                                                          SimpleImputer(strategy=&#x27;median&#x27;)),\n",
       "                                                                                         (&#x27;scaler&#x27;,\n",
       "                                                                                          StandardScaler())]),\n",
       "                                                                         array([  0,   3,   4,   6,   7,   8,   9,  10,  11,  12,  13,  14,  15,\n",
       "        16,  17,  18,  19,  20,  21,  22,  24,  25,  26,  27,  28,  30,\n",
       "        31,  32,  33,  34,  35,  36,  37,  38,  39,  40,  41...\n",
       "                                                                         array([  1,   2,   5,  29,  53,  77, 101, 125, 149, 173, 197, 221,  23,\n",
       "        47,  71,  95, 119, 143, 167, 191, 215, 239]))])),\n",
       "                                       (&#x27;classifier&#x27;,\n",
       "                                        LGBMClassifier(force_col_wise=True,\n",
       "                                                       objective=&#x27;binary&#x27;,\n",
       "                                                       random_state=12345,\n",
       "                                                       verbosity=-1))]),\n",
       "             param_grid={&#x27;classifier__bagging&#x27;: [0.5, 1],\n",
       "                         &#x27;classifier__max_bin&#x27;: [200, 300],\n",
       "                         &#x27;classifier__reg_alpha&#x27;: [0, 5, 10],\n",
       "                         &#x27;classifier__reg_lambda&#x27;: [0, 5, 10]},\n",
       "             scoring=&#x27;roc_auc&#x27;)</pre><b>In a Jupyter environment, please rerun this cell to show the HTML representation or trust the notebook. <br />On GitHub, the HTML representation is unable to render, please try loading this page with nbviewer.org.</b></div><div class=\"sk-container\" hidden><div class=\"sk-item sk-dashed-wrapped\"><div class=\"sk-label-container\"><div class=\"sk-label sk-toggleable\"><input class=\"sk-toggleable__control sk-hidden--visually\" id=\"sk-estimator-id-554\" type=\"checkbox\" ><label for=\"sk-estimator-id-554\" class=\"sk-toggleable__label sk-toggleable__label-arrow\">GridSearchCV</label><div class=\"sk-toggleable__content\"><pre>GridSearchCV(cv=5,\n",
       "             estimator=Pipeline(memory=&#x27;D:\\\\lab_temp&#x27;,\n",
       "                                steps=[(&#x27;preprocessor&#x27;,\n",
       "                                        ColumnTransformer(transformers=[(&#x27;numerical&#x27;,\n",
       "                                                                         Pipeline(memory=&#x27;D:\\\\lab_temp&#x27;,\n",
       "                                                                                  steps=[(&#x27;imputer&#x27;,\n",
       "                                                                                          SimpleImputer(strategy=&#x27;median&#x27;)),\n",
       "                                                                                         (&#x27;scaler&#x27;,\n",
       "                                                                                          StandardScaler())]),\n",
       "                                                                         array([  0,   3,   4,   6,   7,   8,   9,  10,  11,  12,  13,  14,  15,\n",
       "        16,  17,  18,  19,  20,  21,  22,  24,  25,  26,  27,  28,  30,\n",
       "        31,  32,  33,  34,  35,  36,  37,  38,  39,  40,  41...\n",
       "                                                                         array([  1,   2,   5,  29,  53,  77, 101, 125, 149, 173, 197, 221,  23,\n",
       "        47,  71,  95, 119, 143, 167, 191, 215, 239]))])),\n",
       "                                       (&#x27;classifier&#x27;,\n",
       "                                        LGBMClassifier(force_col_wise=True,\n",
       "                                                       objective=&#x27;binary&#x27;,\n",
       "                                                       random_state=12345,\n",
       "                                                       verbosity=-1))]),\n",
       "             param_grid={&#x27;classifier__bagging&#x27;: [0.5, 1],\n",
       "                         &#x27;classifier__max_bin&#x27;: [200, 300],\n",
       "                         &#x27;classifier__reg_alpha&#x27;: [0, 5, 10],\n",
       "                         &#x27;classifier__reg_lambda&#x27;: [0, 5, 10]},\n",
       "             scoring=&#x27;roc_auc&#x27;)</pre></div></div></div><div class=\"sk-parallel\"><div class=\"sk-parallel-item\"><div class=\"sk-item\"><div class=\"sk-label-container\"><div class=\"sk-label sk-toggleable\"><input class=\"sk-toggleable__control sk-hidden--visually\" id=\"sk-estimator-id-555\" type=\"checkbox\" ><label for=\"sk-estimator-id-555\" class=\"sk-toggleable__label sk-toggleable__label-arrow\">estimator: Pipeline</label><div class=\"sk-toggleable__content\"><pre>Pipeline(memory=&#x27;D:\\\\lab_temp&#x27;,\n",
       "         steps=[(&#x27;preprocessor&#x27;,\n",
       "                 ColumnTransformer(transformers=[(&#x27;numerical&#x27;,\n",
       "                                                  Pipeline(memory=&#x27;D:\\\\lab_temp&#x27;,\n",
       "                                                           steps=[(&#x27;imputer&#x27;,\n",
       "                                                                   SimpleImputer(strategy=&#x27;median&#x27;)),\n",
       "                                                                  (&#x27;scaler&#x27;,\n",
       "                                                                   StandardScaler())]),\n",
       "                                                  array([  0,   3,   4,   6,   7,   8,   9,  10,  11,  12,  13,  14,  15,\n",
       "        16,  17,  18,  19,  20,  21,  22,  24,  25,  26,  27,  28,  30,\n",
       "        31,  32,  33,  34,  35,  36,  37,  38,  39,  40,  41,  42,  43,\n",
       "        44,  45,  46,  48,  49,  50,  51,...\n",
       "                                                  Pipeline(memory=&#x27;D:\\\\lab_temp&#x27;,\n",
       "                                                           steps=[(&#x27;imputer&#x27;,\n",
       "                                                                   SimpleImputer(strategy=&#x27;most_frequent&#x27;)),\n",
       "                                                                  (&#x27;encoder&#x27;,\n",
       "                                                                   OneHotEncoder(handle_unknown=&#x27;ignore&#x27;,\n",
       "                                                                                 sparse_output=False))]),\n",
       "                                                  array([  1,   2,   5,  29,  53,  77, 101, 125, 149, 173, 197, 221,  23,\n",
       "        47,  71,  95, 119, 143, 167, 191, 215, 239]))])),\n",
       "                (&#x27;classifier&#x27;,\n",
       "                 LGBMClassifier(force_col_wise=True, objective=&#x27;binary&#x27;,\n",
       "                                random_state=12345, verbosity=-1))])</pre></div></div></div><div class=\"sk-serial\"><div class=\"sk-item\"><div class=\"sk-serial\"><div class=\"sk-item sk-dashed-wrapped\"><div class=\"sk-label-container\"><div class=\"sk-label sk-toggleable\"><input class=\"sk-toggleable__control sk-hidden--visually\" id=\"sk-estimator-id-556\" type=\"checkbox\" ><label for=\"sk-estimator-id-556\" class=\"sk-toggleable__label sk-toggleable__label-arrow\">preprocessor: ColumnTransformer</label><div class=\"sk-toggleable__content\"><pre>ColumnTransformer(transformers=[(&#x27;numerical&#x27;,\n",
       "                                 Pipeline(memory=&#x27;D:\\\\lab_temp&#x27;,\n",
       "                                          steps=[(&#x27;imputer&#x27;,\n",
       "                                                  SimpleImputer(strategy=&#x27;median&#x27;)),\n",
       "                                                 (&#x27;scaler&#x27;, StandardScaler())]),\n",
       "                                 array([  0,   3,   4,   6,   7,   8,   9,  10,  11,  12,  13,  14,  15,\n",
       "        16,  17,  18,  19,  20,  21,  22,  24,  25,  26,  27,  28,  30,\n",
       "        31,  32,  33,  34,  35,  36,  37,  38,  39,  40,  41,  42,  43,\n",
       "        44,  45,  46,  48,  49,  50,  51,  52,  54,  55,  56,  57,  58,\n",
       "        59,  60,  61,  62,  63,  64,  65,  66,  67,  68,  69,  70,...\n",
       "       214, 216, 217, 218, 219, 220, 222, 223, 224, 225, 226, 227, 228,\n",
       "       229, 230, 231, 232, 233, 234, 235, 236, 237, 238, 240, 241, 242,\n",
       "       243, 244])),\n",
       "                                (&#x27;categorical&#x27;,\n",
       "                                 Pipeline(memory=&#x27;D:\\\\lab_temp&#x27;,\n",
       "                                          steps=[(&#x27;imputer&#x27;,\n",
       "                                                  SimpleImputer(strategy=&#x27;most_frequent&#x27;)),\n",
       "                                                 (&#x27;encoder&#x27;,\n",
       "                                                  OneHotEncoder(handle_unknown=&#x27;ignore&#x27;,\n",
       "                                                                sparse_output=False))]),\n",
       "                                 array([  1,   2,   5,  29,  53,  77, 101, 125, 149, 173, 197, 221,  23,\n",
       "        47,  71,  95, 119, 143, 167, 191, 215, 239]))])</pre></div></div></div><div class=\"sk-parallel\"><div class=\"sk-parallel-item\"><div class=\"sk-item\"><div class=\"sk-label-container\"><div class=\"sk-label sk-toggleable\"><input class=\"sk-toggleable__control sk-hidden--visually\" id=\"sk-estimator-id-557\" type=\"checkbox\" ><label for=\"sk-estimator-id-557\" class=\"sk-toggleable__label sk-toggleable__label-arrow\">numerical</label><div class=\"sk-toggleable__content\"><pre>[  0   3   4   6   7   8   9  10  11  12  13  14  15  16  17  18  19  20\n",
       "  21  22  24  25  26  27  28  30  31  32  33  34  35  36  37  38  39  40\n",
       "  41  42  43  44  45  46  48  49  50  51  52  54  55  56  57  58  59  60\n",
       "  61  62  63  64  65  66  67  68  69  70  72  73  74  75  76  78  79  80\n",
       "  81  82  83  84  85  86  87  88  89  90  91  92  93  94  96  97  98  99\n",
       " 100 102 103 104 105 106 107 108 109 110 111 112 113 114 115 116 117 118\n",
       " 120 121 122 123 124 126 127 128 129 130 131 132 133 134 135 136 137 138\n",
       " 139 140 141 142 144 145 146 147 148 150 151 152 153 154 155 156 157 158\n",
       " 159 160 161 162 163 164 165 166 168 169 170 171 172 174 175 176 177 178\n",
       " 179 180 181 182 183 184 185 186 187 188 189 190 192 193 194 195 196 198\n",
       " 199 200 201 202 203 204 205 206 207 208 209 210 211 212 213 214 216 217\n",
       " 218 219 220 222 223 224 225 226 227 228 229 230 231 232 233 234 235 236\n",
       " 237 238 240 241 242 243 244]</pre></div></div></div><div class=\"sk-serial\"><div class=\"sk-item\"><div class=\"sk-serial\"><div class=\"sk-item\"><div class=\"sk-estimator sk-toggleable\"><input class=\"sk-toggleable__control sk-hidden--visually\" id=\"sk-estimator-id-558\" type=\"checkbox\" ><label for=\"sk-estimator-id-558\" class=\"sk-toggleable__label sk-toggleable__label-arrow\">SimpleImputer</label><div class=\"sk-toggleable__content\"><pre>SimpleImputer(strategy=&#x27;median&#x27;)</pre></div></div></div><div class=\"sk-item\"><div class=\"sk-estimator sk-toggleable\"><input class=\"sk-toggleable__control sk-hidden--visually\" id=\"sk-estimator-id-559\" type=\"checkbox\" ><label for=\"sk-estimator-id-559\" class=\"sk-toggleable__label sk-toggleable__label-arrow\">StandardScaler</label><div class=\"sk-toggleable__content\"><pre>StandardScaler()</pre></div></div></div></div></div></div></div></div><div class=\"sk-parallel-item\"><div class=\"sk-item\"><div class=\"sk-label-container\"><div class=\"sk-label sk-toggleable\"><input class=\"sk-toggleable__control sk-hidden--visually\" id=\"sk-estimator-id-560\" type=\"checkbox\" ><label for=\"sk-estimator-id-560\" class=\"sk-toggleable__label sk-toggleable__label-arrow\">categorical</label><div class=\"sk-toggleable__content\"><pre>[  1   2   5  29  53  77 101 125 149 173 197 221  23  47  71  95 119 143\n",
       " 167 191 215 239]</pre></div></div></div><div class=\"sk-serial\"><div class=\"sk-item\"><div class=\"sk-serial\"><div class=\"sk-item\"><div class=\"sk-estimator sk-toggleable\"><input class=\"sk-toggleable__control sk-hidden--visually\" id=\"sk-estimator-id-561\" type=\"checkbox\" ><label for=\"sk-estimator-id-561\" class=\"sk-toggleable__label sk-toggleable__label-arrow\">SimpleImputer</label><div class=\"sk-toggleable__content\"><pre>SimpleImputer(strategy=&#x27;most_frequent&#x27;)</pre></div></div></div><div class=\"sk-item\"><div class=\"sk-estimator sk-toggleable\"><input class=\"sk-toggleable__control sk-hidden--visually\" id=\"sk-estimator-id-562\" type=\"checkbox\" ><label for=\"sk-estimator-id-562\" class=\"sk-toggleable__label sk-toggleable__label-arrow\">OneHotEncoder</label><div class=\"sk-toggleable__content\"><pre>OneHotEncoder(handle_unknown=&#x27;ignore&#x27;, sparse_output=False)</pre></div></div></div></div></div></div></div></div></div></div><div class=\"sk-item\"><div class=\"sk-estimator sk-toggleable\"><input class=\"sk-toggleable__control sk-hidden--visually\" id=\"sk-estimator-id-563\" type=\"checkbox\" ><label for=\"sk-estimator-id-563\" class=\"sk-toggleable__label sk-toggleable__label-arrow\">LGBMClassifier</label><div class=\"sk-toggleable__content\"><pre>LGBMClassifier(force_col_wise=True, objective=&#x27;binary&#x27;, random_state=12345,\n",
       "               verbosity=-1)</pre></div></div></div></div></div></div></div></div></div></div></div></div>"
      ],
      "text/plain": [
       "GridSearchCV(cv=5,\n",
       "             estimator=Pipeline(memory='D:\\\\lab_temp',\n",
       "                                steps=[('preprocessor',\n",
       "                                        ColumnTransformer(transformers=[('numerical',\n",
       "                                                                         Pipeline(memory='D:\\\\lab_temp',\n",
       "                                                                                  steps=[('imputer',\n",
       "                                                                                          SimpleImputer(strategy='median')),\n",
       "                                                                                         ('scaler',\n",
       "                                                                                          StandardScaler())]),\n",
       "                                                                         array([  0,   3,   4,   6,   7,   8,   9,  10,  11,  12,  13,  14,  15,\n",
       "        16,  17,  18,  19,  20,  21,  22,  24,  25,  26,  27,  28,  30,\n",
       "        31,  32,  33,  34,  35,  36,  37,  38,  39,  40,  41...\n",
       "                                                                         array([  1,   2,   5,  29,  53,  77, 101, 125, 149, 173, 197, 221,  23,\n",
       "        47,  71,  95, 119, 143, 167, 191, 215, 239]))])),\n",
       "                                       ('classifier',\n",
       "                                        LGBMClassifier(force_col_wise=True,\n",
       "                                                       objective='binary',\n",
       "                                                       random_state=12345,\n",
       "                                                       verbosity=-1))]),\n",
       "             param_grid={'classifier__bagging': [0.5, 1],\n",
       "                         'classifier__max_bin': [200, 300],\n",
       "                         'classifier__reg_alpha': [0, 5, 10],\n",
       "                         'classifier__reg_lambda': [0, 5, 10]},\n",
       "             scoring='roc_auc')"
      ]
     },
     "execution_count": 194,
     "metadata": {},
     "output_type": "execute_result"
    }
   ],
   "source": [
    "%%time\n",
    "\n",
    "param_grid = {\n",
    "    'classifier__max_bin': [200, 300],\n",
    "    'classifier__reg_alpha': [0, 5, 10],\n",
    "    'classifier__reg_lambda': [0, 5, 10],\n",
    "    'classifier__bagging':[0.5, 1]\n",
    "}\n",
    "\n",
    "lgbm_c_gs = GridSearchCV(lgbm_c, param_grid, cv=5, scoring='roc_auc')\n",
    "\n",
    "lgbm_c_gs.fit(X_train, y_train)"
   ]
  },
  {
   "cell_type": "code",
   "execution_count": 202,
   "id": "hz0Am4Sk4saf",
   "metadata": {
    "colab": {
     "base_uri": "https://localhost:8080/"
    },
    "id": "hz0Am4Sk4saf",
    "outputId": "2a64330a-e612-4324-9bf2-ff7cccda9ec2"
   },
   "outputs": [
    {
     "name": "stdout",
     "output_type": "stream",
     "text": [
      "roc_auc_score:  0.7129007832049656\n",
      "XGBoost best score: 0.801047380111007\n",
      "XGBoost best parameters:\n",
      "{'classifier__bagging': 0.5, 'classifier__max_bin': 300, 'classifier__reg_alpha': 0, 'classifier__reg_lambda': 10}\n"
     ]
    }
   ],
   "source": [
    "print('roc_auc_score: ', roc_auc_score(y_test, lgbm_c_gs.predict(X_test)))\n",
    "print('XGBoost best score:', lgbm_c_gs.best_score_)\n",
    "print('XGBoost best parameters:')\n",
    "print(lgbm_c_gs.best_params_)"
   ]
  },
  {
   "cell_type": "code",
   "execution_count": 199,
   "id": "ax0aKgDL4h0U",
   "metadata": {
    "colab": {
     "base_uri": "https://localhost:8080/",
     "height": 262
    },
    "id": "ax0aKgDL4h0U",
    "outputId": "b92f3496-1cbe-4565-d482-aa27a8786959"
   },
   "outputs": [
    {
     "name": "stdout",
     "output_type": "stream",
     "text": [
      "CPU times: total: 1min 11s\n",
      "Wall time: 10.5 s\n"
     ]
    },
    {
     "data": {
      "text/html": [
       "<style>#sk-container-id-62 {color: black;background-color: white;}#sk-container-id-62 pre{padding: 0;}#sk-container-id-62 div.sk-toggleable {background-color: white;}#sk-container-id-62 label.sk-toggleable__label {cursor: pointer;display: block;width: 100%;margin-bottom: 0;padding: 0.3em;box-sizing: border-box;text-align: center;}#sk-container-id-62 label.sk-toggleable__label-arrow:before {content: \"▸\";float: left;margin-right: 0.25em;color: #696969;}#sk-container-id-62 label.sk-toggleable__label-arrow:hover:before {color: black;}#sk-container-id-62 div.sk-estimator:hover label.sk-toggleable__label-arrow:before {color: black;}#sk-container-id-62 div.sk-toggleable__content {max-height: 0;max-width: 0;overflow: hidden;text-align: left;background-color: #f0f8ff;}#sk-container-id-62 div.sk-toggleable__content pre {margin: 0.2em;color: black;border-radius: 0.25em;background-color: #f0f8ff;}#sk-container-id-62 input.sk-toggleable__control:checked~div.sk-toggleable__content {max-height: 200px;max-width: 100%;overflow: auto;}#sk-container-id-62 input.sk-toggleable__control:checked~label.sk-toggleable__label-arrow:before {content: \"▾\";}#sk-container-id-62 div.sk-estimator input.sk-toggleable__control:checked~label.sk-toggleable__label {background-color: #d4ebff;}#sk-container-id-62 div.sk-label input.sk-toggleable__control:checked~label.sk-toggleable__label {background-color: #d4ebff;}#sk-container-id-62 input.sk-hidden--visually {border: 0;clip: rect(1px 1px 1px 1px);clip: rect(1px, 1px, 1px, 1px);height: 1px;margin: -1px;overflow: hidden;padding: 0;position: absolute;width: 1px;}#sk-container-id-62 div.sk-estimator {font-family: monospace;background-color: #f0f8ff;border: 1px dotted black;border-radius: 0.25em;box-sizing: border-box;margin-bottom: 0.5em;}#sk-container-id-62 div.sk-estimator:hover {background-color: #d4ebff;}#sk-container-id-62 div.sk-parallel-item::after {content: \"\";width: 100%;border-bottom: 1px solid gray;flex-grow: 1;}#sk-container-id-62 div.sk-label:hover label.sk-toggleable__label {background-color: #d4ebff;}#sk-container-id-62 div.sk-serial::before {content: \"\";position: absolute;border-left: 1px solid gray;box-sizing: border-box;top: 0;bottom: 0;left: 50%;z-index: 0;}#sk-container-id-62 div.sk-serial {display: flex;flex-direction: column;align-items: center;background-color: white;padding-right: 0.2em;padding-left: 0.2em;position: relative;}#sk-container-id-62 div.sk-item {position: relative;z-index: 1;}#sk-container-id-62 div.sk-parallel {display: flex;align-items: stretch;justify-content: center;background-color: white;position: relative;}#sk-container-id-62 div.sk-item::before, #sk-container-id-62 div.sk-parallel-item::before {content: \"\";position: absolute;border-left: 1px solid gray;box-sizing: border-box;top: 0;bottom: 0;left: 50%;z-index: -1;}#sk-container-id-62 div.sk-parallel-item {display: flex;flex-direction: column;z-index: 1;position: relative;background-color: white;}#sk-container-id-62 div.sk-parallel-item:first-child::after {align-self: flex-end;width: 50%;}#sk-container-id-62 div.sk-parallel-item:last-child::after {align-self: flex-start;width: 50%;}#sk-container-id-62 div.sk-parallel-item:only-child::after {width: 0;}#sk-container-id-62 div.sk-dashed-wrapped {border: 1px dashed gray;margin: 0 0.4em 0.5em 0.4em;box-sizing: border-box;padding-bottom: 0.4em;background-color: white;}#sk-container-id-62 div.sk-label label {font-family: monospace;font-weight: bold;display: inline-block;line-height: 1.2em;}#sk-container-id-62 div.sk-label-container {text-align: center;}#sk-container-id-62 div.sk-container {/* jupyter's `normalize.less` sets `[hidden] { display: none; }` but bootstrap.min.css set `[hidden] { display: none !important; }` so we also need the `!important` here to be able to override the default hidden behavior on the sphinx rendered scikit-learn.org. See: https://github.com/scikit-learn/scikit-learn/issues/21755 */display: inline-block !important;position: relative;}#sk-container-id-62 div.sk-text-repr-fallback {display: none;}</style><div id=\"sk-container-id-62\" class=\"sk-top-container\"><div class=\"sk-text-repr-fallback\"><pre>Pipeline(memory=&#x27;D:\\\\lab_temp&#x27;,\n",
       "         steps=[(&#x27;preprocessor&#x27;,\n",
       "                 ColumnTransformer(transformers=[(&#x27;numerical&#x27;,\n",
       "                                                  Pipeline(memory=&#x27;D:\\\\lab_temp&#x27;,\n",
       "                                                           steps=[(&#x27;imputer&#x27;,\n",
       "                                                                   SimpleImputer(strategy=&#x27;median&#x27;)),\n",
       "                                                                  (&#x27;scaler&#x27;,\n",
       "                                                                   StandardScaler())]),\n",
       "                                                  array([  0,   3,   4,   6,   7,   8,   9,  10,  11,  12,  13,  14,  15,\n",
       "        16,  17,  18,  19,  20,  21,  22,  24,  25,  26,  27,  28,  30,\n",
       "        31,  32,  33,  34,  35,  36,  37,  38,  39,  40,  41,  42,  43,\n",
       "        44,  45,  46,  48,  49,  50,  51,...\n",
       "                                                                   SimpleImputer(strategy=&#x27;most_frequent&#x27;)),\n",
       "                                                                  (&#x27;encoder&#x27;,\n",
       "                                                                   OneHotEncoder(handle_unknown=&#x27;ignore&#x27;,\n",
       "                                                                                 sparse_output=False))]),\n",
       "                                                  array([  1,   2,   5,  29,  53,  77, 101, 125, 149, 173, 197, 221,  23,\n",
       "        47,  71,  95, 119, 143, 167, 191, 215, 239]))])),\n",
       "                (&#x27;classifier&#x27;,\n",
       "                 LGBMClassifier(bagging=0.5, force_col_wise=True,\n",
       "                                learning_rate=0.05, max_bin=300,\n",
       "                                n_estimators=1000, n_jobs=-1,\n",
       "                                random_state=12345, reg_alpha=0, reg_lambda=10,\n",
       "                                verbosity=-1))])</pre><b>In a Jupyter environment, please rerun this cell to show the HTML representation or trust the notebook. <br />On GitHub, the HTML representation is unable to render, please try loading this page with nbviewer.org.</b></div><div class=\"sk-container\" hidden><div class=\"sk-item sk-dashed-wrapped\"><div class=\"sk-label-container\"><div class=\"sk-label sk-toggleable\"><input class=\"sk-toggleable__control sk-hidden--visually\" id=\"sk-estimator-id-573\" type=\"checkbox\" ><label for=\"sk-estimator-id-573\" class=\"sk-toggleable__label sk-toggleable__label-arrow\">Pipeline</label><div class=\"sk-toggleable__content\"><pre>Pipeline(memory=&#x27;D:\\\\lab_temp&#x27;,\n",
       "         steps=[(&#x27;preprocessor&#x27;,\n",
       "                 ColumnTransformer(transformers=[(&#x27;numerical&#x27;,\n",
       "                                                  Pipeline(memory=&#x27;D:\\\\lab_temp&#x27;,\n",
       "                                                           steps=[(&#x27;imputer&#x27;,\n",
       "                                                                   SimpleImputer(strategy=&#x27;median&#x27;)),\n",
       "                                                                  (&#x27;scaler&#x27;,\n",
       "                                                                   StandardScaler())]),\n",
       "                                                  array([  0,   3,   4,   6,   7,   8,   9,  10,  11,  12,  13,  14,  15,\n",
       "        16,  17,  18,  19,  20,  21,  22,  24,  25,  26,  27,  28,  30,\n",
       "        31,  32,  33,  34,  35,  36,  37,  38,  39,  40,  41,  42,  43,\n",
       "        44,  45,  46,  48,  49,  50,  51,...\n",
       "                                                                   SimpleImputer(strategy=&#x27;most_frequent&#x27;)),\n",
       "                                                                  (&#x27;encoder&#x27;,\n",
       "                                                                   OneHotEncoder(handle_unknown=&#x27;ignore&#x27;,\n",
       "                                                                                 sparse_output=False))]),\n",
       "                                                  array([  1,   2,   5,  29,  53,  77, 101, 125, 149, 173, 197, 221,  23,\n",
       "        47,  71,  95, 119, 143, 167, 191, 215, 239]))])),\n",
       "                (&#x27;classifier&#x27;,\n",
       "                 LGBMClassifier(bagging=0.5, force_col_wise=True,\n",
       "                                learning_rate=0.05, max_bin=300,\n",
       "                                n_estimators=1000, n_jobs=-1,\n",
       "                                random_state=12345, reg_alpha=0, reg_lambda=10,\n",
       "                                verbosity=-1))])</pre></div></div></div><div class=\"sk-serial\"><div class=\"sk-item sk-dashed-wrapped\"><div class=\"sk-label-container\"><div class=\"sk-label sk-toggleable\"><input class=\"sk-toggleable__control sk-hidden--visually\" id=\"sk-estimator-id-574\" type=\"checkbox\" ><label for=\"sk-estimator-id-574\" class=\"sk-toggleable__label sk-toggleable__label-arrow\">preprocessor: ColumnTransformer</label><div class=\"sk-toggleable__content\"><pre>ColumnTransformer(transformers=[(&#x27;numerical&#x27;,\n",
       "                                 Pipeline(memory=&#x27;D:\\\\lab_temp&#x27;,\n",
       "                                          steps=[(&#x27;imputer&#x27;,\n",
       "                                                  SimpleImputer(strategy=&#x27;median&#x27;)),\n",
       "                                                 (&#x27;scaler&#x27;, StandardScaler())]),\n",
       "                                 array([  0,   3,   4,   6,   7,   8,   9,  10,  11,  12,  13,  14,  15,\n",
       "        16,  17,  18,  19,  20,  21,  22,  24,  25,  26,  27,  28,  30,\n",
       "        31,  32,  33,  34,  35,  36,  37,  38,  39,  40,  41,  42,  43,\n",
       "        44,  45,  46,  48,  49,  50,  51,  52,  54,  55,  56,  57,  58,\n",
       "        59,  60,  61,  62,  63,  64,  65,  66,  67,  68,  69,  70,...\n",
       "       214, 216, 217, 218, 219, 220, 222, 223, 224, 225, 226, 227, 228,\n",
       "       229, 230, 231, 232, 233, 234, 235, 236, 237, 238, 240, 241, 242,\n",
       "       243, 244])),\n",
       "                                (&#x27;categorical&#x27;,\n",
       "                                 Pipeline(memory=&#x27;D:\\\\lab_temp&#x27;,\n",
       "                                          steps=[(&#x27;imputer&#x27;,\n",
       "                                                  SimpleImputer(strategy=&#x27;most_frequent&#x27;)),\n",
       "                                                 (&#x27;encoder&#x27;,\n",
       "                                                  OneHotEncoder(handle_unknown=&#x27;ignore&#x27;,\n",
       "                                                                sparse_output=False))]),\n",
       "                                 array([  1,   2,   5,  29,  53,  77, 101, 125, 149, 173, 197, 221,  23,\n",
       "        47,  71,  95, 119, 143, 167, 191, 215, 239]))])</pre></div></div></div><div class=\"sk-parallel\"><div class=\"sk-parallel-item\"><div class=\"sk-item\"><div class=\"sk-label-container\"><div class=\"sk-label sk-toggleable\"><input class=\"sk-toggleable__control sk-hidden--visually\" id=\"sk-estimator-id-575\" type=\"checkbox\" ><label for=\"sk-estimator-id-575\" class=\"sk-toggleable__label sk-toggleable__label-arrow\">numerical</label><div class=\"sk-toggleable__content\"><pre>[  0   3   4   6   7   8   9  10  11  12  13  14  15  16  17  18  19  20\n",
       "  21  22  24  25  26  27  28  30  31  32  33  34  35  36  37  38  39  40\n",
       "  41  42  43  44  45  46  48  49  50  51  52  54  55  56  57  58  59  60\n",
       "  61  62  63  64  65  66  67  68  69  70  72  73  74  75  76  78  79  80\n",
       "  81  82  83  84  85  86  87  88  89  90  91  92  93  94  96  97  98  99\n",
       " 100 102 103 104 105 106 107 108 109 110 111 112 113 114 115 116 117 118\n",
       " 120 121 122 123 124 126 127 128 129 130 131 132 133 134 135 136 137 138\n",
       " 139 140 141 142 144 145 146 147 148 150 151 152 153 154 155 156 157 158\n",
       " 159 160 161 162 163 164 165 166 168 169 170 171 172 174 175 176 177 178\n",
       " 179 180 181 182 183 184 185 186 187 188 189 190 192 193 194 195 196 198\n",
       " 199 200 201 202 203 204 205 206 207 208 209 210 211 212 213 214 216 217\n",
       " 218 219 220 222 223 224 225 226 227 228 229 230 231 232 233 234 235 236\n",
       " 237 238 240 241 242 243 244]</pre></div></div></div><div class=\"sk-serial\"><div class=\"sk-item\"><div class=\"sk-serial\"><div class=\"sk-item\"><div class=\"sk-estimator sk-toggleable\"><input class=\"sk-toggleable__control sk-hidden--visually\" id=\"sk-estimator-id-576\" type=\"checkbox\" ><label for=\"sk-estimator-id-576\" class=\"sk-toggleable__label sk-toggleable__label-arrow\">SimpleImputer</label><div class=\"sk-toggleable__content\"><pre>SimpleImputer(strategy=&#x27;median&#x27;)</pre></div></div></div><div class=\"sk-item\"><div class=\"sk-estimator sk-toggleable\"><input class=\"sk-toggleable__control sk-hidden--visually\" id=\"sk-estimator-id-577\" type=\"checkbox\" ><label for=\"sk-estimator-id-577\" class=\"sk-toggleable__label sk-toggleable__label-arrow\">StandardScaler</label><div class=\"sk-toggleable__content\"><pre>StandardScaler()</pre></div></div></div></div></div></div></div></div><div class=\"sk-parallel-item\"><div class=\"sk-item\"><div class=\"sk-label-container\"><div class=\"sk-label sk-toggleable\"><input class=\"sk-toggleable__control sk-hidden--visually\" id=\"sk-estimator-id-578\" type=\"checkbox\" ><label for=\"sk-estimator-id-578\" class=\"sk-toggleable__label sk-toggleable__label-arrow\">categorical</label><div class=\"sk-toggleable__content\"><pre>[  1   2   5  29  53  77 101 125 149 173 197 221  23  47  71  95 119 143\n",
       " 167 191 215 239]</pre></div></div></div><div class=\"sk-serial\"><div class=\"sk-item\"><div class=\"sk-serial\"><div class=\"sk-item\"><div class=\"sk-estimator sk-toggleable\"><input class=\"sk-toggleable__control sk-hidden--visually\" id=\"sk-estimator-id-579\" type=\"checkbox\" ><label for=\"sk-estimator-id-579\" class=\"sk-toggleable__label sk-toggleable__label-arrow\">SimpleImputer</label><div class=\"sk-toggleable__content\"><pre>SimpleImputer(strategy=&#x27;most_frequent&#x27;)</pre></div></div></div><div class=\"sk-item\"><div class=\"sk-estimator sk-toggleable\"><input class=\"sk-toggleable__control sk-hidden--visually\" id=\"sk-estimator-id-580\" type=\"checkbox\" ><label for=\"sk-estimator-id-580\" class=\"sk-toggleable__label sk-toggleable__label-arrow\">OneHotEncoder</label><div class=\"sk-toggleable__content\"><pre>OneHotEncoder(handle_unknown=&#x27;ignore&#x27;, sparse_output=False)</pre></div></div></div></div></div></div></div></div></div></div><div class=\"sk-item\"><div class=\"sk-estimator sk-toggleable\"><input class=\"sk-toggleable__control sk-hidden--visually\" id=\"sk-estimator-id-581\" type=\"checkbox\" ><label for=\"sk-estimator-id-581\" class=\"sk-toggleable__label sk-toggleable__label-arrow\">LGBMClassifier</label><div class=\"sk-toggleable__content\"><pre>LGBMClassifier(bagging=0.5, force_col_wise=True, learning_rate=0.05,\n",
       "               max_bin=300, n_estimators=1000, n_jobs=-1, random_state=12345,\n",
       "               reg_alpha=0, reg_lambda=10, verbosity=-1)</pre></div></div></div></div></div></div></div>"
      ],
      "text/plain": [
       "Pipeline(memory='D:\\\\lab_temp',\n",
       "         steps=[('preprocessor',\n",
       "                 ColumnTransformer(transformers=[('numerical',\n",
       "                                                  Pipeline(memory='D:\\\\lab_temp',\n",
       "                                                           steps=[('imputer',\n",
       "                                                                   SimpleImputer(strategy='median')),\n",
       "                                                                  ('scaler',\n",
       "                                                                   StandardScaler())]),\n",
       "                                                  array([  0,   3,   4,   6,   7,   8,   9,  10,  11,  12,  13,  14,  15,\n",
       "        16,  17,  18,  19,  20,  21,  22,  24,  25,  26,  27,  28,  30,\n",
       "        31,  32,  33,  34,  35,  36,  37,  38,  39,  40,  41,  42,  43,\n",
       "        44,  45,  46,  48,  49,  50,  51,...\n",
       "                                                                   SimpleImputer(strategy='most_frequent')),\n",
       "                                                                  ('encoder',\n",
       "                                                                   OneHotEncoder(handle_unknown='ignore',\n",
       "                                                                                 sparse_output=False))]),\n",
       "                                                  array([  1,   2,   5,  29,  53,  77, 101, 125, 149, 173, 197, 221,  23,\n",
       "        47,  71,  95, 119, 143, 167, 191, 215, 239]))])),\n",
       "                ('classifier',\n",
       "                 LGBMClassifier(bagging=0.5, force_col_wise=True,\n",
       "                                learning_rate=0.05, max_bin=300,\n",
       "                                n_estimators=1000, n_jobs=-1,\n",
       "                                random_state=12345, reg_alpha=0, reg_lambda=10,\n",
       "                                verbosity=-1))])"
      ]
     },
     "execution_count": 199,
     "metadata": {},
     "output_type": "execute_result"
    }
   ],
   "source": [
    "%%time\n",
    "\n",
    "lgbm_c_best = Pipeline(\n",
    "    memory=cache_dir,\n",
    "    steps=[('preprocessor', preprocessor),\n",
    "           ('classifier', lgb.LGBMClassifier(n_estimators=1000,\n",
    "                                             learning_rate=0.05,\n",
    "                                             max_bin=300,\n",
    "                                             reg_alpha = 0,\n",
    "                                             reg_lambda = 10,\n",
    "                                             bagging=0.5,\n",
    "                                             force_col_wise=True,\n",
    "                                             n_jobs=-1,\n",
    "                                             verbosity=-1,\n",
    "                                             random_state=my_seed))\n",
    "    ]\n",
    ")\n",
    "\n",
    "lgbm_c_best.fit(X_train, y_train)"
   ]
  },
  {
   "cell_type": "code",
   "execution_count": 200,
   "id": "9mm-qZ20zjIz",
   "metadata": {
    "colab": {
     "base_uri": "https://localhost:8080/"
    },
    "id": "9mm-qZ20zjIz",
    "outputId": "bf70268e-b922-47cf-bb10-183fb2a54708"
   },
   "outputs": [
    {
     "name": "stdout",
     "output_type": "stream",
     "text": [
      "roc_auc_test: 0.7199031555685548\n"
     ]
    }
   ],
   "source": [
    "print('roc_auc_test:', roc_auc_score(y_test, lgbm_c_best.predict(X_test)))"
   ]
  },
  {
   "cell_type": "code",
   "execution_count": 201,
   "id": "e1493ade-720c-45fe-8de7-0983d1c0a61b",
   "metadata": {},
   "outputs": [
    {
     "name": "stdout",
     "output_type": "stream",
     "text": [
      "Cross-validation roc_auc scores: [0.81908563 0.81323742 0.80857113 0.81015905 0.81049626]\n",
      "Mean roc_auc: 0.8123098990632627\n"
     ]
    }
   ],
   "source": [
    "scores = cross_val_score(lgbm_c_best, X, y_cv, cv=5, scoring='roc_auc')\n",
    "print(\"Cross-validation roc_auc scores:\", scores)\n",
    "print(\"Mean roc_auc:\", scores.mean())"
   ]
  },
  {
   "cell_type": "markdown",
   "id": "Z3PEi9_XuECr",
   "metadata": {
    "id": "Z3PEi9_XuECr"
   },
   "source": [
    "### Эксперимент 6\n",
    "Использование RandomForestClassifier"
   ]
  },
  {
   "cell_type": "code",
   "execution_count": 56,
   "id": "xlDPRA5duMHS",
   "metadata": {
    "id": "xlDPRA5duMHS"
   },
   "outputs": [],
   "source": [
    "from sklearn.ensemble import RandomForestClassifier"
   ]
  },
  {
   "cell_type": "code",
   "execution_count": 57,
   "id": "ZvuGNUXKuUFz",
   "metadata": {
    "colab": {
     "base_uri": "https://localhost:8080/"
    },
    "id": "ZvuGNUXKuUFz",
    "outputId": "f65f3641-574c-4e84-bc31-c3e5339e3e16"
   },
   "outputs": [
    {
     "name": "stdout",
     "output_type": "stream",
     "text": [
      "roc_auc: 0.6851155308569756\n",
      "CPU times: total: 16.2 s\n",
      "Wall time: 2.77 s\n"
     ]
    }
   ],
   "source": [
    "%%time\n",
    "\n",
    "rfc = Pipeline(\n",
    "    memory=cache_dir,\n",
    "    steps=[('preprocessor', preprocessor),\n",
    "           ('feature_selection', SelectKBest(k=100)),\n",
    "           ('classifier',RandomForestClassifier(n_jobs=-1,\n",
    "                                                random_state=my_seed))\n",
    "    ]\n",
    ")\n",
    "\n",
    "rfc.fit(X_train, y_train)\n",
    "\n",
    "print('roc_auc:', roc_auc_score(y_test, rfc.predict(X_test)))"
   ]
  },
  {
   "cell_type": "code",
   "execution_count": 58,
   "id": "HNyzLLx5u6mZ",
   "metadata": {
    "colab": {
     "base_uri": "https://localhost:8080/",
     "height": 806
    },
    "id": "HNyzLLx5u6mZ",
    "outputId": "6134762d-ad78-4637-d386-c163402d8308"
   },
   "outputs": [
    {
     "name": "stdout",
     "output_type": "stream",
     "text": [
      "CPU times: total: 30 s\n",
      "Wall time: 40.2 s\n"
     ]
    },
    {
     "data": {
      "text/html": [
       "<style>#sk-container-id-11 {color: black;background-color: white;}#sk-container-id-11 pre{padding: 0;}#sk-container-id-11 div.sk-toggleable {background-color: white;}#sk-container-id-11 label.sk-toggleable__label {cursor: pointer;display: block;width: 100%;margin-bottom: 0;padding: 0.3em;box-sizing: border-box;text-align: center;}#sk-container-id-11 label.sk-toggleable__label-arrow:before {content: \"▸\";float: left;margin-right: 0.25em;color: #696969;}#sk-container-id-11 label.sk-toggleable__label-arrow:hover:before {color: black;}#sk-container-id-11 div.sk-estimator:hover label.sk-toggleable__label-arrow:before {color: black;}#sk-container-id-11 div.sk-toggleable__content {max-height: 0;max-width: 0;overflow: hidden;text-align: left;background-color: #f0f8ff;}#sk-container-id-11 div.sk-toggleable__content pre {margin: 0.2em;color: black;border-radius: 0.25em;background-color: #f0f8ff;}#sk-container-id-11 input.sk-toggleable__control:checked~div.sk-toggleable__content {max-height: 200px;max-width: 100%;overflow: auto;}#sk-container-id-11 input.sk-toggleable__control:checked~label.sk-toggleable__label-arrow:before {content: \"▾\";}#sk-container-id-11 div.sk-estimator input.sk-toggleable__control:checked~label.sk-toggleable__label {background-color: #d4ebff;}#sk-container-id-11 div.sk-label input.sk-toggleable__control:checked~label.sk-toggleable__label {background-color: #d4ebff;}#sk-container-id-11 input.sk-hidden--visually {border: 0;clip: rect(1px 1px 1px 1px);clip: rect(1px, 1px, 1px, 1px);height: 1px;margin: -1px;overflow: hidden;padding: 0;position: absolute;width: 1px;}#sk-container-id-11 div.sk-estimator {font-family: monospace;background-color: #f0f8ff;border: 1px dotted black;border-radius: 0.25em;box-sizing: border-box;margin-bottom: 0.5em;}#sk-container-id-11 div.sk-estimator:hover {background-color: #d4ebff;}#sk-container-id-11 div.sk-parallel-item::after {content: \"\";width: 100%;border-bottom: 1px solid gray;flex-grow: 1;}#sk-container-id-11 div.sk-label:hover label.sk-toggleable__label {background-color: #d4ebff;}#sk-container-id-11 div.sk-serial::before {content: \"\";position: absolute;border-left: 1px solid gray;box-sizing: border-box;top: 0;bottom: 0;left: 50%;z-index: 0;}#sk-container-id-11 div.sk-serial {display: flex;flex-direction: column;align-items: center;background-color: white;padding-right: 0.2em;padding-left: 0.2em;position: relative;}#sk-container-id-11 div.sk-item {position: relative;z-index: 1;}#sk-container-id-11 div.sk-parallel {display: flex;align-items: stretch;justify-content: center;background-color: white;position: relative;}#sk-container-id-11 div.sk-item::before, #sk-container-id-11 div.sk-parallel-item::before {content: \"\";position: absolute;border-left: 1px solid gray;box-sizing: border-box;top: 0;bottom: 0;left: 50%;z-index: -1;}#sk-container-id-11 div.sk-parallel-item {display: flex;flex-direction: column;z-index: 1;position: relative;background-color: white;}#sk-container-id-11 div.sk-parallel-item:first-child::after {align-self: flex-end;width: 50%;}#sk-container-id-11 div.sk-parallel-item:last-child::after {align-self: flex-start;width: 50%;}#sk-container-id-11 div.sk-parallel-item:only-child::after {width: 0;}#sk-container-id-11 div.sk-dashed-wrapped {border: 1px dashed gray;margin: 0 0.4em 0.5em 0.4em;box-sizing: border-box;padding-bottom: 0.4em;background-color: white;}#sk-container-id-11 div.sk-label label {font-family: monospace;font-weight: bold;display: inline-block;line-height: 1.2em;}#sk-container-id-11 div.sk-label-container {text-align: center;}#sk-container-id-11 div.sk-container {/* jupyter's `normalize.less` sets `[hidden] { display: none; }` but bootstrap.min.css set `[hidden] { display: none !important; }` so we also need the `!important` here to be able to override the default hidden behavior on the sphinx rendered scikit-learn.org. See: https://github.com/scikit-learn/scikit-learn/issues/21755 */display: inline-block !important;position: relative;}#sk-container-id-11 div.sk-text-repr-fallback {display: none;}</style><div id=\"sk-container-id-11\" class=\"sk-top-container\"><div class=\"sk-text-repr-fallback\"><pre>GridSearchCV(cv=3,\n",
       "             estimator=Pipeline(memory=&#x27;D:\\\\lab_temp&#x27;,\n",
       "                                steps=[(&#x27;preprocessor&#x27;,\n",
       "                                        ColumnTransformer(transformers=[(&#x27;numerical&#x27;,\n",
       "                                                                         Pipeline(memory=&#x27;D:\\\\lab_temp&#x27;,\n",
       "                                                                                  steps=[(&#x27;imputer&#x27;,\n",
       "                                                                                          SimpleImputer(strategy=&#x27;median&#x27;)),\n",
       "                                                                                         (&#x27;scaler&#x27;,\n",
       "                                                                                          StandardScaler())]),\n",
       "                                                                         array([  0,   3,   4,   6,   7,   8,   9,  10,  11,  12,  13,  14,  15,\n",
       "        16,  17,  18,  19,  20,  21,  22,  24,  25,  26,  27,  28,  30,\n",
       "        31,  32,  33,  34,  35,  36,  37,  38,  39,  40,  41...\n",
       "                                                                                                        sparse_output=False))]),\n",
       "                                                                         array([  1,   2,   5,  29,  53,  77, 101, 125, 149, 173, 197, 221,  23,\n",
       "        47,  71,  95, 119, 143, 167, 191, 215, 239]))])),\n",
       "                                       (&#x27;feature_selection&#x27;,\n",
       "                                        SelectKBest(k=100)),\n",
       "                                       (&#x27;classifier&#x27;,\n",
       "                                        RandomForestClassifier(n_jobs=-1,\n",
       "                                                               random_state=12345))]),\n",
       "             param_grid={&#x27;classifier__max_depth&#x27;: [6, 10],\n",
       "                         &#x27;classifier__max_leaf_nodes&#x27;: [6, 10],\n",
       "                         &#x27;classifier__min_samples_leaf&#x27;: [1, 3, 5]},\n",
       "             scoring=&#x27;roc_auc&#x27;)</pre><b>In a Jupyter environment, please rerun this cell to show the HTML representation or trust the notebook. <br />On GitHub, the HTML representation is unable to render, please try loading this page with nbviewer.org.</b></div><div class=\"sk-container\" hidden><div class=\"sk-item sk-dashed-wrapped\"><div class=\"sk-label-container\"><div class=\"sk-label sk-toggleable\"><input class=\"sk-toggleable__control sk-hidden--visually\" id=\"sk-estimator-id-98\" type=\"checkbox\" ><label for=\"sk-estimator-id-98\" class=\"sk-toggleable__label sk-toggleable__label-arrow\">GridSearchCV</label><div class=\"sk-toggleable__content\"><pre>GridSearchCV(cv=3,\n",
       "             estimator=Pipeline(memory=&#x27;D:\\\\lab_temp&#x27;,\n",
       "                                steps=[(&#x27;preprocessor&#x27;,\n",
       "                                        ColumnTransformer(transformers=[(&#x27;numerical&#x27;,\n",
       "                                                                         Pipeline(memory=&#x27;D:\\\\lab_temp&#x27;,\n",
       "                                                                                  steps=[(&#x27;imputer&#x27;,\n",
       "                                                                                          SimpleImputer(strategy=&#x27;median&#x27;)),\n",
       "                                                                                         (&#x27;scaler&#x27;,\n",
       "                                                                                          StandardScaler())]),\n",
       "                                                                         array([  0,   3,   4,   6,   7,   8,   9,  10,  11,  12,  13,  14,  15,\n",
       "        16,  17,  18,  19,  20,  21,  22,  24,  25,  26,  27,  28,  30,\n",
       "        31,  32,  33,  34,  35,  36,  37,  38,  39,  40,  41...\n",
       "                                                                                                        sparse_output=False))]),\n",
       "                                                                         array([  1,   2,   5,  29,  53,  77, 101, 125, 149, 173, 197, 221,  23,\n",
       "        47,  71,  95, 119, 143, 167, 191, 215, 239]))])),\n",
       "                                       (&#x27;feature_selection&#x27;,\n",
       "                                        SelectKBest(k=100)),\n",
       "                                       (&#x27;classifier&#x27;,\n",
       "                                        RandomForestClassifier(n_jobs=-1,\n",
       "                                                               random_state=12345))]),\n",
       "             param_grid={&#x27;classifier__max_depth&#x27;: [6, 10],\n",
       "                         &#x27;classifier__max_leaf_nodes&#x27;: [6, 10],\n",
       "                         &#x27;classifier__min_samples_leaf&#x27;: [1, 3, 5]},\n",
       "             scoring=&#x27;roc_auc&#x27;)</pre></div></div></div><div class=\"sk-parallel\"><div class=\"sk-parallel-item\"><div class=\"sk-item\"><div class=\"sk-label-container\"><div class=\"sk-label sk-toggleable\"><input class=\"sk-toggleable__control sk-hidden--visually\" id=\"sk-estimator-id-99\" type=\"checkbox\" ><label for=\"sk-estimator-id-99\" class=\"sk-toggleable__label sk-toggleable__label-arrow\">estimator: Pipeline</label><div class=\"sk-toggleable__content\"><pre>Pipeline(memory=&#x27;D:\\\\lab_temp&#x27;,\n",
       "         steps=[(&#x27;preprocessor&#x27;,\n",
       "                 ColumnTransformer(transformers=[(&#x27;numerical&#x27;,\n",
       "                                                  Pipeline(memory=&#x27;D:\\\\lab_temp&#x27;,\n",
       "                                                           steps=[(&#x27;imputer&#x27;,\n",
       "                                                                   SimpleImputer(strategy=&#x27;median&#x27;)),\n",
       "                                                                  (&#x27;scaler&#x27;,\n",
       "                                                                   StandardScaler())]),\n",
       "                                                  array([  0,   3,   4,   6,   7,   8,   9,  10,  11,  12,  13,  14,  15,\n",
       "        16,  17,  18,  19,  20,  21,  22,  24,  25,  26,  27,  28,  30,\n",
       "        31,  32,  33,  34,  35,  36,  37,  38,  39,  40,  41,  42,  43,\n",
       "        44,  45,  46,  48,  49,  50,  51,...\n",
       "                                                  Pipeline(memory=&#x27;D:\\\\lab_temp&#x27;,\n",
       "                                                           steps=[(&#x27;imputer&#x27;,\n",
       "                                                                   SimpleImputer(strategy=&#x27;most_frequent&#x27;)),\n",
       "                                                                  (&#x27;encoder&#x27;,\n",
       "                                                                   OneHotEncoder(handle_unknown=&#x27;ignore&#x27;,\n",
       "                                                                                 sparse_output=False))]),\n",
       "                                                  array([  1,   2,   5,  29,  53,  77, 101, 125, 149, 173, 197, 221,  23,\n",
       "        47,  71,  95, 119, 143, 167, 191, 215, 239]))])),\n",
       "                (&#x27;feature_selection&#x27;, SelectKBest(k=100)),\n",
       "                (&#x27;classifier&#x27;,\n",
       "                 RandomForestClassifier(n_jobs=-1, random_state=12345))])</pre></div></div></div><div class=\"sk-serial\"><div class=\"sk-item\"><div class=\"sk-serial\"><div class=\"sk-item sk-dashed-wrapped\"><div class=\"sk-label-container\"><div class=\"sk-label sk-toggleable\"><input class=\"sk-toggleable__control sk-hidden--visually\" id=\"sk-estimator-id-100\" type=\"checkbox\" ><label for=\"sk-estimator-id-100\" class=\"sk-toggleable__label sk-toggleable__label-arrow\">preprocessor: ColumnTransformer</label><div class=\"sk-toggleable__content\"><pre>ColumnTransformer(transformers=[(&#x27;numerical&#x27;,\n",
       "                                 Pipeline(memory=&#x27;D:\\\\lab_temp&#x27;,\n",
       "                                          steps=[(&#x27;imputer&#x27;,\n",
       "                                                  SimpleImputer(strategy=&#x27;median&#x27;)),\n",
       "                                                 (&#x27;scaler&#x27;, StandardScaler())]),\n",
       "                                 array([  0,   3,   4,   6,   7,   8,   9,  10,  11,  12,  13,  14,  15,\n",
       "        16,  17,  18,  19,  20,  21,  22,  24,  25,  26,  27,  28,  30,\n",
       "        31,  32,  33,  34,  35,  36,  37,  38,  39,  40,  41,  42,  43,\n",
       "        44,  45,  46,  48,  49,  50,  51,  52,  54,  55,  56,  57,  58,\n",
       "        59,  60,  61,  62,  63,  64,  65,  66,  67,  68,  69,  70,...\n",
       "       214, 216, 217, 218, 219, 220, 222, 223, 224, 225, 226, 227, 228,\n",
       "       229, 230, 231, 232, 233, 234, 235, 236, 237, 238, 240, 241, 242,\n",
       "       243, 244])),\n",
       "                                (&#x27;categorical&#x27;,\n",
       "                                 Pipeline(memory=&#x27;D:\\\\lab_temp&#x27;,\n",
       "                                          steps=[(&#x27;imputer&#x27;,\n",
       "                                                  SimpleImputer(strategy=&#x27;most_frequent&#x27;)),\n",
       "                                                 (&#x27;encoder&#x27;,\n",
       "                                                  OneHotEncoder(handle_unknown=&#x27;ignore&#x27;,\n",
       "                                                                sparse_output=False))]),\n",
       "                                 array([  1,   2,   5,  29,  53,  77, 101, 125, 149, 173, 197, 221,  23,\n",
       "        47,  71,  95, 119, 143, 167, 191, 215, 239]))])</pre></div></div></div><div class=\"sk-parallel\"><div class=\"sk-parallel-item\"><div class=\"sk-item\"><div class=\"sk-label-container\"><div class=\"sk-label sk-toggleable\"><input class=\"sk-toggleable__control sk-hidden--visually\" id=\"sk-estimator-id-101\" type=\"checkbox\" ><label for=\"sk-estimator-id-101\" class=\"sk-toggleable__label sk-toggleable__label-arrow\">numerical</label><div class=\"sk-toggleable__content\"><pre>[  0   3   4   6   7   8   9  10  11  12  13  14  15  16  17  18  19  20\n",
       "  21  22  24  25  26  27  28  30  31  32  33  34  35  36  37  38  39  40\n",
       "  41  42  43  44  45  46  48  49  50  51  52  54  55  56  57  58  59  60\n",
       "  61  62  63  64  65  66  67  68  69  70  72  73  74  75  76  78  79  80\n",
       "  81  82  83  84  85  86  87  88  89  90  91  92  93  94  96  97  98  99\n",
       " 100 102 103 104 105 106 107 108 109 110 111 112 113 114 115 116 117 118\n",
       " 120 121 122 123 124 126 127 128 129 130 131 132 133 134 135 136 137 138\n",
       " 139 140 141 142 144 145 146 147 148 150 151 152 153 154 155 156 157 158\n",
       " 159 160 161 162 163 164 165 166 168 169 170 171 172 174 175 176 177 178\n",
       " 179 180 181 182 183 184 185 186 187 188 189 190 192 193 194 195 196 198\n",
       " 199 200 201 202 203 204 205 206 207 208 209 210 211 212 213 214 216 217\n",
       " 218 219 220 222 223 224 225 226 227 228 229 230 231 232 233 234 235 236\n",
       " 237 238 240 241 242 243 244]</pre></div></div></div><div class=\"sk-serial\"><div class=\"sk-item\"><div class=\"sk-serial\"><div class=\"sk-item\"><div class=\"sk-estimator sk-toggleable\"><input class=\"sk-toggleable__control sk-hidden--visually\" id=\"sk-estimator-id-102\" type=\"checkbox\" ><label for=\"sk-estimator-id-102\" class=\"sk-toggleable__label sk-toggleable__label-arrow\">SimpleImputer</label><div class=\"sk-toggleable__content\"><pre>SimpleImputer(strategy=&#x27;median&#x27;)</pre></div></div></div><div class=\"sk-item\"><div class=\"sk-estimator sk-toggleable\"><input class=\"sk-toggleable__control sk-hidden--visually\" id=\"sk-estimator-id-103\" type=\"checkbox\" ><label for=\"sk-estimator-id-103\" class=\"sk-toggleable__label sk-toggleable__label-arrow\">StandardScaler</label><div class=\"sk-toggleable__content\"><pre>StandardScaler()</pre></div></div></div></div></div></div></div></div><div class=\"sk-parallel-item\"><div class=\"sk-item\"><div class=\"sk-label-container\"><div class=\"sk-label sk-toggleable\"><input class=\"sk-toggleable__control sk-hidden--visually\" id=\"sk-estimator-id-104\" type=\"checkbox\" ><label for=\"sk-estimator-id-104\" class=\"sk-toggleable__label sk-toggleable__label-arrow\">categorical</label><div class=\"sk-toggleable__content\"><pre>[  1   2   5  29  53  77 101 125 149 173 197 221  23  47  71  95 119 143\n",
       " 167 191 215 239]</pre></div></div></div><div class=\"sk-serial\"><div class=\"sk-item\"><div class=\"sk-serial\"><div class=\"sk-item\"><div class=\"sk-estimator sk-toggleable\"><input class=\"sk-toggleable__control sk-hidden--visually\" id=\"sk-estimator-id-105\" type=\"checkbox\" ><label for=\"sk-estimator-id-105\" class=\"sk-toggleable__label sk-toggleable__label-arrow\">SimpleImputer</label><div class=\"sk-toggleable__content\"><pre>SimpleImputer(strategy=&#x27;most_frequent&#x27;)</pre></div></div></div><div class=\"sk-item\"><div class=\"sk-estimator sk-toggleable\"><input class=\"sk-toggleable__control sk-hidden--visually\" id=\"sk-estimator-id-106\" type=\"checkbox\" ><label for=\"sk-estimator-id-106\" class=\"sk-toggleable__label sk-toggleable__label-arrow\">OneHotEncoder</label><div class=\"sk-toggleable__content\"><pre>OneHotEncoder(handle_unknown=&#x27;ignore&#x27;, sparse_output=False)</pre></div></div></div></div></div></div></div></div></div></div><div class=\"sk-item\"><div class=\"sk-estimator sk-toggleable\"><input class=\"sk-toggleable__control sk-hidden--visually\" id=\"sk-estimator-id-107\" type=\"checkbox\" ><label for=\"sk-estimator-id-107\" class=\"sk-toggleable__label sk-toggleable__label-arrow\">SelectKBest</label><div class=\"sk-toggleable__content\"><pre>SelectKBest(k=100)</pre></div></div></div><div class=\"sk-item\"><div class=\"sk-estimator sk-toggleable\"><input class=\"sk-toggleable__control sk-hidden--visually\" id=\"sk-estimator-id-108\" type=\"checkbox\" ><label for=\"sk-estimator-id-108\" class=\"sk-toggleable__label sk-toggleable__label-arrow\">RandomForestClassifier</label><div class=\"sk-toggleable__content\"><pre>RandomForestClassifier(n_jobs=-1, random_state=12345)</pre></div></div></div></div></div></div></div></div></div></div></div></div>"
      ],
      "text/plain": [
       "GridSearchCV(cv=3,\n",
       "             estimator=Pipeline(memory='D:\\\\lab_temp',\n",
       "                                steps=[('preprocessor',\n",
       "                                        ColumnTransformer(transformers=[('numerical',\n",
       "                                                                         Pipeline(memory='D:\\\\lab_temp',\n",
       "                                                                                  steps=[('imputer',\n",
       "                                                                                          SimpleImputer(strategy='median')),\n",
       "                                                                                         ('scaler',\n",
       "                                                                                          StandardScaler())]),\n",
       "                                                                         array([  0,   3,   4,   6,   7,   8,   9,  10,  11,  12,  13,  14,  15,\n",
       "        16,  17,  18,  19,  20,  21,  22,  24,  25,  26,  27,  28,  30,\n",
       "        31,  32,  33,  34,  35,  36,  37,  38,  39,  40,  41...\n",
       "                                                                                                        sparse_output=False))]),\n",
       "                                                                         array([  1,   2,   5,  29,  53,  77, 101, 125, 149, 173, 197, 221,  23,\n",
       "        47,  71,  95, 119, 143, 167, 191, 215, 239]))])),\n",
       "                                       ('feature_selection',\n",
       "                                        SelectKBest(k=100)),\n",
       "                                       ('classifier',\n",
       "                                        RandomForestClassifier(n_jobs=-1,\n",
       "                                                               random_state=12345))]),\n",
       "             param_grid={'classifier__max_depth': [6, 10],\n",
       "                         'classifier__max_leaf_nodes': [6, 10],\n",
       "                         'classifier__min_samples_leaf': [1, 3, 5]},\n",
       "             scoring='roc_auc')"
      ]
     },
     "execution_count": 58,
     "metadata": {},
     "output_type": "execute_result"
    }
   ],
   "source": [
    "%%time\n",
    "\n",
    "param_grid = {\n",
    "    'classifier__min_samples_leaf': [1, 3, 5],\n",
    "    'classifier__max_depth': [6, 10],\n",
    "    'classifier__max_leaf_nodes': [6, 10],\n",
    "}\n",
    "\n",
    "rfc_gs = GridSearchCV(rfc, param_grid, cv=3, scoring='roc_auc')\n",
    "\n",
    "rfc_gs.fit(X_train, y_train)"
   ]
  },
  {
   "cell_type": "code",
   "execution_count": 59,
   "id": "PXFQoHKI1tsA",
   "metadata": {
    "colab": {
     "base_uri": "https://localhost:8080/"
    },
    "id": "PXFQoHKI1tsA",
    "outputId": "34d4cc29-3276-406b-dd56-9d53a4205096"
   },
   "outputs": [
    {
     "name": "stdout",
     "output_type": "stream",
     "text": [
      "roc_auc_score:  0.6465997205160703\n",
      "RandomForest best score: 0.7447915783199409\n",
      "RandomForest best parameters:\n",
      "{'classifier__max_depth': 6, 'classifier__max_leaf_nodes': 10, 'classifier__min_samples_leaf': 1}\n"
     ]
    }
   ],
   "source": [
    "print('roc_auc_score: ', roc_auc_score(y_test, rfc_gs.predict(X_test)))\n",
    "print('RandomForest best score:', rfc_gs.best_score_)\n",
    "print('RandomForest best parameters:')\n",
    "print(rfc_gs.best_params_)"
   ]
  },
  {
   "cell_type": "code",
   "execution_count": 74,
   "id": "p2tyB1h51-fD",
   "metadata": {
    "colab": {
     "base_uri": "https://localhost:8080/",
     "height": 296
    },
    "id": "p2tyB1h51-fD",
    "outputId": "29f0c7e1-c13c-40b7-d2e8-2bbef9d39b30"
   },
   "outputs": [
    {
     "name": "stdout",
     "output_type": "stream",
     "text": [
      "CPU times: total: 33.4 s\n",
      "Wall time: 5.24 s\n"
     ]
    },
    {
     "data": {
      "text/html": [
       "<style>#sk-container-id-16 {color: black;background-color: white;}#sk-container-id-16 pre{padding: 0;}#sk-container-id-16 div.sk-toggleable {background-color: white;}#sk-container-id-16 label.sk-toggleable__label {cursor: pointer;display: block;width: 100%;margin-bottom: 0;padding: 0.3em;box-sizing: border-box;text-align: center;}#sk-container-id-16 label.sk-toggleable__label-arrow:before {content: \"▸\";float: left;margin-right: 0.25em;color: #696969;}#sk-container-id-16 label.sk-toggleable__label-arrow:hover:before {color: black;}#sk-container-id-16 div.sk-estimator:hover label.sk-toggleable__label-arrow:before {color: black;}#sk-container-id-16 div.sk-toggleable__content {max-height: 0;max-width: 0;overflow: hidden;text-align: left;background-color: #f0f8ff;}#sk-container-id-16 div.sk-toggleable__content pre {margin: 0.2em;color: black;border-radius: 0.25em;background-color: #f0f8ff;}#sk-container-id-16 input.sk-toggleable__control:checked~div.sk-toggleable__content {max-height: 200px;max-width: 100%;overflow: auto;}#sk-container-id-16 input.sk-toggleable__control:checked~label.sk-toggleable__label-arrow:before {content: \"▾\";}#sk-container-id-16 div.sk-estimator input.sk-toggleable__control:checked~label.sk-toggleable__label {background-color: #d4ebff;}#sk-container-id-16 div.sk-label input.sk-toggleable__control:checked~label.sk-toggleable__label {background-color: #d4ebff;}#sk-container-id-16 input.sk-hidden--visually {border: 0;clip: rect(1px 1px 1px 1px);clip: rect(1px, 1px, 1px, 1px);height: 1px;margin: -1px;overflow: hidden;padding: 0;position: absolute;width: 1px;}#sk-container-id-16 div.sk-estimator {font-family: monospace;background-color: #f0f8ff;border: 1px dotted black;border-radius: 0.25em;box-sizing: border-box;margin-bottom: 0.5em;}#sk-container-id-16 div.sk-estimator:hover {background-color: #d4ebff;}#sk-container-id-16 div.sk-parallel-item::after {content: \"\";width: 100%;border-bottom: 1px solid gray;flex-grow: 1;}#sk-container-id-16 div.sk-label:hover label.sk-toggleable__label {background-color: #d4ebff;}#sk-container-id-16 div.sk-serial::before {content: \"\";position: absolute;border-left: 1px solid gray;box-sizing: border-box;top: 0;bottom: 0;left: 50%;z-index: 0;}#sk-container-id-16 div.sk-serial {display: flex;flex-direction: column;align-items: center;background-color: white;padding-right: 0.2em;padding-left: 0.2em;position: relative;}#sk-container-id-16 div.sk-item {position: relative;z-index: 1;}#sk-container-id-16 div.sk-parallel {display: flex;align-items: stretch;justify-content: center;background-color: white;position: relative;}#sk-container-id-16 div.sk-item::before, #sk-container-id-16 div.sk-parallel-item::before {content: \"\";position: absolute;border-left: 1px solid gray;box-sizing: border-box;top: 0;bottom: 0;left: 50%;z-index: -1;}#sk-container-id-16 div.sk-parallel-item {display: flex;flex-direction: column;z-index: 1;position: relative;background-color: white;}#sk-container-id-16 div.sk-parallel-item:first-child::after {align-self: flex-end;width: 50%;}#sk-container-id-16 div.sk-parallel-item:last-child::after {align-self: flex-start;width: 50%;}#sk-container-id-16 div.sk-parallel-item:only-child::after {width: 0;}#sk-container-id-16 div.sk-dashed-wrapped {border: 1px dashed gray;margin: 0 0.4em 0.5em 0.4em;box-sizing: border-box;padding-bottom: 0.4em;background-color: white;}#sk-container-id-16 div.sk-label label {font-family: monospace;font-weight: bold;display: inline-block;line-height: 1.2em;}#sk-container-id-16 div.sk-label-container {text-align: center;}#sk-container-id-16 div.sk-container {/* jupyter's `normalize.less` sets `[hidden] { display: none; }` but bootstrap.min.css set `[hidden] { display: none !important; }` so we also need the `!important` here to be able to override the default hidden behavior on the sphinx rendered scikit-learn.org. See: https://github.com/scikit-learn/scikit-learn/issues/21755 */display: inline-block !important;position: relative;}#sk-container-id-16 div.sk-text-repr-fallback {display: none;}</style><div id=\"sk-container-id-16\" class=\"sk-top-container\"><div class=\"sk-text-repr-fallback\"><pre>Pipeline(memory=&#x27;D:\\\\lab_temp&#x27;,\n",
       "         steps=[(&#x27;preprocessor&#x27;,\n",
       "                 ColumnTransformer(transformers=[(&#x27;numerical&#x27;,\n",
       "                                                  Pipeline(memory=&#x27;D:\\\\lab_temp&#x27;,\n",
       "                                                           steps=[(&#x27;imputer&#x27;,\n",
       "                                                                   SimpleImputer(strategy=&#x27;median&#x27;)),\n",
       "                                                                  (&#x27;scaler&#x27;,\n",
       "                                                                   StandardScaler())]),\n",
       "                                                  array([  0,   3,   4,   6,   7,   8,   9,  10,  11,  12,  13,  14,  15,\n",
       "        16,  17,  18,  19,  20,  21,  22,  24,  25,  26,  27,  28,  30,\n",
       "        31,  32,  33,  34,  35,  36,  37,  38,  39,  40,  41,  42,  43,\n",
       "        44,  45,  46,  48,  49,  50,  51,...\n",
       "                                                  Pipeline(memory=&#x27;D:\\\\lab_temp&#x27;,\n",
       "                                                           steps=[(&#x27;imputer&#x27;,\n",
       "                                                                   SimpleImputer(strategy=&#x27;most_frequent&#x27;)),\n",
       "                                                                  (&#x27;encoder&#x27;,\n",
       "                                                                   OneHotEncoder(handle_unknown=&#x27;ignore&#x27;,\n",
       "                                                                                 sparse_output=False))]),\n",
       "                                                  array([  1,   2,   5,  29,  53,  77, 101, 125, 149, 173, 197, 221,  23,\n",
       "        47,  71,  95, 119, 143, 167, 191, 215, 239]))])),\n",
       "                (&#x27;classifier&#x27;,\n",
       "                 RandomForestClassifier(max_depth=6, max_leaf_nodes=10,\n",
       "                                        n_estimators=500, n_jobs=-1,\n",
       "                                        random_state=12345))])</pre><b>In a Jupyter environment, please rerun this cell to show the HTML representation or trust the notebook. <br />On GitHub, the HTML representation is unable to render, please try loading this page with nbviewer.org.</b></div><div class=\"sk-container\" hidden><div class=\"sk-item sk-dashed-wrapped\"><div class=\"sk-label-container\"><div class=\"sk-label sk-toggleable\"><input class=\"sk-toggleable__control sk-hidden--visually\" id=\"sk-estimator-id-145\" type=\"checkbox\" ><label for=\"sk-estimator-id-145\" class=\"sk-toggleable__label sk-toggleable__label-arrow\">Pipeline</label><div class=\"sk-toggleable__content\"><pre>Pipeline(memory=&#x27;D:\\\\lab_temp&#x27;,\n",
       "         steps=[(&#x27;preprocessor&#x27;,\n",
       "                 ColumnTransformer(transformers=[(&#x27;numerical&#x27;,\n",
       "                                                  Pipeline(memory=&#x27;D:\\\\lab_temp&#x27;,\n",
       "                                                           steps=[(&#x27;imputer&#x27;,\n",
       "                                                                   SimpleImputer(strategy=&#x27;median&#x27;)),\n",
       "                                                                  (&#x27;scaler&#x27;,\n",
       "                                                                   StandardScaler())]),\n",
       "                                                  array([  0,   3,   4,   6,   7,   8,   9,  10,  11,  12,  13,  14,  15,\n",
       "        16,  17,  18,  19,  20,  21,  22,  24,  25,  26,  27,  28,  30,\n",
       "        31,  32,  33,  34,  35,  36,  37,  38,  39,  40,  41,  42,  43,\n",
       "        44,  45,  46,  48,  49,  50,  51,...\n",
       "                                                  Pipeline(memory=&#x27;D:\\\\lab_temp&#x27;,\n",
       "                                                           steps=[(&#x27;imputer&#x27;,\n",
       "                                                                   SimpleImputer(strategy=&#x27;most_frequent&#x27;)),\n",
       "                                                                  (&#x27;encoder&#x27;,\n",
       "                                                                   OneHotEncoder(handle_unknown=&#x27;ignore&#x27;,\n",
       "                                                                                 sparse_output=False))]),\n",
       "                                                  array([  1,   2,   5,  29,  53,  77, 101, 125, 149, 173, 197, 221,  23,\n",
       "        47,  71,  95, 119, 143, 167, 191, 215, 239]))])),\n",
       "                (&#x27;classifier&#x27;,\n",
       "                 RandomForestClassifier(max_depth=6, max_leaf_nodes=10,\n",
       "                                        n_estimators=500, n_jobs=-1,\n",
       "                                        random_state=12345))])</pre></div></div></div><div class=\"sk-serial\"><div class=\"sk-item sk-dashed-wrapped\"><div class=\"sk-label-container\"><div class=\"sk-label sk-toggleable\"><input class=\"sk-toggleable__control sk-hidden--visually\" id=\"sk-estimator-id-146\" type=\"checkbox\" ><label for=\"sk-estimator-id-146\" class=\"sk-toggleable__label sk-toggleable__label-arrow\">preprocessor: ColumnTransformer</label><div class=\"sk-toggleable__content\"><pre>ColumnTransformer(transformers=[(&#x27;numerical&#x27;,\n",
       "                                 Pipeline(memory=&#x27;D:\\\\lab_temp&#x27;,\n",
       "                                          steps=[(&#x27;imputer&#x27;,\n",
       "                                                  SimpleImputer(strategy=&#x27;median&#x27;)),\n",
       "                                                 (&#x27;scaler&#x27;, StandardScaler())]),\n",
       "                                 array([  0,   3,   4,   6,   7,   8,   9,  10,  11,  12,  13,  14,  15,\n",
       "        16,  17,  18,  19,  20,  21,  22,  24,  25,  26,  27,  28,  30,\n",
       "        31,  32,  33,  34,  35,  36,  37,  38,  39,  40,  41,  42,  43,\n",
       "        44,  45,  46,  48,  49,  50,  51,  52,  54,  55,  56,  57,  58,\n",
       "        59,  60,  61,  62,  63,  64,  65,  66,  67,  68,  69,  70,...\n",
       "       214, 216, 217, 218, 219, 220, 222, 223, 224, 225, 226, 227, 228,\n",
       "       229, 230, 231, 232, 233, 234, 235, 236, 237, 238, 240, 241, 242,\n",
       "       243, 244])),\n",
       "                                (&#x27;categorical&#x27;,\n",
       "                                 Pipeline(memory=&#x27;D:\\\\lab_temp&#x27;,\n",
       "                                          steps=[(&#x27;imputer&#x27;,\n",
       "                                                  SimpleImputer(strategy=&#x27;most_frequent&#x27;)),\n",
       "                                                 (&#x27;encoder&#x27;,\n",
       "                                                  OneHotEncoder(handle_unknown=&#x27;ignore&#x27;,\n",
       "                                                                sparse_output=False))]),\n",
       "                                 array([  1,   2,   5,  29,  53,  77, 101, 125, 149, 173, 197, 221,  23,\n",
       "        47,  71,  95, 119, 143, 167, 191, 215, 239]))])</pre></div></div></div><div class=\"sk-parallel\"><div class=\"sk-parallel-item\"><div class=\"sk-item\"><div class=\"sk-label-container\"><div class=\"sk-label sk-toggleable\"><input class=\"sk-toggleable__control sk-hidden--visually\" id=\"sk-estimator-id-147\" type=\"checkbox\" ><label for=\"sk-estimator-id-147\" class=\"sk-toggleable__label sk-toggleable__label-arrow\">numerical</label><div class=\"sk-toggleable__content\"><pre>[  0   3   4   6   7   8   9  10  11  12  13  14  15  16  17  18  19  20\n",
       "  21  22  24  25  26  27  28  30  31  32  33  34  35  36  37  38  39  40\n",
       "  41  42  43  44  45  46  48  49  50  51  52  54  55  56  57  58  59  60\n",
       "  61  62  63  64  65  66  67  68  69  70  72  73  74  75  76  78  79  80\n",
       "  81  82  83  84  85  86  87  88  89  90  91  92  93  94  96  97  98  99\n",
       " 100 102 103 104 105 106 107 108 109 110 111 112 113 114 115 116 117 118\n",
       " 120 121 122 123 124 126 127 128 129 130 131 132 133 134 135 136 137 138\n",
       " 139 140 141 142 144 145 146 147 148 150 151 152 153 154 155 156 157 158\n",
       " 159 160 161 162 163 164 165 166 168 169 170 171 172 174 175 176 177 178\n",
       " 179 180 181 182 183 184 185 186 187 188 189 190 192 193 194 195 196 198\n",
       " 199 200 201 202 203 204 205 206 207 208 209 210 211 212 213 214 216 217\n",
       " 218 219 220 222 223 224 225 226 227 228 229 230 231 232 233 234 235 236\n",
       " 237 238 240 241 242 243 244]</pre></div></div></div><div class=\"sk-serial\"><div class=\"sk-item\"><div class=\"sk-serial\"><div class=\"sk-item\"><div class=\"sk-estimator sk-toggleable\"><input class=\"sk-toggleable__control sk-hidden--visually\" id=\"sk-estimator-id-148\" type=\"checkbox\" ><label for=\"sk-estimator-id-148\" class=\"sk-toggleable__label sk-toggleable__label-arrow\">SimpleImputer</label><div class=\"sk-toggleable__content\"><pre>SimpleImputer(strategy=&#x27;median&#x27;)</pre></div></div></div><div class=\"sk-item\"><div class=\"sk-estimator sk-toggleable\"><input class=\"sk-toggleable__control sk-hidden--visually\" id=\"sk-estimator-id-149\" type=\"checkbox\" ><label for=\"sk-estimator-id-149\" class=\"sk-toggleable__label sk-toggleable__label-arrow\">StandardScaler</label><div class=\"sk-toggleable__content\"><pre>StandardScaler()</pre></div></div></div></div></div></div></div></div><div class=\"sk-parallel-item\"><div class=\"sk-item\"><div class=\"sk-label-container\"><div class=\"sk-label sk-toggleable\"><input class=\"sk-toggleable__control sk-hidden--visually\" id=\"sk-estimator-id-150\" type=\"checkbox\" ><label for=\"sk-estimator-id-150\" class=\"sk-toggleable__label sk-toggleable__label-arrow\">categorical</label><div class=\"sk-toggleable__content\"><pre>[  1   2   5  29  53  77 101 125 149 173 197 221  23  47  71  95 119 143\n",
       " 167 191 215 239]</pre></div></div></div><div class=\"sk-serial\"><div class=\"sk-item\"><div class=\"sk-serial\"><div class=\"sk-item\"><div class=\"sk-estimator sk-toggleable\"><input class=\"sk-toggleable__control sk-hidden--visually\" id=\"sk-estimator-id-151\" type=\"checkbox\" ><label for=\"sk-estimator-id-151\" class=\"sk-toggleable__label sk-toggleable__label-arrow\">SimpleImputer</label><div class=\"sk-toggleable__content\"><pre>SimpleImputer(strategy=&#x27;most_frequent&#x27;)</pre></div></div></div><div class=\"sk-item\"><div class=\"sk-estimator sk-toggleable\"><input class=\"sk-toggleable__control sk-hidden--visually\" id=\"sk-estimator-id-152\" type=\"checkbox\" ><label for=\"sk-estimator-id-152\" class=\"sk-toggleable__label sk-toggleable__label-arrow\">OneHotEncoder</label><div class=\"sk-toggleable__content\"><pre>OneHotEncoder(handle_unknown=&#x27;ignore&#x27;, sparse_output=False)</pre></div></div></div></div></div></div></div></div></div></div><div class=\"sk-item\"><div class=\"sk-estimator sk-toggleable\"><input class=\"sk-toggleable__control sk-hidden--visually\" id=\"sk-estimator-id-153\" type=\"checkbox\" ><label for=\"sk-estimator-id-153\" class=\"sk-toggleable__label sk-toggleable__label-arrow\">RandomForestClassifier</label><div class=\"sk-toggleable__content\"><pre>RandomForestClassifier(max_depth=6, max_leaf_nodes=10, n_estimators=500,\n",
       "                       n_jobs=-1, random_state=12345)</pre></div></div></div></div></div></div></div>"
      ],
      "text/plain": [
       "Pipeline(memory='D:\\\\lab_temp',\n",
       "         steps=[('preprocessor',\n",
       "                 ColumnTransformer(transformers=[('numerical',\n",
       "                                                  Pipeline(memory='D:\\\\lab_temp',\n",
       "                                                           steps=[('imputer',\n",
       "                                                                   SimpleImputer(strategy='median')),\n",
       "                                                                  ('scaler',\n",
       "                                                                   StandardScaler())]),\n",
       "                                                  array([  0,   3,   4,   6,   7,   8,   9,  10,  11,  12,  13,  14,  15,\n",
       "        16,  17,  18,  19,  20,  21,  22,  24,  25,  26,  27,  28,  30,\n",
       "        31,  32,  33,  34,  35,  36,  37,  38,  39,  40,  41,  42,  43,\n",
       "        44,  45,  46,  48,  49,  50,  51,...\n",
       "                                                  Pipeline(memory='D:\\\\lab_temp',\n",
       "                                                           steps=[('imputer',\n",
       "                                                                   SimpleImputer(strategy='most_frequent')),\n",
       "                                                                  ('encoder',\n",
       "                                                                   OneHotEncoder(handle_unknown='ignore',\n",
       "                                                                                 sparse_output=False))]),\n",
       "                                                  array([  1,   2,   5,  29,  53,  77, 101, 125, 149, 173, 197, 221,  23,\n",
       "        47,  71,  95, 119, 143, 167, 191, 215, 239]))])),\n",
       "                ('classifier',\n",
       "                 RandomForestClassifier(max_depth=6, max_leaf_nodes=10,\n",
       "                                        n_estimators=500, n_jobs=-1,\n",
       "                                        random_state=12345))])"
      ]
     },
     "execution_count": 74,
     "metadata": {},
     "output_type": "execute_result"
    }
   ],
   "source": [
    "%%time\n",
    "\n",
    "rfc_best = Pipeline(\n",
    "    memory=cache_dir,\n",
    "    steps=[('preprocessor', preprocessor),\n",
    "           ('classifier', RandomForestClassifier(n_estimators=500,\n",
    "                                                 max_depth=6,\n",
    "                                                 max_leaf_nodes=10,\n",
    "                                                 min_samples_leaf=1,\n",
    "                                                 n_jobs=-1,\n",
    "                                                 random_state=my_seed))\n",
    "    ]\n",
    ")\n",
    "\n",
    "rfc_best.fit(X_train, y_train)"
   ]
  },
  {
   "cell_type": "code",
   "execution_count": 75,
   "id": "wknJbCxl2GjE",
   "metadata": {
    "colab": {
     "base_uri": "https://localhost:8080/"
    },
    "id": "wknJbCxl2GjE",
    "outputId": "3f12cb2f-0c95-4c94-9cf9-c014d38e6493"
   },
   "outputs": [
    {
     "name": "stdout",
     "output_type": "stream",
     "text": [
      "roc_auc_score: 0.6485869812485783\n"
     ]
    }
   ],
   "source": [
    "rfc_best.fit(X_train, y_train)\n",
    "print('roc_auc_score:', roc_auc_score(y_test, rfc_best.predict(X_test)))"
   ]
  },
  {
   "cell_type": "markdown",
   "id": "j-FuZK69JIO1",
   "metadata": {
    "id": "j-FuZK69JIO1"
   },
   "source": [
    "### Evaluation (оценка качества модели)"
   ]
  },
  {
   "cell_type": "code",
   "execution_count": 30,
   "id": "_xhRxbVTJI_S",
   "metadata": {
    "id": "_xhRxbVTJI_S"
   },
   "outputs": [],
   "source": [
    "from sklearn.metrics import RocCurveDisplay, ConfusionMatrixDisplay\n",
    "from sklearn.metrics import classification_report, confusion_matrix"
   ]
  },
  {
   "cell_type": "markdown",
   "id": "VGkAm7jjIocD",
   "metadata": {
    "id": "VGkAm7jjIocD"
   },
   "source": [
    "В качестве итоговой модели была использована модель `LGBMClassifier` с гиперпараметрами, подобранными в *эксперименте 5*. <br>\n",
    "Выбор модели обусловлен высокой скоростью обучения и хорошими по сравнению с другими моделями показателями качества (ROC-AUC), а также наилучшими результатами кросс-валидации."
   ]
  },
  {
   "cell_type": "code",
   "execution_count": 31,
   "id": "QxRlgHUiJADR",
   "metadata": {
    "colab": {
     "base_uri": "https://localhost:8080/",
     "height": 296
    },
    "id": "QxRlgHUiJADR",
    "outputId": "61becf56-473a-4574-e53c-523d518b5a24"
   },
   "outputs": [
    {
     "name": "stdout",
     "output_type": "stream",
     "text": [
      "CPU times: total: 1min 1s\n",
      "Wall time: 9.96 s\n"
     ]
    },
    {
     "data": {
      "text/html": [
       "<style>#sk-container-id-1 {\n",
       "  /* Definition of color scheme common for light and dark mode */\n",
       "  --sklearn-color-text: black;\n",
       "  --sklearn-color-line: gray;\n",
       "  /* Definition of color scheme for unfitted estimators */\n",
       "  --sklearn-color-unfitted-level-0: #fff5e6;\n",
       "  --sklearn-color-unfitted-level-1: #f6e4d2;\n",
       "  --sklearn-color-unfitted-level-2: #ffe0b3;\n",
       "  --sklearn-color-unfitted-level-3: chocolate;\n",
       "  /* Definition of color scheme for fitted estimators */\n",
       "  --sklearn-color-fitted-level-0: #f0f8ff;\n",
       "  --sklearn-color-fitted-level-1: #d4ebff;\n",
       "  --sklearn-color-fitted-level-2: #b3dbfd;\n",
       "  --sklearn-color-fitted-level-3: cornflowerblue;\n",
       "\n",
       "  /* Specific color for light theme */\n",
       "  --sklearn-color-text-on-default-background: var(--sg-text-color, var(--theme-code-foreground, var(--jp-content-font-color1, black)));\n",
       "  --sklearn-color-background: var(--sg-background-color, var(--theme-background, var(--jp-layout-color0, white)));\n",
       "  --sklearn-color-border-box: var(--sg-text-color, var(--theme-code-foreground, var(--jp-content-font-color1, black)));\n",
       "  --sklearn-color-icon: #696969;\n",
       "\n",
       "  @media (prefers-color-scheme: dark) {\n",
       "    /* Redefinition of color scheme for dark theme */\n",
       "    --sklearn-color-text-on-default-background: var(--sg-text-color, var(--theme-code-foreground, var(--jp-content-font-color1, white)));\n",
       "    --sklearn-color-background: var(--sg-background-color, var(--theme-background, var(--jp-layout-color0, #111)));\n",
       "    --sklearn-color-border-box: var(--sg-text-color, var(--theme-code-foreground, var(--jp-content-font-color1, white)));\n",
       "    --sklearn-color-icon: #878787;\n",
       "  }\n",
       "}\n",
       "\n",
       "#sk-container-id-1 {\n",
       "  color: var(--sklearn-color-text);\n",
       "}\n",
       "\n",
       "#sk-container-id-1 pre {\n",
       "  padding: 0;\n",
       "}\n",
       "\n",
       "#sk-container-id-1 input.sk-hidden--visually {\n",
       "  border: 0;\n",
       "  clip: rect(1px 1px 1px 1px);\n",
       "  clip: rect(1px, 1px, 1px, 1px);\n",
       "  height: 1px;\n",
       "  margin: -1px;\n",
       "  overflow: hidden;\n",
       "  padding: 0;\n",
       "  position: absolute;\n",
       "  width: 1px;\n",
       "}\n",
       "\n",
       "#sk-container-id-1 div.sk-dashed-wrapped {\n",
       "  border: 1px dashed var(--sklearn-color-line);\n",
       "  margin: 0 0.4em 0.5em 0.4em;\n",
       "  box-sizing: border-box;\n",
       "  padding-bottom: 0.4em;\n",
       "  background-color: var(--sklearn-color-background);\n",
       "}\n",
       "\n",
       "#sk-container-id-1 div.sk-container {\n",
       "  /* jupyter's `normalize.less` sets `[hidden] { display: none; }`\n",
       "     but bootstrap.min.css set `[hidden] { display: none !important; }`\n",
       "     so we also need the `!important` here to be able to override the\n",
       "     default hidden behavior on the sphinx rendered scikit-learn.org.\n",
       "     See: https://github.com/scikit-learn/scikit-learn/issues/21755 */\n",
       "  display: inline-block !important;\n",
       "  position: relative;\n",
       "}\n",
       "\n",
       "#sk-container-id-1 div.sk-text-repr-fallback {\n",
       "  display: none;\n",
       "}\n",
       "\n",
       "div.sk-parallel-item,\n",
       "div.sk-serial,\n",
       "div.sk-item {\n",
       "  /* draw centered vertical line to link estimators */\n",
       "  background-image: linear-gradient(var(--sklearn-color-text-on-default-background), var(--sklearn-color-text-on-default-background));\n",
       "  background-size: 2px 100%;\n",
       "  background-repeat: no-repeat;\n",
       "  background-position: center center;\n",
       "}\n",
       "\n",
       "/* Parallel-specific style estimator block */\n",
       "\n",
       "#sk-container-id-1 div.sk-parallel-item::after {\n",
       "  content: \"\";\n",
       "  width: 100%;\n",
       "  border-bottom: 2px solid var(--sklearn-color-text-on-default-background);\n",
       "  flex-grow: 1;\n",
       "}\n",
       "\n",
       "#sk-container-id-1 div.sk-parallel {\n",
       "  display: flex;\n",
       "  align-items: stretch;\n",
       "  justify-content: center;\n",
       "  background-color: var(--sklearn-color-background);\n",
       "  position: relative;\n",
       "}\n",
       "\n",
       "#sk-container-id-1 div.sk-parallel-item {\n",
       "  display: flex;\n",
       "  flex-direction: column;\n",
       "}\n",
       "\n",
       "#sk-container-id-1 div.sk-parallel-item:first-child::after {\n",
       "  align-self: flex-end;\n",
       "  width: 50%;\n",
       "}\n",
       "\n",
       "#sk-container-id-1 div.sk-parallel-item:last-child::after {\n",
       "  align-self: flex-start;\n",
       "  width: 50%;\n",
       "}\n",
       "\n",
       "#sk-container-id-1 div.sk-parallel-item:only-child::after {\n",
       "  width: 0;\n",
       "}\n",
       "\n",
       "/* Serial-specific style estimator block */\n",
       "\n",
       "#sk-container-id-1 div.sk-serial {\n",
       "  display: flex;\n",
       "  flex-direction: column;\n",
       "  align-items: center;\n",
       "  background-color: var(--sklearn-color-background);\n",
       "  padding-right: 1em;\n",
       "  padding-left: 1em;\n",
       "}\n",
       "\n",
       "\n",
       "/* Toggleable style: style used for estimator/Pipeline/ColumnTransformer box that is\n",
       "clickable and can be expanded/collapsed.\n",
       "- Pipeline and ColumnTransformer use this feature and define the default style\n",
       "- Estimators will overwrite some part of the style using the `sk-estimator` class\n",
       "*/\n",
       "\n",
       "/* Pipeline and ColumnTransformer style (default) */\n",
       "\n",
       "#sk-container-id-1 div.sk-toggleable {\n",
       "  /* Default theme specific background. It is overwritten whether we have a\n",
       "  specific estimator or a Pipeline/ColumnTransformer */\n",
       "  background-color: var(--sklearn-color-background);\n",
       "}\n",
       "\n",
       "/* Toggleable label */\n",
       "#sk-container-id-1 label.sk-toggleable__label {\n",
       "  cursor: pointer;\n",
       "  display: block;\n",
       "  width: 100%;\n",
       "  margin-bottom: 0;\n",
       "  padding: 0.5em;\n",
       "  box-sizing: border-box;\n",
       "  text-align: center;\n",
       "}\n",
       "\n",
       "#sk-container-id-1 label.sk-toggleable__label-arrow:before {\n",
       "  /* Arrow on the left of the label */\n",
       "  content: \"▸\";\n",
       "  float: left;\n",
       "  margin-right: 0.25em;\n",
       "  color: var(--sklearn-color-icon);\n",
       "}\n",
       "\n",
       "#sk-container-id-1 label.sk-toggleable__label-arrow:hover:before {\n",
       "  color: var(--sklearn-color-text);\n",
       "}\n",
       "\n",
       "/* Toggleable content - dropdown */\n",
       "\n",
       "#sk-container-id-1 div.sk-toggleable__content {\n",
       "  max-height: 0;\n",
       "  max-width: 0;\n",
       "  overflow: hidden;\n",
       "  text-align: left;\n",
       "  /* unfitted */\n",
       "  background-color: var(--sklearn-color-unfitted-level-0);\n",
       "}\n",
       "\n",
       "#sk-container-id-1 div.sk-toggleable__content.fitted {\n",
       "  /* fitted */\n",
       "  background-color: var(--sklearn-color-fitted-level-0);\n",
       "}\n",
       "\n",
       "#sk-container-id-1 div.sk-toggleable__content pre {\n",
       "  margin: 0.2em;\n",
       "  border-radius: 0.25em;\n",
       "  color: var(--sklearn-color-text);\n",
       "  /* unfitted */\n",
       "  background-color: var(--sklearn-color-unfitted-level-0);\n",
       "}\n",
       "\n",
       "#sk-container-id-1 div.sk-toggleable__content.fitted pre {\n",
       "  /* unfitted */\n",
       "  background-color: var(--sklearn-color-fitted-level-0);\n",
       "}\n",
       "\n",
       "#sk-container-id-1 input.sk-toggleable__control:checked~div.sk-toggleable__content {\n",
       "  /* Expand drop-down */\n",
       "  max-height: 200px;\n",
       "  max-width: 100%;\n",
       "  overflow: auto;\n",
       "}\n",
       "\n",
       "#sk-container-id-1 input.sk-toggleable__control:checked~label.sk-toggleable__label-arrow:before {\n",
       "  content: \"▾\";\n",
       "}\n",
       "\n",
       "/* Pipeline/ColumnTransformer-specific style */\n",
       "\n",
       "#sk-container-id-1 div.sk-label input.sk-toggleable__control:checked~label.sk-toggleable__label {\n",
       "  color: var(--sklearn-color-text);\n",
       "  background-color: var(--sklearn-color-unfitted-level-2);\n",
       "}\n",
       "\n",
       "#sk-container-id-1 div.sk-label.fitted input.sk-toggleable__control:checked~label.sk-toggleable__label {\n",
       "  background-color: var(--sklearn-color-fitted-level-2);\n",
       "}\n",
       "\n",
       "/* Estimator-specific style */\n",
       "\n",
       "/* Colorize estimator box */\n",
       "#sk-container-id-1 div.sk-estimator input.sk-toggleable__control:checked~label.sk-toggleable__label {\n",
       "  /* unfitted */\n",
       "  background-color: var(--sklearn-color-unfitted-level-2);\n",
       "}\n",
       "\n",
       "#sk-container-id-1 div.sk-estimator.fitted input.sk-toggleable__control:checked~label.sk-toggleable__label {\n",
       "  /* fitted */\n",
       "  background-color: var(--sklearn-color-fitted-level-2);\n",
       "}\n",
       "\n",
       "#sk-container-id-1 div.sk-label label.sk-toggleable__label,\n",
       "#sk-container-id-1 div.sk-label label {\n",
       "  /* The background is the default theme color */\n",
       "  color: var(--sklearn-color-text-on-default-background);\n",
       "}\n",
       "\n",
       "/* On hover, darken the color of the background */\n",
       "#sk-container-id-1 div.sk-label:hover label.sk-toggleable__label {\n",
       "  color: var(--sklearn-color-text);\n",
       "  background-color: var(--sklearn-color-unfitted-level-2);\n",
       "}\n",
       "\n",
       "/* Label box, darken color on hover, fitted */\n",
       "#sk-container-id-1 div.sk-label.fitted:hover label.sk-toggleable__label.fitted {\n",
       "  color: var(--sklearn-color-text);\n",
       "  background-color: var(--sklearn-color-fitted-level-2);\n",
       "}\n",
       "\n",
       "/* Estimator label */\n",
       "\n",
       "#sk-container-id-1 div.sk-label label {\n",
       "  font-family: monospace;\n",
       "  font-weight: bold;\n",
       "  display: inline-block;\n",
       "  line-height: 1.2em;\n",
       "}\n",
       "\n",
       "#sk-container-id-1 div.sk-label-container {\n",
       "  text-align: center;\n",
       "}\n",
       "\n",
       "/* Estimator-specific */\n",
       "#sk-container-id-1 div.sk-estimator {\n",
       "  font-family: monospace;\n",
       "  border: 1px dotted var(--sklearn-color-border-box);\n",
       "  border-radius: 0.25em;\n",
       "  box-sizing: border-box;\n",
       "  margin-bottom: 0.5em;\n",
       "  /* unfitted */\n",
       "  background-color: var(--sklearn-color-unfitted-level-0);\n",
       "}\n",
       "\n",
       "#sk-container-id-1 div.sk-estimator.fitted {\n",
       "  /* fitted */\n",
       "  background-color: var(--sklearn-color-fitted-level-0);\n",
       "}\n",
       "\n",
       "/* on hover */\n",
       "#sk-container-id-1 div.sk-estimator:hover {\n",
       "  /* unfitted */\n",
       "  background-color: var(--sklearn-color-unfitted-level-2);\n",
       "}\n",
       "\n",
       "#sk-container-id-1 div.sk-estimator.fitted:hover {\n",
       "  /* fitted */\n",
       "  background-color: var(--sklearn-color-fitted-level-2);\n",
       "}\n",
       "\n",
       "/* Specification for estimator info (e.g. \"i\" and \"?\") */\n",
       "\n",
       "/* Common style for \"i\" and \"?\" */\n",
       "\n",
       ".sk-estimator-doc-link,\n",
       "a:link.sk-estimator-doc-link,\n",
       "a:visited.sk-estimator-doc-link {\n",
       "  float: right;\n",
       "  font-size: smaller;\n",
       "  line-height: 1em;\n",
       "  font-family: monospace;\n",
       "  background-color: var(--sklearn-color-background);\n",
       "  border-radius: 1em;\n",
       "  height: 1em;\n",
       "  width: 1em;\n",
       "  text-decoration: none !important;\n",
       "  margin-left: 1ex;\n",
       "  /* unfitted */\n",
       "  border: var(--sklearn-color-unfitted-level-1) 1pt solid;\n",
       "  color: var(--sklearn-color-unfitted-level-1);\n",
       "}\n",
       "\n",
       ".sk-estimator-doc-link.fitted,\n",
       "a:link.sk-estimator-doc-link.fitted,\n",
       "a:visited.sk-estimator-doc-link.fitted {\n",
       "  /* fitted */\n",
       "  border: var(--sklearn-color-fitted-level-1) 1pt solid;\n",
       "  color: var(--sklearn-color-fitted-level-1);\n",
       "}\n",
       "\n",
       "/* On hover */\n",
       "div.sk-estimator:hover .sk-estimator-doc-link:hover,\n",
       ".sk-estimator-doc-link:hover,\n",
       "div.sk-label-container:hover .sk-estimator-doc-link:hover,\n",
       ".sk-estimator-doc-link:hover {\n",
       "  /* unfitted */\n",
       "  background-color: var(--sklearn-color-unfitted-level-3);\n",
       "  color: var(--sklearn-color-background);\n",
       "  text-decoration: none;\n",
       "}\n",
       "\n",
       "div.sk-estimator.fitted:hover .sk-estimator-doc-link.fitted:hover,\n",
       ".sk-estimator-doc-link.fitted:hover,\n",
       "div.sk-label-container:hover .sk-estimator-doc-link.fitted:hover,\n",
       ".sk-estimator-doc-link.fitted:hover {\n",
       "  /* fitted */\n",
       "  background-color: var(--sklearn-color-fitted-level-3);\n",
       "  color: var(--sklearn-color-background);\n",
       "  text-decoration: none;\n",
       "}\n",
       "\n",
       "/* Span, style for the box shown on hovering the info icon */\n",
       ".sk-estimator-doc-link span {\n",
       "  display: none;\n",
       "  z-index: 9999;\n",
       "  position: relative;\n",
       "  font-weight: normal;\n",
       "  right: .2ex;\n",
       "  padding: .5ex;\n",
       "  margin: .5ex;\n",
       "  width: min-content;\n",
       "  min-width: 20ex;\n",
       "  max-width: 50ex;\n",
       "  color: var(--sklearn-color-text);\n",
       "  box-shadow: 2pt 2pt 4pt #999;\n",
       "  /* unfitted */\n",
       "  background: var(--sklearn-color-unfitted-level-0);\n",
       "  border: .5pt solid var(--sklearn-color-unfitted-level-3);\n",
       "}\n",
       "\n",
       ".sk-estimator-doc-link.fitted span {\n",
       "  /* fitted */\n",
       "  background: var(--sklearn-color-fitted-level-0);\n",
       "  border: var(--sklearn-color-fitted-level-3);\n",
       "}\n",
       "\n",
       ".sk-estimator-doc-link:hover span {\n",
       "  display: block;\n",
       "}\n",
       "\n",
       "/* \"?\"-specific style due to the `<a>` HTML tag */\n",
       "\n",
       "#sk-container-id-1 a.estimator_doc_link {\n",
       "  float: right;\n",
       "  font-size: 1rem;\n",
       "  line-height: 1em;\n",
       "  font-family: monospace;\n",
       "  background-color: var(--sklearn-color-background);\n",
       "  border-radius: 1rem;\n",
       "  height: 1rem;\n",
       "  width: 1rem;\n",
       "  text-decoration: none;\n",
       "  /* unfitted */\n",
       "  color: var(--sklearn-color-unfitted-level-1);\n",
       "  border: var(--sklearn-color-unfitted-level-1) 1pt solid;\n",
       "}\n",
       "\n",
       "#sk-container-id-1 a.estimator_doc_link.fitted {\n",
       "  /* fitted */\n",
       "  border: var(--sklearn-color-fitted-level-1) 1pt solid;\n",
       "  color: var(--sklearn-color-fitted-level-1);\n",
       "}\n",
       "\n",
       "/* On hover */\n",
       "#sk-container-id-1 a.estimator_doc_link:hover {\n",
       "  /* unfitted */\n",
       "  background-color: var(--sklearn-color-unfitted-level-3);\n",
       "  color: var(--sklearn-color-background);\n",
       "  text-decoration: none;\n",
       "}\n",
       "\n",
       "#sk-container-id-1 a.estimator_doc_link.fitted:hover {\n",
       "  /* fitted */\n",
       "  background-color: var(--sklearn-color-fitted-level-3);\n",
       "}\n",
       "</style><div id=\"sk-container-id-1\" class=\"sk-top-container\"><div class=\"sk-text-repr-fallback\"><pre>Pipeline(memory=&#x27;D:\\\\lab_temp&#x27;,\n",
       "         steps=[(&#x27;preprocessor&#x27;,\n",
       "                 ColumnTransformer(transformers=[(&#x27;numerical&#x27;,\n",
       "                                                  Pipeline(memory=&#x27;D:\\\\lab_temp&#x27;,\n",
       "                                                           steps=[(&#x27;imputer&#x27;,\n",
       "                                                                   SimpleImputer(strategy=&#x27;median&#x27;)),\n",
       "                                                                  (&#x27;scaler&#x27;,\n",
       "                                                                   StandardScaler())]),\n",
       "                                                  array([  0,   3,   4,   6,   7,   8,   9,  10,  11,  12,  13,  14,  15,\n",
       "        16,  17,  18,  19,  20,  21,  22,  24,  25,  26,  27,  28,  30,\n",
       "        31,  32,  33,  34,  35,  36,  37,  38,  39,  40,  41,  42,  43,\n",
       "        44,  45,  46,  48,  49,  50,  51,...\n",
       "                                                                   SimpleImputer(strategy=&#x27;most_frequent&#x27;)),\n",
       "                                                                  (&#x27;encoder&#x27;,\n",
       "                                                                   OneHotEncoder(handle_unknown=&#x27;ignore&#x27;,\n",
       "                                                                                 sparse_output=False))]),\n",
       "                                                  array([  1,   2,   5,  29,  53,  77, 101, 125, 149, 173, 197, 221,  23,\n",
       "        47,  71,  95, 119, 143, 167, 191, 215, 239]))])),\n",
       "                (&#x27;classifier&#x27;,\n",
       "                 LGBMClassifier(force_col_wise=True, learning_rate=0.05,\n",
       "                                max_bin=300, min_child_weight=1,\n",
       "                                n_estimators=1000, n_jobs=-1,\n",
       "                                random_state=12345, reg_alpha=0, reg_lambda=10,\n",
       "                                verbosity=-1))])</pre><b>In a Jupyter environment, please rerun this cell to show the HTML representation or trust the notebook. <br />On GitHub, the HTML representation is unable to render, please try loading this page with nbviewer.org.</b></div><div class=\"sk-container\" hidden><div class=\"sk-item sk-dashed-wrapped\"><div class=\"sk-label-container\"><div class=\"sk-label fitted sk-toggleable\"><input class=\"sk-toggleable__control sk-hidden--visually\" id=\"sk-estimator-id-1\" type=\"checkbox\" ><label for=\"sk-estimator-id-1\" class=\"sk-toggleable__label fitted sk-toggleable__label-arrow fitted\">&nbsp;&nbsp;Pipeline<a class=\"sk-estimator-doc-link fitted\" rel=\"noreferrer\" target=\"_blank\" href=\"https://scikit-learn.org/1.5/modules/generated/sklearn.pipeline.Pipeline.html\">?<span>Documentation for Pipeline</span></a><span class=\"sk-estimator-doc-link fitted\">i<span>Fitted</span></span></label><div class=\"sk-toggleable__content fitted\"><pre>Pipeline(memory=&#x27;D:\\\\lab_temp&#x27;,\n",
       "         steps=[(&#x27;preprocessor&#x27;,\n",
       "                 ColumnTransformer(transformers=[(&#x27;numerical&#x27;,\n",
       "                                                  Pipeline(memory=&#x27;D:\\\\lab_temp&#x27;,\n",
       "                                                           steps=[(&#x27;imputer&#x27;,\n",
       "                                                                   SimpleImputer(strategy=&#x27;median&#x27;)),\n",
       "                                                                  (&#x27;scaler&#x27;,\n",
       "                                                                   StandardScaler())]),\n",
       "                                                  array([  0,   3,   4,   6,   7,   8,   9,  10,  11,  12,  13,  14,  15,\n",
       "        16,  17,  18,  19,  20,  21,  22,  24,  25,  26,  27,  28,  30,\n",
       "        31,  32,  33,  34,  35,  36,  37,  38,  39,  40,  41,  42,  43,\n",
       "        44,  45,  46,  48,  49,  50,  51,...\n",
       "                                                                   SimpleImputer(strategy=&#x27;most_frequent&#x27;)),\n",
       "                                                                  (&#x27;encoder&#x27;,\n",
       "                                                                   OneHotEncoder(handle_unknown=&#x27;ignore&#x27;,\n",
       "                                                                                 sparse_output=False))]),\n",
       "                                                  array([  1,   2,   5,  29,  53,  77, 101, 125, 149, 173, 197, 221,  23,\n",
       "        47,  71,  95, 119, 143, 167, 191, 215, 239]))])),\n",
       "                (&#x27;classifier&#x27;,\n",
       "                 LGBMClassifier(force_col_wise=True, learning_rate=0.05,\n",
       "                                max_bin=300, min_child_weight=1,\n",
       "                                n_estimators=1000, n_jobs=-1,\n",
       "                                random_state=12345, reg_alpha=0, reg_lambda=10,\n",
       "                                verbosity=-1))])</pre></div> </div></div><div class=\"sk-serial\"><div class=\"sk-item sk-dashed-wrapped\"><div class=\"sk-label-container\"><div class=\"sk-label fitted sk-toggleable\"><input class=\"sk-toggleable__control sk-hidden--visually\" id=\"sk-estimator-id-2\" type=\"checkbox\" ><label for=\"sk-estimator-id-2\" class=\"sk-toggleable__label fitted sk-toggleable__label-arrow fitted\">&nbsp;preprocessor: ColumnTransformer<a class=\"sk-estimator-doc-link fitted\" rel=\"noreferrer\" target=\"_blank\" href=\"https://scikit-learn.org/1.5/modules/generated/sklearn.compose.ColumnTransformer.html\">?<span>Documentation for preprocessor: ColumnTransformer</span></a></label><div class=\"sk-toggleable__content fitted\"><pre>ColumnTransformer(transformers=[(&#x27;numerical&#x27;,\n",
       "                                 Pipeline(memory=&#x27;D:\\\\lab_temp&#x27;,\n",
       "                                          steps=[(&#x27;imputer&#x27;,\n",
       "                                                  SimpleImputer(strategy=&#x27;median&#x27;)),\n",
       "                                                 (&#x27;scaler&#x27;, StandardScaler())]),\n",
       "                                 array([  0,   3,   4,   6,   7,   8,   9,  10,  11,  12,  13,  14,  15,\n",
       "        16,  17,  18,  19,  20,  21,  22,  24,  25,  26,  27,  28,  30,\n",
       "        31,  32,  33,  34,  35,  36,  37,  38,  39,  40,  41,  42,  43,\n",
       "        44,  45,  46,  48,  49,  50,  51,  52,  54,  55,  56,  57,  58,\n",
       "        59,  60,  61,  62,  63,  64,  65,  66,  67,  68,  69,  70,...\n",
       "       214, 216, 217, 218, 219, 220, 222, 223, 224, 225, 226, 227, 228,\n",
       "       229, 230, 231, 232, 233, 234, 235, 236, 237, 238, 240, 241, 242,\n",
       "       243, 244])),\n",
       "                                (&#x27;categorical&#x27;,\n",
       "                                 Pipeline(memory=&#x27;D:\\\\lab_temp&#x27;,\n",
       "                                          steps=[(&#x27;imputer&#x27;,\n",
       "                                                  SimpleImputer(strategy=&#x27;most_frequent&#x27;)),\n",
       "                                                 (&#x27;encoder&#x27;,\n",
       "                                                  OneHotEncoder(handle_unknown=&#x27;ignore&#x27;,\n",
       "                                                                sparse_output=False))]),\n",
       "                                 array([  1,   2,   5,  29,  53,  77, 101, 125, 149, 173, 197, 221,  23,\n",
       "        47,  71,  95, 119, 143, 167, 191, 215, 239]))])</pre></div> </div></div><div class=\"sk-parallel\"><div class=\"sk-parallel-item\"><div class=\"sk-item\"><div class=\"sk-label-container\"><div class=\"sk-label fitted sk-toggleable\"><input class=\"sk-toggleable__control sk-hidden--visually\" id=\"sk-estimator-id-3\" type=\"checkbox\" ><label for=\"sk-estimator-id-3\" class=\"sk-toggleable__label fitted sk-toggleable__label-arrow fitted\">numerical</label><div class=\"sk-toggleable__content fitted\"><pre>[  0   3   4   6   7   8   9  10  11  12  13  14  15  16  17  18  19  20\n",
       "  21  22  24  25  26  27  28  30  31  32  33  34  35  36  37  38  39  40\n",
       "  41  42  43  44  45  46  48  49  50  51  52  54  55  56  57  58  59  60\n",
       "  61  62  63  64  65  66  67  68  69  70  72  73  74  75  76  78  79  80\n",
       "  81  82  83  84  85  86  87  88  89  90  91  92  93  94  96  97  98  99\n",
       " 100 102 103 104 105 106 107 108 109 110 111 112 113 114 115 116 117 118\n",
       " 120 121 122 123 124 126 127 128 129 130 131 132 133 134 135 136 137 138\n",
       " 139 140 141 142 144 145 146 147 148 150 151 152 153 154 155 156 157 158\n",
       " 159 160 161 162 163 164 165 166 168 169 170 171 172 174 175 176 177 178\n",
       " 179 180 181 182 183 184 185 186 187 188 189 190 192 193 194 195 196 198\n",
       " 199 200 201 202 203 204 205 206 207 208 209 210 211 212 213 214 216 217\n",
       " 218 219 220 222 223 224 225 226 227 228 229 230 231 232 233 234 235 236\n",
       " 237 238 240 241 242 243 244]</pre></div> </div></div><div class=\"sk-serial\"><div class=\"sk-item\"><div class=\"sk-serial\"><div class=\"sk-item\"><div class=\"sk-estimator fitted sk-toggleable\"><input class=\"sk-toggleable__control sk-hidden--visually\" id=\"sk-estimator-id-4\" type=\"checkbox\" ><label for=\"sk-estimator-id-4\" class=\"sk-toggleable__label fitted sk-toggleable__label-arrow fitted\">&nbsp;SimpleImputer<a class=\"sk-estimator-doc-link fitted\" rel=\"noreferrer\" target=\"_blank\" href=\"https://scikit-learn.org/1.5/modules/generated/sklearn.impute.SimpleImputer.html\">?<span>Documentation for SimpleImputer</span></a></label><div class=\"sk-toggleable__content fitted\"><pre>SimpleImputer(strategy=&#x27;median&#x27;)</pre></div> </div></div><div class=\"sk-item\"><div class=\"sk-estimator fitted sk-toggleable\"><input class=\"sk-toggleable__control sk-hidden--visually\" id=\"sk-estimator-id-5\" type=\"checkbox\" ><label for=\"sk-estimator-id-5\" class=\"sk-toggleable__label fitted sk-toggleable__label-arrow fitted\">&nbsp;StandardScaler<a class=\"sk-estimator-doc-link fitted\" rel=\"noreferrer\" target=\"_blank\" href=\"https://scikit-learn.org/1.5/modules/generated/sklearn.preprocessing.StandardScaler.html\">?<span>Documentation for StandardScaler</span></a></label><div class=\"sk-toggleable__content fitted\"><pre>StandardScaler()</pre></div> </div></div></div></div></div></div></div><div class=\"sk-parallel-item\"><div class=\"sk-item\"><div class=\"sk-label-container\"><div class=\"sk-label fitted sk-toggleable\"><input class=\"sk-toggleable__control sk-hidden--visually\" id=\"sk-estimator-id-6\" type=\"checkbox\" ><label for=\"sk-estimator-id-6\" class=\"sk-toggleable__label fitted sk-toggleable__label-arrow fitted\">categorical</label><div class=\"sk-toggleable__content fitted\"><pre>[  1   2   5  29  53  77 101 125 149 173 197 221  23  47  71  95 119 143\n",
       " 167 191 215 239]</pre></div> </div></div><div class=\"sk-serial\"><div class=\"sk-item\"><div class=\"sk-serial\"><div class=\"sk-item\"><div class=\"sk-estimator fitted sk-toggleable\"><input class=\"sk-toggleable__control sk-hidden--visually\" id=\"sk-estimator-id-7\" type=\"checkbox\" ><label for=\"sk-estimator-id-7\" class=\"sk-toggleable__label fitted sk-toggleable__label-arrow fitted\">&nbsp;SimpleImputer<a class=\"sk-estimator-doc-link fitted\" rel=\"noreferrer\" target=\"_blank\" href=\"https://scikit-learn.org/1.5/modules/generated/sklearn.impute.SimpleImputer.html\">?<span>Documentation for SimpleImputer</span></a></label><div class=\"sk-toggleable__content fitted\"><pre>SimpleImputer(strategy=&#x27;most_frequent&#x27;)</pre></div> </div></div><div class=\"sk-item\"><div class=\"sk-estimator fitted sk-toggleable\"><input class=\"sk-toggleable__control sk-hidden--visually\" id=\"sk-estimator-id-8\" type=\"checkbox\" ><label for=\"sk-estimator-id-8\" class=\"sk-toggleable__label fitted sk-toggleable__label-arrow fitted\">&nbsp;OneHotEncoder<a class=\"sk-estimator-doc-link fitted\" rel=\"noreferrer\" target=\"_blank\" href=\"https://scikit-learn.org/1.5/modules/generated/sklearn.preprocessing.OneHotEncoder.html\">?<span>Documentation for OneHotEncoder</span></a></label><div class=\"sk-toggleable__content fitted\"><pre>OneHotEncoder(handle_unknown=&#x27;ignore&#x27;, sparse_output=False)</pre></div> </div></div></div></div></div></div></div></div></div><div class=\"sk-item\"><div class=\"sk-estimator fitted sk-toggleable\"><input class=\"sk-toggleable__control sk-hidden--visually\" id=\"sk-estimator-id-9\" type=\"checkbox\" ><label for=\"sk-estimator-id-9\" class=\"sk-toggleable__label fitted sk-toggleable__label-arrow fitted\">LGBMClassifier</label><div class=\"sk-toggleable__content fitted\"><pre>LGBMClassifier(force_col_wise=True, learning_rate=0.05, max_bin=300,\n",
       "               min_child_weight=1, n_estimators=1000, n_jobs=-1,\n",
       "               random_state=12345, reg_alpha=0, reg_lambda=10, verbosity=-1)</pre></div> </div></div></div></div></div></div>"
      ],
      "text/plain": [
       "Pipeline(memory='D:\\\\lab_temp',\n",
       "         steps=[('preprocessor',\n",
       "                 ColumnTransformer(transformers=[('numerical',\n",
       "                                                  Pipeline(memory='D:\\\\lab_temp',\n",
       "                                                           steps=[('imputer',\n",
       "                                                                   SimpleImputer(strategy='median')),\n",
       "                                                                  ('scaler',\n",
       "                                                                   StandardScaler())]),\n",
       "                                                  array([  0,   3,   4,   6,   7,   8,   9,  10,  11,  12,  13,  14,  15,\n",
       "        16,  17,  18,  19,  20,  21,  22,  24,  25,  26,  27,  28,  30,\n",
       "        31,  32,  33,  34,  35,  36,  37,  38,  39,  40,  41,  42,  43,\n",
       "        44,  45,  46,  48,  49,  50,  51,...\n",
       "                                                                   SimpleImputer(strategy='most_frequent')),\n",
       "                                                                  ('encoder',\n",
       "                                                                   OneHotEncoder(handle_unknown='ignore',\n",
       "                                                                                 sparse_output=False))]),\n",
       "                                                  array([  1,   2,   5,  29,  53,  77, 101, 125, 149, 173, 197, 221,  23,\n",
       "        47,  71,  95, 119, 143, 167, 191, 215, 239]))])),\n",
       "                ('classifier',\n",
       "                 LGBMClassifier(force_col_wise=True, learning_rate=0.05,\n",
       "                                max_bin=300, min_child_weight=1,\n",
       "                                n_estimators=1000, n_jobs=-1,\n",
       "                                random_state=12345, reg_alpha=0, reg_lambda=10,\n",
       "                                verbosity=-1))])"
      ]
     },
     "execution_count": 31,
     "metadata": {},
     "output_type": "execute_result"
    }
   ],
   "source": [
    "%%time\n",
    "final_model = Pipeline(\n",
    "    memory=cache_dir,\n",
    "    steps=[('preprocessor', preprocessor),\n",
    "           ('classifier', lgb.LGBMClassifier(n_estimators=1000,\n",
    "                                             learning_rate=0.05,\n",
    "                                             max_bin=300,\n",
    "                                             reg_alpha = 0,\n",
    "                                             reg_lambda = 10,\n",
    "                                             min_child_weight = 1,\n",
    "                                             force_col_wise=True,\n",
    "                                             n_jobs=-1,\n",
    "                                             verbosity=-1,\n",
    "                                             random_state=my_seed))\n",
    "    ]\n",
    ")\n",
    "\n",
    "final_model.fit(X_train, y_train)"
   ]
  },
  {
   "cell_type": "code",
   "execution_count": 32,
   "id": "cwgsmdcMJJ5f",
   "metadata": {
    "colab": {
     "base_uri": "https://localhost:8080/"
    },
    "id": "cwgsmdcMJJ5f",
    "outputId": "a8aac2f7-17a6-4fa6-a630-0ad15efd5a5a"
   },
   "outputs": [
    {
     "name": "stdout",
     "output_type": "stream",
     "text": [
      "roc_auc_score итоговой модели: 0.7199031555685548\n"
     ]
    }
   ],
   "source": [
    "print('roc_auc_score итоговой модели:', roc_auc_score(y_test, final_model.predict(X_test)))"
   ]
  },
  {
   "cell_type": "code",
   "execution_count": 203,
   "id": "ZlwhORPSYMQO",
   "metadata": {
    "id": "ZlwhORPSYMQO"
   },
   "outputs": [],
   "source": [
    "# Запись итоговых предсказаний в csv-файл:\n",
    "y_submit = final_model.predict_proba(X_submit)\n",
    "submit_final_model = pd.DataFrame(data={'radiant_win': y_submit[:, 1]},\n",
    "                        index=X_submit.index)\n",
    "submit_final_model.to_csv('submit_final.csv')"
   ]
  },
  {
   "cell_type": "markdown",
   "id": "OVa6KIWeCkTc",
   "metadata": {
    "id": "OVa6KIWeCkTc"
   },
   "source": [
    "Кросс-Валидация:"
   ]
  },
  {
   "cell_type": "code",
   "execution_count": 33,
   "id": "0DT67EK-CYu0",
   "metadata": {
    "colab": {
     "base_uri": "https://localhost:8080/"
    },
    "id": "0DT67EK-CYu0",
    "outputId": "8856caea-9b42-48b7-d59b-19ef8ccba4f9"
   },
   "outputs": [
    {
     "name": "stdout",
     "output_type": "stream",
     "text": [
      "Cross-validation roc_auc scores: [0.81908563 0.81323742 0.80841819 0.81007108 0.81049626]\n",
      "Mean roc_auc: 0.8122617156857483\n"
     ]
    }
   ],
   "source": [
    "scores = cross_val_score(final_model, X, y_cv, cv=5, scoring='roc_auc')\n",
    "print(\"Cross-validation roc_auc scores:\", scores)\n",
    "print(\"Mean roc_auc:\", scores.mean())"
   ]
  },
  {
   "cell_type": "markdown",
   "id": "zdQZWa92Cpqe",
   "metadata": {
    "id": "zdQZWa92Cpqe"
   },
   "source": [
    "Визуализация ROC-кривой"
   ]
  },
  {
   "cell_type": "code",
   "execution_count": 49,
   "id": "g0t8IlgqtJuv",
   "metadata": {
    "colab": {
     "base_uri": "https://localhost:8080/",
     "height": 468
    },
    "id": "g0t8IlgqtJuv",
    "outputId": "4fbb3f21-3538-408d-9fd6-c3437f80eaad"
   },
   "outputs": [
    {
     "data": {
      "text/plain": [
       "<Figure size 500x500 with 0 Axes>"
      ]
     },
     "metadata": {},
     "output_type": "display_data"
    },
    {
     "data": {
      "image/png": "[encoded data removed]",
      "text/plain": [
       "<Figure size 640x480 with 1 Axes>"
      ]
     },
     "metadata": {},
     "output_type": "display_data"
    }
   ],
   "source": [
    "plt.figure(figsize=(5, 5))\n",
    "RocCurveDisplay.from_estimator(final_model, X_test, y_test)\n",
    "plt.plot([0, 1], [0, 1], linestyle='--', color='gray', label='Random (AUC = 0.5)')\n",
    "plt.grid()\n",
    "plt.show()"
   ]
  },
  {
   "cell_type": "markdown",
   "id": "W2G_vdECCtXm",
   "metadata": {
    "id": "W2G_vdECCtXm"
   },
   "source": [
    "Отчет о показателях классификации"
   ]
  },
  {
   "cell_type": "code",
   "execution_count": 50,
   "id": "8LDzfbxu8JsZ",
   "metadata": {
    "colab": {
     "base_uri": "https://localhost:8080/"
    },
    "id": "8LDzfbxu8JsZ",
    "outputId": "0f56bcce-ef94-4b32-81a3-4bc51facb266"
   },
   "outputs": [
    {
     "name": "stdout",
     "output_type": "stream",
     "text": [
      "              precision    recall  f1-score   support\n",
      "\n",
      "       False       0.72      0.68      0.70      2630\n",
      "        True       0.72      0.76      0.74      2925\n",
      "\n",
      "    accuracy                           0.72      5555\n",
      "   macro avg       0.72      0.72      0.72      5555\n",
      "weighted avg       0.72      0.72      0.72      5555\n",
      "\n"
     ]
    }
   ],
   "source": [
    "y_pred = final_model.predict(X_test)\n",
    "print(classification_report(y_test, y_pred))"
   ]
  },
  {
   "cell_type": "markdown",
   "id": "yiLNPIFCDS5w",
   "metadata": {
    "id": "yiLNPIFCDS5w"
   },
   "source": [
    "Визуализация матрицы ошибок"
   ]
  },
  {
   "cell_type": "code",
   "execution_count": 51,
   "id": "A-6Lr4vk8ozs",
   "metadata": {
    "colab": {
     "base_uri": "https://localhost:8080/",
     "height": 466
    },
    "id": "A-6Lr4vk8ozs",
    "outputId": "a85e4129-594a-4511-c04b-e247e2c988da"
   },
   "outputs": [
    {
     "data": {
      "text/plain": [
       "<sklearn.metrics._plot.confusion_matrix.ConfusionMatrixDisplay at 0x266593ead50>"
      ]
     },
     "execution_count": 51,
     "metadata": {},
     "output_type": "execute_result"
    },
    {
     "data": {
      "image/png": "[encoded data removed]",
      "text/plain": [
       "<Figure size 640x480 with 2 Axes>"
      ]
     },
     "metadata": {},
     "output_type": "display_data"
    }
   ],
   "source": [
    "conf_mat = confusion_matrix(y_test, y_pred)\n",
    "ConfusionMatrixDisplay(conf_mat).from_predictions(y_test, y_pred)\n"
   ]
  },
  {
   "cell_type": "markdown",
   "id": "zIfyX6-Nsemi",
   "metadata": {
    "id": "zIfyX6-Nsemi"
   },
   "source": [
    "### Conclusion (Выводы)"
   ]
  },
  {
   "cell_type": "markdown",
   "id": "av2WyIijsfPc",
   "metadata": {
    "id": "av2WyIijsfPc"
   },
   "source": [
    "Было проведено исследование, в ходе которого было проведено ознакомление с различными моделями классификации.  "
   ]
  },
  {
   "cell_type": "markdown",
   "id": "qpv82PDXsrPm",
   "metadata": {
    "id": "qpv82PDXsrPm"
   },
   "source": [
    "В процессе выполнения работы были рассмотрены такие модели как:\n",
    "1. `SVC` (модель `SVM` для задач классификации)\n",
    "2. `AdaBoostClassifier`\n",
    "3. `XGBClassifier`\n",
    "4. `CatBoostClassifier`\n",
    "5. `LGBMClassifier`\n",
    "6. `RandomForestClassifier`"
   ]
  },
  {
   "cell_type": "markdown",
   "id": "fJYyi01lshkP",
   "metadata": {
    "id": "fJYyi01lshkP"
   },
   "source": [
    "Подбор гиперпараметров осуществлялся с помощью GridSearchCV, а итоговые метрики были получены с испоьзованием кросс-валидации."
   ]
  },
  {
   "cell_type": "markdown",
   "id": "CZEYYrGdsjyx",
   "metadata": {
    "id": "CZEYYrGdsjyx"
   },
   "source": [
    "Наилучшим образом себя показали такие модели как: `SVM`, модели градиентного бустинга и модель нейронной сети"
   ]
  },
  {
   "cell_type": "markdown",
   "id": "U1cywrhQt043",
   "metadata": {
    "id": "U1cywrhQt043"
   },
   "source": [
    "**Замечания по моделям**\n",
    "- Модель `SVC ` продемонстрировала хорошие результаты предсказаний. Однако, обучение данной модели требует много времени.\n",
    "- Классификатор `AdaBoost`: при сравнении с классификатором `SVM` обучение происходит быстрее, однако результаты предсказаний менее точные\n",
    "- Классификатор `CatBoostClassifier` оказался быстрее `SVM` и `AdaBoostClassifier`. Результаты предсказаний превосходят результаты, полученные при помощи `AdaBoostClassifier`.\n",
    "- Модель градиентного бустинга `XGBClassifier` также показала приемлемые результаты после подбора гиперпараметров. Подбор гиперпараметров производится быстрее по сравнению с `CatBoostClassifier`.\n",
    "- Классификатор `LGBMClassifier` оказался самым быстрым. За счет высокой скорости поиск гиперпараметров для данной модели занимает меньше времени. После подбора гиперпараметров результаты модели приблизились к результатам предсказаний модели `XGBClassifier'.\n",
    "- Случайный лес (`RandomForestClassifier`) оказался менее эффективным по сравнению с моделями градиентного бустинга и `SVM`. Был предпринята попытка подбора гиперпараметров, однако, в конечном итоге качество моделей бустинга оказалось выше."
   ]
  },
  {
   "cell_type": "markdown",
   "id": "o1lj55xlb-Vk",
   "metadata": {
    "id": "o1lj55xlb-Vk"
   },
   "source": [
    "**Вывод:** Таким образом, было проведено исследование различных моделей машинного обучения для задачи бинарной классификации. Было произведено сравнение качества моделей, а также были высказаны замечания по каждой из рассмотренных моделей. Наиболее эффективными оказались модели градиентного бустинга: `XGBClassifier` и `LGBMClassifier`."
   ]
  }
 ],
 "metadata": {
  "colab": {
   "provenance": []
  },
  "kernelspec": {
   "display_name": "base",
   "language": "python",
   "name": "python3"
  },
  "language_info": {
   "codemirror_mode": {
    "name": "ipython",
    "version": 3
   },
   "file_extension": ".py",
   "mimetype": "text/x-python",
   "name": "python",
   "nbconvert_exporter": "python",
   "pygments_lexer": "ipython3",
   "version": "3.12.7"
  }
 },
 "nbformat": 4,
 "nbformat_minor": 5
}
