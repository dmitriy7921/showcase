{
 "cells": [
  {
   "cell_type": "code",
   "execution_count": 1,
   "id": "8be7e0a2-40a6-481e-b438-6e859d80b7ec",
   "metadata": {},
   "outputs": [],
   "source": [
    "import pandas as pd\n",
    "import numpy as np\n",
    "import matplotlib.pyplot as plt\n",
    "import seaborn as sns\n",
    "import plotly.express as px"
   ]
  },
  {
   "cell_type": "code",
   "execution_count": 2,
   "id": "bd934e3f-60e7-42d5-a8d7-54ee66a84dcf",
   "metadata": {},
   "outputs": [],
   "source": [
    "orders_items = pd.read_csv(\"final_data/orders_items.csv\", index_col=0)\n",
    "orders = pd.read_csv(\"final_data/orders.csv\", index_col=0)\n",
    "products = pd.read_csv(\"final_data/products.csv\")\n",
    "product_category = pd.read_csv(\"final_data/product_category_name_translation.csv\")"
   ]
  },
  {
   "cell_type": "code",
   "execution_count": 3,
   "id": "b5156cad-eb55-4504-9ae7-5989bd59ac48",
   "metadata": {},
   "outputs": [
    {
     "name": "stdout",
     "output_type": "stream",
     "text": [
      "product_id                      0\n",
      "product_category_name         610\n",
      "product_name_lenght           610\n",
      "product_description_lenght    610\n",
      "product_photos_qty            610\n",
      "product_weight_g                2\n",
      "product_length_cm               2\n",
      "product_height_cm               2\n",
      "product_width_cm                2\n",
      "dtype: int64\n",
      "customer_id                         0\n",
      "order_status                        0\n",
      "order_purchase_timestamp            0\n",
      "order_approved_at                 160\n",
      "order_delivered_carrier_date     1783\n",
      "order_delivered_customer_date    2965\n",
      "order_estimated_delivery_date       0\n",
      "dtype: int64\n",
      "product_category_name            0\n",
      "product_category_name_english    0\n",
      "dtype: int64\n"
     ]
    }
   ],
   "source": [
    "print(products.isna().sum())\n",
    "print(orders.isna().sum())\n",
    "print(product_category.isna().sum())"
   ]
  },
  {
   "cell_type": "code",
   "execution_count": 4,
   "id": "ac573e42-df0c-4347-bae7-cda8d8702be0",
   "metadata": {},
   "outputs": [],
   "source": [
    "orders.dropna(inplace=True)\n",
    "orders.reset_index(inplace=True)\n",
    "orders = orders[orders['order_status']=='delivered']\n",
    "orders_items.drop(columns=['shipping_limit_date_1', 'price_2', 'freight_value_3'], inplace=True)\n",
    "orders_items.columns = ['order_id', 'order_item_id', 'product_id', 'seller_id', 'shipping_limit_date', 'price', 'freight_value']\n",
    "orders_items.dropna(inplace=True)\n",
    "orders_items.reset_index(inplace=True)\n",
    "products.dropna(inplace=True)"
   ]
  },
  {
   "cell_type": "code",
   "execution_count": 5,
   "id": "dc7d85af-bf7e-49a4-b31a-22ae50e5380e",
   "metadata": {},
   "outputs": [
    {
     "name": "stdout",
     "output_type": "stream",
     "text": [
      "product_id                    0\n",
      "product_category_name         0\n",
      "product_name_lenght           0\n",
      "product_description_lenght    0\n",
      "product_photos_qty            0\n",
      "product_weight_g              0\n",
      "product_length_cm             0\n",
      "product_height_cm             0\n",
      "product_width_cm              0\n",
      "dtype: int64\n",
      "order_id                         0\n",
      "customer_id                      0\n",
      "order_status                     0\n",
      "order_purchase_timestamp         0\n",
      "order_approved_at                0\n",
      "order_delivered_carrier_date     0\n",
      "order_delivered_customer_date    0\n",
      "order_estimated_delivery_date    0\n",
      "dtype: int64\n",
      "product_category_name            0\n",
      "product_category_name_english    0\n",
      "dtype: int64\n"
     ]
    }
   ],
   "source": [
    "print(products.isna().sum())\n",
    "print(orders.isna().sum())\n",
    "print(product_category.isna().sum())"
   ]
  },
  {
   "cell_type": "markdown",
   "id": "2a74c395-15b4-407e-bbe1-e67b0e3501fc",
   "metadata": {},
   "source": [
    "### ABC/XYZ-анализ по продуктам"
   ]
  },
  {
   "cell_type": "code",
   "execution_count": 6,
   "id": "3e962860-ce9e-453b-97a9-482c67dc66de",
   "metadata": {},
   "outputs": [
    {
     "name": "stdout",
     "output_type": "stream",
     "text": [
      "108636\n"
     ]
    },
    {
     "data": {
      "text/html": [
       "<div>\n",
       "<style scoped>\n",
       "    .dataframe tbody tr th:only-of-type {\n",
       "        vertical-align: middle;\n",
       "    }\n",
       "\n",
       "    .dataframe tbody tr th {\n",
       "        vertical-align: top;\n",
       "    }\n",
       "\n",
       "    .dataframe thead th {\n",
       "        text-align: right;\n",
       "    }\n",
       "</style>\n",
       "<table border=\"1\" class=\"dataframe\">\n",
       "  <thead>\n",
       "    <tr style=\"text-align: right;\">\n",
       "      <th></th>\n",
       "      <th>order_id</th>\n",
       "      <th>customer_id</th>\n",
       "      <th>order_status</th>\n",
       "      <th>order_purchase_timestamp</th>\n",
       "      <th>order_approved_at</th>\n",
       "      <th>order_delivered_carrier_date</th>\n",
       "      <th>order_delivered_customer_date</th>\n",
       "      <th>order_estimated_delivery_date</th>\n",
       "      <th>id</th>\n",
       "      <th>order_item_id</th>\n",
       "      <th>...</th>\n",
       "      <th>price</th>\n",
       "      <th>freight_value</th>\n",
       "      <th>product_category_name</th>\n",
       "      <th>product_name_lenght</th>\n",
       "      <th>product_description_lenght</th>\n",
       "      <th>product_photos_qty</th>\n",
       "      <th>product_weight_g</th>\n",
       "      <th>product_length_cm</th>\n",
       "      <th>product_height_cm</th>\n",
       "      <th>product_width_cm</th>\n",
       "    </tr>\n",
       "  </thead>\n",
       "  <tbody>\n",
       "    <tr>\n",
       "      <th>0</th>\n",
       "      <td>e481f51c-bdc5-4678-b7cc-49136f2d6af7</td>\n",
       "      <td>9ef432eb-6251-2973-04e7-6186b10a928d</td>\n",
       "      <td>delivered</td>\n",
       "      <td>2017-10-02 10:56:33</td>\n",
       "      <td>2017-10-02 11:07:15</td>\n",
       "      <td>2017-10-04 19:55:00</td>\n",
       "      <td>2017-10-10 21:25:13</td>\n",
       "      <td>2017-10-18</td>\n",
       "      <td>100785</td>\n",
       "      <td>1</td>\n",
       "      <td>...</td>\n",
       "      <td>29.99</td>\n",
       "      <td>8.72</td>\n",
       "      <td>utilidades_domesticas</td>\n",
       "      <td>40.0</td>\n",
       "      <td>268.0</td>\n",
       "      <td>4.0</td>\n",
       "      <td>500.0</td>\n",
       "      <td>19.0</td>\n",
       "      <td>8.0</td>\n",
       "      <td>13.0</td>\n",
       "    </tr>\n",
       "    <tr>\n",
       "      <th>1</th>\n",
       "      <td>53cdb2fc-8bc7-dce0-b674-1e2150273451</td>\n",
       "      <td>b0830fb4-747a-6c6d-20de-a0b8c802d7ef</td>\n",
       "      <td>delivered</td>\n",
       "      <td>2018-07-24 20:41:37</td>\n",
       "      <td>2018-07-26 03:24:27</td>\n",
       "      <td>2018-07-26 14:31:00</td>\n",
       "      <td>2018-08-07 15:27:45</td>\n",
       "      <td>2018-08-13</td>\n",
       "      <td>36896</td>\n",
       "      <td>1</td>\n",
       "      <td>...</td>\n",
       "      <td>118.70</td>\n",
       "      <td>22.76</td>\n",
       "      <td>perfumaria</td>\n",
       "      <td>29.0</td>\n",
       "      <td>178.0</td>\n",
       "      <td>1.0</td>\n",
       "      <td>400.0</td>\n",
       "      <td>19.0</td>\n",
       "      <td>13.0</td>\n",
       "      <td>19.0</td>\n",
       "    </tr>\n",
       "  </tbody>\n",
       "</table>\n",
       "<p>2 rows × 23 columns</p>\n",
       "</div>"
      ],
      "text/plain": [
       "                               order_id                           customer_id  \\\n",
       "0  e481f51c-bdc5-4678-b7cc-49136f2d6af7  9ef432eb-6251-2973-04e7-6186b10a928d   \n",
       "1  53cdb2fc-8bc7-dce0-b674-1e2150273451  b0830fb4-747a-6c6d-20de-a0b8c802d7ef   \n",
       "\n",
       "  order_status order_purchase_timestamp    order_approved_at  \\\n",
       "0    delivered      2017-10-02 10:56:33  2017-10-02 11:07:15   \n",
       "1    delivered      2018-07-24 20:41:37  2018-07-26 03:24:27   \n",
       "\n",
       "  order_delivered_carrier_date order_delivered_customer_date  \\\n",
       "0          2017-10-04 19:55:00           2017-10-10 21:25:13   \n",
       "1          2018-07-26 14:31:00           2018-08-07 15:27:45   \n",
       "\n",
       "  order_estimated_delivery_date      id  order_item_id  ...   price  \\\n",
       "0                    2017-10-18  100785              1  ...   29.99   \n",
       "1                    2018-08-13   36896              1  ...  118.70   \n",
       "\n",
       "  freight_value  product_category_name  product_name_lenght  \\\n",
       "0          8.72  utilidades_domesticas                 40.0   \n",
       "1         22.76             perfumaria                 29.0   \n",
       "\n",
       "   product_description_lenght product_photos_qty  product_weight_g  \\\n",
       "0                       268.0                4.0             500.0   \n",
       "1                       178.0                1.0             400.0   \n",
       "\n",
       "   product_length_cm  product_height_cm  product_width_cm  \n",
       "0               19.0                8.0              13.0  \n",
       "1               19.0               13.0              19.0  \n",
       "\n",
       "[2 rows x 23 columns]"
      ]
     },
     "execution_count": 6,
     "metadata": {},
     "output_type": "execute_result"
    }
   ],
   "source": [
    "product_stats = (\n",
    "    orders\n",
    "    .merge(orders_items, on='order_id')\n",
    "    .merge(products, on='product_id')\n",
    "    # .merge(product_category, on='product_category_name')\n",
    ")\n",
    "print(len(product_stats))\n",
    "product_stats.head(2)"
   ]
  },
  {
   "cell_type": "code",
   "execution_count": 7,
   "id": "18f92c86-b47c-44c7-97fb-2985803b4153",
   "metadata": {},
   "outputs": [
    {
     "data": {
      "text/html": [
       "<div>\n",
       "<style scoped>\n",
       "    .dataframe tbody tr th:only-of-type {\n",
       "        vertical-align: middle;\n",
       "    }\n",
       "\n",
       "    .dataframe tbody tr th {\n",
       "        vertical-align: top;\n",
       "    }\n",
       "\n",
       "    .dataframe thead th {\n",
       "        text-align: right;\n",
       "    }\n",
       "</style>\n",
       "<table border=\"1\" class=\"dataframe\">\n",
       "  <thead>\n",
       "    <tr style=\"text-align: right;\">\n",
       "      <th></th>\n",
       "      <th>order_id</th>\n",
       "      <th>order_purchase_timestamp</th>\n",
       "      <th>price</th>\n",
       "      <th>freight_value</th>\n",
       "      <th>product_category_name</th>\n",
       "      <th>product_id</th>\n",
       "      <th>revenue</th>\n",
       "      <th>year</th>\n",
       "      <th>month</th>\n",
       "    </tr>\n",
       "  </thead>\n",
       "  <tbody>\n",
       "    <tr>\n",
       "      <th>0</th>\n",
       "      <td>e481f51c-bdc5-4678-b7cc-49136f2d6af7</td>\n",
       "      <td>2017-10-02 10:56:33</td>\n",
       "      <td>29.99</td>\n",
       "      <td>8.72</td>\n",
       "      <td>utilidades_domesticas</td>\n",
       "      <td>87285b34-8845-7264-7811-a353c7ac498a</td>\n",
       "      <td>38.71</td>\n",
       "      <td>2017</td>\n",
       "      <td>10</td>\n",
       "    </tr>\n",
       "  </tbody>\n",
       "</table>\n",
       "</div>"
      ],
      "text/plain": [
       "                               order_id order_purchase_timestamp  price  \\\n",
       "0  e481f51c-bdc5-4678-b7cc-49136f2d6af7      2017-10-02 10:56:33  29.99   \n",
       "\n",
       "   freight_value  product_category_name                            product_id  \\\n",
       "0           8.72  utilidades_domesticas  87285b34-8845-7264-7811-a353c7ac498a   \n",
       "\n",
       "   revenue  year  month  \n",
       "0    38.71  2017     10  "
      ]
     },
     "execution_count": 7,
     "metadata": {},
     "output_type": "execute_result"
    }
   ],
   "source": [
    "prod_info = product_stats[['order_id', 'order_purchase_timestamp', 'price', 'freight_value', 'product_category_name', 'product_id']].copy()\n",
    "prod_info['order_purchase_timestamp'] = pd.to_datetime(prod_info['order_purchase_timestamp'])\n",
    "prod_info['revenue'] = prod_info['price'] + prod_info['freight_value']\n",
    "prod_info['year'] = pd.DatetimeIndex(prod_info['order_purchase_timestamp']).year\n",
    "prod_info['month'] = pd.DatetimeIndex(prod_info['order_purchase_timestamp']).month\n",
    "prod_info.head(1)"
   ]
  },
  {
   "cell_type": "code",
   "execution_count": 8,
   "id": "bc352342-e21e-4beb-90a4-d91b1e5c8039",
   "metadata": {},
   "outputs": [
    {
     "data": {
      "text/html": [
       "<div>\n",
       "<style scoped>\n",
       "    .dataframe tbody tr th:only-of-type {\n",
       "        vertical-align: middle;\n",
       "    }\n",
       "\n",
       "    .dataframe tbody tr th {\n",
       "        vertical-align: top;\n",
       "    }\n",
       "\n",
       "    .dataframe thead th {\n",
       "        text-align: right;\n",
       "    }\n",
       "</style>\n",
       "<table border=\"1\" class=\"dataframe\">\n",
       "  <thead>\n",
       "    <tr style=\"text-align: right;\">\n",
       "      <th></th>\n",
       "      <th>product_id</th>\n",
       "      <th>year</th>\n",
       "      <th>month</th>\n",
       "      <th>revenue</th>\n",
       "      <th>year_month</th>\n",
       "    </tr>\n",
       "  </thead>\n",
       "  <tbody>\n",
       "    <tr>\n",
       "      <th>0</th>\n",
       "      <td>00066f42-aeeb-9f30-0754-8bb9d3f33c38</td>\n",
       "      <td>2018</td>\n",
       "      <td>05</td>\n",
       "      <td>120.24</td>\n",
       "      <td>2018-05</td>\n",
       "    </tr>\n",
       "    <tr>\n",
       "      <th>1</th>\n",
       "      <td>00088930-e925-c41f-d95e-bfe695fd2655</td>\n",
       "      <td>2017</td>\n",
       "      <td>12</td>\n",
       "      <td>143.83</td>\n",
       "      <td>2017-12</td>\n",
       "    </tr>\n",
       "    <tr>\n",
       "      <th>2</th>\n",
       "      <td>0009406f-d747-9715-e4be-f61dd91f2462</td>\n",
       "      <td>2017</td>\n",
       "      <td>12</td>\n",
       "      <td>242.10</td>\n",
       "      <td>2017-12</td>\n",
       "    </tr>\n",
       "    <tr>\n",
       "      <th>3</th>\n",
       "      <td>000b8f95-fcb9-e009-6488-278317764d19</td>\n",
       "      <td>2018</td>\n",
       "      <td>08</td>\n",
       "      <td>157.00</td>\n",
       "      <td>2018-08</td>\n",
       "    </tr>\n",
       "    <tr>\n",
       "      <th>4</th>\n",
       "      <td>000d9be2-9b52-07b5-4e86-aa1b1ac54872</td>\n",
       "      <td>2018</td>\n",
       "      <td>04</td>\n",
       "      <td>218.27</td>\n",
       "      <td>2018-04</td>\n",
       "    </tr>\n",
       "  </tbody>\n",
       "</table>\n",
       "</div>"
      ],
      "text/plain": [
       "                             product_id  year month  revenue year_month\n",
       "0  00066f42-aeeb-9f30-0754-8bb9d3f33c38  2018    05   120.24    2018-05\n",
       "1  00088930-e925-c41f-d95e-bfe695fd2655  2017    12   143.83    2017-12\n",
       "2  0009406f-d747-9715-e4be-f61dd91f2462  2017    12   242.10    2017-12\n",
       "3  000b8f95-fcb9-e009-6488-278317764d19  2018    08   157.00    2018-08\n",
       "4  000d9be2-9b52-07b5-4e86-aa1b1ac54872  2018    04   218.27    2018-04"
      ]
     },
     "execution_count": 8,
     "metadata": {},
     "output_type": "execute_result"
    }
   ],
   "source": [
    "df_xyz = prod_info.groupby(['product_id', 'year','month'])['revenue'].sum().to_frame().reset_index()\n",
    "df_xyz['month'] = df_xyz['month'].map(\"{:02}\".format)\n",
    "df_xyz['year_month'] = df_xyz['year'].map(str) + '-' + df_xyz['month'].map(str)\n",
    "df_xyz.head()"
   ]
  },
  {
   "cell_type": "code",
   "execution_count": 9,
   "id": "30da499a-a360-47b1-aa53-4707be5167cd",
   "metadata": {},
   "outputs": [],
   "source": [
    "df_xyz = df_xyz.pivot(index='product_id', columns='year_month', values='revenue').reset_index().fillna(0)"
   ]
  },
  {
   "cell_type": "code",
   "execution_count": 10,
   "id": "9e3a61e1-b3af-4058-8f20-0e414ff202f6",
   "metadata": {},
   "outputs": [
    {
     "data": {
      "text/html": [
       "<div>\n",
       "<style scoped>\n",
       "    .dataframe tbody tr th:only-of-type {\n",
       "        vertical-align: middle;\n",
       "    }\n",
       "\n",
       "    .dataframe tbody tr th {\n",
       "        vertical-align: top;\n",
       "    }\n",
       "\n",
       "    .dataframe thead th {\n",
       "        text-align: right;\n",
       "    }\n",
       "</style>\n",
       "<table border=\"1\" class=\"dataframe\">\n",
       "  <thead>\n",
       "    <tr style=\"text-align: right;\">\n",
       "      <th>year_month</th>\n",
       "      <th>product_id</th>\n",
       "      <th>2016-09</th>\n",
       "      <th>2016-10</th>\n",
       "      <th>2016-12</th>\n",
       "      <th>2017-01</th>\n",
       "      <th>2017-02</th>\n",
       "      <th>2017-03</th>\n",
       "      <th>2017-04</th>\n",
       "      <th>2017-05</th>\n",
       "      <th>2017-06</th>\n",
       "      <th>...</th>\n",
       "      <th>2017-11</th>\n",
       "      <th>2017-12</th>\n",
       "      <th>2018-01</th>\n",
       "      <th>2018-02</th>\n",
       "      <th>2018-03</th>\n",
       "      <th>2018-04</th>\n",
       "      <th>2018-05</th>\n",
       "      <th>2018-06</th>\n",
       "      <th>2018-07</th>\n",
       "      <th>2018-08</th>\n",
       "    </tr>\n",
       "  </thead>\n",
       "  <tbody>\n",
       "    <tr>\n",
       "      <th>0</th>\n",
       "      <td>00066f42-aeeb-9f30-0754-8bb9d3f33c38</td>\n",
       "      <td>0.0</td>\n",
       "      <td>0.0</td>\n",
       "      <td>0.0</td>\n",
       "      <td>0.0</td>\n",
       "      <td>0.0</td>\n",
       "      <td>0.0</td>\n",
       "      <td>0.0</td>\n",
       "      <td>0.0</td>\n",
       "      <td>0.0</td>\n",
       "      <td>...</td>\n",
       "      <td>0.0</td>\n",
       "      <td>0.0</td>\n",
       "      <td>0.0</td>\n",
       "      <td>0.0</td>\n",
       "      <td>0.0</td>\n",
       "      <td>0.0</td>\n",
       "      <td>120.24</td>\n",
       "      <td>0.0</td>\n",
       "      <td>0.0</td>\n",
       "      <td>0.0</td>\n",
       "    </tr>\n",
       "  </tbody>\n",
       "</table>\n",
       "<p>1 rows × 24 columns</p>\n",
       "</div>"
      ],
      "text/plain": [
       "year_month                            product_id  2016-09  2016-10  2016-12  \\\n",
       "0           00066f42-aeeb-9f30-0754-8bb9d3f33c38      0.0      0.0      0.0   \n",
       "\n",
       "year_month  2017-01  2017-02  2017-03  2017-04  2017-05  2017-06  ...  \\\n",
       "0               0.0      0.0      0.0      0.0      0.0      0.0  ...   \n",
       "\n",
       "year_month  2017-11  2017-12  2018-01  2018-02  2018-03  2018-04  2018-05  \\\n",
       "0               0.0      0.0      0.0      0.0      0.0      0.0   120.24   \n",
       "\n",
       "year_month  2018-06  2018-07  2018-08  \n",
       "0               0.0      0.0      0.0  \n",
       "\n",
       "[1 rows x 24 columns]"
      ]
     },
     "execution_count": 10,
     "metadata": {},
     "output_type": "execute_result"
    }
   ],
   "source": [
    "df_xyz.head(1)"
   ]
  },
  {
   "cell_type": "code",
   "execution_count": 11,
   "id": "0580ab42-314a-4e8a-99e3-08afd680755c",
   "metadata": {},
   "outputs": [
    {
     "data": {
      "text/plain": [
       "23"
      ]
     },
     "execution_count": 11,
     "metadata": {},
     "output_type": "execute_result"
    }
   ],
   "source": [
    "len(df_xyz.columns) - 1"
   ]
  },
  {
   "cell_type": "code",
   "execution_count": 12,
   "id": "6999dfa4-0bec-40f9-9bf4-fe374240ea12",
   "metadata": {},
   "outputs": [
    {
     "data": {
      "text/html": [
       "<div>\n",
       "<style scoped>\n",
       "    .dataframe tbody tr th:only-of-type {\n",
       "        vertical-align: middle;\n",
       "    }\n",
       "\n",
       "    .dataframe tbody tr th {\n",
       "        vertical-align: top;\n",
       "    }\n",
       "\n",
       "    .dataframe thead th {\n",
       "        text-align: right;\n",
       "    }\n",
       "</style>\n",
       "<table border=\"1\" class=\"dataframe\">\n",
       "  <thead>\n",
       "    <tr style=\"text-align: right;\">\n",
       "      <th>year_month</th>\n",
       "      <th>2016-09</th>\n",
       "      <th>2016-10</th>\n",
       "      <th>2016-12</th>\n",
       "      <th>2017-01</th>\n",
       "      <th>2017-02</th>\n",
       "      <th>2017-03</th>\n",
       "      <th>2017-04</th>\n",
       "      <th>2017-05</th>\n",
       "      <th>2017-06</th>\n",
       "      <th>2017-07</th>\n",
       "      <th>...</th>\n",
       "      <th>2017-11</th>\n",
       "      <th>2017-12</th>\n",
       "      <th>2018-01</th>\n",
       "      <th>2018-02</th>\n",
       "      <th>2018-03</th>\n",
       "      <th>2018-04</th>\n",
       "      <th>2018-05</th>\n",
       "      <th>2018-06</th>\n",
       "      <th>2018-07</th>\n",
       "      <th>2018-08</th>\n",
       "    </tr>\n",
       "  </thead>\n",
       "  <tbody>\n",
       "    <tr>\n",
       "      <th>0</th>\n",
       "      <td>0.0</td>\n",
       "      <td>0.0</td>\n",
       "      <td>0.0</td>\n",
       "      <td>0.0</td>\n",
       "      <td>0.0</td>\n",
       "      <td>0.0</td>\n",
       "      <td>0.0</td>\n",
       "      <td>0.0</td>\n",
       "      <td>0.0</td>\n",
       "      <td>0.0</td>\n",
       "      <td>...</td>\n",
       "      <td>0.0</td>\n",
       "      <td>0.0</td>\n",
       "      <td>0.0</td>\n",
       "      <td>0.0</td>\n",
       "      <td>0.0</td>\n",
       "      <td>0.0</td>\n",
       "      <td>120.24</td>\n",
       "      <td>0.0</td>\n",
       "      <td>0.0</td>\n",
       "      <td>0.0</td>\n",
       "    </tr>\n",
       "  </tbody>\n",
       "</table>\n",
       "<p>1 rows × 23 columns</p>\n",
       "</div>"
      ],
      "text/plain": [
       "year_month  2016-09  2016-10  2016-12  2017-01  2017-02  2017-03  2017-04  \\\n",
       "0               0.0      0.0      0.0      0.0      0.0      0.0      0.0   \n",
       "\n",
       "year_month  2017-05  2017-06  2017-07  ...  2017-11  2017-12  2018-01  \\\n",
       "0               0.0      0.0      0.0  ...      0.0      0.0      0.0   \n",
       "\n",
       "year_month  2018-02  2018-03  2018-04  2018-05  2018-06  2018-07  2018-08  \n",
       "0               0.0      0.0      0.0   120.24      0.0      0.0      0.0  \n",
       "\n",
       "[1 rows x 23 columns]"
      ]
     },
     "execution_count": 12,
     "metadata": {},
     "output_type": "execute_result"
    }
   ],
   "source": [
    "df_xyz.iloc[:,1:24].head(1)"
   ]
  },
  {
   "cell_type": "code",
   "execution_count": 13,
   "id": "eafc32fb-e587-474f-88ef-047d529f5229",
   "metadata": {},
   "outputs": [
    {
     "data": {
      "text/html": [
       "<div>\n",
       "<style scoped>\n",
       "    .dataframe tbody tr th:only-of-type {\n",
       "        vertical-align: middle;\n",
       "    }\n",
       "\n",
       "    .dataframe tbody tr th {\n",
       "        vertical-align: top;\n",
       "    }\n",
       "\n",
       "    .dataframe thead th {\n",
       "        text-align: right;\n",
       "    }\n",
       "</style>\n",
       "<table border=\"1\" class=\"dataframe\">\n",
       "  <thead>\n",
       "    <tr style=\"text-align: right;\">\n",
       "      <th>year_month</th>\n",
       "      <th>product_id</th>\n",
       "      <th>2016-09</th>\n",
       "      <th>2016-10</th>\n",
       "      <th>2016-12</th>\n",
       "      <th>2017-01</th>\n",
       "      <th>2017-02</th>\n",
       "      <th>2017-03</th>\n",
       "      <th>2017-04</th>\n",
       "      <th>2017-05</th>\n",
       "      <th>2017-06</th>\n",
       "      <th>...</th>\n",
       "      <th>2017-12</th>\n",
       "      <th>2018-01</th>\n",
       "      <th>2018-02</th>\n",
       "      <th>2018-03</th>\n",
       "      <th>2018-04</th>\n",
       "      <th>2018-05</th>\n",
       "      <th>2018-06</th>\n",
       "      <th>2018-07</th>\n",
       "      <th>2018-08</th>\n",
       "      <th>total_sales</th>\n",
       "    </tr>\n",
       "  </thead>\n",
       "  <tbody>\n",
       "    <tr>\n",
       "      <th>0</th>\n",
       "      <td>00066f42-aeeb-9f30-0754-8bb9d3f33c38</td>\n",
       "      <td>0.0</td>\n",
       "      <td>0.0</td>\n",
       "      <td>0.0</td>\n",
       "      <td>0.0</td>\n",
       "      <td>0.0</td>\n",
       "      <td>0.0</td>\n",
       "      <td>0.0</td>\n",
       "      <td>0.0</td>\n",
       "      <td>0.0</td>\n",
       "      <td>...</td>\n",
       "      <td>0.0</td>\n",
       "      <td>0.0</td>\n",
       "      <td>0.0</td>\n",
       "      <td>0.0</td>\n",
       "      <td>0.0</td>\n",
       "      <td>120.24</td>\n",
       "      <td>0.0</td>\n",
       "      <td>0.0</td>\n",
       "      <td>0.0</td>\n",
       "      <td>120.24</td>\n",
       "    </tr>\n",
       "  </tbody>\n",
       "</table>\n",
       "<p>1 rows × 25 columns</p>\n",
       "</div>"
      ],
      "text/plain": [
       "year_month                            product_id  2016-09  2016-10  2016-12  \\\n",
       "0           00066f42-aeeb-9f30-0754-8bb9d3f33c38      0.0      0.0      0.0   \n",
       "\n",
       "year_month  2017-01  2017-02  2017-03  2017-04  2017-05  2017-06  ...  \\\n",
       "0               0.0      0.0      0.0      0.0      0.0      0.0  ...   \n",
       "\n",
       "year_month  2017-12  2018-01  2018-02  2018-03  2018-04  2018-05  2018-06  \\\n",
       "0               0.0      0.0      0.0      0.0      0.0   120.24      0.0   \n",
       "\n",
       "year_month  2018-07  2018-08  total_sales  \n",
       "0               0.0      0.0       120.24  \n",
       "\n",
       "[1 rows x 25 columns]"
      ]
     },
     "execution_count": 13,
     "metadata": {},
     "output_type": "execute_result"
    }
   ],
   "source": [
    "df_xyz['total_sales'] = df_xyz.iloc[:,1:24].sum(axis=1,numeric_only=True)\n",
    "df_xyz.head(1)"
   ]
  },
  {
   "cell_type": "code",
   "execution_count": 14,
   "id": "4451aa56-324b-414d-9c05-dabd0ceb03de",
   "metadata": {},
   "outputs": [
    {
     "data": {
      "text/html": [
       "<div>\n",
       "<style scoped>\n",
       "    .dataframe tbody tr th:only-of-type {\n",
       "        vertical-align: middle;\n",
       "    }\n",
       "\n",
       "    .dataframe tbody tr th {\n",
       "        vertical-align: top;\n",
       "    }\n",
       "\n",
       "    .dataframe thead th {\n",
       "        text-align: right;\n",
       "    }\n",
       "</style>\n",
       "<table border=\"1\" class=\"dataframe\">\n",
       "  <thead>\n",
       "    <tr style=\"text-align: right;\">\n",
       "      <th>year_month</th>\n",
       "      <th>product_id</th>\n",
       "      <th>2016-09</th>\n",
       "      <th>2016-10</th>\n",
       "      <th>2016-12</th>\n",
       "      <th>2017-01</th>\n",
       "      <th>2017-02</th>\n",
       "      <th>2017-03</th>\n",
       "      <th>2017-04</th>\n",
       "      <th>2017-05</th>\n",
       "      <th>2017-06</th>\n",
       "      <th>...</th>\n",
       "      <th>2018-03</th>\n",
       "      <th>2018-04</th>\n",
       "      <th>2018-05</th>\n",
       "      <th>2018-06</th>\n",
       "      <th>2018-07</th>\n",
       "      <th>2018-08</th>\n",
       "      <th>total_sales</th>\n",
       "      <th>avg_sales</th>\n",
       "      <th>std</th>\n",
       "      <th>CoV</th>\n",
       "    </tr>\n",
       "  </thead>\n",
       "  <tbody>\n",
       "    <tr>\n",
       "      <th>0</th>\n",
       "      <td>00066f42-aeeb-9f30-0754-8bb9d3f33c38</td>\n",
       "      <td>0.0</td>\n",
       "      <td>0.0</td>\n",
       "      <td>0.0</td>\n",
       "      <td>0.0</td>\n",
       "      <td>0.0</td>\n",
       "      <td>0.0</td>\n",
       "      <td>0.0</td>\n",
       "      <td>0.0</td>\n",
       "      <td>0.0</td>\n",
       "      <td>...</td>\n",
       "      <td>0.0</td>\n",
       "      <td>0.0</td>\n",
       "      <td>120.24</td>\n",
       "      <td>0.0</td>\n",
       "      <td>0.0</td>\n",
       "      <td>0.0</td>\n",
       "      <td>120.24</td>\n",
       "      <td>5.227826</td>\n",
       "      <td>25.071773</td>\n",
       "      <td>4.795832</td>\n",
       "    </tr>\n",
       "    <tr>\n",
       "      <th>1</th>\n",
       "      <td>00088930-e925-c41f-d95e-bfe695fd2655</td>\n",
       "      <td>0.0</td>\n",
       "      <td>0.0</td>\n",
       "      <td>0.0</td>\n",
       "      <td>0.0</td>\n",
       "      <td>0.0</td>\n",
       "      <td>0.0</td>\n",
       "      <td>0.0</td>\n",
       "      <td>0.0</td>\n",
       "      <td>0.0</td>\n",
       "      <td>...</td>\n",
       "      <td>0.0</td>\n",
       "      <td>0.0</td>\n",
       "      <td>0.00</td>\n",
       "      <td>0.0</td>\n",
       "      <td>0.0</td>\n",
       "      <td>0.0</td>\n",
       "      <td>143.83</td>\n",
       "      <td>6.253478</td>\n",
       "      <td>29.990628</td>\n",
       "      <td>4.795832</td>\n",
       "    </tr>\n",
       "  </tbody>\n",
       "</table>\n",
       "<p>2 rows × 28 columns</p>\n",
       "</div>"
      ],
      "text/plain": [
       "year_month                            product_id  2016-09  2016-10  2016-12  \\\n",
       "0           00066f42-aeeb-9f30-0754-8bb9d3f33c38      0.0      0.0      0.0   \n",
       "1           00088930-e925-c41f-d95e-bfe695fd2655      0.0      0.0      0.0   \n",
       "\n",
       "year_month  2017-01  2017-02  2017-03  2017-04  2017-05  2017-06  ...  \\\n",
       "0               0.0      0.0      0.0      0.0      0.0      0.0  ...   \n",
       "1               0.0      0.0      0.0      0.0      0.0      0.0  ...   \n",
       "\n",
       "year_month  2018-03  2018-04  2018-05  2018-06  2018-07  2018-08  total_sales  \\\n",
       "0               0.0      0.0   120.24      0.0      0.0      0.0       120.24   \n",
       "1               0.0      0.0     0.00      0.0      0.0      0.0       143.83   \n",
       "\n",
       "year_month  avg_sales        std       CoV  \n",
       "0            5.227826  25.071773  4.795832  \n",
       "1            6.253478  29.990628  4.795832  \n",
       "\n",
       "[2 rows x 28 columns]"
      ]
     },
     "execution_count": 14,
     "metadata": {},
     "output_type": "execute_result"
    }
   ],
   "source": [
    "df_xyz['avg_sales'] = df_xyz['total_sales']/23\n",
    "df_xyz['std'] = df_xyz.iloc[:,1:24].std(axis=1)\n",
    "df_xyz['CoV']=df_xyz['std']/df_xyz['avg_sales']\n",
    "df_xyz.head(2)"
   ]
  },
  {
   "cell_type": "code",
   "execution_count": 15,
   "id": "8fb5af9a-df3f-4989-9685-48e45f9b4b17",
   "metadata": {},
   "outputs": [],
   "source": [
    "def condition_xyz(x):\n",
    "    if x<=0.5:\n",
    "        return \"X\"\n",
    "    elif x>=0.5 and x<=1:\n",
    "        return \"Y\"\n",
    "    else:\n",
    "        return 'Z'"
   ]
  },
  {
   "cell_type": "code",
   "execution_count": 16,
   "id": "f7e2ecb2-a3d1-43b1-9b57-bf1e849f9dce",
   "metadata": {},
   "outputs": [
    {
     "data": {
      "text/html": [
       "<div>\n",
       "<style scoped>\n",
       "    .dataframe tbody tr th:only-of-type {\n",
       "        vertical-align: middle;\n",
       "    }\n",
       "\n",
       "    .dataframe tbody tr th {\n",
       "        vertical-align: top;\n",
       "    }\n",
       "\n",
       "    .dataframe thead th {\n",
       "        text-align: right;\n",
       "    }\n",
       "</style>\n",
       "<table border=\"1\" class=\"dataframe\">\n",
       "  <thead>\n",
       "    <tr style=\"text-align: right;\">\n",
       "      <th>year_month</th>\n",
       "      <th>product_id</th>\n",
       "      <th>2016-09</th>\n",
       "      <th>2016-10</th>\n",
       "      <th>2016-12</th>\n",
       "      <th>2017-01</th>\n",
       "      <th>2017-02</th>\n",
       "      <th>2017-03</th>\n",
       "      <th>2017-04</th>\n",
       "      <th>2017-05</th>\n",
       "      <th>2017-06</th>\n",
       "      <th>...</th>\n",
       "      <th>2018-04</th>\n",
       "      <th>2018-05</th>\n",
       "      <th>2018-06</th>\n",
       "      <th>2018-07</th>\n",
       "      <th>2018-08</th>\n",
       "      <th>total_sales</th>\n",
       "      <th>avg_sales</th>\n",
       "      <th>std</th>\n",
       "      <th>CoV</th>\n",
       "      <th>XYZ</th>\n",
       "    </tr>\n",
       "  </thead>\n",
       "  <tbody>\n",
       "    <tr>\n",
       "      <th>0</th>\n",
       "      <td>00066f42-aeeb-9f30-0754-8bb9d3f33c38</td>\n",
       "      <td>0.0</td>\n",
       "      <td>0.0</td>\n",
       "      <td>0.0</td>\n",
       "      <td>0.0</td>\n",
       "      <td>0.0</td>\n",
       "      <td>0.0</td>\n",
       "      <td>0.0</td>\n",
       "      <td>0.0</td>\n",
       "      <td>0.0</td>\n",
       "      <td>...</td>\n",
       "      <td>0.0</td>\n",
       "      <td>120.24</td>\n",
       "      <td>0.0</td>\n",
       "      <td>0.0</td>\n",
       "      <td>0.0</td>\n",
       "      <td>120.24</td>\n",
       "      <td>5.227826</td>\n",
       "      <td>25.071773</td>\n",
       "      <td>4.795832</td>\n",
       "      <td>Z</td>\n",
       "    </tr>\n",
       "    <tr>\n",
       "      <th>1</th>\n",
       "      <td>00088930-e925-c41f-d95e-bfe695fd2655</td>\n",
       "      <td>0.0</td>\n",
       "      <td>0.0</td>\n",
       "      <td>0.0</td>\n",
       "      <td>0.0</td>\n",
       "      <td>0.0</td>\n",
       "      <td>0.0</td>\n",
       "      <td>0.0</td>\n",
       "      <td>0.0</td>\n",
       "      <td>0.0</td>\n",
       "      <td>...</td>\n",
       "      <td>0.0</td>\n",
       "      <td>0.00</td>\n",
       "      <td>0.0</td>\n",
       "      <td>0.0</td>\n",
       "      <td>0.0</td>\n",
       "      <td>143.83</td>\n",
       "      <td>6.253478</td>\n",
       "      <td>29.990628</td>\n",
       "      <td>4.795832</td>\n",
       "      <td>Z</td>\n",
       "    </tr>\n",
       "  </tbody>\n",
       "</table>\n",
       "<p>2 rows × 29 columns</p>\n",
       "</div>"
      ],
      "text/plain": [
       "year_month                            product_id  2016-09  2016-10  2016-12  \\\n",
       "0           00066f42-aeeb-9f30-0754-8bb9d3f33c38      0.0      0.0      0.0   \n",
       "1           00088930-e925-c41f-d95e-bfe695fd2655      0.0      0.0      0.0   \n",
       "\n",
       "year_month  2017-01  2017-02  2017-03  2017-04  2017-05  2017-06  ...  \\\n",
       "0               0.0      0.0      0.0      0.0      0.0      0.0  ...   \n",
       "1               0.0      0.0      0.0      0.0      0.0      0.0  ...   \n",
       "\n",
       "year_month  2018-04  2018-05  2018-06  2018-07  2018-08  total_sales  \\\n",
       "0               0.0   120.24      0.0      0.0      0.0       120.24   \n",
       "1               0.0     0.00      0.0      0.0      0.0       143.83   \n",
       "\n",
       "year_month  avg_sales        std       CoV  XYZ  \n",
       "0            5.227826  25.071773  4.795832    Z  \n",
       "1            6.253478  29.990628  4.795832    Z  \n",
       "\n",
       "[2 rows x 29 columns]"
      ]
     },
     "execution_count": 16,
     "metadata": {},
     "output_type": "execute_result"
    }
   ],
   "source": [
    "df_xyz['XYZ']=df_xyz['CoV'].apply(condition_xyz)\n",
    "df_xyz.head(2)"
   ]
  },
  {
   "cell_type": "code",
   "execution_count": 17,
   "id": "f42d9ad9-5db7-45ed-aa84-7ee4245fda2d",
   "metadata": {},
   "outputs": [],
   "source": [
    "df_abc = df_xyz.groupby('product_id').agg(total_revenue=('total_sales','sum')).sort_values(by='total_revenue', ascending=False).reset_index()"
   ]
  },
  {
   "cell_type": "code",
   "execution_count": 18,
   "id": "1162c14f-a171-4bea-bb57-cb7295011116",
   "metadata": {},
   "outputs": [
    {
     "data": {
      "text/html": [
       "<div>\n",
       "<style scoped>\n",
       "    .dataframe tbody tr th:only-of-type {\n",
       "        vertical-align: middle;\n",
       "    }\n",
       "\n",
       "    .dataframe tbody tr th {\n",
       "        vertical-align: top;\n",
       "    }\n",
       "\n",
       "    .dataframe thead th {\n",
       "        text-align: right;\n",
       "    }\n",
       "</style>\n",
       "<table border=\"1\" class=\"dataframe\">\n",
       "  <thead>\n",
       "    <tr style=\"text-align: right;\">\n",
       "      <th></th>\n",
       "      <th>product_id</th>\n",
       "      <th>total_revenue</th>\n",
       "    </tr>\n",
       "  </thead>\n",
       "  <tbody>\n",
       "    <tr>\n",
       "      <th>0</th>\n",
       "      <td>bb50f2e2-36e5-eea0-1006-80137654686c</td>\n",
       "      <td>67258.03</td>\n",
       "    </tr>\n",
       "    <tr>\n",
       "      <th>1</th>\n",
       "      <td>d1c42706-0a0f-73f6-b889-a5c7c61f2ac4</td>\n",
       "      <td>58957.31</td>\n",
       "    </tr>\n",
       "    <tr>\n",
       "      <th>2</th>\n",
       "      <td>6cdd5384-3498-f928-9054-4667809f1595</td>\n",
       "      <td>57933.73</td>\n",
       "    </tr>\n",
       "    <tr>\n",
       "      <th>3</th>\n",
       "      <td>99a4788c-b248-5696-5c36-a24e339b6058</td>\n",
       "      <td>49907.50</td>\n",
       "    </tr>\n",
       "    <tr>\n",
       "      <th>4</th>\n",
       "      <td>3dd2a171-68ec-895c-781a-9191c1e95ad7</td>\n",
       "      <td>47876.06</td>\n",
       "    </tr>\n",
       "  </tbody>\n",
       "</table>\n",
       "</div>"
      ],
      "text/plain": [
       "                             product_id  total_revenue\n",
       "0  bb50f2e2-36e5-eea0-1006-80137654686c       67258.03\n",
       "1  d1c42706-0a0f-73f6-b889-a5c7c61f2ac4       58957.31\n",
       "2  6cdd5384-3498-f928-9054-4667809f1595       57933.73\n",
       "3  99a4788c-b248-5696-5c36-a24e339b6058       49907.50\n",
       "4  3dd2a171-68ec-895c-781a-9191c1e95ad7       47876.06"
      ]
     },
     "execution_count": 18,
     "metadata": {},
     "output_type": "execute_result"
    }
   ],
   "source": [
    "df_abc.head()"
   ]
  },
  {
   "cell_type": "code",
   "execution_count": 19,
   "id": "12e6851e-3626-421b-8111-8bba63f957be",
   "metadata": {},
   "outputs": [
    {
     "data": {
      "text/html": [
       "<div>\n",
       "<style scoped>\n",
       "    .dataframe tbody tr th:only-of-type {\n",
       "        vertical-align: middle;\n",
       "    }\n",
       "\n",
       "    .dataframe tbody tr th {\n",
       "        vertical-align: top;\n",
       "    }\n",
       "\n",
       "    .dataframe thead th {\n",
       "        text-align: right;\n",
       "    }\n",
       "</style>\n",
       "<table border=\"1\" class=\"dataframe\">\n",
       "  <thead>\n",
       "    <tr style=\"text-align: right;\">\n",
       "      <th></th>\n",
       "      <th>product_id</th>\n",
       "      <th>total_revenue</th>\n",
       "      <th>rev_cum_sum</th>\n",
       "      <th>rev_all</th>\n",
       "      <th>sku_rev_percent</th>\n",
       "    </tr>\n",
       "  </thead>\n",
       "  <tbody>\n",
       "    <tr>\n",
       "      <th>0</th>\n",
       "      <td>bb50f2e2-36e5-eea0-1006-80137654686c</td>\n",
       "      <td>67258.03</td>\n",
       "      <td>67258.03</td>\n",
       "      <td>15216655.08</td>\n",
       "      <td>0.004420</td>\n",
       "    </tr>\n",
       "    <tr>\n",
       "      <th>1</th>\n",
       "      <td>d1c42706-0a0f-73f6-b889-a5c7c61f2ac4</td>\n",
       "      <td>58957.31</td>\n",
       "      <td>126215.34</td>\n",
       "      <td>15216655.08</td>\n",
       "      <td>0.008295</td>\n",
       "    </tr>\n",
       "    <tr>\n",
       "      <th>2</th>\n",
       "      <td>6cdd5384-3498-f928-9054-4667809f1595</td>\n",
       "      <td>57933.73</td>\n",
       "      <td>184149.07</td>\n",
       "      <td>15216655.08</td>\n",
       "      <td>0.012102</td>\n",
       "    </tr>\n",
       "    <tr>\n",
       "      <th>3</th>\n",
       "      <td>99a4788c-b248-5696-5c36-a24e339b6058</td>\n",
       "      <td>49907.50</td>\n",
       "      <td>234056.57</td>\n",
       "      <td>15216655.08</td>\n",
       "      <td>0.015382</td>\n",
       "    </tr>\n",
       "    <tr>\n",
       "      <th>4</th>\n",
       "      <td>3dd2a171-68ec-895c-781a-9191c1e95ad7</td>\n",
       "      <td>47876.06</td>\n",
       "      <td>281932.63</td>\n",
       "      <td>15216655.08</td>\n",
       "      <td>0.018528</td>\n",
       "    </tr>\n",
       "    <tr>\n",
       "      <th>...</th>\n",
       "      <td>...</td>\n",
       "      <td>...</td>\n",
       "      <td>...</td>\n",
       "      <td>...</td>\n",
       "      <td>...</td>\n",
       "    </tr>\n",
       "    <tr>\n",
       "      <th>95</th>\n",
       "      <td>0a57f7d2-c983-bcf8-1885-89a5fea4a8da</td>\n",
       "      <td>10874.76</td>\n",
       "      <td>1990205.66</td>\n",
       "      <td>15216655.08</td>\n",
       "      <td>0.130791</td>\n",
       "    </tr>\n",
       "    <tr>\n",
       "      <th>96</th>\n",
       "      <td>a50acd33-ba7a-8da8-e9db-65094fa990a4</td>\n",
       "      <td>10862.26</td>\n",
       "      <td>2001067.92</td>\n",
       "      <td>15216655.08</td>\n",
       "      <td>0.131505</td>\n",
       "    </tr>\n",
       "    <tr>\n",
       "      <th>97</th>\n",
       "      <td>fbce4c4c-b307-679d-89a3-bf3d3bb353b9</td>\n",
       "      <td>10801.62</td>\n",
       "      <td>2011869.54</td>\n",
       "      <td>15216655.08</td>\n",
       "      <td>0.132215</td>\n",
       "    </tr>\n",
       "    <tr>\n",
       "      <th>98</th>\n",
       "      <td>53ea9da4-85f6-aed8-a6f0-3a85831fe021</td>\n",
       "      <td>10749.92</td>\n",
       "      <td>2022619.46</td>\n",
       "      <td>15216655.08</td>\n",
       "      <td>0.132921</td>\n",
       "    </tr>\n",
       "    <tr>\n",
       "      <th>99</th>\n",
       "      <td>25f86162-fee1-8735-fffd-b762dcb10d7c</td>\n",
       "      <td>10733.48</td>\n",
       "      <td>2033352.94</td>\n",
       "      <td>15216655.08</td>\n",
       "      <td>0.133627</td>\n",
       "    </tr>\n",
       "  </tbody>\n",
       "</table>\n",
       "<p>100 rows × 5 columns</p>\n",
       "</div>"
      ],
      "text/plain": [
       "                              product_id  total_revenue  rev_cum_sum  \\\n",
       "0   bb50f2e2-36e5-eea0-1006-80137654686c       67258.03     67258.03   \n",
       "1   d1c42706-0a0f-73f6-b889-a5c7c61f2ac4       58957.31    126215.34   \n",
       "2   6cdd5384-3498-f928-9054-4667809f1595       57933.73    184149.07   \n",
       "3   99a4788c-b248-5696-5c36-a24e339b6058       49907.50    234056.57   \n",
       "4   3dd2a171-68ec-895c-781a-9191c1e95ad7       47876.06    281932.63   \n",
       "..                                   ...            ...          ...   \n",
       "95  0a57f7d2-c983-bcf8-1885-89a5fea4a8da       10874.76   1990205.66   \n",
       "96  a50acd33-ba7a-8da8-e9db-65094fa990a4       10862.26   2001067.92   \n",
       "97  fbce4c4c-b307-679d-89a3-bf3d3bb353b9       10801.62   2011869.54   \n",
       "98  53ea9da4-85f6-aed8-a6f0-3a85831fe021       10749.92   2022619.46   \n",
       "99  25f86162-fee1-8735-fffd-b762dcb10d7c       10733.48   2033352.94   \n",
       "\n",
       "        rev_all  sku_rev_percent  \n",
       "0   15216655.08         0.004420  \n",
       "1   15216655.08         0.008295  \n",
       "2   15216655.08         0.012102  \n",
       "3   15216655.08         0.015382  \n",
       "4   15216655.08         0.018528  \n",
       "..          ...              ...  \n",
       "95  15216655.08         0.130791  \n",
       "96  15216655.08         0.131505  \n",
       "97  15216655.08         0.132215  \n",
       "98  15216655.08         0.132921  \n",
       "99  15216655.08         0.133627  \n",
       "\n",
       "[100 rows x 5 columns]"
      ]
     },
     "execution_count": 19,
     "metadata": {},
     "output_type": "execute_result"
    }
   ],
   "source": [
    "df_abc['rev_cum_sum'] = df_abc['total_revenue'].cumsum()\n",
    "df_abc['rev_all'] = df_abc['total_revenue'].sum()\n",
    "df_abc['sku_rev_percent'] = df_abc['rev_cum_sum'] / df_abc['rev_all']\n",
    "df_abc.head(100)"
   ]
  },
  {
   "cell_type": "code",
   "execution_count": 20,
   "id": "2dd91579-8ae2-4a14-bd5a-8af98268070b",
   "metadata": {},
   "outputs": [
    {
     "data": {
      "text/html": [
       "<div>\n",
       "<style scoped>\n",
       "    .dataframe tbody tr th:only-of-type {\n",
       "        vertical-align: middle;\n",
       "    }\n",
       "\n",
       "    .dataframe tbody tr th {\n",
       "        vertical-align: top;\n",
       "    }\n",
       "\n",
       "    .dataframe thead th {\n",
       "        text-align: right;\n",
       "    }\n",
       "</style>\n",
       "<table border=\"1\" class=\"dataframe\">\n",
       "  <thead>\n",
       "    <tr style=\"text-align: right;\">\n",
       "      <th></th>\n",
       "      <th>product_id</th>\n",
       "      <th>total_revenue</th>\n",
       "      <th>rev_cum_sum</th>\n",
       "      <th>rev_all</th>\n",
       "      <th>sku_rev_percent</th>\n",
       "      <th>ABC</th>\n",
       "    </tr>\n",
       "  </thead>\n",
       "  <tbody>\n",
       "    <tr>\n",
       "      <th>31620</th>\n",
       "      <td>47a83ac8-45f9-53b8-8915-4d9963dbc1f8</td>\n",
       "      <td>10.88</td>\n",
       "      <td>15216614.99</td>\n",
       "      <td>15216655.08</td>\n",
       "      <td>0.999997</td>\n",
       "      <td>C</td>\n",
       "    </tr>\n",
       "    <tr>\n",
       "      <th>31621</th>\n",
       "      <td>9334fc63-bffa-67f6-85c0-3b1dc24df180</td>\n",
       "      <td>10.48</td>\n",
       "      <td>15216625.47</td>\n",
       "      <td>15216655.08</td>\n",
       "      <td>0.999998</td>\n",
       "      <td>C</td>\n",
       "    </tr>\n",
       "    <tr>\n",
       "      <th>31622</th>\n",
       "      <td>310dc320-5890-3b64-16c7-1faff132df9e</td>\n",
       "      <td>10.07</td>\n",
       "      <td>15216635.54</td>\n",
       "      <td>15216655.08</td>\n",
       "      <td>0.999999</td>\n",
       "      <td>C</td>\n",
       "    </tr>\n",
       "    <tr>\n",
       "      <th>31623</th>\n",
       "      <td>d51e0a7f-437c-0d14-f560-082ed007fd85</td>\n",
       "      <td>9.95</td>\n",
       "      <td>15216645.49</td>\n",
       "      <td>15216655.08</td>\n",
       "      <td>0.999999</td>\n",
       "      <td>C</td>\n",
       "    </tr>\n",
       "    <tr>\n",
       "      <th>31624</th>\n",
       "      <td>46fce52c-ef5c-aa7c-c225-a5531c946c8b</td>\n",
       "      <td>9.59</td>\n",
       "      <td>15216655.08</td>\n",
       "      <td>15216655.08</td>\n",
       "      <td>1.000000</td>\n",
       "      <td>C</td>\n",
       "    </tr>\n",
       "  </tbody>\n",
       "</table>\n",
       "</div>"
      ],
      "text/plain": [
       "                                 product_id  total_revenue  rev_cum_sum  \\\n",
       "31620  47a83ac8-45f9-53b8-8915-4d9963dbc1f8          10.88  15216614.99   \n",
       "31621  9334fc63-bffa-67f6-85c0-3b1dc24df180          10.48  15216625.47   \n",
       "31622  310dc320-5890-3b64-16c7-1faff132df9e          10.07  15216635.54   \n",
       "31623  d51e0a7f-437c-0d14-f560-082ed007fd85           9.95  15216645.49   \n",
       "31624  46fce52c-ef5c-aa7c-c225-a5531c946c8b           9.59  15216655.08   \n",
       "\n",
       "           rev_all  sku_rev_percent ABC  \n",
       "31620  15216655.08         0.999997   C  \n",
       "31621  15216655.08         0.999998   C  \n",
       "31622  15216655.08         0.999999   C  \n",
       "31623  15216655.08         0.999999   C  \n",
       "31624  15216655.08         1.000000   C  "
      ]
     },
     "execution_count": 20,
     "metadata": {},
     "output_type": "execute_result"
    }
   ],
   "source": [
    "def condition_abc(x):\n",
    "    if x>0 and x<=0.80:\n",
    "        return \"A\"\n",
    "    elif x>0.80 and x<=0.90:\n",
    "        return \"B\"\n",
    "    else:\n",
    "        return 'C'\n",
    "\n",
    "df_abc['ABC'] = df_abc['sku_rev_percent'].apply(condition_abc)\n",
    "df_abc.tail()"
   ]
  },
  {
   "cell_type": "code",
   "execution_count": 21,
   "id": "591f044b-7cda-41cb-8dc8-ae585f5d5e8a",
   "metadata": {},
   "outputs": [
    {
     "data": {
      "text/html": [
       "<div>\n",
       "<style scoped>\n",
       "    .dataframe tbody tr th:only-of-type {\n",
       "        vertical-align: middle;\n",
       "    }\n",
       "\n",
       "    .dataframe tbody tr th {\n",
       "        vertical-align: top;\n",
       "    }\n",
       "\n",
       "    .dataframe thead th {\n",
       "        text-align: right;\n",
       "    }\n",
       "</style>\n",
       "<table border=\"1\" class=\"dataframe\">\n",
       "  <thead>\n",
       "    <tr style=\"text-align: right;\">\n",
       "      <th></th>\n",
       "      <th>order_id</th>\n",
       "      <th>order_purchase_timestamp</th>\n",
       "      <th>price</th>\n",
       "      <th>freight_value</th>\n",
       "      <th>product_category_name</th>\n",
       "      <th>product_id</th>\n",
       "      <th>revenue</th>\n",
       "      <th>year</th>\n",
       "      <th>month</th>\n",
       "    </tr>\n",
       "  </thead>\n",
       "  <tbody>\n",
       "    <tr>\n",
       "      <th>0</th>\n",
       "      <td>e481f51c-bdc5-4678-b7cc-49136f2d6af7</td>\n",
       "      <td>2017-10-02 10:56:33</td>\n",
       "      <td>29.99</td>\n",
       "      <td>8.72</td>\n",
       "      <td>utilidades_domesticas</td>\n",
       "      <td>87285b34-8845-7264-7811-a353c7ac498a</td>\n",
       "      <td>38.71</td>\n",
       "      <td>2017</td>\n",
       "      <td>10</td>\n",
       "    </tr>\n",
       "    <tr>\n",
       "      <th>1</th>\n",
       "      <td>53cdb2fc-8bc7-dce0-b674-1e2150273451</td>\n",
       "      <td>2018-07-24 20:41:37</td>\n",
       "      <td>118.70</td>\n",
       "      <td>22.76</td>\n",
       "      <td>perfumaria</td>\n",
       "      <td>595fac2a-385a-c33a-80bd-5114aec74eb8</td>\n",
       "      <td>141.46</td>\n",
       "      <td>2018</td>\n",
       "      <td>7</td>\n",
       "    </tr>\n",
       "    <tr>\n",
       "      <th>2</th>\n",
       "      <td>47770eb9-100c-2d0c-4494-6d9cf07ec65d</td>\n",
       "      <td>2018-08-08 08:38:49</td>\n",
       "      <td>159.90</td>\n",
       "      <td>19.22</td>\n",
       "      <td>automotivo</td>\n",
       "      <td>aa4383b3-73c6-aca5-d879-7843e5594415</td>\n",
       "      <td>179.12</td>\n",
       "      <td>2018</td>\n",
       "      <td>8</td>\n",
       "    </tr>\n",
       "    <tr>\n",
       "      <th>3</th>\n",
       "      <td>949d5b44-dbf5-de91-8fe9-c16f97b45f8a</td>\n",
       "      <td>2017-11-18 19:28:06</td>\n",
       "      <td>45.00</td>\n",
       "      <td>27.20</td>\n",
       "      <td>pet_shop</td>\n",
       "      <td>d0b61bfb-1de8-32b1-5ba9-d266ca96e5b0</td>\n",
       "      <td>72.20</td>\n",
       "      <td>2017</td>\n",
       "      <td>11</td>\n",
       "    </tr>\n",
       "    <tr>\n",
       "      <th>4</th>\n",
       "      <td>ad21c59c-0840-e6cb-83a9-ceb5573f8159</td>\n",
       "      <td>2018-02-13 21:18:39</td>\n",
       "      <td>19.90</td>\n",
       "      <td>8.72</td>\n",
       "      <td>papelaria</td>\n",
       "      <td>65266b2d-a20d-04db-e00c-5c2d3bb7859e</td>\n",
       "      <td>28.62</td>\n",
       "      <td>2018</td>\n",
       "      <td>2</td>\n",
       "    </tr>\n",
       "  </tbody>\n",
       "</table>\n",
       "</div>"
      ],
      "text/plain": [
       "                               order_id order_purchase_timestamp   price  \\\n",
       "0  e481f51c-bdc5-4678-b7cc-49136f2d6af7      2017-10-02 10:56:33   29.99   \n",
       "1  53cdb2fc-8bc7-dce0-b674-1e2150273451      2018-07-24 20:41:37  118.70   \n",
       "2  47770eb9-100c-2d0c-4494-6d9cf07ec65d      2018-08-08 08:38:49  159.90   \n",
       "3  949d5b44-dbf5-de91-8fe9-c16f97b45f8a      2017-11-18 19:28:06   45.00   \n",
       "4  ad21c59c-0840-e6cb-83a9-ceb5573f8159      2018-02-13 21:18:39   19.90   \n",
       "\n",
       "   freight_value  product_category_name                            product_id  \\\n",
       "0           8.72  utilidades_domesticas  87285b34-8845-7264-7811-a353c7ac498a   \n",
       "1          22.76             perfumaria  595fac2a-385a-c33a-80bd-5114aec74eb8   \n",
       "2          19.22             automotivo  aa4383b3-73c6-aca5-d879-7843e5594415   \n",
       "3          27.20               pet_shop  d0b61bfb-1de8-32b1-5ba9-d266ca96e5b0   \n",
       "4           8.72              papelaria  65266b2d-a20d-04db-e00c-5c2d3bb7859e   \n",
       "\n",
       "   revenue  year  month  \n",
       "0    38.71  2017     10  \n",
       "1   141.46  2018      7  \n",
       "2   179.12  2018      8  \n",
       "3    72.20  2017     11  \n",
       "4    28.62  2018      2  "
      ]
     },
     "execution_count": 21,
     "metadata": {},
     "output_type": "execute_result"
    }
   ],
   "source": [
    "df_abc_check = df_abc.groupby('ABC').agg(total_revenue=('total_revenue', 'sum')).reset_index()\n",
    "prod_info.head()"
   ]
  },
  {
   "cell_type": "code",
   "execution_count": 22,
   "id": "952a9ce8-4a4b-4c04-8f1d-33319f126fe9",
   "metadata": {},
   "outputs": [
    {
     "data": {
      "text/html": [
       "<div>\n",
       "<style scoped>\n",
       "    .dataframe tbody tr th:only-of-type {\n",
       "        vertical-align: middle;\n",
       "    }\n",
       "\n",
       "    .dataframe tbody tr th {\n",
       "        vertical-align: top;\n",
       "    }\n",
       "\n",
       "    .dataframe thead th {\n",
       "        text-align: right;\n",
       "    }\n",
       "</style>\n",
       "<table border=\"1\" class=\"dataframe\">\n",
       "  <thead>\n",
       "    <tr style=\"text-align: right;\">\n",
       "      <th></th>\n",
       "      <th>product_id</th>\n",
       "      <th>total_sales</th>\n",
       "      <th>avg_sales</th>\n",
       "      <th>std</th>\n",
       "      <th>CoV</th>\n",
       "      <th>XYZ</th>\n",
       "      <th>total_revenue</th>\n",
       "      <th>ABC</th>\n",
       "    </tr>\n",
       "  </thead>\n",
       "  <tbody>\n",
       "    <tr>\n",
       "      <th>0</th>\n",
       "      <td>00066f42-aeeb-9f30-0754-8bb9d3f33c38</td>\n",
       "      <td>120.24</td>\n",
       "      <td>5.227826</td>\n",
       "      <td>25.071773</td>\n",
       "      <td>4.795832</td>\n",
       "      <td>Z</td>\n",
       "      <td>120.24</td>\n",
       "      <td>C</td>\n",
       "    </tr>\n",
       "    <tr>\n",
       "      <th>1</th>\n",
       "      <td>00088930-e925-c41f-d95e-bfe695fd2655</td>\n",
       "      <td>143.83</td>\n",
       "      <td>6.253478</td>\n",
       "      <td>29.990628</td>\n",
       "      <td>4.795832</td>\n",
       "      <td>Z</td>\n",
       "      <td>143.83</td>\n",
       "      <td>C</td>\n",
       "    </tr>\n",
       "    <tr>\n",
       "      <th>2</th>\n",
       "      <td>0009406f-d747-9715-e4be-f61dd91f2462</td>\n",
       "      <td>242.10</td>\n",
       "      <td>10.526087</td>\n",
       "      <td>50.481340</td>\n",
       "      <td>4.795832</td>\n",
       "      <td>Z</td>\n",
       "      <td>242.10</td>\n",
       "      <td>B</td>\n",
       "    </tr>\n",
       "    <tr>\n",
       "      <th>3</th>\n",
       "      <td>000b8f95-fcb9-e009-6488-278317764d19</td>\n",
       "      <td>157.00</td>\n",
       "      <td>6.826087</td>\n",
       "      <td>32.736763</td>\n",
       "      <td>4.795832</td>\n",
       "      <td>Z</td>\n",
       "      <td>157.00</td>\n",
       "      <td>C</td>\n",
       "    </tr>\n",
       "    <tr>\n",
       "      <th>4</th>\n",
       "      <td>000d9be2-9b52-07b5-4e86-aa1b1ac54872</td>\n",
       "      <td>218.27</td>\n",
       "      <td>9.490000</td>\n",
       "      <td>45.512441</td>\n",
       "      <td>4.795832</td>\n",
       "      <td>Z</td>\n",
       "      <td>218.27</td>\n",
       "      <td>B</td>\n",
       "    </tr>\n",
       "  </tbody>\n",
       "</table>\n",
       "</div>"
      ],
      "text/plain": [
       "                             product_id  total_sales  avg_sales        std  \\\n",
       "0  00066f42-aeeb-9f30-0754-8bb9d3f33c38       120.24   5.227826  25.071773   \n",
       "1  00088930-e925-c41f-d95e-bfe695fd2655       143.83   6.253478  29.990628   \n",
       "2  0009406f-d747-9715-e4be-f61dd91f2462       242.10  10.526087  50.481340   \n",
       "3  000b8f95-fcb9-e009-6488-278317764d19       157.00   6.826087  32.736763   \n",
       "4  000d9be2-9b52-07b5-4e86-aa1b1ac54872       218.27   9.490000  45.512441   \n",
       "\n",
       "        CoV XYZ  total_revenue ABC  \n",
       "0  4.795832   Z         120.24   C  \n",
       "1  4.795832   Z         143.83   C  \n",
       "2  4.795832   Z         242.10   B  \n",
       "3  4.795832   Z         157.00   C  \n",
       "4  4.795832   Z         218.27   B  "
      ]
     },
     "execution_count": 22,
     "metadata": {},
     "output_type": "execute_result"
    }
   ],
   "source": [
    "df_abc_xyz = (\n",
    "    df_xyz[['product_id', 'total_sales', 'avg_sales', 'std', 'CoV', 'XYZ']]\n",
    "    .merge(df_abc[['product_id', 'total_revenue', 'ABC']], on='product_id', how='left')\n",
    ")\n",
    "df_abc_xyz.head()"
   ]
  },
  {
   "cell_type": "code",
   "execution_count": 23,
   "id": "96ee0e05-c013-462f-9df7-52cef2326096",
   "metadata": {},
   "outputs": [
    {
     "data": {
      "text/html": [
       "<div>\n",
       "<style scoped>\n",
       "    .dataframe tbody tr th:only-of-type {\n",
       "        vertical-align: middle;\n",
       "    }\n",
       "\n",
       "    .dataframe tbody tr th {\n",
       "        vertical-align: top;\n",
       "    }\n",
       "\n",
       "    .dataframe thead th {\n",
       "        text-align: right;\n",
       "    }\n",
       "</style>\n",
       "<table border=\"1\" class=\"dataframe\">\n",
       "  <thead>\n",
       "    <tr style=\"text-align: right;\">\n",
       "      <th></th>\n",
       "      <th>product_id</th>\n",
       "      <th>total_sales</th>\n",
       "      <th>avg_sales</th>\n",
       "      <th>std</th>\n",
       "      <th>CoV</th>\n",
       "      <th>XYZ</th>\n",
       "      <th>total_revenue</th>\n",
       "      <th>ABC</th>\n",
       "      <th>ABC_XYZ</th>\n",
       "    </tr>\n",
       "  </thead>\n",
       "  <tbody>\n",
       "    <tr>\n",
       "      <th>0</th>\n",
       "      <td>00066f42-aeeb-9f30-0754-8bb9d3f33c38</td>\n",
       "      <td>120.24</td>\n",
       "      <td>5.227826</td>\n",
       "      <td>25.071773</td>\n",
       "      <td>4.795832</td>\n",
       "      <td>Z</td>\n",
       "      <td>120.24</td>\n",
       "      <td>C</td>\n",
       "      <td>CZ</td>\n",
       "    </tr>\n",
       "    <tr>\n",
       "      <th>1</th>\n",
       "      <td>00088930-e925-c41f-d95e-bfe695fd2655</td>\n",
       "      <td>143.83</td>\n",
       "      <td>6.253478</td>\n",
       "      <td>29.990628</td>\n",
       "      <td>4.795832</td>\n",
       "      <td>Z</td>\n",
       "      <td>143.83</td>\n",
       "      <td>C</td>\n",
       "      <td>CZ</td>\n",
       "    </tr>\n",
       "    <tr>\n",
       "      <th>2</th>\n",
       "      <td>0009406f-d747-9715-e4be-f61dd91f2462</td>\n",
       "      <td>242.10</td>\n",
       "      <td>10.526087</td>\n",
       "      <td>50.481340</td>\n",
       "      <td>4.795832</td>\n",
       "      <td>Z</td>\n",
       "      <td>242.10</td>\n",
       "      <td>B</td>\n",
       "      <td>BZ</td>\n",
       "    </tr>\n",
       "    <tr>\n",
       "      <th>3</th>\n",
       "      <td>000b8f95-fcb9-e009-6488-278317764d19</td>\n",
       "      <td>157.00</td>\n",
       "      <td>6.826087</td>\n",
       "      <td>32.736763</td>\n",
       "      <td>4.795832</td>\n",
       "      <td>Z</td>\n",
       "      <td>157.00</td>\n",
       "      <td>C</td>\n",
       "      <td>CZ</td>\n",
       "    </tr>\n",
       "    <tr>\n",
       "      <th>4</th>\n",
       "      <td>000d9be2-9b52-07b5-4e86-aa1b1ac54872</td>\n",
       "      <td>218.27</td>\n",
       "      <td>9.490000</td>\n",
       "      <td>45.512441</td>\n",
       "      <td>4.795832</td>\n",
       "      <td>Z</td>\n",
       "      <td>218.27</td>\n",
       "      <td>B</td>\n",
       "      <td>BZ</td>\n",
       "    </tr>\n",
       "  </tbody>\n",
       "</table>\n",
       "</div>"
      ],
      "text/plain": [
       "                             product_id  total_sales  avg_sales        std  \\\n",
       "0  00066f42-aeeb-9f30-0754-8bb9d3f33c38       120.24   5.227826  25.071773   \n",
       "1  00088930-e925-c41f-d95e-bfe695fd2655       143.83   6.253478  29.990628   \n",
       "2  0009406f-d747-9715-e4be-f61dd91f2462       242.10  10.526087  50.481340   \n",
       "3  000b8f95-fcb9-e009-6488-278317764d19       157.00   6.826087  32.736763   \n",
       "4  000d9be2-9b52-07b5-4e86-aa1b1ac54872       218.27   9.490000  45.512441   \n",
       "\n",
       "        CoV XYZ  total_revenue ABC ABC_XYZ  \n",
       "0  4.795832   Z         120.24   C      CZ  \n",
       "1  4.795832   Z         143.83   C      CZ  \n",
       "2  4.795832   Z         242.10   B      BZ  \n",
       "3  4.795832   Z         157.00   C      CZ  \n",
       "4  4.795832   Z         218.27   B      BZ  "
      ]
     },
     "execution_count": 23,
     "metadata": {},
     "output_type": "execute_result"
    }
   ],
   "source": [
    "df_abc_xyz['ABC_XYZ']=df_abc_xyz['ABC'].astype(str) + df_abc_xyz['XYZ'].astype(str)\n",
    "df_abc_xyz.head()"
   ]
  },
  {
   "cell_type": "markdown",
   "id": "882b45bf-f713-4bc4-bd6f-0af5b1acf58c",
   "metadata": {},
   "source": [
    "**Results:**"
   ]
  },
  {
   "cell_type": "code",
   "execution_count": 24,
   "id": "5fc4ef6e-0350-4c32-8fba-9b893f40501c",
   "metadata": {},
   "outputs": [
    {
     "data": {
      "text/html": [
       "<div>\n",
       "<style scoped>\n",
       "    .dataframe tbody tr th:only-of-type {\n",
       "        vertical-align: middle;\n",
       "    }\n",
       "\n",
       "    .dataframe tbody tr th {\n",
       "        vertical-align: top;\n",
       "    }\n",
       "\n",
       "    .dataframe thead th {\n",
       "        text-align: right;\n",
       "    }\n",
       "</style>\n",
       "<table border=\"1\" class=\"dataframe\">\n",
       "  <thead>\n",
       "    <tr style=\"text-align: right;\">\n",
       "      <th></th>\n",
       "      <th>ABC_XYZ</th>\n",
       "      <th>total_sales</th>\n",
       "      <th>average_sales</th>\n",
       "    </tr>\n",
       "  </thead>\n",
       "  <tbody>\n",
       "    <tr>\n",
       "      <th>1</th>\n",
       "      <td>AZ</td>\n",
       "      <td>11895215.59</td>\n",
       "      <td>517183.286522</td>\n",
       "    </tr>\n",
       "    <tr>\n",
       "      <th>2</th>\n",
       "      <td>BZ</td>\n",
       "      <td>1521829.47</td>\n",
       "      <td>66166.498696</td>\n",
       "    </tr>\n",
       "    <tr>\n",
       "      <th>3</th>\n",
       "      <td>CZ</td>\n",
       "      <td>1521711.66</td>\n",
       "      <td>66161.376522</td>\n",
       "    </tr>\n",
       "    <tr>\n",
       "      <th>0</th>\n",
       "      <td>AY</td>\n",
       "      <td>277898.36</td>\n",
       "      <td>12082.537391</td>\n",
       "    </tr>\n",
       "  </tbody>\n",
       "</table>\n",
       "</div>"
      ],
      "text/plain": [
       "  ABC_XYZ  total_sales  average_sales\n",
       "1      AZ  11895215.59  517183.286522\n",
       "2      BZ   1521829.47   66166.498696\n",
       "3      CZ   1521711.66   66161.376522\n",
       "0      AY    277898.36   12082.537391"
      ]
     },
     "execution_count": 24,
     "metadata": {},
     "output_type": "execute_result"
    }
   ],
   "source": [
    "df_abc_xyz.groupby('ABC_XYZ').agg(\n",
    "    total_sales=('total_sales', 'sum'),\n",
    "    average_sales =('avg_sales', 'sum')\n",
    ").reset_index().sort_values(by='total_sales', ascending=False)"
   ]
  },
  {
   "cell_type": "markdown",
   "id": "f2d0854f-adfe-4f5d-a5fb-864e554b9f71",
   "metadata": {},
   "source": [
    "**Pareto check:**"
   ]
  },
  {
   "cell_type": "code",
   "execution_count": 25,
   "id": "f99216de-403f-4888-b46b-9645a54b4ac4",
   "metadata": {},
   "outputs": [
    {
     "name": "stdout",
     "output_type": "stream",
     "text": [
      "Процент товаров сегмента A среди всех товаров\n",
      "28.177\n"
     ]
    }
   ],
   "source": [
    "print(\"Процент товаров сегмента A среди всех товаров\")\n",
    "print(round(len(df_abc_xyz[df_abc_xyz['ABC']=='A'])/len(df_abc_xyz)*100, 3))"
   ]
  },
  {
   "cell_type": "code",
   "execution_count": 26,
   "id": "d64e2821-22c8-4a1b-9d68-857caac4ba13",
   "metadata": {},
   "outputs": [
    {
     "name": "stdout",
     "output_type": "stream",
     "text": [
      "Процент выручки от товаров сегмента A:\n",
      "79.999\n"
     ]
    }
   ],
   "source": [
    "print(\"Процент выручки от товаров сегмента A:\")\n",
    "print(round(df_abc_xyz[df_abc_xyz['ABC']=='A']['total_revenue'].sum()/df_abc_xyz['total_revenue'].sum()*100, 3))"
   ]
  },
  {
   "cell_type": "markdown",
   "id": "61a5996b-f7b2-4e62-80ee-ed8a5471e9a3",
   "metadata": {},
   "source": [
    "**ratio**"
   ]
  },
  {
   "cell_type": "code",
   "execution_count": 27,
   "id": "2c56002f-aff4-4564-9523-03a917c194ed",
   "metadata": {},
   "outputs": [
    {
     "data": {
      "text/html": [
       "<div>\n",
       "<style scoped>\n",
       "    .dataframe tbody tr th:only-of-type {\n",
       "        vertical-align: middle;\n",
       "    }\n",
       "\n",
       "    .dataframe tbody tr th {\n",
       "        vertical-align: top;\n",
       "    }\n",
       "\n",
       "    .dataframe thead th {\n",
       "        text-align: right;\n",
       "    }\n",
       "</style>\n",
       "<table border=\"1\" class=\"dataframe\">\n",
       "  <thead>\n",
       "    <tr style=\"text-align: right;\">\n",
       "      <th></th>\n",
       "      <th>ratio (%)</th>\n",
       "    </tr>\n",
       "    <tr>\n",
       "      <th>ABC</th>\n",
       "      <th></th>\n",
       "    </tr>\n",
       "  </thead>\n",
       "  <tbody>\n",
       "    <tr>\n",
       "      <th>C</th>\n",
       "      <td>52.543874</td>\n",
       "    </tr>\n",
       "    <tr>\n",
       "      <th>A</th>\n",
       "      <td>28.177075</td>\n",
       "    </tr>\n",
       "    <tr>\n",
       "      <th>B</th>\n",
       "      <td>19.279051</td>\n",
       "    </tr>\n",
       "  </tbody>\n",
       "</table>\n",
       "</div>"
      ],
      "text/plain": [
       "     ratio (%)\n",
       "ABC           \n",
       "C    52.543874\n",
       "A    28.177075\n",
       "B    19.279051"
      ]
     },
     "execution_count": 27,
     "metadata": {},
     "output_type": "execute_result"
    }
   ],
   "source": [
    "(df_abc_xyz['ABC'].value_counts() / len(df_abc_xyz)*100).to_frame(name='ratio (%)')"
   ]
  },
  {
   "cell_type": "code",
   "execution_count": 28,
   "id": "51ac6a9d-4715-49f7-9f53-922acc2f066c",
   "metadata": {},
   "outputs": [
    {
     "data": {
      "image/png": "[encoded data removed]",
      "text/plain": [
       "<Figure size 800x500 with 2 Axes>"
      ]
     },
     "metadata": {},
     "output_type": "display_data"
    }
   ],
   "source": [
    "revenue_tab = pd.crosstab(\n",
    "    index=df_abc_xyz['ABC'],\n",
    "    columns=df_abc_xyz['XYZ'],\n",
    "    values=df_abc_xyz['total_revenue'],\n",
    "    aggfunc='sum'\n",
    ")\n",
    "\n",
    "count_tab = pd.crosstab(\n",
    "    index=df_abc_xyz['ABC'],\n",
    "    columns=df_abc_xyz['XYZ']\n",
    ")\n",
    "\n",
    "# Create combined annotations\n",
    "annotations = np.array([\n",
    "    [f\"${revenue}K\\n({count})\" \n",
    "     for revenue, count in zip(revenue_row, count_row)]\n",
    "    for revenue_row, count_row in zip(revenue_tab.values, count_tab.values)\n",
    "])\n",
    "\n",
    "# Plot clean heatmap\n",
    "plt.figure(figsize=(8, 5))\n",
    "sns.heatmap(\n",
    "    revenue_tab,\n",
    "    annot=annotations,\n",
    "    fmt='',\n",
    "    cmap='viridis',\n",
    "    linewidths=0.5,\n",
    "    cbar_kws={'label': 'Total Revenue ($)'}\n",
    ")\n",
    "\n",
    "plt.title('ABC-XYZ Сегментация\\n(Доход $ + количество товаров)', pad=15)\n",
    "plt.xlabel('XYZ (Стабильность спроса) →')\n",
    "plt.ylabel('ABC (Важность по доходу) →')\n",
    "plt.tight_layout()\n",
    "plt.show()"
   ]
  },
  {
   "cell_type": "markdown",
   "id": "4986f404-90b8-47fd-a1ce-cd5500f4cd2a",
   "metadata": {},
   "source": [
    "### ABC/XYZ-анализ по категориям товаров"
   ]
  },
  {
   "cell_type": "code",
   "execution_count": 29,
   "id": "c9c0755f-0ea1-4539-a635-d0560058f88b",
   "metadata": {},
   "outputs": [
    {
     "name": "stdout",
     "output_type": "stream",
     "text": [
      "108636\n"
     ]
    },
    {
     "data": {
      "text/html": [
       "<div>\n",
       "<style scoped>\n",
       "    .dataframe tbody tr th:only-of-type {\n",
       "        vertical-align: middle;\n",
       "    }\n",
       "\n",
       "    .dataframe tbody tr th {\n",
       "        vertical-align: top;\n",
       "    }\n",
       "\n",
       "    .dataframe thead th {\n",
       "        text-align: right;\n",
       "    }\n",
       "</style>\n",
       "<table border=\"1\" class=\"dataframe\">\n",
       "  <thead>\n",
       "    <tr style=\"text-align: right;\">\n",
       "      <th></th>\n",
       "      <th>order_id</th>\n",
       "      <th>customer_id</th>\n",
       "      <th>order_status</th>\n",
       "      <th>order_purchase_timestamp</th>\n",
       "      <th>order_approved_at</th>\n",
       "      <th>order_delivered_carrier_date</th>\n",
       "      <th>order_delivered_customer_date</th>\n",
       "      <th>order_estimated_delivery_date</th>\n",
       "      <th>id</th>\n",
       "      <th>order_item_id</th>\n",
       "      <th>...</th>\n",
       "      <th>price</th>\n",
       "      <th>freight_value</th>\n",
       "      <th>product_category_name</th>\n",
       "      <th>product_name_lenght</th>\n",
       "      <th>product_description_lenght</th>\n",
       "      <th>product_photos_qty</th>\n",
       "      <th>product_weight_g</th>\n",
       "      <th>product_length_cm</th>\n",
       "      <th>product_height_cm</th>\n",
       "      <th>product_width_cm</th>\n",
       "    </tr>\n",
       "  </thead>\n",
       "  <tbody>\n",
       "    <tr>\n",
       "      <th>0</th>\n",
       "      <td>e481f51c-bdc5-4678-b7cc-49136f2d6af7</td>\n",
       "      <td>9ef432eb-6251-2973-04e7-6186b10a928d</td>\n",
       "      <td>delivered</td>\n",
       "      <td>2017-10-02 10:56:33</td>\n",
       "      <td>2017-10-02 11:07:15</td>\n",
       "      <td>2017-10-04 19:55:00</td>\n",
       "      <td>2017-10-10 21:25:13</td>\n",
       "      <td>2017-10-18</td>\n",
       "      <td>100785</td>\n",
       "      <td>1</td>\n",
       "      <td>...</td>\n",
       "      <td>29.99</td>\n",
       "      <td>8.72</td>\n",
       "      <td>utilidades_domesticas</td>\n",
       "      <td>40.0</td>\n",
       "      <td>268.0</td>\n",
       "      <td>4.0</td>\n",
       "      <td>500.0</td>\n",
       "      <td>19.0</td>\n",
       "      <td>8.0</td>\n",
       "      <td>13.0</td>\n",
       "    </tr>\n",
       "    <tr>\n",
       "      <th>1</th>\n",
       "      <td>53cdb2fc-8bc7-dce0-b674-1e2150273451</td>\n",
       "      <td>b0830fb4-747a-6c6d-20de-a0b8c802d7ef</td>\n",
       "      <td>delivered</td>\n",
       "      <td>2018-07-24 20:41:37</td>\n",
       "      <td>2018-07-26 03:24:27</td>\n",
       "      <td>2018-07-26 14:31:00</td>\n",
       "      <td>2018-08-07 15:27:45</td>\n",
       "      <td>2018-08-13</td>\n",
       "      <td>36896</td>\n",
       "      <td>1</td>\n",
       "      <td>...</td>\n",
       "      <td>118.70</td>\n",
       "      <td>22.76</td>\n",
       "      <td>perfumaria</td>\n",
       "      <td>29.0</td>\n",
       "      <td>178.0</td>\n",
       "      <td>1.0</td>\n",
       "      <td>400.0</td>\n",
       "      <td>19.0</td>\n",
       "      <td>13.0</td>\n",
       "      <td>19.0</td>\n",
       "    </tr>\n",
       "  </tbody>\n",
       "</table>\n",
       "<p>2 rows × 23 columns</p>\n",
       "</div>"
      ],
      "text/plain": [
       "                               order_id                           customer_id  \\\n",
       "0  e481f51c-bdc5-4678-b7cc-49136f2d6af7  9ef432eb-6251-2973-04e7-6186b10a928d   \n",
       "1  53cdb2fc-8bc7-dce0-b674-1e2150273451  b0830fb4-747a-6c6d-20de-a0b8c802d7ef   \n",
       "\n",
       "  order_status order_purchase_timestamp    order_approved_at  \\\n",
       "0    delivered      2017-10-02 10:56:33  2017-10-02 11:07:15   \n",
       "1    delivered      2018-07-24 20:41:37  2018-07-26 03:24:27   \n",
       "\n",
       "  order_delivered_carrier_date order_delivered_customer_date  \\\n",
       "0          2017-10-04 19:55:00           2017-10-10 21:25:13   \n",
       "1          2018-07-26 14:31:00           2018-08-07 15:27:45   \n",
       "\n",
       "  order_estimated_delivery_date      id  order_item_id  ...   price  \\\n",
       "0                    2017-10-18  100785              1  ...   29.99   \n",
       "1                    2018-08-13   36896              1  ...  118.70   \n",
       "\n",
       "  freight_value  product_category_name  product_name_lenght  \\\n",
       "0          8.72  utilidades_domesticas                 40.0   \n",
       "1         22.76             perfumaria                 29.0   \n",
       "\n",
       "   product_description_lenght product_photos_qty  product_weight_g  \\\n",
       "0                       268.0                4.0             500.0   \n",
       "1                       178.0                1.0             400.0   \n",
       "\n",
       "   product_length_cm  product_height_cm  product_width_cm  \n",
       "0               19.0                8.0              13.0  \n",
       "1               19.0               13.0              19.0  \n",
       "\n",
       "[2 rows x 23 columns]"
      ]
     },
     "execution_count": 29,
     "metadata": {},
     "output_type": "execute_result"
    }
   ],
   "source": [
    "product_stats = (\n",
    "    orders\n",
    "    .merge(orders_items, on='order_id')\n",
    "    .merge(products, on='product_id')\n",
    "    # .merge(product_category, on='product_category_name')\n",
    ")\n",
    "print(len(product_stats))\n",
    "product_stats.head(2)"
   ]
  },
  {
   "cell_type": "code",
   "execution_count": 30,
   "id": "4af0f32b-fafa-4efa-9418-f7a4a469dda0",
   "metadata": {},
   "outputs": [
    {
     "data": {
      "text/html": [
       "<div>\n",
       "<style scoped>\n",
       "    .dataframe tbody tr th:only-of-type {\n",
       "        vertical-align: middle;\n",
       "    }\n",
       "\n",
       "    .dataframe tbody tr th {\n",
       "        vertical-align: top;\n",
       "    }\n",
       "\n",
       "    .dataframe thead th {\n",
       "        text-align: right;\n",
       "    }\n",
       "</style>\n",
       "<table border=\"1\" class=\"dataframe\">\n",
       "  <thead>\n",
       "    <tr style=\"text-align: right;\">\n",
       "      <th></th>\n",
       "      <th>order_id</th>\n",
       "      <th>order_purchase_timestamp</th>\n",
       "      <th>price</th>\n",
       "      <th>freight_value</th>\n",
       "      <th>product_category_name</th>\n",
       "      <th>product_id</th>\n",
       "      <th>revenue</th>\n",
       "      <th>year</th>\n",
       "      <th>month</th>\n",
       "    </tr>\n",
       "  </thead>\n",
       "  <tbody>\n",
       "    <tr>\n",
       "      <th>0</th>\n",
       "      <td>e481f51c-bdc5-4678-b7cc-49136f2d6af7</td>\n",
       "      <td>2017-10-02 10:56:33</td>\n",
       "      <td>29.99</td>\n",
       "      <td>8.72</td>\n",
       "      <td>utilidades_domesticas</td>\n",
       "      <td>87285b34-8845-7264-7811-a353c7ac498a</td>\n",
       "      <td>38.71</td>\n",
       "      <td>2017</td>\n",
       "      <td>10</td>\n",
       "    </tr>\n",
       "  </tbody>\n",
       "</table>\n",
       "</div>"
      ],
      "text/plain": [
       "                               order_id order_purchase_timestamp  price  \\\n",
       "0  e481f51c-bdc5-4678-b7cc-49136f2d6af7      2017-10-02 10:56:33  29.99   \n",
       "\n",
       "   freight_value  product_category_name                            product_id  \\\n",
       "0           8.72  utilidades_domesticas  87285b34-8845-7264-7811-a353c7ac498a   \n",
       "\n",
       "   revenue  year  month  \n",
       "0    38.71  2017     10  "
      ]
     },
     "execution_count": 30,
     "metadata": {},
     "output_type": "execute_result"
    }
   ],
   "source": [
    "prod_info = product_stats[['order_id', 'order_purchase_timestamp', 'price', 'freight_value', 'product_category_name', 'product_id']].copy()\n",
    "prod_info['order_purchase_timestamp'] = pd.to_datetime(prod_info['order_purchase_timestamp'])\n",
    "prod_info['revenue'] = prod_info['price'] + prod_info['freight_value']\n",
    "prod_info['year'] = pd.DatetimeIndex(prod_info['order_purchase_timestamp']).year\n",
    "prod_info['month'] = pd.DatetimeIndex(prod_info['order_purchase_timestamp']).month\n",
    "prod_info.head(1)"
   ]
  },
  {
   "cell_type": "code",
   "execution_count": 31,
   "id": "f5138e55-fdea-4531-9f4e-2372b1b0c442",
   "metadata": {},
   "outputs": [
    {
     "data": {
      "text/html": [
       "<div>\n",
       "<style scoped>\n",
       "    .dataframe tbody tr th:only-of-type {\n",
       "        vertical-align: middle;\n",
       "    }\n",
       "\n",
       "    .dataframe tbody tr th {\n",
       "        vertical-align: top;\n",
       "    }\n",
       "\n",
       "    .dataframe thead th {\n",
       "        text-align: right;\n",
       "    }\n",
       "</style>\n",
       "<table border=\"1\" class=\"dataframe\">\n",
       "  <thead>\n",
       "    <tr style=\"text-align: right;\">\n",
       "      <th></th>\n",
       "      <th>product_category_name</th>\n",
       "      <th>year</th>\n",
       "      <th>month</th>\n",
       "      <th>revenue</th>\n",
       "      <th>year_month</th>\n",
       "    </tr>\n",
       "  </thead>\n",
       "  <tbody>\n",
       "    <tr>\n",
       "      <th>0</th>\n",
       "      <td>agro_industria_e_comercio</td>\n",
       "      <td>2017</td>\n",
       "      <td>01</td>\n",
       "      <td>107.76</td>\n",
       "      <td>2017-01</td>\n",
       "    </tr>\n",
       "    <tr>\n",
       "      <th>1</th>\n",
       "      <td>agro_industria_e_comercio</td>\n",
       "      <td>2017</td>\n",
       "      <td>02</td>\n",
       "      <td>331.10</td>\n",
       "      <td>2017-02</td>\n",
       "    </tr>\n",
       "    <tr>\n",
       "      <th>2</th>\n",
       "      <td>agro_industria_e_comercio</td>\n",
       "      <td>2017</td>\n",
       "      <td>03</td>\n",
       "      <td>110.69</td>\n",
       "      <td>2017-03</td>\n",
       "    </tr>\n",
       "    <tr>\n",
       "      <th>3</th>\n",
       "      <td>agro_industria_e_comercio</td>\n",
       "      <td>2017</td>\n",
       "      <td>05</td>\n",
       "      <td>1763.74</td>\n",
       "      <td>2017-05</td>\n",
       "    </tr>\n",
       "    <tr>\n",
       "      <th>4</th>\n",
       "      <td>agro_industria_e_comercio</td>\n",
       "      <td>2017</td>\n",
       "      <td>06</td>\n",
       "      <td>1422.05</td>\n",
       "      <td>2017-06</td>\n",
       "    </tr>\n",
       "  </tbody>\n",
       "</table>\n",
       "</div>"
      ],
      "text/plain": [
       "       product_category_name  year month  revenue year_month\n",
       "0  agro_industria_e_comercio  2017    01   107.76    2017-01\n",
       "1  agro_industria_e_comercio  2017    02   331.10    2017-02\n",
       "2  agro_industria_e_comercio  2017    03   110.69    2017-03\n",
       "3  agro_industria_e_comercio  2017    05  1763.74    2017-05\n",
       "4  agro_industria_e_comercio  2017    06  1422.05    2017-06"
      ]
     },
     "execution_count": 31,
     "metadata": {},
     "output_type": "execute_result"
    }
   ],
   "source": [
    "df_xyz = prod_info.groupby(['product_category_name', 'year','month'])['revenue'].sum().to_frame().reset_index()\n",
    "df_xyz['month'] = df_xyz['month'].map(\"{:02}\".format)\n",
    "df_xyz['year_month'] = df_xyz['year'].map(str) + '-' + df_xyz['month'].map(str)\n",
    "df_xyz.head()"
   ]
  },
  {
   "cell_type": "code",
   "execution_count": 32,
   "id": "eba2ff82-66e3-4116-afdc-557595d06990",
   "metadata": {},
   "outputs": [],
   "source": [
    "df_xyz = df_xyz.pivot(index='product_category_name', columns='year_month', values='revenue').reset_index().fillna(0)"
   ]
  },
  {
   "cell_type": "code",
   "execution_count": 33,
   "id": "dd982db8-2e02-418e-8c02-33a597ff2dcc",
   "metadata": {},
   "outputs": [
    {
     "data": {
      "text/html": [
       "<div>\n",
       "<style scoped>\n",
       "    .dataframe tbody tr th:only-of-type {\n",
       "        vertical-align: middle;\n",
       "    }\n",
       "\n",
       "    .dataframe tbody tr th {\n",
       "        vertical-align: top;\n",
       "    }\n",
       "\n",
       "    .dataframe thead th {\n",
       "        text-align: right;\n",
       "    }\n",
       "</style>\n",
       "<table border=\"1\" class=\"dataframe\">\n",
       "  <thead>\n",
       "    <tr style=\"text-align: right;\">\n",
       "      <th>year_month</th>\n",
       "      <th>product_category_name</th>\n",
       "      <th>2016-09</th>\n",
       "      <th>2016-10</th>\n",
       "      <th>2016-12</th>\n",
       "      <th>2017-01</th>\n",
       "      <th>2017-02</th>\n",
       "      <th>2017-03</th>\n",
       "      <th>2017-04</th>\n",
       "      <th>2017-05</th>\n",
       "      <th>2017-06</th>\n",
       "      <th>...</th>\n",
       "      <th>2017-11</th>\n",
       "      <th>2017-12</th>\n",
       "      <th>2018-01</th>\n",
       "      <th>2018-02</th>\n",
       "      <th>2018-03</th>\n",
       "      <th>2018-04</th>\n",
       "      <th>2018-05</th>\n",
       "      <th>2018-06</th>\n",
       "      <th>2018-07</th>\n",
       "      <th>2018-08</th>\n",
       "    </tr>\n",
       "  </thead>\n",
       "  <tbody>\n",
       "    <tr>\n",
       "      <th>0</th>\n",
       "      <td>agro_industria_e_comercio</td>\n",
       "      <td>0.0</td>\n",
       "      <td>0.0</td>\n",
       "      <td>0.0</td>\n",
       "      <td>107.76</td>\n",
       "      <td>331.1</td>\n",
       "      <td>110.69</td>\n",
       "      <td>0.0</td>\n",
       "      <td>1763.74</td>\n",
       "      <td>1422.05</td>\n",
       "      <td>...</td>\n",
       "      <td>14610.32</td>\n",
       "      <td>5664.04</td>\n",
       "      <td>6296.51</td>\n",
       "      <td>8031.41</td>\n",
       "      <td>5639.49</td>\n",
       "      <td>4783.66</td>\n",
       "      <td>3433.22</td>\n",
       "      <td>3843.05</td>\n",
       "      <td>7520.33</td>\n",
       "      <td>5543.74</td>\n",
       "    </tr>\n",
       "  </tbody>\n",
       "</table>\n",
       "<p>1 rows × 24 columns</p>\n",
       "</div>"
      ],
      "text/plain": [
       "year_month      product_category_name  2016-09  2016-10  2016-12  2017-01  \\\n",
       "0           agro_industria_e_comercio      0.0      0.0      0.0   107.76   \n",
       "\n",
       "year_month  2017-02  2017-03  2017-04  2017-05  2017-06  ...   2017-11  \\\n",
       "0             331.1   110.69      0.0  1763.74  1422.05  ...  14610.32   \n",
       "\n",
       "year_month  2017-12  2018-01  2018-02  2018-03  2018-04  2018-05  2018-06  \\\n",
       "0           5664.04  6296.51  8031.41  5639.49  4783.66  3433.22  3843.05   \n",
       "\n",
       "year_month  2018-07  2018-08  \n",
       "0           7520.33  5543.74  \n",
       "\n",
       "[1 rows x 24 columns]"
      ]
     },
     "execution_count": 33,
     "metadata": {},
     "output_type": "execute_result"
    }
   ],
   "source": [
    "df_xyz.head(1)"
   ]
  },
  {
   "cell_type": "code",
   "execution_count": 34,
   "id": "59473943-f730-4643-a86b-31dacbc7e997",
   "metadata": {},
   "outputs": [
    {
     "data": {
      "text/plain": [
       "23"
      ]
     },
     "execution_count": 34,
     "metadata": {},
     "output_type": "execute_result"
    }
   ],
   "source": [
    "len(df_xyz.columns) - 1"
   ]
  },
  {
   "cell_type": "code",
   "execution_count": 35,
   "id": "25b0365d-71a9-4ec6-809f-995aa1cd822a",
   "metadata": {},
   "outputs": [
    {
     "data": {
      "text/html": [
       "<div>\n",
       "<style scoped>\n",
       "    .dataframe tbody tr th:only-of-type {\n",
       "        vertical-align: middle;\n",
       "    }\n",
       "\n",
       "    .dataframe tbody tr th {\n",
       "        vertical-align: top;\n",
       "    }\n",
       "\n",
       "    .dataframe thead th {\n",
       "        text-align: right;\n",
       "    }\n",
       "</style>\n",
       "<table border=\"1\" class=\"dataframe\">\n",
       "  <thead>\n",
       "    <tr style=\"text-align: right;\">\n",
       "      <th>year_month</th>\n",
       "      <th>2016-09</th>\n",
       "      <th>2016-10</th>\n",
       "      <th>2016-12</th>\n",
       "      <th>2017-01</th>\n",
       "      <th>2017-02</th>\n",
       "      <th>2017-03</th>\n",
       "      <th>2017-04</th>\n",
       "      <th>2017-05</th>\n",
       "      <th>2017-06</th>\n",
       "      <th>2017-07</th>\n",
       "      <th>...</th>\n",
       "      <th>2017-11</th>\n",
       "      <th>2017-12</th>\n",
       "      <th>2018-01</th>\n",
       "      <th>2018-02</th>\n",
       "      <th>2018-03</th>\n",
       "      <th>2018-04</th>\n",
       "      <th>2018-05</th>\n",
       "      <th>2018-06</th>\n",
       "      <th>2018-07</th>\n",
       "      <th>2018-08</th>\n",
       "    </tr>\n",
       "  </thead>\n",
       "  <tbody>\n",
       "    <tr>\n",
       "      <th>0</th>\n",
       "      <td>0.0</td>\n",
       "      <td>0.0</td>\n",
       "      <td>0.0</td>\n",
       "      <td>107.76</td>\n",
       "      <td>331.1</td>\n",
       "      <td>110.69</td>\n",
       "      <td>0.0</td>\n",
       "      <td>1763.74</td>\n",
       "      <td>1422.05</td>\n",
       "      <td>1199.47</td>\n",
       "      <td>...</td>\n",
       "      <td>14610.32</td>\n",
       "      <td>5664.04</td>\n",
       "      <td>6296.51</td>\n",
       "      <td>8031.41</td>\n",
       "      <td>5639.49</td>\n",
       "      <td>4783.66</td>\n",
       "      <td>3433.22</td>\n",
       "      <td>3843.05</td>\n",
       "      <td>7520.33</td>\n",
       "      <td>5543.74</td>\n",
       "    </tr>\n",
       "  </tbody>\n",
       "</table>\n",
       "<p>1 rows × 23 columns</p>\n",
       "</div>"
      ],
      "text/plain": [
       "year_month  2016-09  2016-10  2016-12  2017-01  2017-02  2017-03  2017-04  \\\n",
       "0               0.0      0.0      0.0   107.76    331.1   110.69      0.0   \n",
       "\n",
       "year_month  2017-05  2017-06  2017-07  ...   2017-11  2017-12  2018-01  \\\n",
       "0           1763.74  1422.05  1199.47  ...  14610.32  5664.04  6296.51   \n",
       "\n",
       "year_month  2018-02  2018-03  2018-04  2018-05  2018-06  2018-07  2018-08  \n",
       "0           8031.41  5639.49  4783.66  3433.22  3843.05  7520.33  5543.74  \n",
       "\n",
       "[1 rows x 23 columns]"
      ]
     },
     "execution_count": 35,
     "metadata": {},
     "output_type": "execute_result"
    }
   ],
   "source": [
    "df_xyz.iloc[:,1:24].head(1)"
   ]
  },
  {
   "cell_type": "code",
   "execution_count": 36,
   "id": "e4f25c34-95b4-437b-8d47-17aaa06f6a33",
   "metadata": {},
   "outputs": [
    {
     "data": {
      "text/html": [
       "<div>\n",
       "<style scoped>\n",
       "    .dataframe tbody tr th:only-of-type {\n",
       "        vertical-align: middle;\n",
       "    }\n",
       "\n",
       "    .dataframe tbody tr th {\n",
       "        vertical-align: top;\n",
       "    }\n",
       "\n",
       "    .dataframe thead th {\n",
       "        text-align: right;\n",
       "    }\n",
       "</style>\n",
       "<table border=\"1\" class=\"dataframe\">\n",
       "  <thead>\n",
       "    <tr style=\"text-align: right;\">\n",
       "      <th>year_month</th>\n",
       "      <th>product_category_name</th>\n",
       "      <th>2016-09</th>\n",
       "      <th>2016-10</th>\n",
       "      <th>2016-12</th>\n",
       "      <th>2017-01</th>\n",
       "      <th>2017-02</th>\n",
       "      <th>2017-03</th>\n",
       "      <th>2017-04</th>\n",
       "      <th>2017-05</th>\n",
       "      <th>2017-06</th>\n",
       "      <th>...</th>\n",
       "      <th>2017-12</th>\n",
       "      <th>2018-01</th>\n",
       "      <th>2018-02</th>\n",
       "      <th>2018-03</th>\n",
       "      <th>2018-04</th>\n",
       "      <th>2018-05</th>\n",
       "      <th>2018-06</th>\n",
       "      <th>2018-07</th>\n",
       "      <th>2018-08</th>\n",
       "      <th>total_sales</th>\n",
       "    </tr>\n",
       "  </thead>\n",
       "  <tbody>\n",
       "    <tr>\n",
       "      <th>0</th>\n",
       "      <td>agro_industria_e_comercio</td>\n",
       "      <td>0.0</td>\n",
       "      <td>0.0</td>\n",
       "      <td>0.0</td>\n",
       "      <td>107.76</td>\n",
       "      <td>331.1</td>\n",
       "      <td>110.69</td>\n",
       "      <td>0.0</td>\n",
       "      <td>1763.74</td>\n",
       "      <td>1422.05</td>\n",
       "      <td>...</td>\n",
       "      <td>5664.04</td>\n",
       "      <td>6296.51</td>\n",
       "      <td>8031.41</td>\n",
       "      <td>5639.49</td>\n",
       "      <td>4783.66</td>\n",
       "      <td>3433.22</td>\n",
       "      <td>3843.05</td>\n",
       "      <td>7520.33</td>\n",
       "      <td>5543.74</td>\n",
       "      <td>76203.3</td>\n",
       "    </tr>\n",
       "  </tbody>\n",
       "</table>\n",
       "<p>1 rows × 25 columns</p>\n",
       "</div>"
      ],
      "text/plain": [
       "year_month      product_category_name  2016-09  2016-10  2016-12  2017-01  \\\n",
       "0           agro_industria_e_comercio      0.0      0.0      0.0   107.76   \n",
       "\n",
       "year_month  2017-02  2017-03  2017-04  2017-05  2017-06  ...  2017-12  \\\n",
       "0             331.1   110.69      0.0  1763.74  1422.05  ...  5664.04   \n",
       "\n",
       "year_month  2018-01  2018-02  2018-03  2018-04  2018-05  2018-06  2018-07  \\\n",
       "0           6296.51  8031.41  5639.49  4783.66  3433.22  3843.05  7520.33   \n",
       "\n",
       "year_month  2018-08  total_sales  \n",
       "0           5543.74      76203.3  \n",
       "\n",
       "[1 rows x 25 columns]"
      ]
     },
     "execution_count": 36,
     "metadata": {},
     "output_type": "execute_result"
    }
   ],
   "source": [
    "df_xyz['total_sales'] = df_xyz.iloc[:,1:24].sum(axis=1,numeric_only=True)\n",
    "df_xyz.head(1)"
   ]
  },
  {
   "cell_type": "code",
   "execution_count": 37,
   "id": "cf6d9bcc-eb2c-4442-89e2-354252f8e434",
   "metadata": {},
   "outputs": [
    {
     "data": {
      "text/html": [
       "<div>\n",
       "<style scoped>\n",
       "    .dataframe tbody tr th:only-of-type {\n",
       "        vertical-align: middle;\n",
       "    }\n",
       "\n",
       "    .dataframe tbody tr th {\n",
       "        vertical-align: top;\n",
       "    }\n",
       "\n",
       "    .dataframe thead th {\n",
       "        text-align: right;\n",
       "    }\n",
       "</style>\n",
       "<table border=\"1\" class=\"dataframe\">\n",
       "  <thead>\n",
       "    <tr style=\"text-align: right;\">\n",
       "      <th>year_month</th>\n",
       "      <th>product_category_name</th>\n",
       "      <th>2016-09</th>\n",
       "      <th>2016-10</th>\n",
       "      <th>2016-12</th>\n",
       "      <th>2017-01</th>\n",
       "      <th>2017-02</th>\n",
       "      <th>2017-03</th>\n",
       "      <th>2017-04</th>\n",
       "      <th>2017-05</th>\n",
       "      <th>2017-06</th>\n",
       "      <th>...</th>\n",
       "      <th>2018-03</th>\n",
       "      <th>2018-04</th>\n",
       "      <th>2018-05</th>\n",
       "      <th>2018-06</th>\n",
       "      <th>2018-07</th>\n",
       "      <th>2018-08</th>\n",
       "      <th>total_sales</th>\n",
       "      <th>avg_sales</th>\n",
       "      <th>std</th>\n",
       "      <th>CoV</th>\n",
       "    </tr>\n",
       "  </thead>\n",
       "  <tbody>\n",
       "    <tr>\n",
       "      <th>0</th>\n",
       "      <td>agro_industria_e_comercio</td>\n",
       "      <td>0.0</td>\n",
       "      <td>0.00</td>\n",
       "      <td>0.0</td>\n",
       "      <td>107.76</td>\n",
       "      <td>331.10</td>\n",
       "      <td>110.69</td>\n",
       "      <td>0.00</td>\n",
       "      <td>1763.74</td>\n",
       "      <td>1422.05</td>\n",
       "      <td>...</td>\n",
       "      <td>5639.49</td>\n",
       "      <td>4783.66</td>\n",
       "      <td>3433.22</td>\n",
       "      <td>3843.05</td>\n",
       "      <td>7520.33</td>\n",
       "      <td>5543.74</td>\n",
       "      <td>76203.30</td>\n",
       "      <td>3313.186957</td>\n",
       "      <td>3628.545191</td>\n",
       "      <td>1.095183</td>\n",
       "    </tr>\n",
       "    <tr>\n",
       "      <th>1</th>\n",
       "      <td>alimentos</td>\n",
       "      <td>0.0</td>\n",
       "      <td>96.23</td>\n",
       "      <td>0.0</td>\n",
       "      <td>78.82</td>\n",
       "      <td>875.25</td>\n",
       "      <td>2830.01</td>\n",
       "      <td>611.15</td>\n",
       "      <td>452.25</td>\n",
       "      <td>171.79</td>\n",
       "      <td>...</td>\n",
       "      <td>2068.59</td>\n",
       "      <td>2219.99</td>\n",
       "      <td>2079.48</td>\n",
       "      <td>1693.59</td>\n",
       "      <td>4401.42</td>\n",
       "      <td>9571.13</td>\n",
       "      <td>35794.68</td>\n",
       "      <td>1556.290435</td>\n",
       "      <td>2050.210686</td>\n",
       "      <td>1.317370</td>\n",
       "    </tr>\n",
       "  </tbody>\n",
       "</table>\n",
       "<p>2 rows × 28 columns</p>\n",
       "</div>"
      ],
      "text/plain": [
       "year_month      product_category_name  2016-09  2016-10  2016-12  2017-01  \\\n",
       "0           agro_industria_e_comercio      0.0     0.00      0.0   107.76   \n",
       "1                           alimentos      0.0    96.23      0.0    78.82   \n",
       "\n",
       "year_month  2017-02  2017-03  2017-04  2017-05  2017-06  ...  2018-03  \\\n",
       "0            331.10   110.69     0.00  1763.74  1422.05  ...  5639.49   \n",
       "1            875.25  2830.01   611.15   452.25   171.79  ...  2068.59   \n",
       "\n",
       "year_month  2018-04  2018-05  2018-06  2018-07  2018-08  total_sales  \\\n",
       "0           4783.66  3433.22  3843.05  7520.33  5543.74     76203.30   \n",
       "1           2219.99  2079.48  1693.59  4401.42  9571.13     35794.68   \n",
       "\n",
       "year_month    avg_sales          std       CoV  \n",
       "0           3313.186957  3628.545191  1.095183  \n",
       "1           1556.290435  2050.210686  1.317370  \n",
       "\n",
       "[2 rows x 28 columns]"
      ]
     },
     "execution_count": 37,
     "metadata": {},
     "output_type": "execute_result"
    }
   ],
   "source": [
    "df_xyz['avg_sales'] = df_xyz['total_sales']/23\n",
    "df_xyz['std'] = df_xyz.iloc[:,1:24].std(axis=1)\n",
    "df_xyz['CoV']=df_xyz['std']/df_xyz['avg_sales']\n",
    "df_xyz.head(2)"
   ]
  },
  {
   "cell_type": "code",
   "execution_count": 38,
   "id": "b0ad4c82-9279-4151-bc3d-f2c3d65fa770",
   "metadata": {},
   "outputs": [],
   "source": [
    "def condition_xyz(x):\n",
    "    if x<=0.5:\n",
    "        return \"X\"\n",
    "    elif x>=0.5 and x<=1:\n",
    "        return \"Y\"\n",
    "    else:\n",
    "        return 'Z'"
   ]
  },
  {
   "cell_type": "code",
   "execution_count": 39,
   "id": "06691c75-d6d3-4d3f-8120-b4a84b347fc7",
   "metadata": {},
   "outputs": [
    {
     "data": {
      "text/html": [
       "<div>\n",
       "<style scoped>\n",
       "    .dataframe tbody tr th:only-of-type {\n",
       "        vertical-align: middle;\n",
       "    }\n",
       "\n",
       "    .dataframe tbody tr th {\n",
       "        vertical-align: top;\n",
       "    }\n",
       "\n",
       "    .dataframe thead th {\n",
       "        text-align: right;\n",
       "    }\n",
       "</style>\n",
       "<table border=\"1\" class=\"dataframe\">\n",
       "  <thead>\n",
       "    <tr style=\"text-align: right;\">\n",
       "      <th>year_month</th>\n",
       "      <th>product_category_name</th>\n",
       "      <th>2016-09</th>\n",
       "      <th>2016-10</th>\n",
       "      <th>2016-12</th>\n",
       "      <th>2017-01</th>\n",
       "      <th>2017-02</th>\n",
       "      <th>2017-03</th>\n",
       "      <th>2017-04</th>\n",
       "      <th>2017-05</th>\n",
       "      <th>2017-06</th>\n",
       "      <th>...</th>\n",
       "      <th>2018-04</th>\n",
       "      <th>2018-05</th>\n",
       "      <th>2018-06</th>\n",
       "      <th>2018-07</th>\n",
       "      <th>2018-08</th>\n",
       "      <th>total_sales</th>\n",
       "      <th>avg_sales</th>\n",
       "      <th>std</th>\n",
       "      <th>CoV</th>\n",
       "      <th>XYZ</th>\n",
       "    </tr>\n",
       "  </thead>\n",
       "  <tbody>\n",
       "    <tr>\n",
       "      <th>0</th>\n",
       "      <td>agro_industria_e_comercio</td>\n",
       "      <td>0.0</td>\n",
       "      <td>0.00</td>\n",
       "      <td>0.0</td>\n",
       "      <td>107.76</td>\n",
       "      <td>331.10</td>\n",
       "      <td>110.69</td>\n",
       "      <td>0.00</td>\n",
       "      <td>1763.74</td>\n",
       "      <td>1422.05</td>\n",
       "      <td>...</td>\n",
       "      <td>4783.66</td>\n",
       "      <td>3433.22</td>\n",
       "      <td>3843.05</td>\n",
       "      <td>7520.33</td>\n",
       "      <td>5543.74</td>\n",
       "      <td>76203.30</td>\n",
       "      <td>3313.186957</td>\n",
       "      <td>3628.545191</td>\n",
       "      <td>1.095183</td>\n",
       "      <td>Z</td>\n",
       "    </tr>\n",
       "    <tr>\n",
       "      <th>1</th>\n",
       "      <td>alimentos</td>\n",
       "      <td>0.0</td>\n",
       "      <td>96.23</td>\n",
       "      <td>0.0</td>\n",
       "      <td>78.82</td>\n",
       "      <td>875.25</td>\n",
       "      <td>2830.01</td>\n",
       "      <td>611.15</td>\n",
       "      <td>452.25</td>\n",
       "      <td>171.79</td>\n",
       "      <td>...</td>\n",
       "      <td>2219.99</td>\n",
       "      <td>2079.48</td>\n",
       "      <td>1693.59</td>\n",
       "      <td>4401.42</td>\n",
       "      <td>9571.13</td>\n",
       "      <td>35794.68</td>\n",
       "      <td>1556.290435</td>\n",
       "      <td>2050.210686</td>\n",
       "      <td>1.317370</td>\n",
       "      <td>Z</td>\n",
       "    </tr>\n",
       "  </tbody>\n",
       "</table>\n",
       "<p>2 rows × 29 columns</p>\n",
       "</div>"
      ],
      "text/plain": [
       "year_month      product_category_name  2016-09  2016-10  2016-12  2017-01  \\\n",
       "0           agro_industria_e_comercio      0.0     0.00      0.0   107.76   \n",
       "1                           alimentos      0.0    96.23      0.0    78.82   \n",
       "\n",
       "year_month  2017-02  2017-03  2017-04  2017-05  2017-06  ...  2018-04  \\\n",
       "0            331.10   110.69     0.00  1763.74  1422.05  ...  4783.66   \n",
       "1            875.25  2830.01   611.15   452.25   171.79  ...  2219.99   \n",
       "\n",
       "year_month  2018-05  2018-06  2018-07  2018-08  total_sales    avg_sales  \\\n",
       "0           3433.22  3843.05  7520.33  5543.74     76203.30  3313.186957   \n",
       "1           2079.48  1693.59  4401.42  9571.13     35794.68  1556.290435   \n",
       "\n",
       "year_month          std       CoV  XYZ  \n",
       "0           3628.545191  1.095183    Z  \n",
       "1           2050.210686  1.317370    Z  \n",
       "\n",
       "[2 rows x 29 columns]"
      ]
     },
     "execution_count": 39,
     "metadata": {},
     "output_type": "execute_result"
    }
   ],
   "source": [
    "df_xyz['XYZ']=df_xyz['CoV'].apply(condition_xyz)\n",
    "df_xyz.head(2)"
   ]
  },
  {
   "cell_type": "code",
   "execution_count": 40,
   "id": "61bff9c8-299d-4844-872e-2346f51e115c",
   "metadata": {},
   "outputs": [],
   "source": [
    "df_abc = df_xyz.groupby('product_category_name').agg(total_revenue=('total_sales','sum')).sort_values(by='total_revenue', ascending=False).reset_index()"
   ]
  },
  {
   "cell_type": "code",
   "execution_count": 41,
   "id": "e0b74959-61ee-4406-8505-fd49f9acae65",
   "metadata": {},
   "outputs": [
    {
     "data": {
      "text/html": [
       "<div>\n",
       "<style scoped>\n",
       "    .dataframe tbody tr th:only-of-type {\n",
       "        vertical-align: middle;\n",
       "    }\n",
       "\n",
       "    .dataframe tbody tr th {\n",
       "        vertical-align: top;\n",
       "    }\n",
       "\n",
       "    .dataframe thead th {\n",
       "        text-align: right;\n",
       "    }\n",
       "</style>\n",
       "<table border=\"1\" class=\"dataframe\">\n",
       "  <thead>\n",
       "    <tr style=\"text-align: right;\">\n",
       "      <th></th>\n",
       "      <th>product_category_name</th>\n",
       "      <th>total_revenue</th>\n",
       "    </tr>\n",
       "  </thead>\n",
       "  <tbody>\n",
       "    <tr>\n",
       "      <th>0</th>\n",
       "      <td>beleza_saude</td>\n",
       "      <td>1412089.53</td>\n",
       "    </tr>\n",
       "    <tr>\n",
       "      <th>1</th>\n",
       "      <td>relogios_presentes</td>\n",
       "      <td>1264016.98</td>\n",
       "    </tr>\n",
       "    <tr>\n",
       "      <th>2</th>\n",
       "      <td>cama_mesa_banho</td>\n",
       "      <td>1225052.07</td>\n",
       "    </tr>\n",
       "    <tr>\n",
       "      <th>3</th>\n",
       "      <td>esporte_lazer</td>\n",
       "      <td>1117968.45</td>\n",
       "    </tr>\n",
       "    <tr>\n",
       "      <th>4</th>\n",
       "      <td>informatica_acessorios</td>\n",
       "      <td>1032603.65</td>\n",
       "    </tr>\n",
       "  </tbody>\n",
       "</table>\n",
       "</div>"
      ],
      "text/plain": [
       "    product_category_name  total_revenue\n",
       "0            beleza_saude     1412089.53\n",
       "1      relogios_presentes     1264016.98\n",
       "2         cama_mesa_banho     1225052.07\n",
       "3           esporte_lazer     1117968.45\n",
       "4  informatica_acessorios     1032603.65"
      ]
     },
     "execution_count": 41,
     "metadata": {},
     "output_type": "execute_result"
    }
   ],
   "source": [
    "df_abc.head()"
   ]
  },
  {
   "cell_type": "code",
   "execution_count": 42,
   "id": "60217df6-f73f-44f5-8002-80ff91e47731",
   "metadata": {},
   "outputs": [
    {
     "data": {
      "text/html": [
       "<div>\n",
       "<style scoped>\n",
       "    .dataframe tbody tr th:only-of-type {\n",
       "        vertical-align: middle;\n",
       "    }\n",
       "\n",
       "    .dataframe tbody tr th {\n",
       "        vertical-align: top;\n",
       "    }\n",
       "\n",
       "    .dataframe thead th {\n",
       "        text-align: right;\n",
       "    }\n",
       "</style>\n",
       "<table border=\"1\" class=\"dataframe\">\n",
       "  <thead>\n",
       "    <tr style=\"text-align: right;\">\n",
       "      <th></th>\n",
       "      <th>product_category_name</th>\n",
       "      <th>total_revenue</th>\n",
       "      <th>rev_cum_sum</th>\n",
       "      <th>rev_all</th>\n",
       "      <th>sku_rev_percent</th>\n",
       "    </tr>\n",
       "  </thead>\n",
       "  <tbody>\n",
       "    <tr>\n",
       "      <th>0</th>\n",
       "      <td>beleza_saude</td>\n",
       "      <td>1412089.53</td>\n",
       "      <td>1412089.53</td>\n",
       "      <td>15216655.08</td>\n",
       "      <td>0.092799</td>\n",
       "    </tr>\n",
       "    <tr>\n",
       "      <th>1</th>\n",
       "      <td>relogios_presentes</td>\n",
       "      <td>1264016.98</td>\n",
       "      <td>2676106.51</td>\n",
       "      <td>15216655.08</td>\n",
       "      <td>0.175867</td>\n",
       "    </tr>\n",
       "    <tr>\n",
       "      <th>2</th>\n",
       "      <td>cama_mesa_banho</td>\n",
       "      <td>1225052.07</td>\n",
       "      <td>3901158.58</td>\n",
       "      <td>15216655.08</td>\n",
       "      <td>0.256374</td>\n",
       "    </tr>\n",
       "    <tr>\n",
       "      <th>3</th>\n",
       "      <td>esporte_lazer</td>\n",
       "      <td>1117968.45</td>\n",
       "      <td>5019127.03</td>\n",
       "      <td>15216655.08</td>\n",
       "      <td>0.329844</td>\n",
       "    </tr>\n",
       "    <tr>\n",
       "      <th>4</th>\n",
       "      <td>informatica_acessorios</td>\n",
       "      <td>1032603.65</td>\n",
       "      <td>6051730.68</td>\n",
       "      <td>15216655.08</td>\n",
       "      <td>0.397704</td>\n",
       "    </tr>\n",
       "    <tr>\n",
       "      <th>...</th>\n",
       "      <td>...</td>\n",
       "      <td>...</td>\n",
       "      <td>...</td>\n",
       "      <td>...</td>\n",
       "      <td>...</td>\n",
       "    </tr>\n",
       "    <tr>\n",
       "      <th>68</th>\n",
       "      <td>pc_gamer</td>\n",
       "      <td>1430.10</td>\n",
       "      <td>15213606.33</td>\n",
       "      <td>15216655.08</td>\n",
       "      <td>0.999800</td>\n",
       "    </tr>\n",
       "    <tr>\n",
       "      <th>69</th>\n",
       "      <td>casa_conforto_2</td>\n",
       "      <td>1170.58</td>\n",
       "      <td>15214776.91</td>\n",
       "      <td>15216655.08</td>\n",
       "      <td>0.999877</td>\n",
       "    </tr>\n",
       "    <tr>\n",
       "      <th>70</th>\n",
       "      <td>cds_dvds_musicais</td>\n",
       "      <td>954.99</td>\n",
       "      <td>15215731.90</td>\n",
       "      <td>15216655.08</td>\n",
       "      <td>0.999939</td>\n",
       "    </tr>\n",
       "    <tr>\n",
       "      <th>71</th>\n",
       "      <td>fashion_roupa_infanto_juvenil</td>\n",
       "      <td>598.67</td>\n",
       "      <td>15216330.57</td>\n",
       "      <td>15216655.08</td>\n",
       "      <td>0.999979</td>\n",
       "    </tr>\n",
       "    <tr>\n",
       "      <th>72</th>\n",
       "      <td>seguros_e_servicos</td>\n",
       "      <td>324.51</td>\n",
       "      <td>15216655.08</td>\n",
       "      <td>15216655.08</td>\n",
       "      <td>1.000000</td>\n",
       "    </tr>\n",
       "  </tbody>\n",
       "</table>\n",
       "<p>73 rows × 5 columns</p>\n",
       "</div>"
      ],
      "text/plain": [
       "            product_category_name  total_revenue  rev_cum_sum      rev_all  \\\n",
       "0                    beleza_saude     1412089.53   1412089.53  15216655.08   \n",
       "1              relogios_presentes     1264016.98   2676106.51  15216655.08   \n",
       "2                 cama_mesa_banho     1225052.07   3901158.58  15216655.08   \n",
       "3                   esporte_lazer     1117968.45   5019127.03  15216655.08   \n",
       "4          informatica_acessorios     1032603.65   6051730.68  15216655.08   \n",
       "..                            ...            ...          ...          ...   \n",
       "68                       pc_gamer        1430.10  15213606.33  15216655.08   \n",
       "69                casa_conforto_2        1170.58  15214776.91  15216655.08   \n",
       "70              cds_dvds_musicais         954.99  15215731.90  15216655.08   \n",
       "71  fashion_roupa_infanto_juvenil         598.67  15216330.57  15216655.08   \n",
       "72             seguros_e_servicos         324.51  15216655.08  15216655.08   \n",
       "\n",
       "    sku_rev_percent  \n",
       "0          0.092799  \n",
       "1          0.175867  \n",
       "2          0.256374  \n",
       "3          0.329844  \n",
       "4          0.397704  \n",
       "..              ...  \n",
       "68         0.999800  \n",
       "69         0.999877  \n",
       "70         0.999939  \n",
       "71         0.999979  \n",
       "72         1.000000  \n",
       "\n",
       "[73 rows x 5 columns]"
      ]
     },
     "execution_count": 42,
     "metadata": {},
     "output_type": "execute_result"
    }
   ],
   "source": [
    "df_abc['rev_cum_sum'] = df_abc['total_revenue'].cumsum()\n",
    "df_abc['rev_all'] = df_abc['total_revenue'].sum()\n",
    "df_abc['sku_rev_percent'] = df_abc['rev_cum_sum'] / df_abc['rev_all']\n",
    "df_abc.head(100)"
   ]
  },
  {
   "cell_type": "code",
   "execution_count": 43,
   "id": "41d18d4d-051d-4bef-9d1d-7c769493a340",
   "metadata": {},
   "outputs": [
    {
     "data": {
      "text/html": [
       "<div>\n",
       "<style scoped>\n",
       "    .dataframe tbody tr th:only-of-type {\n",
       "        vertical-align: middle;\n",
       "    }\n",
       "\n",
       "    .dataframe tbody tr th {\n",
       "        vertical-align: top;\n",
       "    }\n",
       "\n",
       "    .dataframe thead th {\n",
       "        text-align: right;\n",
       "    }\n",
       "</style>\n",
       "<table border=\"1\" class=\"dataframe\">\n",
       "  <thead>\n",
       "    <tr style=\"text-align: right;\">\n",
       "      <th></th>\n",
       "      <th>product_category_name</th>\n",
       "      <th>total_revenue</th>\n",
       "      <th>rev_cum_sum</th>\n",
       "      <th>rev_all</th>\n",
       "      <th>sku_rev_percent</th>\n",
       "      <th>ABC</th>\n",
       "    </tr>\n",
       "  </thead>\n",
       "  <tbody>\n",
       "    <tr>\n",
       "      <th>68</th>\n",
       "      <td>pc_gamer</td>\n",
       "      <td>1430.10</td>\n",
       "      <td>15213606.33</td>\n",
       "      <td>15216655.08</td>\n",
       "      <td>0.999800</td>\n",
       "      <td>C</td>\n",
       "    </tr>\n",
       "    <tr>\n",
       "      <th>69</th>\n",
       "      <td>casa_conforto_2</td>\n",
       "      <td>1170.58</td>\n",
       "      <td>15214776.91</td>\n",
       "      <td>15216655.08</td>\n",
       "      <td>0.999877</td>\n",
       "      <td>C</td>\n",
       "    </tr>\n",
       "    <tr>\n",
       "      <th>70</th>\n",
       "      <td>cds_dvds_musicais</td>\n",
       "      <td>954.99</td>\n",
       "      <td>15215731.90</td>\n",
       "      <td>15216655.08</td>\n",
       "      <td>0.999939</td>\n",
       "      <td>C</td>\n",
       "    </tr>\n",
       "    <tr>\n",
       "      <th>71</th>\n",
       "      <td>fashion_roupa_infanto_juvenil</td>\n",
       "      <td>598.67</td>\n",
       "      <td>15216330.57</td>\n",
       "      <td>15216655.08</td>\n",
       "      <td>0.999979</td>\n",
       "      <td>C</td>\n",
       "    </tr>\n",
       "    <tr>\n",
       "      <th>72</th>\n",
       "      <td>seguros_e_servicos</td>\n",
       "      <td>324.51</td>\n",
       "      <td>15216655.08</td>\n",
       "      <td>15216655.08</td>\n",
       "      <td>1.000000</td>\n",
       "      <td>C</td>\n",
       "    </tr>\n",
       "  </tbody>\n",
       "</table>\n",
       "</div>"
      ],
      "text/plain": [
       "            product_category_name  total_revenue  rev_cum_sum      rev_all  \\\n",
       "68                       pc_gamer        1430.10  15213606.33  15216655.08   \n",
       "69                casa_conforto_2        1170.58  15214776.91  15216655.08   \n",
       "70              cds_dvds_musicais         954.99  15215731.90  15216655.08   \n",
       "71  fashion_roupa_infanto_juvenil         598.67  15216330.57  15216655.08   \n",
       "72             seguros_e_servicos         324.51  15216655.08  15216655.08   \n",
       "\n",
       "    sku_rev_percent ABC  \n",
       "68         0.999800   C  \n",
       "69         0.999877   C  \n",
       "70         0.999939   C  \n",
       "71         0.999979   C  \n",
       "72         1.000000   C  "
      ]
     },
     "execution_count": 43,
     "metadata": {},
     "output_type": "execute_result"
    }
   ],
   "source": [
    "def condition_abc(x):\n",
    "    if x>0 and x<=0.80:\n",
    "        return \"A\"\n",
    "    elif x>0.80 and x<=0.90:\n",
    "        return \"B\"\n",
    "    else:\n",
    "        return 'C'\n",
    "\n",
    "df_abc['ABC'] = df_abc['sku_rev_percent'].apply(condition_abc)\n",
    "df_abc.tail()"
   ]
  },
  {
   "cell_type": "code",
   "execution_count": 44,
   "id": "136125be-60a5-4643-a77d-85c70fa78723",
   "metadata": {},
   "outputs": [
    {
     "data": {
      "text/html": [
       "<div>\n",
       "<style scoped>\n",
       "    .dataframe tbody tr th:only-of-type {\n",
       "        vertical-align: middle;\n",
       "    }\n",
       "\n",
       "    .dataframe tbody tr th {\n",
       "        vertical-align: top;\n",
       "    }\n",
       "\n",
       "    .dataframe thead th {\n",
       "        text-align: right;\n",
       "    }\n",
       "</style>\n",
       "<table border=\"1\" class=\"dataframe\">\n",
       "  <thead>\n",
       "    <tr style=\"text-align: right;\">\n",
       "      <th></th>\n",
       "      <th>order_id</th>\n",
       "      <th>order_purchase_timestamp</th>\n",
       "      <th>price</th>\n",
       "      <th>freight_value</th>\n",
       "      <th>product_category_name</th>\n",
       "      <th>product_id</th>\n",
       "      <th>revenue</th>\n",
       "      <th>year</th>\n",
       "      <th>month</th>\n",
       "    </tr>\n",
       "  </thead>\n",
       "  <tbody>\n",
       "    <tr>\n",
       "      <th>0</th>\n",
       "      <td>e481f51c-bdc5-4678-b7cc-49136f2d6af7</td>\n",
       "      <td>2017-10-02 10:56:33</td>\n",
       "      <td>29.99</td>\n",
       "      <td>8.72</td>\n",
       "      <td>utilidades_domesticas</td>\n",
       "      <td>87285b34-8845-7264-7811-a353c7ac498a</td>\n",
       "      <td>38.71</td>\n",
       "      <td>2017</td>\n",
       "      <td>10</td>\n",
       "    </tr>\n",
       "    <tr>\n",
       "      <th>1</th>\n",
       "      <td>53cdb2fc-8bc7-dce0-b674-1e2150273451</td>\n",
       "      <td>2018-07-24 20:41:37</td>\n",
       "      <td>118.70</td>\n",
       "      <td>22.76</td>\n",
       "      <td>perfumaria</td>\n",
       "      <td>595fac2a-385a-c33a-80bd-5114aec74eb8</td>\n",
       "      <td>141.46</td>\n",
       "      <td>2018</td>\n",
       "      <td>7</td>\n",
       "    </tr>\n",
       "    <tr>\n",
       "      <th>2</th>\n",
       "      <td>47770eb9-100c-2d0c-4494-6d9cf07ec65d</td>\n",
       "      <td>2018-08-08 08:38:49</td>\n",
       "      <td>159.90</td>\n",
       "      <td>19.22</td>\n",
       "      <td>automotivo</td>\n",
       "      <td>aa4383b3-73c6-aca5-d879-7843e5594415</td>\n",
       "      <td>179.12</td>\n",
       "      <td>2018</td>\n",
       "      <td>8</td>\n",
       "    </tr>\n",
       "    <tr>\n",
       "      <th>3</th>\n",
       "      <td>949d5b44-dbf5-de91-8fe9-c16f97b45f8a</td>\n",
       "      <td>2017-11-18 19:28:06</td>\n",
       "      <td>45.00</td>\n",
       "      <td>27.20</td>\n",
       "      <td>pet_shop</td>\n",
       "      <td>d0b61bfb-1de8-32b1-5ba9-d266ca96e5b0</td>\n",
       "      <td>72.20</td>\n",
       "      <td>2017</td>\n",
       "      <td>11</td>\n",
       "    </tr>\n",
       "    <tr>\n",
       "      <th>4</th>\n",
       "      <td>ad21c59c-0840-e6cb-83a9-ceb5573f8159</td>\n",
       "      <td>2018-02-13 21:18:39</td>\n",
       "      <td>19.90</td>\n",
       "      <td>8.72</td>\n",
       "      <td>papelaria</td>\n",
       "      <td>65266b2d-a20d-04db-e00c-5c2d3bb7859e</td>\n",
       "      <td>28.62</td>\n",
       "      <td>2018</td>\n",
       "      <td>2</td>\n",
       "    </tr>\n",
       "  </tbody>\n",
       "</table>\n",
       "</div>"
      ],
      "text/plain": [
       "                               order_id order_purchase_timestamp   price  \\\n",
       "0  e481f51c-bdc5-4678-b7cc-49136f2d6af7      2017-10-02 10:56:33   29.99   \n",
       "1  53cdb2fc-8bc7-dce0-b674-1e2150273451      2018-07-24 20:41:37  118.70   \n",
       "2  47770eb9-100c-2d0c-4494-6d9cf07ec65d      2018-08-08 08:38:49  159.90   \n",
       "3  949d5b44-dbf5-de91-8fe9-c16f97b45f8a      2017-11-18 19:28:06   45.00   \n",
       "4  ad21c59c-0840-e6cb-83a9-ceb5573f8159      2018-02-13 21:18:39   19.90   \n",
       "\n",
       "   freight_value  product_category_name                            product_id  \\\n",
       "0           8.72  utilidades_domesticas  87285b34-8845-7264-7811-a353c7ac498a   \n",
       "1          22.76             perfumaria  595fac2a-385a-c33a-80bd-5114aec74eb8   \n",
       "2          19.22             automotivo  aa4383b3-73c6-aca5-d879-7843e5594415   \n",
       "3          27.20               pet_shop  d0b61bfb-1de8-32b1-5ba9-d266ca96e5b0   \n",
       "4           8.72              papelaria  65266b2d-a20d-04db-e00c-5c2d3bb7859e   \n",
       "\n",
       "   revenue  year  month  \n",
       "0    38.71  2017     10  \n",
       "1   141.46  2018      7  \n",
       "2   179.12  2018      8  \n",
       "3    72.20  2017     11  \n",
       "4    28.62  2018      2  "
      ]
     },
     "execution_count": 44,
     "metadata": {},
     "output_type": "execute_result"
    }
   ],
   "source": [
    "df_abc_check = df_abc.groupby('ABC').agg(total_revenue=('total_revenue', 'sum')).reset_index()\n",
    "prod_info.head()"
   ]
  },
  {
   "cell_type": "code",
   "execution_count": 45,
   "id": "0d518fc0-7ead-4ce1-b551-048a7ea82534",
   "metadata": {},
   "outputs": [
    {
     "data": {
      "text/html": [
       "<div>\n",
       "<style scoped>\n",
       "    .dataframe tbody tr th:only-of-type {\n",
       "        vertical-align: middle;\n",
       "    }\n",
       "\n",
       "    .dataframe tbody tr th {\n",
       "        vertical-align: top;\n",
       "    }\n",
       "\n",
       "    .dataframe thead th {\n",
       "        text-align: right;\n",
       "    }\n",
       "</style>\n",
       "<table border=\"1\" class=\"dataframe\">\n",
       "  <thead>\n",
       "    <tr style=\"text-align: right;\">\n",
       "      <th></th>\n",
       "      <th>product_category_name</th>\n",
       "      <th>total_sales</th>\n",
       "      <th>avg_sales</th>\n",
       "      <th>std</th>\n",
       "      <th>CoV</th>\n",
       "      <th>XYZ</th>\n",
       "      <th>total_revenue</th>\n",
       "      <th>ABC</th>\n",
       "    </tr>\n",
       "  </thead>\n",
       "  <tbody>\n",
       "    <tr>\n",
       "      <th>0</th>\n",
       "      <td>agro_industria_e_comercio</td>\n",
       "      <td>76203.30</td>\n",
       "      <td>3313.186957</td>\n",
       "      <td>3628.545191</td>\n",
       "      <td>1.095183</td>\n",
       "      <td>Z</td>\n",
       "      <td>76203.30</td>\n",
       "      <td>C</td>\n",
       "    </tr>\n",
       "    <tr>\n",
       "      <th>1</th>\n",
       "      <td>alimentos</td>\n",
       "      <td>35794.68</td>\n",
       "      <td>1556.290435</td>\n",
       "      <td>2050.210686</td>\n",
       "      <td>1.317370</td>\n",
       "      <td>Z</td>\n",
       "      <td>35794.68</td>\n",
       "      <td>C</td>\n",
       "    </tr>\n",
       "    <tr>\n",
       "      <th>2</th>\n",
       "      <td>alimentos_bebidas</td>\n",
       "      <td>19337.77</td>\n",
       "      <td>840.772609</td>\n",
       "      <td>926.031198</td>\n",
       "      <td>1.101405</td>\n",
       "      <td>Z</td>\n",
       "      <td>19337.77</td>\n",
       "      <td>C</td>\n",
       "    </tr>\n",
       "    <tr>\n",
       "      <th>3</th>\n",
       "      <td>artes</td>\n",
       "      <td>27485.53</td>\n",
       "      <td>1195.023043</td>\n",
       "      <td>1726.186319</td>\n",
       "      <td>1.444480</td>\n",
       "      <td>Z</td>\n",
       "      <td>27485.53</td>\n",
       "      <td>C</td>\n",
       "    </tr>\n",
       "    <tr>\n",
       "      <th>4</th>\n",
       "      <td>artes_e_artesanato</td>\n",
       "      <td>2184.14</td>\n",
       "      <td>94.962609</td>\n",
       "      <td>271.049054</td>\n",
       "      <td>2.854271</td>\n",
       "      <td>Z</td>\n",
       "      <td>2184.14</td>\n",
       "      <td>C</td>\n",
       "    </tr>\n",
       "  </tbody>\n",
       "</table>\n",
       "</div>"
      ],
      "text/plain": [
       "       product_category_name  total_sales    avg_sales          std       CoV  \\\n",
       "0  agro_industria_e_comercio     76203.30  3313.186957  3628.545191  1.095183   \n",
       "1                  alimentos     35794.68  1556.290435  2050.210686  1.317370   \n",
       "2          alimentos_bebidas     19337.77   840.772609   926.031198  1.101405   \n",
       "3                      artes     27485.53  1195.023043  1726.186319  1.444480   \n",
       "4         artes_e_artesanato      2184.14    94.962609   271.049054  2.854271   \n",
       "\n",
       "  XYZ  total_revenue ABC  \n",
       "0   Z       76203.30   C  \n",
       "1   Z       35794.68   C  \n",
       "2   Z       19337.77   C  \n",
       "3   Z       27485.53   C  \n",
       "4   Z        2184.14   C  "
      ]
     },
     "execution_count": 45,
     "metadata": {},
     "output_type": "execute_result"
    }
   ],
   "source": [
    "df_abc_xyz = (\n",
    "    df_xyz[['product_category_name', 'total_sales', 'avg_sales', 'std', 'CoV', 'XYZ']]\n",
    "    .merge(df_abc[['product_category_name', 'total_revenue', 'ABC']], on='product_category_name', how='left')\n",
    ")\n",
    "df_abc_xyz.head()"
   ]
  },
  {
   "cell_type": "code",
   "execution_count": 46,
   "id": "d06aaefe-2918-43fe-abe6-e9cee77fc8fc",
   "metadata": {},
   "outputs": [
    {
     "data": {
      "text/html": [
       "<div>\n",
       "<style scoped>\n",
       "    .dataframe tbody tr th:only-of-type {\n",
       "        vertical-align: middle;\n",
       "    }\n",
       "\n",
       "    .dataframe tbody tr th {\n",
       "        vertical-align: top;\n",
       "    }\n",
       "\n",
       "    .dataframe thead th {\n",
       "        text-align: right;\n",
       "    }\n",
       "</style>\n",
       "<table border=\"1\" class=\"dataframe\">\n",
       "  <thead>\n",
       "    <tr style=\"text-align: right;\">\n",
       "      <th></th>\n",
       "      <th>product_category_name</th>\n",
       "      <th>total_sales</th>\n",
       "      <th>avg_sales</th>\n",
       "      <th>std</th>\n",
       "      <th>CoV</th>\n",
       "      <th>XYZ</th>\n",
       "      <th>total_revenue</th>\n",
       "      <th>ABC</th>\n",
       "      <th>ABC_XYZ</th>\n",
       "    </tr>\n",
       "  </thead>\n",
       "  <tbody>\n",
       "    <tr>\n",
       "      <th>0</th>\n",
       "      <td>agro_industria_e_comercio</td>\n",
       "      <td>76203.30</td>\n",
       "      <td>3313.186957</td>\n",
       "      <td>3628.545191</td>\n",
       "      <td>1.095183</td>\n",
       "      <td>Z</td>\n",
       "      <td>76203.30</td>\n",
       "      <td>C</td>\n",
       "      <td>CZ</td>\n",
       "    </tr>\n",
       "    <tr>\n",
       "      <th>1</th>\n",
       "      <td>alimentos</td>\n",
       "      <td>35794.68</td>\n",
       "      <td>1556.290435</td>\n",
       "      <td>2050.210686</td>\n",
       "      <td>1.317370</td>\n",
       "      <td>Z</td>\n",
       "      <td>35794.68</td>\n",
       "      <td>C</td>\n",
       "      <td>CZ</td>\n",
       "    </tr>\n",
       "    <tr>\n",
       "      <th>2</th>\n",
       "      <td>alimentos_bebidas</td>\n",
       "      <td>19337.77</td>\n",
       "      <td>840.772609</td>\n",
       "      <td>926.031198</td>\n",
       "      <td>1.101405</td>\n",
       "      <td>Z</td>\n",
       "      <td>19337.77</td>\n",
       "      <td>C</td>\n",
       "      <td>CZ</td>\n",
       "    </tr>\n",
       "    <tr>\n",
       "      <th>3</th>\n",
       "      <td>artes</td>\n",
       "      <td>27485.53</td>\n",
       "      <td>1195.023043</td>\n",
       "      <td>1726.186319</td>\n",
       "      <td>1.444480</td>\n",
       "      <td>Z</td>\n",
       "      <td>27485.53</td>\n",
       "      <td>C</td>\n",
       "      <td>CZ</td>\n",
       "    </tr>\n",
       "    <tr>\n",
       "      <th>4</th>\n",
       "      <td>artes_e_artesanato</td>\n",
       "      <td>2184.14</td>\n",
       "      <td>94.962609</td>\n",
       "      <td>271.049054</td>\n",
       "      <td>2.854271</td>\n",
       "      <td>Z</td>\n",
       "      <td>2184.14</td>\n",
       "      <td>C</td>\n",
       "      <td>CZ</td>\n",
       "    </tr>\n",
       "  </tbody>\n",
       "</table>\n",
       "</div>"
      ],
      "text/plain": [
       "       product_category_name  total_sales    avg_sales          std       CoV  \\\n",
       "0  agro_industria_e_comercio     76203.30  3313.186957  3628.545191  1.095183   \n",
       "1                  alimentos     35794.68  1556.290435  2050.210686  1.317370   \n",
       "2          alimentos_bebidas     19337.77   840.772609   926.031198  1.101405   \n",
       "3                      artes     27485.53  1195.023043  1726.186319  1.444480   \n",
       "4         artes_e_artesanato      2184.14    94.962609   271.049054  2.854271   \n",
       "\n",
       "  XYZ  total_revenue ABC ABC_XYZ  \n",
       "0   Z       76203.30   C      CZ  \n",
       "1   Z       35794.68   C      CZ  \n",
       "2   Z       19337.77   C      CZ  \n",
       "3   Z       27485.53   C      CZ  \n",
       "4   Z        2184.14   C      CZ  "
      ]
     },
     "execution_count": 46,
     "metadata": {},
     "output_type": "execute_result"
    }
   ],
   "source": [
    "df_abc_xyz['ABC_XYZ']=df_abc_xyz['ABC'].astype(str) + df_abc_xyz['XYZ'].astype(str)\n",
    "df_abc_xyz.head()"
   ]
  },
  {
   "cell_type": "code",
   "execution_count": 47,
   "id": "48a3eb08-75e4-43e9-b8c9-8bb29edcc32a",
   "metadata": {
    "scrolled": true
   },
   "outputs": [
    {
     "data": {
      "text/html": [
       "<div>\n",
       "<style scoped>\n",
       "    .dataframe tbody tr th:only-of-type {\n",
       "        vertical-align: middle;\n",
       "    }\n",
       "\n",
       "    .dataframe tbody tr th {\n",
       "        vertical-align: top;\n",
       "    }\n",
       "\n",
       "    .dataframe thead th {\n",
       "        text-align: right;\n",
       "    }\n",
       "</style>\n",
       "<table border=\"1\" class=\"dataframe\">\n",
       "  <thead>\n",
       "    <tr style=\"text-align: right;\">\n",
       "      <th></th>\n",
       "      <th>product_category_name_english</th>\n",
       "      <th>total_sales</th>\n",
       "      <th>avg_sales</th>\n",
       "      <th>std</th>\n",
       "      <th>CoV</th>\n",
       "      <th>XYZ</th>\n",
       "      <th>total_revenue</th>\n",
       "      <th>ABC</th>\n",
       "      <th>ABC_XYZ</th>\n",
       "    </tr>\n",
       "  </thead>\n",
       "  <tbody>\n",
       "    <tr>\n",
       "      <th>0</th>\n",
       "      <td>agro_industry_and_commerce</td>\n",
       "      <td>76203.30</td>\n",
       "      <td>3313.186957</td>\n",
       "      <td>3628.545191</td>\n",
       "      <td>1.095183</td>\n",
       "      <td>Z</td>\n",
       "      <td>76203.30</td>\n",
       "      <td>C</td>\n",
       "      <td>CZ</td>\n",
       "    </tr>\n",
       "    <tr>\n",
       "      <th>1</th>\n",
       "      <td>food</td>\n",
       "      <td>35794.68</td>\n",
       "      <td>1556.290435</td>\n",
       "      <td>2050.210686</td>\n",
       "      <td>1.317370</td>\n",
       "      <td>Z</td>\n",
       "      <td>35794.68</td>\n",
       "      <td>C</td>\n",
       "      <td>CZ</td>\n",
       "    </tr>\n",
       "    <tr>\n",
       "      <th>2</th>\n",
       "      <td>food_drink</td>\n",
       "      <td>19337.77</td>\n",
       "      <td>840.772609</td>\n",
       "      <td>926.031198</td>\n",
       "      <td>1.101405</td>\n",
       "      <td>Z</td>\n",
       "      <td>19337.77</td>\n",
       "      <td>C</td>\n",
       "      <td>CZ</td>\n",
       "    </tr>\n",
       "    <tr>\n",
       "      <th>3</th>\n",
       "      <td>art</td>\n",
       "      <td>27485.53</td>\n",
       "      <td>1195.023043</td>\n",
       "      <td>1726.186319</td>\n",
       "      <td>1.444480</td>\n",
       "      <td>Z</td>\n",
       "      <td>27485.53</td>\n",
       "      <td>C</td>\n",
       "      <td>CZ</td>\n",
       "    </tr>\n",
       "    <tr>\n",
       "      <th>4</th>\n",
       "      <td>arts_and_craftmanship</td>\n",
       "      <td>2184.14</td>\n",
       "      <td>94.962609</td>\n",
       "      <td>271.049054</td>\n",
       "      <td>2.854271</td>\n",
       "      <td>Z</td>\n",
       "      <td>2184.14</td>\n",
       "      <td>C</td>\n",
       "      <td>CZ</td>\n",
       "    </tr>\n",
       "  </tbody>\n",
       "</table>\n",
       "</div>"
      ],
      "text/plain": [
       "  product_category_name_english  total_sales    avg_sales          std  \\\n",
       "0    agro_industry_and_commerce     76203.30  3313.186957  3628.545191   \n",
       "1                          food     35794.68  1556.290435  2050.210686   \n",
       "2                    food_drink     19337.77   840.772609   926.031198   \n",
       "3                           art     27485.53  1195.023043  1726.186319   \n",
       "4         arts_and_craftmanship      2184.14    94.962609   271.049054   \n",
       "\n",
       "        CoV XYZ  total_revenue ABC ABC_XYZ  \n",
       "0  1.095183   Z       76203.30   C      CZ  \n",
       "1  1.317370   Z       35794.68   C      CZ  \n",
       "2  1.101405   Z       19337.77   C      CZ  \n",
       "3  1.444480   Z       27485.53   C      CZ  \n",
       "4  2.854271   Z        2184.14   C      CZ  "
      ]
     },
     "execution_count": 47,
     "metadata": {},
     "output_type": "execute_result"
    }
   ],
   "source": [
    "df_abc_xyz = (\n",
    "    df_abc_xyz\n",
    "    .merge(product_category, on='product_category_name', how='left')\n",
    ")[['product_category_name_english', 'total_sales', 'avg_sales', 'std', 'CoV', 'XYZ', 'total_revenue', 'ABC', 'ABC_XYZ']]\n",
    "df_abc_xyz.head()"
   ]
  },
  {
   "cell_type": "markdown",
   "id": "5d96fe0c-a518-4ccc-b7a0-00d37800d9d1",
   "metadata": {},
   "source": [
    "**Results:**"
   ]
  },
  {
   "cell_type": "code",
   "execution_count": 48,
   "id": "8ed955ee-fb1f-494f-abc3-8b105cf1c30c",
   "metadata": {},
   "outputs": [
    {
     "data": {
      "text/html": [
       "<div>\n",
       "<style scoped>\n",
       "    .dataframe tbody tr th:only-of-type {\n",
       "        vertical-align: middle;\n",
       "    }\n",
       "\n",
       "    .dataframe tbody tr th {\n",
       "        vertical-align: top;\n",
       "    }\n",
       "\n",
       "    .dataframe thead th {\n",
       "        text-align: right;\n",
       "    }\n",
       "</style>\n",
       "<table border=\"1\" class=\"dataframe\">\n",
       "  <thead>\n",
       "    <tr style=\"text-align: right;\">\n",
       "      <th></th>\n",
       "      <th>ABC_XYZ</th>\n",
       "      <th>total_sales</th>\n",
       "      <th>average_sales</th>\n",
       "    </tr>\n",
       "  </thead>\n",
       "  <tbody>\n",
       "    <tr>\n",
       "      <th>0</th>\n",
       "      <td>AY</td>\n",
       "      <td>12056297.55</td>\n",
       "      <td>524186.850000</td>\n",
       "    </tr>\n",
       "    <tr>\n",
       "      <th>1</th>\n",
       "      <td>BY</td>\n",
       "      <td>1367048.01</td>\n",
       "      <td>59436.870000</td>\n",
       "    </tr>\n",
       "    <tr>\n",
       "      <th>4</th>\n",
       "      <td>CZ</td>\n",
       "      <td>997390.62</td>\n",
       "      <td>43364.809565</td>\n",
       "    </tr>\n",
       "    <tr>\n",
       "      <th>3</th>\n",
       "      <td>CY</td>\n",
       "      <td>567569.14</td>\n",
       "      <td>24676.919130</td>\n",
       "    </tr>\n",
       "    <tr>\n",
       "      <th>2</th>\n",
       "      <td>BZ</td>\n",
       "      <td>228349.76</td>\n",
       "      <td>9928.250435</td>\n",
       "    </tr>\n",
       "  </tbody>\n",
       "</table>\n",
       "</div>"
      ],
      "text/plain": [
       "  ABC_XYZ  total_sales  average_sales\n",
       "0      AY  12056297.55  524186.850000\n",
       "1      BY   1367048.01   59436.870000\n",
       "4      CZ    997390.62   43364.809565\n",
       "3      CY    567569.14   24676.919130\n",
       "2      BZ    228349.76    9928.250435"
      ]
     },
     "execution_count": 48,
     "metadata": {},
     "output_type": "execute_result"
    }
   ],
   "source": [
    "df_abc_xyz.groupby('ABC_XYZ').agg(\n",
    "    total_sales=('total_sales', 'sum'),\n",
    "    average_sales =('avg_sales', 'sum')\n",
    ").reset_index().sort_values(by='total_sales', ascending=False)"
   ]
  },
  {
   "cell_type": "markdown",
   "id": "51846f24-148c-4892-b18e-fb873328bd5e",
   "metadata": {},
   "source": [
    "**Проверка соотношения Парето:**"
   ]
  },
  {
   "cell_type": "code",
   "execution_count": 49,
   "id": "cdbb31f8-7b47-417d-a10a-38dd31643076",
   "metadata": {},
   "outputs": [
    {
     "name": "stdout",
     "output_type": "stream",
     "text": [
      "Процент категорий товаров сегмента A среди всех товаров\n",
      "21.918\n"
     ]
    }
   ],
   "source": [
    "print(\"Процент категорий товаров сегмента A среди всех товаров\")\n",
    "print(round(len(df_abc_xyz[df_abc_xyz['ABC']=='A'])/len(df_abc_xyz)*100, 3))"
   ]
  },
  {
   "cell_type": "code",
   "execution_count": 50,
   "id": "1fddac72-ebab-4e1b-bf20-32efa31812d9",
   "metadata": {},
   "outputs": [
    {
     "name": "stdout",
     "output_type": "stream",
     "text": [
      "Процент выручки от категорий товаров сегмента A:\n",
      "79.231\n"
     ]
    }
   ],
   "source": [
    "print(\"Процент выручки от категорий товаров сегмента A:\")\n",
    "print(round(df_abc_xyz[df_abc_xyz['ABC']=='A']['total_revenue'].sum()/df_abc_xyz['total_revenue'].sum()*100, 3))"
   ]
  },
  {
   "cell_type": "markdown",
   "id": "c89dce30-8567-4bfb-8ce2-0ad855446126",
   "metadata": {},
   "source": [
    "**Процентные соотношения**"
   ]
  },
  {
   "cell_type": "code",
   "execution_count": 51,
   "id": "713061e6-7569-4ecd-91f3-e6f7df1eaa8d",
   "metadata": {},
   "outputs": [
    {
     "data": {
      "text/html": [
       "<div>\n",
       "<style scoped>\n",
       "    .dataframe tbody tr th:only-of-type {\n",
       "        vertical-align: middle;\n",
       "    }\n",
       "\n",
       "    .dataframe tbody tr th {\n",
       "        vertical-align: top;\n",
       "    }\n",
       "\n",
       "    .dataframe thead th {\n",
       "        text-align: right;\n",
       "    }\n",
       "</style>\n",
       "<table border=\"1\" class=\"dataframe\">\n",
       "  <thead>\n",
       "    <tr style=\"text-align: right;\">\n",
       "      <th></th>\n",
       "      <th>ratio (%)</th>\n",
       "    </tr>\n",
       "    <tr>\n",
       "      <th>ABC</th>\n",
       "      <th></th>\n",
       "    </tr>\n",
       "  </thead>\n",
       "  <tbody>\n",
       "    <tr>\n",
       "      <th>C</th>\n",
       "      <td>67.123288</td>\n",
       "    </tr>\n",
       "    <tr>\n",
       "      <th>A</th>\n",
       "      <td>21.917808</td>\n",
       "    </tr>\n",
       "    <tr>\n",
       "      <th>B</th>\n",
       "      <td>10.958904</td>\n",
       "    </tr>\n",
       "  </tbody>\n",
       "</table>\n",
       "</div>"
      ],
      "text/plain": [
       "     ratio (%)\n",
       "ABC           \n",
       "C    67.123288\n",
       "A    21.917808\n",
       "B    10.958904"
      ]
     },
     "execution_count": 51,
     "metadata": {},
     "output_type": "execute_result"
    }
   ],
   "source": [
    "(df_abc_xyz['ABC'].value_counts() / len(df_abc_xyz)*100).to_frame(name='ratio (%)')"
   ]
  },
  {
   "cell_type": "markdown",
   "id": "074be396-2603-4e28-a6aa-7fe2f4ea6561",
   "metadata": {},
   "source": [
    "**Визуализация**"
   ]
  },
  {
   "cell_type": "code",
   "execution_count": 52,
   "id": "c012e3ab-883b-4da1-8835-1031162890ab",
   "metadata": {},
   "outputs": [
    {
     "data": {
      "image/png": "[encoded data removed]",
      "text/plain": [
       "<Figure size 800x500 with 2 Axes>"
      ]
     },
     "metadata": {},
     "output_type": "display_data"
    }
   ],
   "source": [
    "revenue_tab = pd.crosstab(\n",
    "    index=df_abc_xyz['ABC'],\n",
    "    columns=df_abc_xyz['XYZ'],\n",
    "    values=df_abc_xyz['total_revenue'],\n",
    "    aggfunc='sum'\n",
    ")\n",
    "\n",
    "count_tab = pd.crosstab(\n",
    "    index=df_abc_xyz['ABC'],\n",
    "    columns=df_abc_xyz['XYZ']\n",
    ")\n",
    "\n",
    "# Create combined annotations\n",
    "annotations = np.array([\n",
    "    [f\"${revenue}K\\n({count})\" \n",
    "     for revenue, count in zip(revenue_row, count_row)]\n",
    "    for revenue_row, count_row in zip(revenue_tab.values, count_tab.values)\n",
    "])\n",
    "\n",
    "# Plot clean heatmap\n",
    "plt.figure(figsize=(8, 5))\n",
    "sns.heatmap(\n",
    "    revenue_tab,\n",
    "    annot=annotations,\n",
    "    fmt='',\n",
    "    cmap='viridis',\n",
    "    linewidths=0.5,\n",
    "    cbar_kws={'label': 'Total Revenue ($)'}\n",
    ")\n",
    "\n",
    "plt.title('ABC-XYZ Сегментация\\n(Доход $ + количество категорий)', pad=15)\n",
    "plt.xlabel('XYZ (Стабильность спроса) →')\n",
    "plt.ylabel('ABC (Важность по доходу) →')\n",
    "plt.tight_layout()\n",
    "plt.show()"
   ]
  },
  {
   "cell_type": "code",
   "execution_count": 53,
   "id": "cbf0f18a-71b0-4f04-a53b-8087f698692b",
   "metadata": {},
   "outputs": [
    {
     "data": {
      "application/vnd.plotly.v1+json": {
       "config": {
        "plotlyServerURL": "https://plot.ly"
       },
       "data": [
        {
         "branchvalues": "total",
         "customdata": [
          [
           76203.3,
           1.095182746659389,
           "agro_industry_and_commerce"
          ],
          [
           59854.55,
           0.5802558771743523,
           "air_conditioning"
          ],
          [
           27485.530000000002,
           1.4444795253417153,
           "art"
          ],
          [
           2184.1400000000003,
           2.8542713550362406,
           "arts_and_craftmanship"
          ],
          [
           56255.32,
           1.062974802640765,
           "audio"
          ],
          [
           669319.92,
           0.6554284226963499,
           "auto"
          ],
          [
           464766.65,
           0.7627703815600116,
           "baby"
          ],
          [
           1225052.0700000003,
           0.61050027692659,
           "bed_bath_table"
          ],
          [
           54127.57,
           0.8105687639002792,
           "books_general_interest"
          ],
          [
           5150.94,
           1.120633571580039,
           "books_imported"
          ],
          [
           22901.07,
           0.9951559101165521,
           "books_technical"
          ],
          [
           954.9900000000001,
           2.0220745806696385,
           "cds_dvds_musicals"
          ],
          [
           11928.75,
           1.2765874816508775,
           "christmas_supplies"
          ],
          [
           7902.18,
           1.6286214669373624,
           "cine_photo"
          ],
          [
           228349.76,
           1.4581997579184576,
           "computers"
          ],
          [
           1032603.65,
           0.706664257837275,
           "computers_accessories"
          ],
          [
           167097.72999999998,
           0.5359433659491828,
           "consoles_games"
          ],
          [
           162382.00999999998,
           1.257584742627996,
           "construction_tools_construction"
          ],
          [
           47447.14,
           1.4368365716509799,
           "construction_tools_lights"
          ],
          [
           42107.16,
           1.2096263029280443,
           "construction_tools_safety"
          ],
          [
           691371.51,
           0.5737116169593799,
           "cool_stuff"
          ],
          [
           30283.94,
           0.9526213422278236,
           "costruction_tools_garden"
          ],
          [
           17934.170000000002,
           1.571073840959813,
           "costruction_tools_tools"
          ],
          [
           2046.19,
           1.3362230406087638,
           "diapers_and_hygiene"
          ],
          [
           26971.110000000004,
           1.26469144212767,
           "drinks"
          ],
          [
           5769.839999999999,
           1.3497648734941894,
           "dvds_blu_ray"
          ],
          [
           200723.09,
           0.7911306162521039,
           "electronics"
          ],
          [
           3218.4400000000005,
           1.0548338602592313,
           "fashio_female_clothing"
          ],
          [
           179888.29,
           0.5788626784641812,
           "fashion_bags_accessories"
          ],
          [
           598.67,
           1.7811589349578179,
           "fashion_childrens_clothes"
          ],
          [
           12514.95,
           0.7688547114627204,
           "fashion_male_clothing"
          ],
          [
           27814.83,
           0.6086144427862334,
           "fashion_shoes"
          ],
          [
           2657.5499999999997,
           1.4077612265039536,
           "fashion_sport"
          ],
          [
           11160.019999999999,
           1.0663363417255964,
           "fashion_underwear_beach"
          ],
          [
           59816.53999999999,
           1.246067831299563,
           "fixed_telephony"
          ],
          [
           1598.91,
           1.639796326574792,
           "flowers"
          ],
          [
           35794.67999999999,
           1.317370228732489,
           "food"
          ],
          [
           19337.77,
           1.101405051366487,
           "food_drink"
          ],
          [
           23379.220000000005,
           0.8135310635956519,
           "furniture_bedroom"
          ],
          [
           879835.0300000001,
           0.5762862880901272,
           "furniture_decor"
          ],
          [
           85045.06999999999,
           0.6476017621414174,
           "furniture_living_room"
          ],
          [
           5904.749999999999,
           1.4801133780768112,
           "furniture_mattress_and_upholstery"
          ],
          [
           566991.45,
           0.5621409999323506,
           "garden_tools"
          ],
          [
           1412089.53,
           0.6827510505304967,
           "health_beauty"
          ],
          [
           93301.78000000003,
           1.043599958158492,
           "home_appliances"
          ],
          [
           118208.51999999999,
           1.1386241507202686,
           "home_appliances_2"
          ],
          [
           1170.58,
           1.6529072302851258,
           "home_comfort_2"
          ],
          [
           66438.22,
           0.6449393263258506,
           "home_confort"
          ],
          [
           95022.37,
           0.9594471656267095,
           "home_construction"
          ],
          [
           758392.25,
           0.7378949506294826,
           "housewares"
          ],
          [
           45725.10000000001,
           1.0725600969506406,
           "industry_commerce_and_business"
          ],
          [
           57072.969999999994,
           0.8879635099529234,
           "kitchen_dining_laundry_garden_furniture"
          ],
          [
           2388.54,
           1.609476984608415,
           "la_cuisine"
          ],
          [
           168778.12,
           0.6797517258332275,
           "luggage_accessories"
          ],
          [
           33114.38,
           0.6959517342185059,
           "market_place"
          ],
          [
           6724.86,
           1.618783289958289,
           "music"
          ],
          [
           202187.12000000002,
           0.7490601634325028,
           "musical_instruments"
          ],
          [
           335211.3599999999,
           0.6710295770425457,
           "office_furniture"
          ],
          [
           5285.380000000001,
           1.8072777990606976,
           "party_supplies"
          ],
          [
           443171.63,
           0.5079451817718103,
           "perfumery"
          ],
          [
           250614.2,
           0.709424575447085,
           "pet_shop"
          ],
          [
           324.51,
           3.460883319097082,
           "security_and_services"
          ],
          [
           27792.590000000004,
           1.5166010657845979,
           "signaling_and_security"
          ],
          [
           197759.46,
           0.6828940173148869,
           "small_appliances"
          ],
          [
           49245.899999999994,
           1.8042644896813518,
           "small_appliances_home_oven_and_coffee"
          ],
          [
           1117968.45,
           0.6074574900654893,
           "sports_leisure"
          ],
          [
           269575.05,
           0.9221840692671798,
           "stationery"
          ],
          [
           8754.610000000002,
           1.1771728294177997,
           "tablets_printing_image"
          ],
          [
           379075.58,
           0.6863013284477029,
           "telephony"
          ],
          [
           546856.44,
           0.7356770514781408,
           "toys"
          ],
          [
           1264016.9800000002,
           0.711803150923078,
           "watches_gifts"
          ],
          [
           12056297.55,
           0.6599782684173789,
           "(?)"
          ],
          [
           1367048.01,
           0.6813966095906199,
           "(?)"
          ],
          [
           567569.14,
           0.7728263176166739,
           "(?)"
          ],
          [
           228349.76,
           1.4581997579184576,
           "computers"
          ],
          [
           991732.47,
           1.2556080326654644,
           "(?)"
          ],
          [
           12056297.55,
           0.6599782684173789,
           "(?)"
          ],
          [
           1595397.77,
           0.7925806765508653,
           "(?)"
          ],
          [
           1559301.61,
           1.0798806422358684,
           "(?)"
          ]
         ],
         "domain": {
          "x": [
           0,
           1
          ],
          "y": [
           0,
           1
          ]
         },
         "hovertemplate": "<b>%{label}</b><br>Сегмент: %{parent}<br>Выручка: %{customdata[0]:,.0f} руб.<br>Стабильность спроса (CoV): %{customdata[1]:.2f}<br>%{percentParent:.1%} от родительского сегмента",
         "ids": [
          "C/Z/agro_industry_and_commerce",
          "C/Y/air_conditioning",
          "C/Z/art",
          "C/Z/arts_and_craftmanship",
          "C/Z/audio",
          "A/Y/auto",
          "A/Y/baby",
          "A/Y/bed_bath_table",
          "C/Y/books_general_interest",
          "C/Z/books_imported",
          "C/Y/books_technical",
          "C/Z/cds_dvds_musicals",
          "C/Z/christmas_supplies",
          "C/Z/cine_photo",
          "B/Z/computers",
          "A/Y/computers_accessories",
          "B/Y/consoles_games",
          "C/Z/construction_tools_construction",
          "C/Z/construction_tools_lights",
          "C/Z/construction_tools_safety",
          "A/Y/cool_stuff",
          "C/Y/costruction_tools_garden",
          "C/Z/costruction_tools_tools",
          "C/Z/diapers_and_hygiene",
          "C/Z/drinks",
          "C/Z/dvds_blu_ray",
          "B/Y/electronics",
          "C/Z/fashio_female_clothing",
          "B/Y/fashion_bags_accessories",
          "C/Z/fashion_childrens_clothes",
          "C/Y/fashion_male_clothing",
          "C/Y/fashion_shoes",
          "C/Z/fashion_sport",
          "C/Z/fashion_underwear_beach",
          "C/Z/fixed_telephony",
          "C/Z/flowers",
          "C/Z/food",
          "C/Z/food_drink",
          "C/Y/furniture_bedroom",
          "A/Y/furniture_decor",
          "C/Y/furniture_living_room",
          "C/Z/furniture_mattress_and_upholstery",
          "A/Y/garden_tools",
          "A/Y/health_beauty",
          "C/Z/home_appliances",
          "C/Z/home_appliances_2",
          "C/Z/home_comfort_2",
          "C/Y/home_confort",
          "C/Y/home_construction",
          "A/Y/housewares",
          "C/Z/industry_commerce_and_business",
          "C/Y/kitchen_dining_laundry_garden_furniture",
          "C/Z/la_cuisine",
          "B/Y/luggage_accessories",
          "C/Y/market_place",
          "C/Z/music",
          "B/Y/musical_instruments",
          "A/Y/office_furniture",
          "C/Z/party_supplies",
          "A/Y/perfumery",
          "B/Y/pet_shop",
          "C/Z/security_and_services",
          "C/Z/signaling_and_security",
          "B/Y/small_appliances",
          "C/Z/small_appliances_home_oven_and_coffee",
          "A/Y/sports_leisure",
          "A/Y/stationery",
          "C/Z/tablets_printing_image",
          "A/Y/telephony",
          "A/Y/toys",
          "A/Y/watches_gifts",
          "A/Y",
          "B/Y",
          "C/Y",
          "B/Z",
          "C/Z",
          "A",
          "B",
          "C"
         ],
         "labels": [
          "agro_industry_and_commerce",
          "air_conditioning",
          "art",
          "arts_and_craftmanship",
          "audio",
          "auto",
          "baby",
          "bed_bath_table",
          "books_general_interest",
          "books_imported",
          "books_technical",
          "cds_dvds_musicals",
          "christmas_supplies",
          "cine_photo",
          "computers",
          "computers_accessories",
          "consoles_games",
          "construction_tools_construction",
          "construction_tools_lights",
          "construction_tools_safety",
          "cool_stuff",
          "costruction_tools_garden",
          "costruction_tools_tools",
          "diapers_and_hygiene",
          "drinks",
          "dvds_blu_ray",
          "electronics",
          "fashio_female_clothing",
          "fashion_bags_accessories",
          "fashion_childrens_clothes",
          "fashion_male_clothing",
          "fashion_shoes",
          "fashion_sport",
          "fashion_underwear_beach",
          "fixed_telephony",
          "flowers",
          "food",
          "food_drink",
          "furniture_bedroom",
          "furniture_decor",
          "furniture_living_room",
          "furniture_mattress_and_upholstery",
          "garden_tools",
          "health_beauty",
          "home_appliances",
          "home_appliances_2",
          "home_comfort_2",
          "home_confort",
          "home_construction",
          "housewares",
          "industry_commerce_and_business",
          "kitchen_dining_laundry_garden_furniture",
          "la_cuisine",
          "luggage_accessories",
          "market_place",
          "music",
          "musical_instruments",
          "office_furniture",
          "party_supplies",
          "perfumery",
          "pet_shop",
          "security_and_services",
          "signaling_and_security",
          "small_appliances",
          "small_appliances_home_oven_and_coffee",
          "sports_leisure",
          "stationery",
          "tablets_printing_image",
          "telephony",
          "toys",
          "watches_gifts",
          "Y",
          "Y",
          "Y",
          "Z",
          "Z",
          "A",
          "B",
          "C"
         ],
         "marker": {
          "coloraxis": "coloraxis",
          "colors": [
           1.095182746659389,
           0.5802558771743523,
           1.4444795253417153,
           2.8542713550362406,
           1.062974802640765,
           0.6554284226963499,
           0.7627703815600116,
           0.61050027692659,
           0.8105687639002792,
           1.120633571580039,
           0.9951559101165521,
           2.0220745806696385,
           1.2765874816508775,
           1.6286214669373624,
           1.4581997579184576,
           0.706664257837275,
           0.5359433659491828,
           1.257584742627996,
           1.4368365716509799,
           1.2096263029280443,
           0.5737116169593799,
           0.9526213422278236,
           1.571073840959813,
           1.3362230406087638,
           1.26469144212767,
           1.3497648734941894,
           0.7911306162521039,
           1.0548338602592313,
           0.5788626784641812,
           1.7811589349578179,
           0.7688547114627204,
           0.6086144427862334,
           1.4077612265039536,
           1.0663363417255964,
           1.246067831299563,
           1.639796326574792,
           1.317370228732489,
           1.101405051366487,
           0.8135310635956519,
           0.5762862880901272,
           0.6476017621414174,
           1.4801133780768112,
           0.5621409999323506,
           0.6827510505304967,
           1.043599958158492,
           1.1386241507202686,
           1.6529072302851258,
           0.6449393263258506,
           0.9594471656267095,
           0.7378949506294826,
           1.0725600969506406,
           0.8879635099529234,
           1.609476984608415,
           0.6797517258332275,
           0.6959517342185059,
           1.618783289958289,
           0.7490601634325028,
           0.6710295770425457,
           1.8072777990606976,
           0.5079451817718103,
           0.709424575447085,
           3.460883319097082,
           1.5166010657845979,
           0.6828940173148869,
           1.8042644896813518,
           0.6074574900654893,
           0.9221840692671798,
           1.1771728294177997,
           0.6863013284477029,
           0.7356770514781408,
           0.711803150923078,
           0.6599782684173789,
           0.6813966095906199,
           0.7728263176166739,
           1.4581997579184576,
           1.2556080326654644,
           0.6599782684173789,
           0.7925806765508653,
           1.0798806422358684
          ]
         },
         "name": "",
         "parents": [
          "C/Z",
          "C/Y",
          "C/Z",
          "C/Z",
          "C/Z",
          "A/Y",
          "A/Y",
          "A/Y",
          "C/Y",
          "C/Z",
          "C/Y",
          "C/Z",
          "C/Z",
          "C/Z",
          "B/Z",
          "A/Y",
          "B/Y",
          "C/Z",
          "C/Z",
          "C/Z",
          "A/Y",
          "C/Y",
          "C/Z",
          "C/Z",
          "C/Z",
          "C/Z",
          "B/Y",
          "C/Z",
          "B/Y",
          "C/Z",
          "C/Y",
          "C/Y",
          "C/Z",
          "C/Z",
          "C/Z",
          "C/Z",
          "C/Z",
          "C/Z",
          "C/Y",
          "A/Y",
          "C/Y",
          "C/Z",
          "A/Y",
          "A/Y",
          "C/Z",
          "C/Z",
          "C/Z",
          "C/Y",
          "C/Y",
          "A/Y",
          "C/Z",
          "C/Y",
          "C/Z",
          "B/Y",
          "C/Y",
          "C/Z",
          "B/Y",
          "A/Y",
          "C/Z",
          "A/Y",
          "B/Y",
          "C/Z",
          "C/Z",
          "B/Y",
          "C/Z",
          "A/Y",
          "A/Y",
          "C/Z",
          "A/Y",
          "A/Y",
          "A/Y",
          "A",
          "B",
          "C",
          "B",
          "C",
          "",
          "",
          ""
         ],
         "textinfo": "label+value",
         "type": "treemap",
         "values": [
          76203.3,
          59854.55,
          27485.530000000002,
          2184.1400000000003,
          56255.32,
          669319.92,
          464766.65,
          1225052.0700000003,
          54127.57,
          5150.94,
          22901.07,
          954.9900000000001,
          11928.75,
          7902.18,
          228349.76,
          1032603.65,
          167097.72999999998,
          162382.00999999998,
          47447.14,
          42107.16,
          691371.51,
          30283.94,
          17934.170000000002,
          2046.19,
          26971.110000000004,
          5769.839999999999,
          200723.09,
          3218.4400000000005,
          179888.29,
          598.67,
          12514.95,
          27814.83,
          2657.5499999999997,
          11160.019999999999,
          59816.53999999999,
          1598.91,
          35794.67999999999,
          19337.77,
          23379.220000000005,
          879835.0300000001,
          85045.06999999999,
          5904.749999999999,
          566991.45,
          1412089.53,
          93301.78000000003,
          118208.51999999999,
          1170.58,
          66438.22,
          95022.37,
          758392.25,
          45725.10000000001,
          57072.969999999994,
          2388.54,
          168778.12,
          33114.38,
          6724.86,
          202187.12000000002,
          335211.3599999999,
          5285.380000000001,
          443171.63,
          250614.2,
          324.51,
          27792.590000000004,
          197759.46,
          49245.899999999994,
          1117968.45,
          269575.05,
          8754.610000000002,
          379075.58,
          546856.44,
          1264016.9800000002,
          12056297.55,
          1367048.01,
          567569.14,
          228349.76,
          991732.47,
          12056297.55,
          1595397.77,
          1559301.61
         ]
        }
       ],
       "layout": {
        "coloraxis": {
         "cmid": 1.043599958158492,
         "colorbar": {
          "ticktext": [
           "Стабильный",
           "Средний",
           "Нестабильный"
          ],
          "tickvals": [
           0.5079451817718103,
           1.043599958158492,
           3.460883319097082
          ],
          "title": {
           "side": "right",
           "text": "Коэффициент вариации →"
          }
         },
         "colorscale": [
          [
           0,
           "rgb(0,104,55)"
          ],
          [
           0.1,
           "rgb(26,152,80)"
          ],
          [
           0.2,
           "rgb(102,189,99)"
          ],
          [
           0.3,
           "rgb(166,217,106)"
          ],
          [
           0.4,
           "rgb(217,239,139)"
          ],
          [
           0.5,
           "rgb(255,255,191)"
          ],
          [
           0.6,
           "rgb(254,224,139)"
          ],
          [
           0.7,
           "rgb(253,174,97)"
          ],
          [
           0.8,
           "rgb(244,109,67)"
          ],
          [
           0.9,
           "rgb(215,48,39)"
          ],
          [
           1,
           "rgb(165,0,38)"
          ]
         ]
        },
        "height": 700,
        "legend": {
         "tracegroupgap": 0
        },
        "margin": {
         "b": 0,
         "l": 0,
         "r": 0,
         "t": 50
        },
        "template": {
         "data": {
          "bar": [
           {
            "error_x": {
             "color": "#2a3f5f"
            },
            "error_y": {
             "color": "#2a3f5f"
            },
            "marker": {
             "line": {
              "color": "#E5ECF6",
              "width": 0.5
             },
             "pattern": {
              "fillmode": "overlay",
              "size": 10,
              "solidity": 0.2
             }
            },
            "type": "bar"
           }
          ],
          "barpolar": [
           {
            "marker": {
             "line": {
              "color": "#E5ECF6",
              "width": 0.5
             },
             "pattern": {
              "fillmode": "overlay",
              "size": 10,
              "solidity": 0.2
             }
            },
            "type": "barpolar"
           }
          ],
          "carpet": [
           {
            "aaxis": {
             "endlinecolor": "#2a3f5f",
             "gridcolor": "white",
             "linecolor": "white",
             "minorgridcolor": "white",
             "startlinecolor": "#2a3f5f"
            },
            "baxis": {
             "endlinecolor": "#2a3f5f",
             "gridcolor": "white",
             "linecolor": "white",
             "minorgridcolor": "white",
             "startlinecolor": "#2a3f5f"
            },
            "type": "carpet"
           }
          ],
          "choropleth": [
           {
            "colorbar": {
             "outlinewidth": 0,
             "ticks": ""
            },
            "type": "choropleth"
           }
          ],
          "contour": [
           {
            "colorbar": {
             "outlinewidth": 0,
             "ticks": ""
            },
            "colorscale": [
             [
              0,
              "#0d0887"
             ],
             [
              0.1111111111111111,
              "#46039f"
             ],
             [
              0.2222222222222222,
              "#7201a8"
             ],
             [
              0.3333333333333333,
              "#9c179e"
             ],
             [
              0.4444444444444444,
              "#bd3786"
             ],
             [
              0.5555555555555556,
              "#d8576b"
             ],
             [
              0.6666666666666666,
              "#ed7953"
             ],
             [
              0.7777777777777778,
              "#fb9f3a"
             ],
             [
              0.8888888888888888,
              "#fdca26"
             ],
             [
              1,
              "#f0f921"
             ]
            ],
            "type": "contour"
           }
          ],
          "contourcarpet": [
           {
            "colorbar": {
             "outlinewidth": 0,
             "ticks": ""
            },
            "type": "contourcarpet"
           }
          ],
          "heatmap": [
           {
            "colorbar": {
             "outlinewidth": 0,
             "ticks": ""
            },
            "colorscale": [
             [
              0,
              "#0d0887"
             ],
             [
              0.1111111111111111,
              "#46039f"
             ],
             [
              0.2222222222222222,
              "#7201a8"
             ],
             [
              0.3333333333333333,
              "#9c179e"
             ],
             [
              0.4444444444444444,
              "#bd3786"
             ],
             [
              0.5555555555555556,
              "#d8576b"
             ],
             [
              0.6666666666666666,
              "#ed7953"
             ],
             [
              0.7777777777777778,
              "#fb9f3a"
             ],
             [
              0.8888888888888888,
              "#fdca26"
             ],
             [
              1,
              "#f0f921"
             ]
            ],
            "type": "heatmap"
           }
          ],
          "heatmapgl": [
           {
            "colorbar": {
             "outlinewidth": 0,
             "ticks": ""
            },
            "colorscale": [
             [
              0,
              "#0d0887"
             ],
             [
              0.1111111111111111,
              "#46039f"
             ],
             [
              0.2222222222222222,
              "#7201a8"
             ],
             [
              0.3333333333333333,
              "#9c179e"
             ],
             [
              0.4444444444444444,
              "#bd3786"
             ],
             [
              0.5555555555555556,
              "#d8576b"
             ],
             [
              0.6666666666666666,
              "#ed7953"
             ],
             [
              0.7777777777777778,
              "#fb9f3a"
             ],
             [
              0.8888888888888888,
              "#fdca26"
             ],
             [
              1,
              "#f0f921"
             ]
            ],
            "type": "heatmapgl"
           }
          ],
          "histogram": [
           {
            "marker": {
             "pattern": {
              "fillmode": "overlay",
              "size": 10,
              "solidity": 0.2
             }
            },
            "type": "histogram"
           }
          ],
          "histogram2d": [
           {
            "colorbar": {
             "outlinewidth": 0,
             "ticks": ""
            },
            "colorscale": [
             [
              0,
              "#0d0887"
             ],
             [
              0.1111111111111111,
              "#46039f"
             ],
             [
              0.2222222222222222,
              "#7201a8"
             ],
             [
              0.3333333333333333,
              "#9c179e"
             ],
             [
              0.4444444444444444,
              "#bd3786"
             ],
             [
              0.5555555555555556,
              "#d8576b"
             ],
             [
              0.6666666666666666,
              "#ed7953"
             ],
             [
              0.7777777777777778,
              "#fb9f3a"
             ],
             [
              0.8888888888888888,
              "#fdca26"
             ],
             [
              1,
              "#f0f921"
             ]
            ],
            "type": "histogram2d"
           }
          ],
          "histogram2dcontour": [
           {
            "colorbar": {
             "outlinewidth": 0,
             "ticks": ""
            },
            "colorscale": [
             [
              0,
              "#0d0887"
             ],
             [
              0.1111111111111111,
              "#46039f"
             ],
             [
              0.2222222222222222,
              "#7201a8"
             ],
             [
              0.3333333333333333,
              "#9c179e"
             ],
             [
              0.4444444444444444,
              "#bd3786"
             ],
             [
              0.5555555555555556,
              "#d8576b"
             ],
             [
              0.6666666666666666,
              "#ed7953"
             ],
             [
              0.7777777777777778,
              "#fb9f3a"
             ],
             [
              0.8888888888888888,
              "#fdca26"
             ],
             [
              1,
              "#f0f921"
             ]
            ],
            "type": "histogram2dcontour"
           }
          ],
          "mesh3d": [
           {
            "colorbar": {
             "outlinewidth": 0,
             "ticks": ""
            },
            "type": "mesh3d"
           }
          ],
          "parcoords": [
           {
            "line": {
             "colorbar": {
              "outlinewidth": 0,
              "ticks": ""
             }
            },
            "type": "parcoords"
           }
          ],
          "pie": [
           {
            "automargin": true,
            "type": "pie"
           }
          ],
          "scatter": [
           {
            "fillpattern": {
             "fillmode": "overlay",
             "size": 10,
             "solidity": 0.2
            },
            "type": "scatter"
           }
          ],
          "scatter3d": [
           {
            "line": {
             "colorbar": {
              "outlinewidth": 0,
              "ticks": ""
             }
            },
            "marker": {
             "colorbar": {
              "outlinewidth": 0,
              "ticks": ""
             }
            },
            "type": "scatter3d"
           }
          ],
          "scattercarpet": [
           {
            "marker": {
             "colorbar": {
              "outlinewidth": 0,
              "ticks": ""
             }
            },
            "type": "scattercarpet"
           }
          ],
          "scattergeo": [
           {
            "marker": {
             "colorbar": {
              "outlinewidth": 0,
              "ticks": ""
             }
            },
            "type": "scattergeo"
           }
          ],
          "scattergl": [
           {
            "marker": {
             "colorbar": {
              "outlinewidth": 0,
              "ticks": ""
             }
            },
            "type": "scattergl"
           }
          ],
          "scattermapbox": [
           {
            "marker": {
             "colorbar": {
              "outlinewidth": 0,
              "ticks": ""
             }
            },
            "type": "scattermapbox"
           }
          ],
          "scatterpolar": [
           {
            "marker": {
             "colorbar": {
              "outlinewidth": 0,
              "ticks": ""
             }
            },
            "type": "scatterpolar"
           }
          ],
          "scatterpolargl": [
           {
            "marker": {
             "colorbar": {
              "outlinewidth": 0,
              "ticks": ""
             }
            },
            "type": "scatterpolargl"
           }
          ],
          "scatterternary": [
           {
            "marker": {
             "colorbar": {
              "outlinewidth": 0,
              "ticks": ""
             }
            },
            "type": "scatterternary"
           }
          ],
          "surface": [
           {
            "colorbar": {
             "outlinewidth": 0,
             "ticks": ""
            },
            "colorscale": [
             [
              0,
              "#0d0887"
             ],
             [
              0.1111111111111111,
              "#46039f"
             ],
             [
              0.2222222222222222,
              "#7201a8"
             ],
             [
              0.3333333333333333,
              "#9c179e"
             ],
             [
              0.4444444444444444,
              "#bd3786"
             ],
             [
              0.5555555555555556,
              "#d8576b"
             ],
             [
              0.6666666666666666,
              "#ed7953"
             ],
             [
              0.7777777777777778,
              "#fb9f3a"
             ],
             [
              0.8888888888888888,
              "#fdca26"
             ],
             [
              1,
              "#f0f921"
             ]
            ],
            "type": "surface"
           }
          ],
          "table": [
           {
            "cells": {
             "fill": {
              "color": "#EBF0F8"
             },
             "line": {
              "color": "white"
             }
            },
            "header": {
             "fill": {
              "color": "#C8D4E3"
             },
             "line": {
              "color": "white"
             }
            },
            "type": "table"
           }
          ]
         },
         "layout": {
          "annotationdefaults": {
           "arrowcolor": "#2a3f5f",
           "arrowhead": 0,
           "arrowwidth": 1
          },
          "autotypenumbers": "strict",
          "coloraxis": {
           "colorbar": {
            "outlinewidth": 0,
            "ticks": ""
           }
          },
          "colorscale": {
           "diverging": [
            [
             0,
             "#8e0152"
            ],
            [
             0.1,
             "#c51b7d"
            ],
            [
             0.2,
             "#de77ae"
            ],
            [
             0.3,
             "#f1b6da"
            ],
            [
             0.4,
             "#fde0ef"
            ],
            [
             0.5,
             "#f7f7f7"
            ],
            [
             0.6,
             "#e6f5d0"
            ],
            [
             0.7,
             "#b8e186"
            ],
            [
             0.8,
             "#7fbc41"
            ],
            [
             0.9,
             "#4d9221"
            ],
            [
             1,
             "#276419"
            ]
           ],
           "sequential": [
            [
             0,
             "#0d0887"
            ],
            [
             0.1111111111111111,
             "#46039f"
            ],
            [
             0.2222222222222222,
             "#7201a8"
            ],
            [
             0.3333333333333333,
             "#9c179e"
            ],
            [
             0.4444444444444444,
             "#bd3786"
            ],
            [
             0.5555555555555556,
             "#d8576b"
            ],
            [
             0.6666666666666666,
             "#ed7953"
            ],
            [
             0.7777777777777778,
             "#fb9f3a"
            ],
            [
             0.8888888888888888,
             "#fdca26"
            ],
            [
             1,
             "#f0f921"
            ]
           ],
           "sequentialminus": [
            [
             0,
             "#0d0887"
            ],
            [
             0.1111111111111111,
             "#46039f"
            ],
            [
             0.2222222222222222,
             "#7201a8"
            ],
            [
             0.3333333333333333,
             "#9c179e"
            ],
            [
             0.4444444444444444,
             "#bd3786"
            ],
            [
             0.5555555555555556,
             "#d8576b"
            ],
            [
             0.6666666666666666,
             "#ed7953"
            ],
            [
             0.7777777777777778,
             "#fb9f3a"
            ],
            [
             0.8888888888888888,
             "#fdca26"
            ],
            [
             1,
             "#f0f921"
            ]
           ]
          },
          "colorway": [
           "#636efa",
           "#EF553B",
           "#00cc96",
           "#ab63fa",
           "#FFA15A",
           "#19d3f3",
           "#FF6692",
           "#B6E880",
           "#FF97FF",
           "#FECB52"
          ],
          "font": {
           "color": "#2a3f5f"
          },
          "geo": {
           "bgcolor": "white",
           "lakecolor": "white",
           "landcolor": "#E5ECF6",
           "showlakes": true,
           "showland": true,
           "subunitcolor": "white"
          },
          "hoverlabel": {
           "align": "left"
          },
          "hovermode": "closest",
          "mapbox": {
           "style": "light"
          },
          "paper_bgcolor": "white",
          "plot_bgcolor": "#E5ECF6",
          "polar": {
           "angularaxis": {
            "gridcolor": "white",
            "linecolor": "white",
            "ticks": ""
           },
           "bgcolor": "#E5ECF6",
           "radialaxis": {
            "gridcolor": "white",
            "linecolor": "white",
            "ticks": ""
           }
          },
          "scene": {
           "xaxis": {
            "backgroundcolor": "#E5ECF6",
            "gridcolor": "white",
            "gridwidth": 2,
            "linecolor": "white",
            "showbackground": true,
            "ticks": "",
            "zerolinecolor": "white"
           },
           "yaxis": {
            "backgroundcolor": "#E5ECF6",
            "gridcolor": "white",
            "gridwidth": 2,
            "linecolor": "white",
            "showbackground": true,
            "ticks": "",
            "zerolinecolor": "white"
           },
           "zaxis": {
            "backgroundcolor": "#E5ECF6",
            "gridcolor": "white",
            "gridwidth": 2,
            "linecolor": "white",
            "showbackground": true,
            "ticks": "",
            "zerolinecolor": "white"
           }
          },
          "shapedefaults": {
           "line": {
            "color": "#2a3f5f"
           }
          },
          "ternary": {
           "aaxis": {
            "gridcolor": "white",
            "linecolor": "white",
            "ticks": ""
           },
           "baxis": {
            "gridcolor": "white",
            "linecolor": "white",
            "ticks": ""
           },
           "bgcolor": "#E5ECF6",
           "caxis": {
            "gridcolor": "white",
            "linecolor": "white",
            "ticks": ""
           }
          },
          "title": {
           "x": 0.05
          },
          "xaxis": {
           "automargin": true,
           "gridcolor": "white",
           "linecolor": "white",
           "ticks": "",
           "title": {
            "standoff": 15
           },
           "zerolinecolor": "white",
           "zerolinewidth": 2
          },
          "yaxis": {
           "automargin": true,
           "gridcolor": "white",
           "linecolor": "white",
           "ticks": "",
           "title": {
            "standoff": 15
           },
           "zerolinecolor": "white",
           "zerolinewidth": 2
          }
         }
        },
        "title": {
         "text": "ABC-XYZ Сегментация товаров<br><sub>Размер=Выручка, Цвет=Стабильность спроса (CoV)</sub>"
        }
       }
      }
     },
     "metadata": {},
     "output_type": "display_data"
    }
   ],
   "source": [
    "df_agg = df_abc_xyz.groupby(['ABC', 'XYZ', 'product_category_name_english']).agg({\n",
    "    'total_revenue': 'sum',\n",
    "    'CoV': 'mean'\n",
    "}).reset_index()\n",
    "\n",
    "# 2. Создаем иерархическую treemap-диаграмму\n",
    "fig = px.treemap(\n",
    "    df_agg,\n",
    "    path=['ABC', 'XYZ', 'product_category_name_english'],\n",
    "    values='total_revenue',\n",
    "    color='CoV',\n",
    "    color_continuous_scale='RdYlGn_r',\n",
    "    color_continuous_midpoint=df_agg['CoV'].median(),\n",
    "    hover_data={\n",
    "        'total_revenue': ':.0f',\n",
    "        'CoV': ':.2f',\n",
    "        'product_category_name_english': False\n",
    "    },\n",
    "    title='ABC-XYZ Сегментация товаров<br><sub>Размер=Выручка, Цвет=Стабильность спроса (CoV)</sub>'\n",
    ")\n",
    "\n",
    "# 3. Настраиваем всплывающие подсказки\n",
    "fig.update_traces(\n",
    "    hovertemplate=(\n",
    "        \"<b>%{label}</b><br>\"\n",
    "        \"Сегмент: %{parent}<br>\"\n",
    "        \"Выручка: %{customdata[0]:,.0f} руб.<br>\"\n",
    "        \"Стабильность спроса (CoV): %{customdata[1]:.2f}<br>\"\n",
    "        \"%{percentParent:.1%} от родительского сегмента\"\n",
    "    ),\n",
    "    textinfo=\"label+value\"\n",
    ")\n",
    "\n",
    "# 4. Настраиваем оформление\n",
    "fig.update_layout(\n",
    "    margin=dict(t=50, l=0, r=0, b=0),\n",
    "    height=700,\n",
    "    coloraxis_colorbar=dict(\n",
    "        title='Коэффициент вариации →',\n",
    "        titleside='right',\n",
    "        tickvals=[df_agg['CoV'].min(), \n",
    "                 df_agg['CoV'].median(), \n",
    "                 df_agg['CoV'].max()],\n",
    "        ticktext=['Стабильный', 'Средний', 'Нестабильный']\n",
    "    )\n",
    ")\n",
    "\n",
    "fig.show()"
   ]
  }
 ],
 "metadata": {
  "kernelspec": {
   "display_name": "base",
   "language": "python",
   "name": "python3"
  },
  "language_info": {
   "codemirror_mode": {
    "name": "ipython",
    "version": 3
   },
   "file_extension": ".py",
   "mimetype": "text/x-python",
   "name": "python",
   "nbconvert_exporter": "python",
   "pygments_lexer": "ipython3",
   "version": "3.12.7"
  }
 },
 "nbformat": 4,
 "nbformat_minor": 5
}
